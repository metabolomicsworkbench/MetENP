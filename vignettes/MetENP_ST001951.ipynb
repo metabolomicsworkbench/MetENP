{
 "cells": [
  {
   "cell_type": "markdown",
   "metadata": {},
   "source": [
    "## MetENP"
   ]
  },
  {
   "cell_type": "markdown",
   "metadata": {},
   "source": [
    "MetENP is a R package that enables detection of significant metabolites from metabolite information \n",
    "(names or names and concentration along with metadata information) and provides\n",
    "\n",
    "1. Enrichment score of metabolite class,\n",
    "2. Maps to pathway of the species of choice,\n",
    "3. Calculate enrichment score of pathways,\n",
    "4. Plots the pathways and shows the metabolite increase or decrease\n",
    "5. Gets gene info, reaction info, enzyme info\n",
    "\n",
    "For more info, check out the vignette."
   ]
  },
  {
   "cell_type": "code",
   "execution_count": 1,
   "metadata": {},
   "outputs": [
    {
     "name": "stderr",
     "output_type": "stream",
     "text": [
      "\n",
      "\n",
      "##############################################################################\n",
      "Pathview is an open source software package distributed under GNU General\n",
      "Public License version 3 (GPLv3). Details of GPLv3 is available at\n",
      "http://www.gnu.org/licenses/gpl-3.0.html. Particullary, users are required to\n",
      "formally cite the original Pathview paper (not just mention it) in publications\n",
      "or products. For details, do citation(\"pathview\") within R.\n",
      "\n",
      "The pathview downloads and uses KEGG data. Non-academic uses may require a KEGG\n",
      "license agreement (details at http://www.kegg.jp/kegg/legal.html).\n",
      "##############################################################################\n",
      "\n"
     ]
    }
   ],
   "source": [
    "if (!requireNamespace(\"KEGGREST\", quietly = TRUE))\n",
    "    BiocManager::install(\"KEGGREST\", update = TRUE, ask = FALSE)\n",
    "\n",
    "if (!requireNamespace(\"KEGGgraph\", quietly = TRUE))\n",
    "    BiocManager::install(\"KEGGgraph\", update = TRUE, ask = FALSE)\n",
    "\n",
    "if (!requireNamespace(\"pathview\", quietly = TRUE))\n",
    "    BiocManager::install(\"pathview\", update = TRUE, ask = FALSE)\n",
    "\n",
    "#if (!requireNamespace(\"KEGG.db\", quietly = TRUE))\n",
    "#    BiocManager::install(\"KEGG.db\", update = TRUE, ask = FALSE)\n",
    "\n",
    "#if (!requireNamespace(\"MetENP\", quietly = TRUE))\n",
    "#    devtools::install(\"..\", upgrade = \"never\")"
   ]
  },
  {
   "cell_type": "code",
   "execution_count": 2,
   "metadata": {},
   "outputs": [],
   "source": [
    "USER_HOME=Sys.getenv(\"HOME\");\n",
    "USER_PWD=Sys.getenv(\"PWD\");\n",
    "#.libPaths( c( .libPaths(), paste0(USER_HOME, \"/.local/R\") ))\n",
    ".libPaths( c( .libPaths(), paste0(USER_PWD, \"/../../R\") )); # suitable path to where MetENP R package is installed\n",
    "#.libPaths( c( .libPaths(), paste0(\"../../R\") )); # suitable path to where MetENP R package is installed\n",
    "\n",
    "library(MetENP)"
   ]
  },
  {
   "cell_type": "markdown",
   "metadata": {},
   "source": [
    "#### If you do not wish to install, alternatively, download from github(https://github.com/metabolomicsworkbench/MetENP) and load libraries and functions\n",
    "#### Complete information for this study is at Metabolomics Workbench: https://www.metabolomicsworkbench.org/data/DRCCMetadata.php?Mode=Study&StudyID=ST001951&StudyType=MS&ResultType=1"
   ]
  },
  {
   "cell_type": "code",
   "execution_count": 3,
   "metadata": {},
   "outputs": [
    {
     "data": {
      "text/html": [
       "<table class=\"dataframe\">\n",
       "<caption>A tibble: 6 × 17</caption>\n",
       "<thead>\n",
       "\t<tr><th scope=col>analysis_id</th><th scope=col>analysis_summary</th><th scope=col>metabolite_name</th><th scope=col>metabolite_id</th><th scope=col>refmet_name</th><th scope=col>Day0-1</th><th scope=col>Day0-2</th><th scope=col>Day0-3</th><th scope=col>Day14-1</th><th scope=col>Day14-2</th><th scope=col>Day14-3</th><th scope=col>Day28-1</th><th scope=col>Day28-2</th><th scope=col>Day28-3</th><th scope=col>Day4-1</th><th scope=col>Day4-2</th><th scope=col>Day4-3</th></tr>\n",
       "\t<tr><th scope=col>&lt;named list&gt;</th><th scope=col>&lt;named list&gt;</th><th scope=col>&lt;named list&gt;</th><th scope=col>&lt;named list&gt;</th><th scope=col>&lt;named list&gt;</th><th scope=col>&lt;chr&gt;</th><th scope=col>&lt;chr&gt;</th><th scope=col>&lt;chr&gt;</th><th scope=col>&lt;chr&gt;</th><th scope=col>&lt;chr&gt;</th><th scope=col>&lt;chr&gt;</th><th scope=col>&lt;chr&gt;</th><th scope=col>&lt;chr&gt;</th><th scope=col>&lt;chr&gt;</th><th scope=col>&lt;chr&gt;</th><th scope=col>&lt;chr&gt;</th><th scope=col>&lt;chr&gt;</th></tr>\n",
       "</thead>\n",
       "<tbody>\n",
       "\t<tr><td>AN003176</td><td>Reversed....</td><td>   10-HDoHE</td><td>ME450664</td><td>    10-HDoHE</td><td>0.002323813</td><td>0.002673189</td><td>0.001893541</td><td>0.001593392</td><td>0.001720838</td><td>0.002363037</td><td>0.001184357</td><td>0.001101074</td><td>0.001746215</td><td>0.001739818</td><td>0.003115421</td><td>0.001585152</td></tr>\n",
       "\t<tr><td>AN003176</td><td>Reversed....</td><td> 11,12-DHET</td><td>ME450645</td><td>11,12-Di....</td><td>0.000341166</td><td>0.000441905</td><td>0.000323266</td><td>0.000361373</td><td>0.000261501</td><td>0.00025319 </td><td>0.000379297</td><td>0.000265099</td><td>0.000571349</td><td>0.000375622</td><td>0.000340215</td><td>0.000403358</td></tr>\n",
       "\t<tr><td>AN003176</td><td>Reversed....</td><td>  11,12-EET</td><td>ME450641</td><td>11,12-EpETrE</td><td>0.002094514</td><td>0.002732497</td><td>0.002310557</td><td>0.002022885</td><td>0.001690887</td><td>0.001693209</td><td>0.00174947 </td><td>0.001761026</td><td>0.00188406 </td><td>0.001986864</td><td>0.002257773</td><td>0.002248735</td></tr>\n",
       "\t<tr><td>AN003176</td><td>Reversed....</td><td>11,12-EpETE</td><td>ME450657</td><td>11(12)-EpETE</td><td>0.000324572</td><td>0.000390902</td><td>0.000329246</td><td>0.000411165</td><td>0.000440067</td><td>0.000262108</td><td>0.000394276</td><td>0.000418382</td><td>0.000248597</td><td>0.000267997</td><td>0.000234695</td><td>0.000222471</td></tr>\n",
       "\t<tr><td>AN003176</td><td>Reversed....</td><td>   11-HDoHE</td><td>ME450665</td><td>    11-HDoHE</td><td>0.001482286</td><td>0.001977382</td><td>0.001507211</td><td>0.001143453</td><td>0.001570896</td><td>0.001177879</td><td>0.001314854</td><td>0.001479621</td><td>0.001902711</td><td>0.001506963</td><td>0.001521635</td><td>0.001640305</td></tr>\n",
       "\t<tr><td>AN003176</td><td>Reversed....</td><td>    11-HEPE</td><td>ME450650</td><td>     11-HEPE</td><td>0.001475127</td><td>0.001469387</td><td>0.001682758</td><td>0.001465607</td><td>0.001513288</td><td>0.001291095</td><td>0.001492179</td><td>0.001078286</td><td>0.001373264</td><td>0.001282885</td><td>0.001474392</td><td>0.00174132 </td></tr>\n",
       "</tbody>\n",
       "</table>\n"
      ],
      "text/latex": [
       "A tibble: 6 × 17\n",
       "\\begin{tabular}{lllllllllllllllll}\n",
       " analysis\\_id & analysis\\_summary & metabolite\\_name & metabolite\\_id & refmet\\_name & Day0-1 & Day0-2 & Day0-3 & Day14-1 & Day14-2 & Day14-3 & Day28-1 & Day28-2 & Day28-3 & Day4-1 & Day4-2 & Day4-3\\\\\n",
       " <named list> & <named list> & <named list> & <named list> & <named list> & <chr> & <chr> & <chr> & <chr> & <chr> & <chr> & <chr> & <chr> & <chr> & <chr> & <chr> & <chr>\\\\\n",
       "\\hline\n",
       "\t AN003176 & Reversed.... &    10-HDoHE & ME450664 &     10-HDoHE & 0.002323813 & 0.002673189 & 0.001893541 & 0.001593392 & 0.001720838 & 0.002363037 & 0.001184357 & 0.001101074 & 0.001746215 & 0.001739818 & 0.003115421 & 0.001585152\\\\\n",
       "\t AN003176 & Reversed.... &  11,12-DHET & ME450645 & 11,12-Di.... & 0.000341166 & 0.000441905 & 0.000323266 & 0.000361373 & 0.000261501 & 0.00025319  & 0.000379297 & 0.000265099 & 0.000571349 & 0.000375622 & 0.000340215 & 0.000403358\\\\\n",
       "\t AN003176 & Reversed.... &   11,12-EET & ME450641 & 11,12-EpETrE & 0.002094514 & 0.002732497 & 0.002310557 & 0.002022885 & 0.001690887 & 0.001693209 & 0.00174947  & 0.001761026 & 0.00188406  & 0.001986864 & 0.002257773 & 0.002248735\\\\\n",
       "\t AN003176 & Reversed.... & 11,12-EpETE & ME450657 & 11(12)-EpETE & 0.000324572 & 0.000390902 & 0.000329246 & 0.000411165 & 0.000440067 & 0.000262108 & 0.000394276 & 0.000418382 & 0.000248597 & 0.000267997 & 0.000234695 & 0.000222471\\\\\n",
       "\t AN003176 & Reversed.... &    11-HDoHE & ME450665 &     11-HDoHE & 0.001482286 & 0.001977382 & 0.001507211 & 0.001143453 & 0.001570896 & 0.001177879 & 0.001314854 & 0.001479621 & 0.001902711 & 0.001506963 & 0.001521635 & 0.001640305\\\\\n",
       "\t AN003176 & Reversed.... &     11-HEPE & ME450650 &      11-HEPE & 0.001475127 & 0.001469387 & 0.001682758 & 0.001465607 & 0.001513288 & 0.001291095 & 0.001492179 & 0.001078286 & 0.001373264 & 0.001282885 & 0.001474392 & 0.00174132 \\\\\n",
       "\\end{tabular}\n"
      ],
      "text/markdown": [
       "\n",
       "A tibble: 6 × 17\n",
       "\n",
       "| analysis_id &lt;named list&gt; | analysis_summary &lt;named list&gt; | metabolite_name &lt;named list&gt; | metabolite_id &lt;named list&gt; | refmet_name &lt;named list&gt; | Day0-1 &lt;chr&gt; | Day0-2 &lt;chr&gt; | Day0-3 &lt;chr&gt; | Day14-1 &lt;chr&gt; | Day14-2 &lt;chr&gt; | Day14-3 &lt;chr&gt; | Day28-1 &lt;chr&gt; | Day28-2 &lt;chr&gt; | Day28-3 &lt;chr&gt; | Day4-1 &lt;chr&gt; | Day4-2 &lt;chr&gt; | Day4-3 &lt;chr&gt; |\n",
       "|---|---|---|---|---|---|---|---|---|---|---|---|---|---|---|---|---|\n",
       "| AN003176 | Reversed.... |    10-HDoHE | ME450664 |     10-HDoHE | 0.002323813 | 0.002673189 | 0.001893541 | 0.001593392 | 0.001720838 | 0.002363037 | 0.001184357 | 0.001101074 | 0.001746215 | 0.001739818 | 0.003115421 | 0.001585152 |\n",
       "| AN003176 | Reversed.... |  11,12-DHET | ME450645 | 11,12-Di.... | 0.000341166 | 0.000441905 | 0.000323266 | 0.000361373 | 0.000261501 | 0.00025319  | 0.000379297 | 0.000265099 | 0.000571349 | 0.000375622 | 0.000340215 | 0.000403358 |\n",
       "| AN003176 | Reversed.... |   11,12-EET | ME450641 | 11,12-EpETrE | 0.002094514 | 0.002732497 | 0.002310557 | 0.002022885 | 0.001690887 | 0.001693209 | 0.00174947  | 0.001761026 | 0.00188406  | 0.001986864 | 0.002257773 | 0.002248735 |\n",
       "| AN003176 | Reversed.... | 11,12-EpETE | ME450657 | 11(12)-EpETE | 0.000324572 | 0.000390902 | 0.000329246 | 0.000411165 | 0.000440067 | 0.000262108 | 0.000394276 | 0.000418382 | 0.000248597 | 0.000267997 | 0.000234695 | 0.000222471 |\n",
       "| AN003176 | Reversed.... |    11-HDoHE | ME450665 |     11-HDoHE | 0.001482286 | 0.001977382 | 0.001507211 | 0.001143453 | 0.001570896 | 0.001177879 | 0.001314854 | 0.001479621 | 0.001902711 | 0.001506963 | 0.001521635 | 0.001640305 |\n",
       "| AN003176 | Reversed.... |     11-HEPE | ME450650 |      11-HEPE | 0.001475127 | 0.001469387 | 0.001682758 | 0.001465607 | 0.001513288 | 0.001291095 | 0.001492179 | 0.001078286 | 0.001373264 | 0.001282885 | 0.001474392 | 0.00174132  |\n",
       "\n"
      ],
      "text/plain": [
       "  analysis_id analysis_summary metabolite_name metabolite_id refmet_name \n",
       "1 AN003176    Reversed....        10-HDoHE     ME450664          10-HDoHE\n",
       "2 AN003176    Reversed....      11,12-DHET     ME450645      11,12-Di....\n",
       "3 AN003176    Reversed....       11,12-EET     ME450641      11,12-EpETrE\n",
       "4 AN003176    Reversed....     11,12-EpETE     ME450657      11(12)-EpETE\n",
       "5 AN003176    Reversed....        11-HDoHE     ME450665          11-HDoHE\n",
       "6 AN003176    Reversed....         11-HEPE     ME450650           11-HEPE\n",
       "  Day0-1      Day0-2      Day0-3      Day14-1     Day14-2     Day14-3    \n",
       "1 0.002323813 0.002673189 0.001893541 0.001593392 0.001720838 0.002363037\n",
       "2 0.000341166 0.000441905 0.000323266 0.000361373 0.000261501 0.00025319 \n",
       "3 0.002094514 0.002732497 0.002310557 0.002022885 0.001690887 0.001693209\n",
       "4 0.000324572 0.000390902 0.000329246 0.000411165 0.000440067 0.000262108\n",
       "5 0.001482286 0.001977382 0.001507211 0.001143453 0.001570896 0.001177879\n",
       "6 0.001475127 0.001469387 0.001682758 0.001465607 0.001513288 0.001291095\n",
       "  Day28-1     Day28-2     Day28-3     Day4-1      Day4-2      Day4-3     \n",
       "1 0.001184357 0.001101074 0.001746215 0.001739818 0.003115421 0.001585152\n",
       "2 0.000379297 0.000265099 0.000571349 0.000375622 0.000340215 0.000403358\n",
       "3 0.00174947  0.001761026 0.00188406  0.001986864 0.002257773 0.002248735\n",
       "4 0.000394276 0.000418382 0.000248597 0.000267997 0.000234695 0.000222471\n",
       "5 0.001314854 0.001479621 0.001902711 0.001506963 0.001521635 0.001640305\n",
       "6 0.001492179 0.001078286 0.001373264 0.001282885 0.001474392 0.00174132 "
      ]
     },
     "metadata": {},
     "output_type": "display_data"
    }
   ],
   "source": [
    "data = getmwstudies('ST001951', 'data')\n",
    "head(data)"
   ]
  },
  {
   "cell_type": "code",
   "execution_count": 4,
   "metadata": {},
   "outputs": [
    {
     "data": {
      "text/html": [
       "<table class=\"dataframe\">\n",
       "<caption>A data.frame: 6 × 7</caption>\n",
       "<thead>\n",
       "\t<tr><th></th><th scope=col>study_id</th><th scope=col>local_sample_id</th><th scope=col>sample_source</th><th scope=col>factors</th><th scope=col>mb_sample_id</th><th scope=col>raw_data</th><th scope=col>Time after hypoxia (days)</th></tr>\n",
       "\t<tr><th></th><th scope=col>&lt;named list&gt;</th><th scope=col>&lt;named list&gt;</th><th scope=col>&lt;named list&gt;</th><th scope=col>&lt;named list&gt;</th><th scope=col>&lt;named list&gt;</th><th scope=col>&lt;named list&gt;</th><th scope=col>&lt;chr&gt;</th></tr>\n",
       "</thead>\n",
       "<tbody>\n",
       "\t<tr><th scope=row>1</th><td>ST001951</td><td>Day0-1</td><td>Lung</td><td>Time aft....</td><td>SA184038</td><td>Data1805....</td><td>Time after hypoxia (days):-</td></tr>\n",
       "\t<tr><th scope=row>2</th><td>ST001951</td><td>Day0-1</td><td>Lung</td><td>Time aft....</td><td>SA184038</td><td>Data1805....</td><td>Time after hypoxia (days):-</td></tr>\n",
       "\t<tr><th scope=row>3</th><td>ST001951</td><td>Day0-1</td><td>Lung</td><td>Time aft....</td><td>SA184038</td><td>Data1805....</td><td>Time after hypoxia (days):-</td></tr>\n",
       "\t<tr><th scope=row>4</th><td>ST001951</td><td>Day0-1</td><td>Lung</td><td>Time aft....</td><td>SA184038</td><td>Data1805....</td><td>Time after hypoxia (days):-</td></tr>\n",
       "\t<tr><th scope=row>5</th><td>ST001951</td><td>Day0-1</td><td>Lung</td><td>Time aft....</td><td>SA184038</td><td>Data1805....</td><td>Time after hypoxia (days):-</td></tr>\n",
       "\t<tr><th scope=row>6</th><td>ST001951</td><td>Day0-1</td><td>Lung</td><td>Time aft....</td><td>SA184038</td><td>Data1805....</td><td>Time after hypoxia (days):-</td></tr>\n",
       "</tbody>\n",
       "</table>\n"
      ],
      "text/latex": [
       "A data.frame: 6 × 7\n",
       "\\begin{tabular}{r|lllllll}\n",
       "  & study\\_id & local\\_sample\\_id & sample\\_source & factors & mb\\_sample\\_id & raw\\_data & Time after hypoxia (days)\\\\\n",
       "  & <named list> & <named list> & <named list> & <named list> & <named list> & <named list> & <chr>\\\\\n",
       "\\hline\n",
       "\t1 & ST001951 & Day0-1 & Lung & Time aft.... & SA184038 & Data1805.... & Time after hypoxia (days):-\\\\\n",
       "\t2 & ST001951 & Day0-1 & Lung & Time aft.... & SA184038 & Data1805.... & Time after hypoxia (days):-\\\\\n",
       "\t3 & ST001951 & Day0-1 & Lung & Time aft.... & SA184038 & Data1805.... & Time after hypoxia (days):-\\\\\n",
       "\t4 & ST001951 & Day0-1 & Lung & Time aft.... & SA184038 & Data1805.... & Time after hypoxia (days):-\\\\\n",
       "\t5 & ST001951 & Day0-1 & Lung & Time aft.... & SA184038 & Data1805.... & Time after hypoxia (days):-\\\\\n",
       "\t6 & ST001951 & Day0-1 & Lung & Time aft.... & SA184038 & Data1805.... & Time after hypoxia (days):-\\\\\n",
       "\\end{tabular}\n"
      ],
      "text/markdown": [
       "\n",
       "A data.frame: 6 × 7\n",
       "\n",
       "| <!--/--> | study_id &lt;named list&gt; | local_sample_id &lt;named list&gt; | sample_source &lt;named list&gt; | factors &lt;named list&gt; | mb_sample_id &lt;named list&gt; | raw_data &lt;named list&gt; | Time after hypoxia (days) &lt;chr&gt; |\n",
       "|---|---|---|---|---|---|---|---|\n",
       "| 1 | ST001951 | Day0-1 | Lung | Time aft.... | SA184038 | Data1805.... | Time after hypoxia (days):- |\n",
       "| 2 | ST001951 | Day0-1 | Lung | Time aft.... | SA184038 | Data1805.... | Time after hypoxia (days):- |\n",
       "| 3 | ST001951 | Day0-1 | Lung | Time aft.... | SA184038 | Data1805.... | Time after hypoxia (days):- |\n",
       "| 4 | ST001951 | Day0-1 | Lung | Time aft.... | SA184038 | Data1805.... | Time after hypoxia (days):- |\n",
       "| 5 | ST001951 | Day0-1 | Lung | Time aft.... | SA184038 | Data1805.... | Time after hypoxia (days):- |\n",
       "| 6 | ST001951 | Day0-1 | Lung | Time aft.... | SA184038 | Data1805.... | Time after hypoxia (days):- |\n",
       "\n"
      ],
      "text/plain": [
       "  study_id local_sample_id sample_source factors      mb_sample_id raw_data    \n",
       "1 ST001951 Day0-1          Lung          Time aft.... SA184038     Data1805....\n",
       "2 ST001951 Day0-1          Lung          Time aft.... SA184038     Data1805....\n",
       "3 ST001951 Day0-1          Lung          Time aft.... SA184038     Data1805....\n",
       "4 ST001951 Day0-1          Lung          Time aft.... SA184038     Data1805....\n",
       "5 ST001951 Day0-1          Lung          Time aft.... SA184038     Data1805....\n",
       "6 ST001951 Day0-1          Lung          Time aft.... SA184038     Data1805....\n",
       "  Time after hypoxia (days)  \n",
       "1 Time after hypoxia (days):-\n",
       "2 Time after hypoxia (days):-\n",
       "3 Time after hypoxia (days):-\n",
       "4 Time after hypoxia (days):-\n",
       "5 Time after hypoxia (days):-\n",
       "6 Time after hypoxia (days):-"
      ]
     },
     "metadata": {},
     "output_type": "display_data"
    }
   ],
   "source": [
    "metadata = getmwstudies('ST001951', 'factors')\n",
    "head(metadata)"
   ]
  },
  {
   "cell_type": "markdown",
   "metadata": {},
   "source": [
    "Find the factors you would want to compare\n",
    "Multiple factors (independent variables) are formatted in multiple columns but you can get information on all the factors by \"factors\" column, such as 'TreatmentGroup:Prednisolone', this indicates column name 'TreatmentGroup' with factor Prednisolone. For t-test use the factors in the same column. For comparing multipe independent variables use anova by anova_ana function.\n"
   ]
  },
  {
   "cell_type": "markdown",
   "metadata": {},
   "source": [
    "### Associate metabolomics data to the refmet class\n"
   ]
  },
  {
   "cell_type": "code",
   "execution_count": 5,
   "metadata": {},
   "outputs": [
    {
     "data": {
      "text/html": [
       "<table class=\"dataframe\">\n",
       "<caption>A data.frame: 6 × 21</caption>\n",
       "<thead>\n",
       "\t<tr><th></th><th scope=col>metabolite_name</th><th scope=col>analysis_id</th><th scope=col>analysis_summary</th><th scope=col>metabolite_id</th><th scope=col>refmet_name</th><th scope=col>Day0-1</th><th scope=col>Day0-2</th><th scope=col>Day0-3</th><th scope=col>Day14-1</th><th scope=col>Day14-2</th><th scope=col>⋯</th><th scope=col>Day28-1</th><th scope=col>Day28-2</th><th scope=col>Day28-3</th><th scope=col>Day4-1</th><th scope=col>Day4-2</th><th scope=col>Day4-3</th><th scope=col>formula</th><th scope=col>super_class</th><th scope=col>main_class</th><th scope=col>sub_class</th></tr>\n",
       "\t<tr><th></th><th scope=col>&lt;chr&gt;</th><th scope=col>&lt;named list&gt;</th><th scope=col>&lt;named list&gt;</th><th scope=col>&lt;named list&gt;</th><th scope=col>&lt;named list&gt;</th><th scope=col>&lt;chr&gt;</th><th scope=col>&lt;chr&gt;</th><th scope=col>&lt;chr&gt;</th><th scope=col>&lt;chr&gt;</th><th scope=col>&lt;chr&gt;</th><th scope=col>⋯</th><th scope=col>&lt;chr&gt;</th><th scope=col>&lt;chr&gt;</th><th scope=col>&lt;chr&gt;</th><th scope=col>&lt;chr&gt;</th><th scope=col>&lt;chr&gt;</th><th scope=col>&lt;chr&gt;</th><th scope=col>&lt;chr&gt;</th><th scope=col>&lt;chr&gt;</th><th scope=col>&lt;chr&gt;</th><th scope=col>&lt;chr&gt;</th></tr>\n",
       "</thead>\n",
       "<tbody>\n",
       "\t<tr><th scope=row>1</th><td>10-HDoHE  </td><td>AN003176</td><td>Reversed....</td><td>ME450664</td><td>    10-HDoHE</td><td>0.002323813</td><td>0.002673189</td><td>0.001893541</td><td>0.001593392</td><td>0.001720838</td><td>⋯</td><td>0.001184357</td><td>0.001101074</td><td>0.001746215</td><td>0.001739818</td><td>0.003115421</td><td>0.001585152</td><td>C22H32O3</td><td>Fatty Acyls</td><td>Docosanoids</td><td>Docosanoids</td></tr>\n",
       "\t<tr><th scope=row>2</th><td>11-HDoHE  </td><td>AN003176</td><td>Reversed....</td><td>ME450665</td><td>    11-HDoHE</td><td>0.001482286</td><td>0.001977382</td><td>0.001507211</td><td>0.001143453</td><td>0.001570896</td><td>⋯</td><td>0.001314854</td><td>0.001479621</td><td>0.001902711</td><td>0.001506963</td><td>0.001521635</td><td>0.001640305</td><td>C22H32O3</td><td>Fatty Acyls</td><td>Docosanoids</td><td>Docosanoids</td></tr>\n",
       "\t<tr><th scope=row>3</th><td>11-HEPE   </td><td>AN003176</td><td>Reversed....</td><td>ME450650</td><td>     11-HEPE</td><td>0.001475127</td><td>0.001469387</td><td>0.001682758</td><td>0.001465607</td><td>0.001513288</td><td>⋯</td><td>0.001492179</td><td>0.001078286</td><td>0.001373264</td><td>0.001282885</td><td>0.001474392</td><td>0.00174132 </td><td>C20H30O3</td><td>Fatty Acyls</td><td>Eicosanoids</td><td>HEPE       </td></tr>\n",
       "\t<tr><th scope=row>4</th><td>11-HETE   </td><td>AN003176</td><td>Reversed....</td><td>ME450631</td><td>     11-HETE</td><td>0.006135379</td><td>0.003856802</td><td>0.004139105</td><td>0.007474203</td><td>0.01429298 </td><td>⋯</td><td>0.006604251</td><td>0.005071509</td><td>0.014177479</td><td>0.00290529 </td><td>0.003506085</td><td>0.017565401</td><td>C20H32O3</td><td>Fatty Acyls</td><td>Eicosanoids</td><td>HETE       </td></tr>\n",
       "\t<tr><th scope=row>5</th><td>11,12-DHET</td><td>AN003176</td><td>Reversed....</td><td>ME450645</td><td>11,12-Di....</td><td>0.000341166</td><td>0.000441905</td><td>0.000323266</td><td>0.000361373</td><td>0.000261501</td><td>⋯</td><td>0.000379297</td><td>0.000265099</td><td>0.000571349</td><td>0.000375622</td><td>0.000340215</td><td>0.000403358</td><td>C20H34O4</td><td>Fatty Acyls</td><td>Eicosanoids</td><td>HETrE      </td></tr>\n",
       "\t<tr><th scope=row>6</th><td>11,12-EET </td><td>AN003176</td><td>Reversed....</td><td>ME450641</td><td>11,12-EpETrE</td><td>0.002094514</td><td>0.002732497</td><td>0.002310557</td><td>0.002022885</td><td>0.001690887</td><td>⋯</td><td>0.00174947 </td><td>0.001761026</td><td>0.00188406 </td><td>0.001986864</td><td>0.002257773</td><td>0.002248735</td><td>C20H32O3</td><td>Fatty Acyls</td><td>Eicosanoids</td><td>EpETrE     </td></tr>\n",
       "</tbody>\n",
       "</table>\n"
      ],
      "text/latex": [
       "A data.frame: 6 × 21\n",
       "\\begin{tabular}{r|lllllllllllllllllllll}\n",
       "  & metabolite\\_name & analysis\\_id & analysis\\_summary & metabolite\\_id & refmet\\_name & Day0-1 & Day0-2 & Day0-3 & Day14-1 & Day14-2 & ⋯ & Day28-1 & Day28-2 & Day28-3 & Day4-1 & Day4-2 & Day4-3 & formula & super\\_class & main\\_class & sub\\_class\\\\\n",
       "  & <chr> & <named list> & <named list> & <named list> & <named list> & <chr> & <chr> & <chr> & <chr> & <chr> & ⋯ & <chr> & <chr> & <chr> & <chr> & <chr> & <chr> & <chr> & <chr> & <chr> & <chr>\\\\\n",
       "\\hline\n",
       "\t1 & 10-HDoHE   & AN003176 & Reversed.... & ME450664 &     10-HDoHE & 0.002323813 & 0.002673189 & 0.001893541 & 0.001593392 & 0.001720838 & ⋯ & 0.001184357 & 0.001101074 & 0.001746215 & 0.001739818 & 0.003115421 & 0.001585152 & C22H32O3 & Fatty Acyls & Docosanoids & Docosanoids\\\\\n",
       "\t2 & 11-HDoHE   & AN003176 & Reversed.... & ME450665 &     11-HDoHE & 0.001482286 & 0.001977382 & 0.001507211 & 0.001143453 & 0.001570896 & ⋯ & 0.001314854 & 0.001479621 & 0.001902711 & 0.001506963 & 0.001521635 & 0.001640305 & C22H32O3 & Fatty Acyls & Docosanoids & Docosanoids\\\\\n",
       "\t3 & 11-HEPE    & AN003176 & Reversed.... & ME450650 &      11-HEPE & 0.001475127 & 0.001469387 & 0.001682758 & 0.001465607 & 0.001513288 & ⋯ & 0.001492179 & 0.001078286 & 0.001373264 & 0.001282885 & 0.001474392 & 0.00174132  & C20H30O3 & Fatty Acyls & Eicosanoids & HEPE       \\\\\n",
       "\t4 & 11-HETE    & AN003176 & Reversed.... & ME450631 &      11-HETE & 0.006135379 & 0.003856802 & 0.004139105 & 0.007474203 & 0.01429298  & ⋯ & 0.006604251 & 0.005071509 & 0.014177479 & 0.00290529  & 0.003506085 & 0.017565401 & C20H32O3 & Fatty Acyls & Eicosanoids & HETE       \\\\\n",
       "\t5 & 11,12-DHET & AN003176 & Reversed.... & ME450645 & 11,12-Di.... & 0.000341166 & 0.000441905 & 0.000323266 & 0.000361373 & 0.000261501 & ⋯ & 0.000379297 & 0.000265099 & 0.000571349 & 0.000375622 & 0.000340215 & 0.000403358 & C20H34O4 & Fatty Acyls & Eicosanoids & HETrE      \\\\\n",
       "\t6 & 11,12-EET  & AN003176 & Reversed.... & ME450641 & 11,12-EpETrE & 0.002094514 & 0.002732497 & 0.002310557 & 0.002022885 & 0.001690887 & ⋯ & 0.00174947  & 0.001761026 & 0.00188406  & 0.001986864 & 0.002257773 & 0.002248735 & C20H32O3 & Fatty Acyls & Eicosanoids & EpETrE     \\\\\n",
       "\\end{tabular}\n"
      ],
      "text/markdown": [
       "\n",
       "A data.frame: 6 × 21\n",
       "\n",
       "| <!--/--> | metabolite_name &lt;chr&gt; | analysis_id &lt;named list&gt; | analysis_summary &lt;named list&gt; | metabolite_id &lt;named list&gt; | refmet_name &lt;named list&gt; | Day0-1 &lt;chr&gt; | Day0-2 &lt;chr&gt; | Day0-3 &lt;chr&gt; | Day14-1 &lt;chr&gt; | Day14-2 &lt;chr&gt; | ⋯ ⋯ | Day28-1 &lt;chr&gt; | Day28-2 &lt;chr&gt; | Day28-3 &lt;chr&gt; | Day4-1 &lt;chr&gt; | Day4-2 &lt;chr&gt; | Day4-3 &lt;chr&gt; | formula &lt;chr&gt; | super_class &lt;chr&gt; | main_class &lt;chr&gt; | sub_class &lt;chr&gt; |\n",
       "|---|---|---|---|---|---|---|---|---|---|---|---|---|---|---|---|---|---|---|---|---|---|\n",
       "| 1 | 10-HDoHE   | AN003176 | Reversed.... | ME450664 |     10-HDoHE | 0.002323813 | 0.002673189 | 0.001893541 | 0.001593392 | 0.001720838 | ⋯ | 0.001184357 | 0.001101074 | 0.001746215 | 0.001739818 | 0.003115421 | 0.001585152 | C22H32O3 | Fatty Acyls | Docosanoids | Docosanoids |\n",
       "| 2 | 11-HDoHE   | AN003176 | Reversed.... | ME450665 |     11-HDoHE | 0.001482286 | 0.001977382 | 0.001507211 | 0.001143453 | 0.001570896 | ⋯ | 0.001314854 | 0.001479621 | 0.001902711 | 0.001506963 | 0.001521635 | 0.001640305 | C22H32O3 | Fatty Acyls | Docosanoids | Docosanoids |\n",
       "| 3 | 11-HEPE    | AN003176 | Reversed.... | ME450650 |      11-HEPE | 0.001475127 | 0.001469387 | 0.001682758 | 0.001465607 | 0.001513288 | ⋯ | 0.001492179 | 0.001078286 | 0.001373264 | 0.001282885 | 0.001474392 | 0.00174132  | C20H30O3 | Fatty Acyls | Eicosanoids | HEPE        |\n",
       "| 4 | 11-HETE    | AN003176 | Reversed.... | ME450631 |      11-HETE | 0.006135379 | 0.003856802 | 0.004139105 | 0.007474203 | 0.01429298  | ⋯ | 0.006604251 | 0.005071509 | 0.014177479 | 0.00290529  | 0.003506085 | 0.017565401 | C20H32O3 | Fatty Acyls | Eicosanoids | HETE        |\n",
       "| 5 | 11,12-DHET | AN003176 | Reversed.... | ME450645 | 11,12-Di.... | 0.000341166 | 0.000441905 | 0.000323266 | 0.000361373 | 0.000261501 | ⋯ | 0.000379297 | 0.000265099 | 0.000571349 | 0.000375622 | 0.000340215 | 0.000403358 | C20H34O4 | Fatty Acyls | Eicosanoids | HETrE       |\n",
       "| 6 | 11,12-EET  | AN003176 | Reversed.... | ME450641 | 11,12-EpETrE | 0.002094514 | 0.002732497 | 0.002310557 | 0.002022885 | 0.001690887 | ⋯ | 0.00174947  | 0.001761026 | 0.00188406  | 0.001986864 | 0.002257773 | 0.002248735 | C20H32O3 | Fatty Acyls | Eicosanoids | EpETrE      |\n",
       "\n"
      ],
      "text/plain": [
       "  metabolite_name analysis_id analysis_summary metabolite_id refmet_name \n",
       "1 10-HDoHE        AN003176    Reversed....     ME450664          10-HDoHE\n",
       "2 11-HDoHE        AN003176    Reversed....     ME450665          11-HDoHE\n",
       "3 11-HEPE         AN003176    Reversed....     ME450650           11-HEPE\n",
       "4 11-HETE         AN003176    Reversed....     ME450631           11-HETE\n",
       "5 11,12-DHET      AN003176    Reversed....     ME450645      11,12-Di....\n",
       "6 11,12-EET       AN003176    Reversed....     ME450641      11,12-EpETrE\n",
       "  Day0-1      Day0-2      Day0-3      Day14-1     Day14-2     ⋯ Day28-1    \n",
       "1 0.002323813 0.002673189 0.001893541 0.001593392 0.001720838 ⋯ 0.001184357\n",
       "2 0.001482286 0.001977382 0.001507211 0.001143453 0.001570896 ⋯ 0.001314854\n",
       "3 0.001475127 0.001469387 0.001682758 0.001465607 0.001513288 ⋯ 0.001492179\n",
       "4 0.006135379 0.003856802 0.004139105 0.007474203 0.01429298  ⋯ 0.006604251\n",
       "5 0.000341166 0.000441905 0.000323266 0.000361373 0.000261501 ⋯ 0.000379297\n",
       "6 0.002094514 0.002732497 0.002310557 0.002022885 0.001690887 ⋯ 0.00174947 \n",
       "  Day28-2     Day28-3     Day4-1      Day4-2      Day4-3      formula \n",
       "1 0.001101074 0.001746215 0.001739818 0.003115421 0.001585152 C22H32O3\n",
       "2 0.001479621 0.001902711 0.001506963 0.001521635 0.001640305 C22H32O3\n",
       "3 0.001078286 0.001373264 0.001282885 0.001474392 0.00174132  C20H30O3\n",
       "4 0.005071509 0.014177479 0.00290529  0.003506085 0.017565401 C20H32O3\n",
       "5 0.000265099 0.000571349 0.000375622 0.000340215 0.000403358 C20H34O4\n",
       "6 0.001761026 0.00188406  0.001986864 0.002257773 0.002248735 C20H32O3\n",
       "  super_class main_class  sub_class  \n",
       "1 Fatty Acyls Docosanoids Docosanoids\n",
       "2 Fatty Acyls Docosanoids Docosanoids\n",
       "3 Fatty Acyls Eicosanoids HEPE       \n",
       "4 Fatty Acyls Eicosanoids HETE       \n",
       "5 Fatty Acyls Eicosanoids HETrE      \n",
       "6 Fatty Acyls Eicosanoids EpETrE     "
      ]
     },
     "metadata": {},
     "output_type": "display_data"
    }
   ],
   "source": [
    "\n",
    "refmet_class= convert_refmet(data)\n",
    "head(refmet_class)"
   ]
  },
  {
   "cell_type": "code",
   "execution_count": 6,
   "metadata": {},
   "outputs": [
    {
     "data": {
      "text/html": [
       "<ol>\n",
       "\t<li>'Time after hypoxia (days):-'</li>\n",
       "\t<li>'Time after hypoxia (days):14'</li>\n",
       "\t<li>'Time after hypoxia (days):28'</li>\n",
       "\t<li>'Time after hypoxia (days):4'</li>\n",
       "</ol>\n"
      ],
      "text/latex": [
       "\\begin{enumerate}\n",
       "\\item 'Time after hypoxia (days):-'\n",
       "\\item 'Time after hypoxia (days):14'\n",
       "\\item 'Time after hypoxia (days):28'\n",
       "\\item 'Time after hypoxia (days):4'\n",
       "\\end{enumerate}\n"
      ],
      "text/markdown": [
       "1. 'Time after hypoxia (days):-'\n",
       "2. 'Time after hypoxia (days):14'\n",
       "3. 'Time after hypoxia (days):28'\n",
       "4. 'Time after hypoxia (days):4'\n",
       "\n",
       "\n"
      ],
      "text/plain": [
       "[[1]]\n",
       "[1] \"Time after hypoxia (days):-\"\n",
       "\n",
       "[[2]]\n",
       "[1] \"Time after hypoxia (days):14\"\n",
       "\n",
       "[[3]]\n",
       "[1] \"Time after hypoxia (days):28\"\n",
       "\n",
       "[[4]]\n",
       "[1] \"Time after hypoxia (days):4\"\n"
      ]
     },
     "metadata": {},
     "output_type": "display_data"
    }
   ],
   "source": [
    "unique(metadata$factors)\n"
   ]
  },
  {
   "cell_type": "code",
   "execution_count": 7,
   "metadata": {},
   "outputs": [
    {
     "data": {
      "text/html": [
       "<ol>\n",
       "\t<li>'Reversed phase NEGATIVE ION MODE'</li>\n",
       "</ol>\n"
      ],
      "text/latex": [
       "\\begin{enumerate}\n",
       "\\item 'Reversed phase NEGATIVE ION MODE'\n",
       "\\end{enumerate}\n"
      ],
      "text/markdown": [
       "1. 'Reversed phase NEGATIVE ION MODE'\n",
       "\n",
       "\n"
      ],
      "text/plain": [
       "[[1]]\n",
       "[1] \"Reversed phase NEGATIVE ION MODE\"\n"
      ]
     },
     "metadata": {},
     "output_type": "display_data"
    }
   ],
   "source": [
    "### Find the analysis mode\n",
    "unique(data$analysis_summary)"
   ]
  },
  {
   "cell_type": "markdown",
   "metadata": {},
   "source": [
    "### Find significant metabolites, run significance of all the analysis summary together. The analysis summary/modes you got in the previous section\n",
    "There is a normalization step which takes into account missing values, and this can be achieved via three methods:\n",
    "\n",
    "1) half_of_min: where the NAs are replaced by half of min values in the data\n",
    "\n",
    "2) remove_NAs: where Cols with NAs values are removed\n",
    "\n",
    "3) 50percent: where cols with more than 50% NAs values are removed\n",
    "\n",
    "half_of_min is ideal when you wish to see which metabolites were present in either group. Very high fold change would mean it was present in either group. "
   ]
  },
  {
   "cell_type": "code",
   "execution_count": 8,
   "metadata": {},
   "outputs": [],
   "source": [
    "stats_metabolites = significant_met(metabolomics_data=refmet_class, met_col=\"metabolite_name\",analysis_type=c(\"Reversed phase NEGATIVE ION MODE\"), metadata=metadata, factor1='Time after hypoxia (days):-', factor2=c('Time after hypoxia (days):14'), factor_col='Time after hypoxia (days)',sample_col='local_sample_id', p_adjust='fdr',normalization=\"50percent\")\n",
    "\n",
    "sig_metabolites = stats_metabolites[which(stats_metabolites[,\"pval\"] <= 0.05&abs(stats_metabolites[,\"log2Fold_change\"])>0.5),]\n"
   ]
  },
  {
   "cell_type": "code",
   "execution_count": 9,
   "metadata": {},
   "outputs": [
    {
     "data": {
      "image/png": "[encoded data removed]",
      "text/plain": [
       "plot without title"
      ]
     },
     "metadata": {
      "image/png": {
       "height": 420,
       "width": 420
      }
     },
     "output_type": "display_data"
    }
   ],
   "source": [
    "plot_volcano(stats_metabolites, thres_pval= 0.05,thres_log2foldchange = 0.0, TRUE)"
   ]
  },
  {
   "cell_type": "markdown",
   "metadata": {},
   "source": [
    "### Map metabolite class of the significant metabolites utilzing refmet classification in Metabolomics Workbench\n",
    "This function not only maps metabolite to metabolite class but also to external databases such as pubchem, inchi key, smiles and kegg\n",
    "\n",
    "In this example, we will go forward with significant metabolite obtained by t-test/"
   ]
  },
  {
   "cell_type": "code",
   "execution_count": 10,
   "metadata": {},
   "outputs": [],
   "source": [
    "\n",
    "sig_metabolites_kegg_id= map_keggid(sig_metabolites)"
   ]
  },
  {
   "cell_type": "markdown",
   "metadata": {},
   "source": [
    "#### Check all your significant metabolites have not been assigned metabolite class"
   ]
  },
  {
   "cell_type": "code",
   "execution_count": 11,
   "metadata": {},
   "outputs": [
    {
     "data": {
      "text/html": [
       "''"
      ],
      "text/latex": [
       "''"
      ],
      "text/markdown": [
       "''"
      ],
      "text/plain": [
       "[1] \"\""
      ]
     },
     "metadata": {},
     "output_type": "display_data"
    }
   ],
   "source": [
    "setdiff(sig_metabolites$refmet_name, sig_metabolites_kegg_id$refmet_name)"
   ]
  },
  {
   "cell_type": "markdown",
   "metadata": {},
   "source": [
    "### Count metabolites in each of the metabolite class and plotting\n",
    "You may choose from sub_class, main_class and super_class"
   ]
  },
  {
   "cell_type": "code",
   "execution_count": 12,
   "metadata": {},
   "outputs": [
    {
     "name": "stdout",
     "output_type": "stream",
     "text": [
      "  sub_class No.of_metabolites                 color\n",
      "1    EpETrE                -1 decreased metabolites\n",
      "2      HETE                -1 decreased metabolites\n"
     ]
    }
   ],
   "source": [
    "count_changes = metcountplot(df_metclass=sig_metabolites_kegg_id, metclass='sub_class', plotting=TRUE, thres_logfC = 0.0, updown_fillcolor=c(\"red\", \"green\"))\n",
    "print(count_changes$sig_met_count)"
   ]
  },
  {
   "cell_type": "code",
   "execution_count": 13,
   "metadata": {},
   "outputs": [
    {
     "name": "stderr",
     "output_type": "stream",
     "text": [
      "Warning message:\n",
      "“\u001b[1m\u001b[22mUse of `count_changes[[metclass]]` is discouraged.\n",
      "\u001b[36mℹ\u001b[39m Use `.data[[metclass]]` instead.”\n"
     ]
    },
    {
     "data": {
      "image/png": "[encoded data removed]",
      "text/plain": [
       "plot without title"
      ]
     },
     "metadata": {
      "image/png": {
       "height": 420,
       "width": 420
      }
     },
     "output_type": "display_data"
    }
   ],
   "source": [
    "count_changes$plotimg"
   ]
  },
  {
   "cell_type": "markdown",
   "metadata": {},
   "source": [
    "### Enrichment class score\n",
    "\n",
    "Calculate the enrichment score of each metabolite class. Enrichment score is calculated through hypergeometric method. One can specify the no. of significant metabolites in a class while calculating the enrichment score. We advice to use the number of mtabolites in each class as 3 or more. But if someone just wants to know the enrichment score and rest of the information of all the metabolites, then they can choose the number as 1."
   ]
  },
  {
   "cell_type": "code",
   "execution_count": 14,
   "metadata": {},
   "outputs": [
    {
     "name": "stdout",
     "output_type": "stream",
     "text": [
      "[1] \"Name = 17,18-DiHETE\"\n",
      "[1] \"M = 1\"                  \"L = 2\"                  \"N = 51\"                \n",
      "[4] \"k = 15\"                 \"pp = 0.505882352941177\"\n",
      "[1] \"Name = 5,6-EpETrE\"\n",
      "[1] \"M = 1\"                  \"L = 2\"                  \"N = 51\"                \n",
      "[4] \"k = 7\"                  \"pp = 0.258039215686274\"\n",
      "   refmet_name Exact mass KEGG ID   Metabolite Time after hypoxia (days):-_mean\n",
      "1 17,18-DiHETE   336.2301         17,18-diHETE                       0.02454851\n",
      "2   5,6-EpETrE   320.2351  C14768      5,6-EET                      0.012196016\n",
      "  Time after hypoxia (days):14_mean Fold_change log2Fold_change  t_value\n",
      "1                        0.01244456   0.5069375      -0.9801202 4.219957\n",
      "2                       0.004551488   0.3731947      -1.4219998 3.098202\n",
      "        pval      padj metabolite_id super_class  main_class sub_class  formula\n",
      "1 0.02710041 0.4515159      ME450660 Fatty Acyls Eicosanoids      HETE C20H32O4\n",
      "2 0.04238341 0.4515159      ME450639 Fatty Acyls Eicosanoids    EpETrE C20H32O3\n",
      "  HG p-value\n",
      "1  0.5058824\n",
      "2  0.2580392\n"
     ]
    },
    {
     "data": {
      "text/html": [
       "<table class=\"dataframe\">\n",
       "<caption>A data.frame: 0 × 6</caption>\n",
       "<thead>\n",
       "\t<tr><th scope=col>Metabolite</th><th scope=col>pval</th><th scope=col>super_class</th><th scope=col>main_class</th><th scope=col>sub_class</th><th scope=col>HG p-value</th></tr>\n",
       "\t<tr><th scope=col>&lt;chr&gt;</th><th scope=col>&lt;dbl&gt;</th><th scope=col>&lt;chr&gt;</th><th scope=col>&lt;chr&gt;</th><th scope=col>&lt;chr&gt;</th><th scope=col>&lt;dbl&gt;</th></tr>\n",
       "</thead>\n",
       "<tbody>\n",
       "</tbody>\n",
       "</table>\n"
      ],
      "text/latex": [
       "A data.frame: 0 × 6\n",
       "\\begin{tabular}{llllll}\n",
       " Metabolite & pval & super\\_class & main\\_class & sub\\_class & HG p-value\\\\\n",
       " <chr> & <dbl> & <chr> & <chr> & <chr> & <dbl>\\\\\n",
       "\\hline\n",
       "\\end{tabular}\n"
      ],
      "text/markdown": [
       "\n",
       "A data.frame: 0 × 6\n",
       "\n",
       "| Metabolite &lt;chr&gt; | pval &lt;dbl&gt; | super_class &lt;chr&gt; | main_class &lt;chr&gt; | sub_class &lt;chr&gt; | HG p-value &lt;dbl&gt; |\n",
       "|---|---|---|---|---|---|\n",
       "\n"
      ],
      "text/plain": [
       "     Metabolite pval super_class main_class sub_class HG p-value"
      ]
     },
     "metadata": {},
     "output_type": "display_data"
    },
    {
     "data": {
      "text/html": [
       "<style>\n",
       ".list-inline {list-style: none; margin:0; padding: 0}\n",
       ".list-inline>li {display: inline-block}\n",
       ".list-inline>li:not(:last-child)::after {content: \"\\00b7\"; padding: 0 .5ex}\n",
       "</style>\n",
       "<ol class=list-inline><li>'refmet_name'</li><li>'Exact mass'</li><li>'KEGG ID'</li><li>'Metabolite'</li><li>'Time after hypoxia (days):-_mean'</li><li>'Time after hypoxia (days):14_mean'</li><li>'Fold_change'</li><li>'log2Fold_change'</li><li>'t_value'</li><li>'pval'</li><li>'padj'</li><li>'metabolite_id'</li><li>'super_class'</li><li>'main_class'</li><li>'sub_class'</li><li>'formula'</li><li>'HG p-value'</li></ol>\n"
      ],
      "text/latex": [
       "\\begin{enumerate*}\n",
       "\\item 'refmet\\_name'\n",
       "\\item 'Exact mass'\n",
       "\\item 'KEGG ID'\n",
       "\\item 'Metabolite'\n",
       "\\item 'Time after hypoxia (days):-\\_mean'\n",
       "\\item 'Time after hypoxia (days):14\\_mean'\n",
       "\\item 'Fold\\_change'\n",
       "\\item 'log2Fold\\_change'\n",
       "\\item 't\\_value'\n",
       "\\item 'pval'\n",
       "\\item 'padj'\n",
       "\\item 'metabolite\\_id'\n",
       "\\item 'super\\_class'\n",
       "\\item 'main\\_class'\n",
       "\\item 'sub\\_class'\n",
       "\\item 'formula'\n",
       "\\item 'HG p-value'\n",
       "\\end{enumerate*}\n"
      ],
      "text/markdown": [
       "1. 'refmet_name'\n",
       "2. 'Exact mass'\n",
       "3. 'KEGG ID'\n",
       "4. 'Metabolite'\n",
       "5. 'Time after hypoxia (days):-_mean'\n",
       "6. 'Time after hypoxia (days):14_mean'\n",
       "7. 'Fold_change'\n",
       "8. 'log2Fold_change'\n",
       "9. 't_value'\n",
       "10. 'pval'\n",
       "11. 'padj'\n",
       "12. 'metabolite_id'\n",
       "13. 'super_class'\n",
       "14. 'main_class'\n",
       "15. 'sub_class'\n",
       "16. 'formula'\n",
       "17. 'HG p-value'\n",
       "\n",
       "\n"
      ],
      "text/plain": [
       " [1] \"refmet_name\"                       \"Exact mass\"                       \n",
       " [3] \"KEGG ID\"                           \"Metabolite\"                       \n",
       " [5] \"Time after hypoxia (days):-_mean\"  \"Time after hypoxia (days):14_mean\"\n",
       " [7] \"Fold_change\"                       \"log2Fold_change\"                  \n",
       " [9] \"t_value\"                           \"pval\"                             \n",
       "[11] \"padj\"                              \"metabolite_id\"                    \n",
       "[13] \"super_class\"                       \"main_class\"                       \n",
       "[15] \"sub_class\"                         \"formula\"                          \n",
       "[17] \"HG p-value\"                       "
      ]
     },
     "metadata": {},
     "output_type": "display_data"
    },
    {
     "data": {
      "text/html": [
       "<style>\n",
       ".list-inline {list-style: none; margin:0; padding: 0}\n",
       ".list-inline>li {display: inline-block}\n",
       ".list-inline>li:not(:last-child)::after {content: \"\\00b7\"; padding: 0 .5ex}\n",
       "</style>\n",
       "<ol class=list-inline><li>'Fatty Acyls'</li><li>'Fatty Acyls'</li></ol>\n"
      ],
      "text/latex": [
       "\\begin{enumerate*}\n",
       "\\item 'Fatty Acyls'\n",
       "\\item 'Fatty Acyls'\n",
       "\\end{enumerate*}\n"
      ],
      "text/markdown": [
       "1. 'Fatty Acyls'\n",
       "2. 'Fatty Acyls'\n",
       "\n",
       "\n"
      ],
      "text/plain": [
       "[1] \"Fatty Acyls\" \"Fatty Acyls\""
      ]
     },
     "metadata": {},
     "output_type": "display_data"
    },
    {
     "data": {
      "text/html": [
       "<style>\n",
       ".list-inline {list-style: none; margin:0; padding: 0}\n",
       ".list-inline>li {display: inline-block}\n",
       ".list-inline>li:not(:last-child)::after {content: \"\\00b7\"; padding: 0 .5ex}\n",
       "</style>\n",
       "<ol class=list-inline><li>'Eicosanoids'</li><li>'Eicosanoids'</li></ol>\n"
      ],
      "text/latex": [
       "\\begin{enumerate*}\n",
       "\\item 'Eicosanoids'\n",
       "\\item 'Eicosanoids'\n",
       "\\end{enumerate*}\n"
      ],
      "text/markdown": [
       "1. 'Eicosanoids'\n",
       "2. 'Eicosanoids'\n",
       "\n",
       "\n"
      ],
      "text/plain": [
       "[1] \"Eicosanoids\" \"Eicosanoids\""
      ]
     },
     "metadata": {},
     "output_type": "display_data"
    },
    {
     "data": {
      "text/html": [
       "<style>\n",
       ".list-inline {list-style: none; margin:0; padding: 0}\n",
       ".list-inline>li {display: inline-block}\n",
       ".list-inline>li:not(:last-child)::after {content: \"\\00b7\"; padding: 0 .5ex}\n",
       "</style>\n",
       "<ol class=list-inline><li>'HETE'</li><li>'EpETrE'</li></ol>\n"
      ],
      "text/latex": [
       "\\begin{enumerate*}\n",
       "\\item 'HETE'\n",
       "\\item 'EpETrE'\n",
       "\\end{enumerate*}\n"
      ],
      "text/markdown": [
       "1. 'HETE'\n",
       "2. 'EpETrE'\n",
       "\n",
       "\n"
      ],
      "text/plain": [
       "[1] \"HETE\"   \"EpETrE\""
      ]
     },
     "metadata": {},
     "output_type": "display_data"
    }
   ],
   "source": [
    "# pass debug = 0 below or comment some lines to suppress some print output\n",
    "metenrichment = metclassenrichment(df_metclass=sig_metabolites_kegg_id,refmet_class, metclass=\"sub_class\",enrich_stats=\"HG\",no=1, debug = 1)\n",
    "print(head(metenrichment))\n",
    "#knitr::kable(head(metenrichment))\n",
    "metenrichment[metenrichment$main_class %in% c(\"Ceramides\", \"Sphingomyelins\"), c(\"Metabolite\", \"pval\", \"super_class\", \"main_class\", \"sub_class\", \"HG p-value\")]\n",
    "colnames(metenrichment)\n",
    "metenrichment$super_class\n",
    "metenrichment$main_class\n",
    "metenrichment$sub_class"
   ]
  },
  {
   "cell_type": "markdown",
   "metadata": {},
   "source": [
    "#### Plot the enrichment score via function plot_met_enrichment"
   ]
  },
  {
   "cell_type": "code",
   "execution_count": 15,
   "metadata": {},
   "outputs": [
    {
     "name": "stderr",
     "output_type": "stream",
     "text": [
      "Warning message:\n",
      "“\u001b[1m\u001b[22mUse of `metclass_stats[[metclass]]` is discouraged.\n",
      "\u001b[36mℹ\u001b[39m Use `.data[[metclass]]` instead.”\n",
      "Warning message:\n",
      "“\u001b[1m\u001b[22mUse of `metclass_stats[[enrich_stats]]` is discouraged.\n",
      "\u001b[36mℹ\u001b[39m Use `.data[[enrich_stats]]` instead.”\n",
      "Warning message:\n",
      "“\u001b[1m\u001b[22mUse of `metclass_stats[[enrich_stats]]` is discouraged.\n",
      "\u001b[36mℹ\u001b[39m Use `.data[[enrich_stats]]` instead.”\n"
     ]
    },
    {
     "data": {
      "image/png": "[encoded data removed]",
      "text/plain": [
       "plot without title"
      ]
     },
     "metadata": {
      "image/png": {
       "height": 420,
       "width": 420
      }
     },
     "output_type": "display_data"
    }
   ],
   "source": [
    "plot_met_enrichment(metenrichment, \"sub_class\",\"HG\", no=1)"
   ]
  },
  {
   "cell_type": "markdown",
   "metadata": {},
   "source": [
    "### Check the pathways with reactions of all the significant metabolites"
   ]
  },
  {
   "cell_type": "code",
   "execution_count": 16,
   "metadata": {},
   "outputs": [
    {
     "data": {
      "text/html": [
       "<table class=\"dataframe\">\n",
       "<caption>A data.frame: 4 × 22</caption>\n",
       "<thead>\n",
       "\t<tr><th></th><th scope=col>rxn</th><th scope=col>refmet_name</th><th scope=col>Exact mass</th><th scope=col>KEGG ID</th><th scope=col>Metabolite</th><th scope=col>Time after hypoxia (days):-_mean</th><th scope=col>Time after hypoxia (days):14_mean</th><th scope=col>Fold_change</th><th scope=col>log2Fold_change</th><th scope=col>t_value</th><th scope=col>⋯</th><th scope=col>metabolite_id</th><th scope=col>super_class</th><th scope=col>main_class</th><th scope=col>sub_class</th><th scope=col>formula</th><th scope=col>HG p-value</th><th scope=col>Rxn_name</th><th scope=col>PATHWAY</th><th scope=col>pathway_id</th><th scope=col>sps_path_id</th></tr>\n",
       "\t<tr><th></th><th scope=col>&lt;chr&gt;</th><th scope=col>&lt;chr&gt;</th><th scope=col>&lt;chr&gt;</th><th scope=col>&lt;chr&gt;</th><th scope=col>&lt;chr&gt;</th><th scope=col>&lt;chr&gt;</th><th scope=col>&lt;chr&gt;</th><th scope=col>&lt;dbl&gt;</th><th scope=col>&lt;dbl&gt;</th><th scope=col>&lt;dbl&gt;</th><th scope=col>⋯</th><th scope=col>&lt;named list&gt;</th><th scope=col>&lt;chr&gt;</th><th scope=col>&lt;chr&gt;</th><th scope=col>&lt;chr&gt;</th><th scope=col>&lt;chr&gt;</th><th scope=col>&lt;dbl&gt;</th><th scope=col>&lt;named list&gt;</th><th scope=col>&lt;chr&gt;</th><th scope=col>&lt;chr&gt;</th><th scope=col>&lt;chr&gt;</th></tr>\n",
       "</thead>\n",
       "<tbody>\n",
       "\t<tr><th scope=row>1</th><td>R07052</td><td>5,6-EpETrE</td><td>320.2351</td><td>C14768</td><td>5,6-EET</td><td>0.012196016</td><td>0.004551488</td><td>0.3731947</td><td>-1.422</td><td>3.098202</td><td>⋯</td><td>ME450639</td><td>Fatty Acyls</td><td>Eicosanoids</td><td>EpETrE</td><td>C20H32O3</td><td>0.2580392</td><td>            </td><td>Arachidonic acid metabolism</td><td>rn00590</td><td>hsa00590</td></tr>\n",
       "\t<tr><th scope=row>2</th><td>R07052</td><td>5,6-EpETrE</td><td>320.2351</td><td>C14768</td><td>5,6-EET</td><td>0.012196016</td><td>0.004551488</td><td>0.3731947</td><td>-1.422</td><td>3.098202</td><td>⋯</td><td>ME450639</td><td>Fatty Acyls</td><td>Eicosanoids</td><td>EpETrE</td><td>C20H32O3</td><td>0.2580392</td><td>            </td><td>Metabolic pathways         </td><td>rn01100</td><td>hsa01100</td></tr>\n",
       "\t<tr><th scope=row>3</th><td>R07111</td><td>5,6-EpETrE</td><td>320.2351</td><td>C14768</td><td>5,6-EET</td><td>0.012196016</td><td>0.004551488</td><td>0.3731947</td><td>-1.422</td><td>3.098202</td><td>⋯</td><td>ME450639</td><td>Fatty Acyls</td><td>Eicosanoids</td><td>EpETrE</td><td>C20H32O3</td><td>0.2580392</td><td>5,6-EET ....</td><td>Arachidonic acid metabolism</td><td>rn00590</td><td>hsa00590</td></tr>\n",
       "\t<tr><th scope=row>4</th><td>R07111</td><td>5,6-EpETrE</td><td>320.2351</td><td>C14768</td><td>5,6-EET</td><td>0.012196016</td><td>0.004551488</td><td>0.3731947</td><td>-1.422</td><td>3.098202</td><td>⋯</td><td>ME450639</td><td>Fatty Acyls</td><td>Eicosanoids</td><td>EpETrE</td><td>C20H32O3</td><td>0.2580392</td><td>5,6-EET ....</td><td>Metabolic pathways         </td><td>rn01100</td><td>hsa01100</td></tr>\n",
       "</tbody>\n",
       "</table>\n"
      ],
      "text/latex": [
       "A data.frame: 4 × 22\n",
       "\\begin{tabular}{r|lllllllllllllllllllll}\n",
       "  & rxn & refmet\\_name & Exact mass & KEGG ID & Metabolite & Time after hypoxia (days):-\\_mean & Time after hypoxia (days):14\\_mean & Fold\\_change & log2Fold\\_change & t\\_value & ⋯ & metabolite\\_id & super\\_class & main\\_class & sub\\_class & formula & HG p-value & Rxn\\_name & PATHWAY & pathway\\_id & sps\\_path\\_id\\\\\n",
       "  & <chr> & <chr> & <chr> & <chr> & <chr> & <chr> & <chr> & <dbl> & <dbl> & <dbl> & ⋯ & <named list> & <chr> & <chr> & <chr> & <chr> & <dbl> & <named list> & <chr> & <chr> & <chr>\\\\\n",
       "\\hline\n",
       "\t1 & R07052 & 5,6-EpETrE & 320.2351 & C14768 & 5,6-EET & 0.012196016 & 0.004551488 & 0.3731947 & -1.422 & 3.098202 & ⋯ & ME450639 & Fatty Acyls & Eicosanoids & EpETrE & C20H32O3 & 0.2580392 &              & Arachidonic acid metabolism & rn00590 & hsa00590\\\\\n",
       "\t2 & R07052 & 5,6-EpETrE & 320.2351 & C14768 & 5,6-EET & 0.012196016 & 0.004551488 & 0.3731947 & -1.422 & 3.098202 & ⋯ & ME450639 & Fatty Acyls & Eicosanoids & EpETrE & C20H32O3 & 0.2580392 &              & Metabolic pathways          & rn01100 & hsa01100\\\\\n",
       "\t3 & R07111 & 5,6-EpETrE & 320.2351 & C14768 & 5,6-EET & 0.012196016 & 0.004551488 & 0.3731947 & -1.422 & 3.098202 & ⋯ & ME450639 & Fatty Acyls & Eicosanoids & EpETrE & C20H32O3 & 0.2580392 & 5,6-EET .... & Arachidonic acid metabolism & rn00590 & hsa00590\\\\\n",
       "\t4 & R07111 & 5,6-EpETrE & 320.2351 & C14768 & 5,6-EET & 0.012196016 & 0.004551488 & 0.3731947 & -1.422 & 3.098202 & ⋯ & ME450639 & Fatty Acyls & Eicosanoids & EpETrE & C20H32O3 & 0.2580392 & 5,6-EET .... & Metabolic pathways          & rn01100 & hsa01100\\\\\n",
       "\\end{tabular}\n"
      ],
      "text/markdown": [
       "\n",
       "A data.frame: 4 × 22\n",
       "\n",
       "| <!--/--> | rxn &lt;chr&gt; | refmet_name &lt;chr&gt; | Exact mass &lt;chr&gt; | KEGG ID &lt;chr&gt; | Metabolite &lt;chr&gt; | Time after hypoxia (days):-_mean &lt;chr&gt; | Time after hypoxia (days):14_mean &lt;chr&gt; | Fold_change &lt;dbl&gt; | log2Fold_change &lt;dbl&gt; | t_value &lt;dbl&gt; | ⋯ ⋯ | metabolite_id &lt;named list&gt; | super_class &lt;chr&gt; | main_class &lt;chr&gt; | sub_class &lt;chr&gt; | formula &lt;chr&gt; | HG p-value &lt;dbl&gt; | Rxn_name &lt;named list&gt; | PATHWAY &lt;chr&gt; | pathway_id &lt;chr&gt; | sps_path_id &lt;chr&gt; |\n",
       "|---|---|---|---|---|---|---|---|---|---|---|---|---|---|---|---|---|---|---|---|---|---|\n",
       "| 1 | R07052 | 5,6-EpETrE | 320.2351 | C14768 | 5,6-EET | 0.012196016 | 0.004551488 | 0.3731947 | -1.422 | 3.098202 | ⋯ | ME450639 | Fatty Acyls | Eicosanoids | EpETrE | C20H32O3 | 0.2580392 | <!----> | Arachidonic acid metabolism | rn00590 | hsa00590 |\n",
       "| 2 | R07052 | 5,6-EpETrE | 320.2351 | C14768 | 5,6-EET | 0.012196016 | 0.004551488 | 0.3731947 | -1.422 | 3.098202 | ⋯ | ME450639 | Fatty Acyls | Eicosanoids | EpETrE | C20H32O3 | 0.2580392 | <!----> | Metabolic pathways          | rn01100 | hsa01100 |\n",
       "| 3 | R07111 | 5,6-EpETrE | 320.2351 | C14768 | 5,6-EET | 0.012196016 | 0.004551488 | 0.3731947 | -1.422 | 3.098202 | ⋯ | ME450639 | Fatty Acyls | Eicosanoids | EpETrE | C20H32O3 | 0.2580392 | 5,6-EET .... | Arachidonic acid metabolism | rn00590 | hsa00590 |\n",
       "| 4 | R07111 | 5,6-EpETrE | 320.2351 | C14768 | 5,6-EET | 0.012196016 | 0.004551488 | 0.3731947 | -1.422 | 3.098202 | ⋯ | ME450639 | Fatty Acyls | Eicosanoids | EpETrE | C20H32O3 | 0.2580392 | 5,6-EET .... | Metabolic pathways          | rn01100 | hsa01100 |\n",
       "\n"
      ],
      "text/plain": [
       "  rxn    refmet_name Exact mass KEGG ID Metabolite\n",
       "1 R07052 5,6-EpETrE  320.2351   C14768  5,6-EET   \n",
       "2 R07052 5,6-EpETrE  320.2351   C14768  5,6-EET   \n",
       "3 R07111 5,6-EpETrE  320.2351   C14768  5,6-EET   \n",
       "4 R07111 5,6-EpETrE  320.2351   C14768  5,6-EET   \n",
       "  Time after hypoxia (days):-_mean Time after hypoxia (days):14_mean\n",
       "1 0.012196016                      0.004551488                      \n",
       "2 0.012196016                      0.004551488                      \n",
       "3 0.012196016                      0.004551488                      \n",
       "4 0.012196016                      0.004551488                      \n",
       "  Fold_change log2Fold_change t_value  ⋯ metabolite_id super_class main_class \n",
       "1 0.3731947   -1.422          3.098202 ⋯ ME450639      Fatty Acyls Eicosanoids\n",
       "2 0.3731947   -1.422          3.098202 ⋯ ME450639      Fatty Acyls Eicosanoids\n",
       "3 0.3731947   -1.422          3.098202 ⋯ ME450639      Fatty Acyls Eicosanoids\n",
       "4 0.3731947   -1.422          3.098202 ⋯ ME450639      Fatty Acyls Eicosanoids\n",
       "  sub_class formula  HG p-value Rxn_name     PATHWAY                    \n",
       "1 EpETrE    C20H32O3 0.2580392               Arachidonic acid metabolism\n",
       "2 EpETrE    C20H32O3 0.2580392               Metabolic pathways         \n",
       "3 EpETrE    C20H32O3 0.2580392  5,6-EET .... Arachidonic acid metabolism\n",
       "4 EpETrE    C20H32O3 0.2580392  5,6-EET .... Metabolic pathways         \n",
       "  pathway_id sps_path_id\n",
       "1 rn00590    hsa00590   \n",
       "2 rn01100    hsa01100   \n",
       "3 rn00590    hsa00590   \n",
       "4 rn01100    hsa01100   "
      ]
     },
     "metadata": {},
     "output_type": "display_data"
    }
   ],
   "source": [
    "met_path = met_pathways(df_metenrichment = metenrichment, 'hsa')\n",
    "head(met_path)"
   ]
  },
  {
   "cell_type": "markdown",
   "metadata": {},
   "source": [
    "Find metabolites for which no pathways were registered in Kegg and/or no kegg id was found"
   ]
  },
  {
   "cell_type": "code",
   "execution_count": 17,
   "metadata": {},
   "outputs": [
    {
     "data": {
      "text/html": [
       "'17,18-diHETE'"
      ],
      "text/latex": [
       "'17,18-diHETE'"
      ],
      "text/markdown": [
       "'17,18-diHETE'"
      ],
      "text/plain": [
       "[1] \"17,18-diHETE\""
      ]
     },
     "metadata": {},
     "output_type": "display_data"
    }
   ],
   "source": [
    "setdiff(metenrichment$Metabolite,unique(met_path$Metabolite))"
   ]
  },
  {
   "cell_type": "markdown",
   "metadata": {},
   "source": [
    "### Get pathway enrichment sore.\n",
    "\n",
    "This function also utilizes korg dataset from pathview package.\n",
    "\n",
    "Once we have the pathway information, we can calculate enrichment score of pathways. Again, here I have used hypergeometric (HG) score. For hypergeometric score, we need to know the total number of kegg compounds that are linked to kegg pathways.\n",
    "\n",
    "N = total no. of compounds/metabolites linked to all kegg pathways or the total number of metabolites detected in a study.\n",
    "\n",
    "In the former case, this step might take long time, so I advice to run the script comp_linkedto_pathways() just the first time or after 6 months or so if desired to run the pipeline again. Save the result from comp_linkedto_pathways() and load it. Loading from saved file would save time for another analysis with another study. However the package takes care of loading. Save the data in the data folder.\n",
    "\n",
    "L = No. of significant metabolites detected in a study\n",
    "\n",
    "M = No. of significant metabolites detected in a metabolite class or pathway\n",
    "\n",
    "k = Total no. of metabolites detected in a metabolite class/pathway\n",
    "\n",
    "p-value = phyper(M-1, L, N-L, k, lower.tail=FALSE) # as in the actual R code # originally, it was wriiten as: phyper(M, L, N-L, K)\n",
    "\n",
    "This function also utilizes korg dataset from pathview package."
   ]
  },
  {
   "cell_type": "code",
   "execution_count": 18,
   "metadata": {},
   "outputs": [
    {
     "name": "stderr",
     "output_type": "stream",
     "text": [
      "Warning message in phyper(M - 1, L, N - L, k, lower.tail = FALSE):\n",
      "“NaNs produced”\n"
     ]
    }
   ],
   "source": [
    "load('../data/ls_path.RData')\n",
    "load('../data/korg.RData')\n",
    "kegg_es = path_enrichmentscore(met_path,sig_metabolite_kegg_id=sig_metabolite_kegg_id,ls_path=ls_path,refmet_class=refmet_class,sps='hsa',padj='BH', kegg_comp_path=FALSE)"
   ]
  },
  {
   "cell_type": "code",
   "execution_count": 19,
   "metadata": {},
   "outputs": [
    {
     "data": {
      "text/html": [
       "<table class=\"dataframe\">\n",
       "<caption>A data.frame: 1 × 5</caption>\n",
       "<thead>\n",
       "\t<tr><th></th><th scope=col>Pathway name</th><th scope=col>No.of mets in study</th><th scope=col>Total_no._of_comps_in_pathway</th><th scope=col>pathway_HG p-value</th><th scope=col>Padjust</th></tr>\n",
       "\t<tr><th></th><th scope=col>&lt;fct&gt;</th><th scope=col>&lt;int&gt;</th><th scope=col>&lt;int&gt;</th><th scope=col>&lt;dbl&gt;</th><th scope=col>&lt;dbl&gt;</th></tr>\n",
       "</thead>\n",
       "<tbody>\n",
       "\t<tr><th scope=row>1</th><td>Arachidonic acid metabolism</td><td>1</td><td>79</td><td>NaN</td><td>NaN</td></tr>\n",
       "</tbody>\n",
       "</table>\n"
      ],
      "text/latex": [
       "A data.frame: 1 × 5\n",
       "\\begin{tabular}{r|lllll}\n",
       "  & Pathway name & No.of mets in study & Total\\_no.\\_of\\_comps\\_in\\_pathway & pathway\\_HG p-value & Padjust\\\\\n",
       "  & <fct> & <int> & <int> & <dbl> & <dbl>\\\\\n",
       "\\hline\n",
       "\t1 & Arachidonic acid metabolism & 1 & 79 & NaN & NaN\\\\\n",
       "\\end{tabular}\n"
      ],
      "text/markdown": [
       "\n",
       "A data.frame: 1 × 5\n",
       "\n",
       "| <!--/--> | Pathway name &lt;fct&gt; | No.of mets in study &lt;int&gt; | Total_no._of_comps_in_pathway &lt;int&gt; | pathway_HG p-value &lt;dbl&gt; | Padjust &lt;dbl&gt; |\n",
       "|---|---|---|---|---|---|\n",
       "| 1 | Arachidonic acid metabolism | 1 | 79 | NaN | NaN |\n",
       "\n"
      ],
      "text/plain": [
       "  Pathway name                No.of mets in study Total_no._of_comps_in_pathway\n",
       "1 Arachidonic acid metabolism 1                   79                           \n",
       "  pathway_HG p-value Padjust\n",
       "1 NaN                NaN    "
      ]
     },
     "metadata": {},
     "output_type": "display_data"
    }
   ],
   "source": [
    "head(kegg_es)"
   ]
  },
  {
   "cell_type": "markdown",
   "metadata": {},
   "source": [
    "### Plot pathway network\n",
    "Only plotting significant pathways (pathway with p-value significance).\n",
    "\n",
    "The pathway network is such that it shows metabolites that are connected to different pathways and same metabolite in different pathway. Color of nodes of metabolites are according to the fold change of metabolites (low expression in green and high in red) and size of pathway nodes (square nodes) are according to the number of branches (meaning no of metabolites). All metabolite are written in blue"
   ]
  },
  {
   "cell_type": "code",
   "execution_count": 20,
   "metadata": {},
   "outputs": [
    {
     "data": {
      "image/png": "[encoded data removed]",
      "text/plain": [
       "plot without title"
      ]
     },
     "metadata": {
      "image/png": {
       "height": 420,
       "width": 420
      }
     },
     "output_type": "display_data"
    }
   ],
   "source": [
    "plot_pathway_networks (met_path,kegg_es, TRUE)"
   ]
  },
  {
   "cell_type": "markdown",
   "metadata": {},
   "source": [
    "### Heatmap"
   ]
  },
  {
   "cell_type": "code",
   "execution_count": 21,
   "metadata": {},
   "outputs": [
    {
     "data": {
      "image/png": "[encoded data removed]",
      "text/plain": [
       "plot without title"
      ]
     },
     "metadata": {
      "image/png": {
       "height": 420,
       "width": 420
      }
     },
     "output_type": "display_data"
    }
   ],
   "source": [
    "plot_heatmap(met_path, shorten_name=TRUE,refmet_name=FALSE, xaxis=8, yaxis=6)"
   ]
  },
  {
   "cell_type": "markdown",
   "metadata": {},
   "source": [
    "### Dotplot"
   ]
  },
  {
   "cell_type": "code",
   "execution_count": 22,
   "metadata": {},
   "outputs": [
    {
     "name": "stderr",
     "output_type": "stream",
     "text": [
      "Warning message:\n",
      "“\u001b[1m\u001b[22mUse of `significant_pathways[[\"pathway_HG p-value\"]]` is discouraged.\n",
      "\u001b[36mℹ\u001b[39m Use `.data[[\"pathway_HG p-value\"]]` instead.”\n"
     ]
    },
    {
     "data": {
      "image/png": "[encoded data removed]",
      "text/plain": [
       "plot without title"
      ]
     },
     "metadata": {
      "image/png": {
       "height": 420,
       "width": 420
      }
     },
     "output_type": "display_data"
    }
   ],
   "source": [
    "\n",
    "dotplot_met_class_path (met_path, kegg_es,\"sub_class\",xaxis=8,yaxis=6)"
   ]
  },
  {
   "cell_type": "markdown",
   "metadata": {},
   "source": [
    "### Get the gene and enzyme info\n",
    "\n",
    "Here we get the information of genes involved in enriched pathways for specified organism"
   ]
  },
  {
   "cell_type": "code",
   "execution_count": 23,
   "metadata": {},
   "outputs": [
    {
     "data": {
      "text/html": [
       "<table class=\"dataframe\">\n",
       "<caption>A data.frame: 3 × 17</caption>\n",
       "<thead>\n",
       "\t<tr><th></th><th scope=col>orthology_id</th><th scope=col>ORTHOLOGY</th><th scope=col>gene_id</th><th scope=col>gene_name</th><th scope=col>ORGANISM</th><th scope=col>PATHWAY</th><th scope=col>DBLINKS</th><th scope=col>MOTIF</th><th scope=col>rxn</th><th scope=col>Metabolite</th><th scope=col>KEGG ID</th><th scope=col>sub_class</th><th scope=col>Rxn_name</th><th scope=col>RCLASS</th><th scope=col>EQUATION</th><th scope=col>EQUATION_more</th><th scope=col>ENZYME</th></tr>\n",
       "\t<tr><th></th><th scope=col>&lt;chr&gt;</th><th scope=col>&lt;chr&gt;</th><th scope=col>&lt;named list&gt;</th><th scope=col>&lt;named list&gt;</th><th scope=col>&lt;named list&gt;</th><th scope=col>&lt;named list&gt;</th><th scope=col>&lt;named list&gt;</th><th scope=col>&lt;named list&gt;</th><th scope=col>&lt;chr&gt;</th><th scope=col>&lt;chr&gt;</th><th scope=col>&lt;chr&gt;</th><th scope=col>&lt;chr&gt;</th><th scope=col>&lt;named list&gt;</th><th scope=col>&lt;named list&gt;</th><th scope=col>&lt;named list&gt;</th><th scope=col>&lt;named list&gt;</th><th scope=col>&lt;named list&gt;</th></tr>\n",
       "</thead>\n",
       "<tbody>\n",
       "\t<tr><th scope=row>1</th><td>K07418</td><td>cytochrome P450 family 2 subfamily J [EC:1.14.14.1 1.14.14.73 1.14.14.74 1.14.14.75]</td><td>1573</td><td>(RefSeq)....</td><td>Homo sap....</td><td>Arachido....</td><td>NCBI-Gen....</td><td>  Pfam: p450</td><td>R07052</td><td>5,6-EET</td><td>C14768</td><td>EpETrE</td><td>            </td><td>RC00001 ....</td><td>C00219 +....</td><td>Arachido....</td><td>1.14.14.....</td></tr>\n",
       "\t<tr><th scope=row>2</th><td>K08726</td><td>soluble epoxide hydrolase / lipid-phosphate phosphatase [EC:3.3.2.10 3.1.3.76]      </td><td>2053</td><td>(RefSeq)....</td><td>Homo sap....</td><td>Arachido....</td><td>NCBI-Gen....</td><td>Pfam: Ab....</td><td>R07111</td><td>5,6-EET</td><td>C14768</td><td>EpETrE</td><td>5,6-EET ....</td><td>RC01757 ....</td><td>C14768 +....</td><td>5,6-EET ....</td><td>    3.3.2.10</td></tr>\n",
       "\t<tr><th scope=row>3</th><td>K17709</td><td>cytochrome P450 family 2 subfamily B6 [EC:1.14.14.-]                                </td><td>1555</td><td>(RefSeq)....</td><td>Homo sap....</td><td>Arachido....</td><td>NCBI-Gen....</td><td>Pfam: p4....</td><td>R07052</td><td>5,6-EET</td><td>C14768</td><td>EpETrE</td><td>            </td><td>RC00001 ....</td><td>C00219 +....</td><td>Arachido....</td><td>1.14.14.....</td></tr>\n",
       "</tbody>\n",
       "</table>\n"
      ],
      "text/latex": [
       "A data.frame: 3 × 17\n",
       "\\begin{tabular}{r|lllllllllllllllll}\n",
       "  & orthology\\_id & ORTHOLOGY & gene\\_id & gene\\_name & ORGANISM & PATHWAY & DBLINKS & MOTIF & rxn & Metabolite & KEGG ID & sub\\_class & Rxn\\_name & RCLASS & EQUATION & EQUATION\\_more & ENZYME\\\\\n",
       "  & <chr> & <chr> & <named list> & <named list> & <named list> & <named list> & <named list> & <named list> & <chr> & <chr> & <chr> & <chr> & <named list> & <named list> & <named list> & <named list> & <named list>\\\\\n",
       "\\hline\n",
       "\t1 & K07418 & cytochrome P450 family 2 subfamily J {[}EC:1.14.14.1 1.14.14.73 1.14.14.74 1.14.14.75{]} & 1573 & (RefSeq).... & Homo sap.... & Arachido.... & NCBI-Gen.... &   Pfam: p450 & R07052 & 5,6-EET & C14768 & EpETrE &              & RC00001 .... & C00219 +.... & Arachido.... & 1.14.14.....\\\\\n",
       "\t2 & K08726 & soluble epoxide hydrolase / lipid-phosphate phosphatase {[}EC:3.3.2.10 3.1.3.76{]}       & 2053 & (RefSeq).... & Homo sap.... & Arachido.... & NCBI-Gen.... & Pfam: Ab.... & R07111 & 5,6-EET & C14768 & EpETrE & 5,6-EET .... & RC01757 .... & C14768 +.... & 5,6-EET .... &     3.3.2.10\\\\\n",
       "\t3 & K17709 & cytochrome P450 family 2 subfamily B6 {[}EC:1.14.14.-{]}                                 & 1555 & (RefSeq).... & Homo sap.... & Arachido.... & NCBI-Gen.... & Pfam: p4.... & R07052 & 5,6-EET & C14768 & EpETrE &              & RC00001 .... & C00219 +.... & Arachido.... & 1.14.14.....\\\\\n",
       "\\end{tabular}\n"
      ],
      "text/markdown": [
       "\n",
       "A data.frame: 3 × 17\n",
       "\n",
       "| <!--/--> | orthology_id &lt;chr&gt; | ORTHOLOGY &lt;chr&gt; | gene_id &lt;named list&gt; | gene_name &lt;named list&gt; | ORGANISM &lt;named list&gt; | PATHWAY &lt;named list&gt; | DBLINKS &lt;named list&gt; | MOTIF &lt;named list&gt; | rxn &lt;chr&gt; | Metabolite &lt;chr&gt; | KEGG ID &lt;chr&gt; | sub_class &lt;chr&gt; | Rxn_name &lt;named list&gt; | RCLASS &lt;named list&gt; | EQUATION &lt;named list&gt; | EQUATION_more &lt;named list&gt; | ENZYME &lt;named list&gt; |\n",
       "|---|---|---|---|---|---|---|---|---|---|---|---|---|---|---|---|---|---|\n",
       "| 1 | K07418 | cytochrome P450 family 2 subfamily J [EC:1.14.14.1 1.14.14.73 1.14.14.74 1.14.14.75] | 1573 | (RefSeq).... | Homo sap.... | Arachido.... | NCBI-Gen.... |   Pfam: p450 | R07052 | 5,6-EET | C14768 | EpETrE | <!----> | RC00001 .... | C00219 +.... | Arachido.... | 1.14.14..... |\n",
       "| 2 | K08726 | soluble epoxide hydrolase / lipid-phosphate phosphatase [EC:3.3.2.10 3.1.3.76]       | 2053 | (RefSeq).... | Homo sap.... | Arachido.... | NCBI-Gen.... | Pfam: Ab.... | R07111 | 5,6-EET | C14768 | EpETrE | 5,6-EET .... | RC01757 .... | C14768 +.... | 5,6-EET .... |     3.3.2.10 |\n",
       "| 3 | K17709 | cytochrome P450 family 2 subfamily B6 [EC:1.14.14.-]                                 | 1555 | (RefSeq).... | Homo sap.... | Arachido.... | NCBI-Gen.... | Pfam: p4.... | R07052 | 5,6-EET | C14768 | EpETrE | <!----> | RC00001 .... | C00219 +.... | Arachido.... | 1.14.14..... |\n",
       "\n"
      ],
      "text/plain": [
       "  orthology_id\n",
       "1 K07418      \n",
       "2 K08726      \n",
       "3 K17709      \n",
       "  ORTHOLOGY                                                                           \n",
       "1 cytochrome P450 family 2 subfamily J [EC:1.14.14.1 1.14.14.73 1.14.14.74 1.14.14.75]\n",
       "2 soluble epoxide hydrolase / lipid-phosphate phosphatase [EC:3.3.2.10 3.1.3.76]      \n",
       "3 cytochrome P450 family 2 subfamily B6 [EC:1.14.14.-]                                \n",
       "  gene_id gene_name    ORGANISM     PATHWAY      DBLINKS      MOTIF       \n",
       "1 1573    (RefSeq).... Homo sap.... Arachido.... NCBI-Gen....   Pfam: p450\n",
       "2 2053    (RefSeq).... Homo sap.... Arachido.... NCBI-Gen.... Pfam: Ab....\n",
       "3 1555    (RefSeq).... Homo sap.... Arachido.... NCBI-Gen.... Pfam: p4....\n",
       "  rxn    Metabolite KEGG ID sub_class Rxn_name     RCLASS       EQUATION    \n",
       "1 R07052 5,6-EET    C14768  EpETrE                 RC00001 .... C00219 +....\n",
       "2 R07111 5,6-EET    C14768  EpETrE    5,6-EET .... RC01757 .... C14768 +....\n",
       "3 R07052 5,6-EET    C14768  EpETrE                 RC00001 .... C00219 +....\n",
       "  EQUATION_more ENZYME      \n",
       "1 Arachido....  1.14.14.....\n",
       "2 5,6-EET ....      3.3.2.10\n",
       "3 Arachido....  1.14.14....."
      ]
     },
     "metadata": {},
     "output_type": "display_data"
    }
   ],
   "source": [
    "met_gene_info = enzyme_gene_info (metenrichment, \"hsa\",\"sub_class\")\n",
    "head(met_gene_info)"
   ]
  },
  {
   "cell_type": "markdown",
   "metadata": {},
   "source": [
    "#### Get the information if metabolite is a reactant or substrate"
   ]
  },
  {
   "cell_type": "code",
   "execution_count": 24,
   "metadata": {},
   "outputs": [
    {
     "data": {
      "text/html": [
       "<table class=\"dataframe\">\n",
       "<caption>A data.frame: 3 × 18</caption>\n",
       "<thead>\n",
       "\t<tr><th></th><th scope=col>orthology_id</th><th scope=col>ORTHOLOGY</th><th scope=col>gene_id</th><th scope=col>gene_name</th><th scope=col>ORGANISM</th><th scope=col>PATHWAY</th><th scope=col>DBLINKS</th><th scope=col>MOTIF</th><th scope=col>rxn</th><th scope=col>Metabolite</th><th scope=col>KEGG ID</th><th scope=col>sub_class</th><th scope=col>Rxn_name</th><th scope=col>RCLASS</th><th scope=col>EQUATION</th><th scope=col>EQUATION_more</th><th scope=col>ENZYME</th><th scope=col>reactant_product</th></tr>\n",
       "\t<tr><th></th><th scope=col>&lt;chr&gt;</th><th scope=col>&lt;chr&gt;</th><th scope=col>&lt;named list&gt;</th><th scope=col>&lt;named list&gt;</th><th scope=col>&lt;named list&gt;</th><th scope=col>&lt;named list&gt;</th><th scope=col>&lt;named list&gt;</th><th scope=col>&lt;named list&gt;</th><th scope=col>&lt;chr&gt;</th><th scope=col>&lt;chr&gt;</th><th scope=col>&lt;chr&gt;</th><th scope=col>&lt;chr&gt;</th><th scope=col>&lt;named list&gt;</th><th scope=col>&lt;named list&gt;</th><th scope=col>&lt;named list&gt;</th><th scope=col>&lt;named list&gt;</th><th scope=col>&lt;named list&gt;</th><th scope=col>&lt;chr&gt;</th></tr>\n",
       "</thead>\n",
       "<tbody>\n",
       "\t<tr><th scope=row>1</th><td>K07418</td><td>cytochrome P450 family 2 subfamily J [EC:1.14.14.1 1.14.14.73 1.14.14.74 1.14.14.75]</td><td>1573</td><td>(RefSeq)....</td><td>Homo sap....</td><td>Arachido....</td><td>NCBI-Gen....</td><td>  Pfam: p450</td><td>R07052</td><td>5,6-EET</td><td>C14768</td><td>EpETrE</td><td>            </td><td>RC00001 ....</td><td>C00219 +....</td><td>Arachido....</td><td>1.14.14.....</td><td>Product  </td></tr>\n",
       "\t<tr><th scope=row>2</th><td>K08726</td><td>soluble epoxide hydrolase / lipid-phosphate phosphatase [EC:3.3.2.10 3.1.3.76]      </td><td>2053</td><td>(RefSeq)....</td><td>Homo sap....</td><td>Arachido....</td><td>NCBI-Gen....</td><td>Pfam: Ab....</td><td>R07111</td><td>5,6-EET</td><td>C14768</td><td>EpETrE</td><td>5,6-EET ....</td><td>RC01757 ....</td><td>C14768 +....</td><td>5,6-EET ....</td><td>    3.3.2.10</td><td>Substrate</td></tr>\n",
       "\t<tr><th scope=row>3</th><td>K17709</td><td>cytochrome P450 family 2 subfamily B6 [EC:1.14.14.-]                                </td><td>1555</td><td>(RefSeq)....</td><td>Homo sap....</td><td>Arachido....</td><td>NCBI-Gen....</td><td>Pfam: p4....</td><td>R07052</td><td>5,6-EET</td><td>C14768</td><td>EpETrE</td><td>            </td><td>RC00001 ....</td><td>C00219 +....</td><td>Arachido....</td><td>1.14.14.....</td><td>Product  </td></tr>\n",
       "</tbody>\n",
       "</table>\n"
      ],
      "text/latex": [
       "A data.frame: 3 × 18\n",
       "\\begin{tabular}{r|llllllllllllllllll}\n",
       "  & orthology\\_id & ORTHOLOGY & gene\\_id & gene\\_name & ORGANISM & PATHWAY & DBLINKS & MOTIF & rxn & Metabolite & KEGG ID & sub\\_class & Rxn\\_name & RCLASS & EQUATION & EQUATION\\_more & ENZYME & reactant\\_product\\\\\n",
       "  & <chr> & <chr> & <named list> & <named list> & <named list> & <named list> & <named list> & <named list> & <chr> & <chr> & <chr> & <chr> & <named list> & <named list> & <named list> & <named list> & <named list> & <chr>\\\\\n",
       "\\hline\n",
       "\t1 & K07418 & cytochrome P450 family 2 subfamily J {[}EC:1.14.14.1 1.14.14.73 1.14.14.74 1.14.14.75{]} & 1573 & (RefSeq).... & Homo sap.... & Arachido.... & NCBI-Gen.... &   Pfam: p450 & R07052 & 5,6-EET & C14768 & EpETrE &              & RC00001 .... & C00219 +.... & Arachido.... & 1.14.14..... & Product  \\\\\n",
       "\t2 & K08726 & soluble epoxide hydrolase / lipid-phosphate phosphatase {[}EC:3.3.2.10 3.1.3.76{]}       & 2053 & (RefSeq).... & Homo sap.... & Arachido.... & NCBI-Gen.... & Pfam: Ab.... & R07111 & 5,6-EET & C14768 & EpETrE & 5,6-EET .... & RC01757 .... & C14768 +.... & 5,6-EET .... &     3.3.2.10 & Substrate\\\\\n",
       "\t3 & K17709 & cytochrome P450 family 2 subfamily B6 {[}EC:1.14.14.-{]}                                 & 1555 & (RefSeq).... & Homo sap.... & Arachido.... & NCBI-Gen.... & Pfam: p4.... & R07052 & 5,6-EET & C14768 & EpETrE &              & RC00001 .... & C00219 +.... & Arachido.... & 1.14.14..... & Product  \\\\\n",
       "\\end{tabular}\n"
      ],
      "text/markdown": [
       "\n",
       "A data.frame: 3 × 18\n",
       "\n",
       "| <!--/--> | orthology_id &lt;chr&gt; | ORTHOLOGY &lt;chr&gt; | gene_id &lt;named list&gt; | gene_name &lt;named list&gt; | ORGANISM &lt;named list&gt; | PATHWAY &lt;named list&gt; | DBLINKS &lt;named list&gt; | MOTIF &lt;named list&gt; | rxn &lt;chr&gt; | Metabolite &lt;chr&gt; | KEGG ID &lt;chr&gt; | sub_class &lt;chr&gt; | Rxn_name &lt;named list&gt; | RCLASS &lt;named list&gt; | EQUATION &lt;named list&gt; | EQUATION_more &lt;named list&gt; | ENZYME &lt;named list&gt; | reactant_product &lt;chr&gt; |\n",
       "|---|---|---|---|---|---|---|---|---|---|---|---|---|---|---|---|---|---|---|\n",
       "| 1 | K07418 | cytochrome P450 family 2 subfamily J [EC:1.14.14.1 1.14.14.73 1.14.14.74 1.14.14.75] | 1573 | (RefSeq).... | Homo sap.... | Arachido.... | NCBI-Gen.... |   Pfam: p450 | R07052 | 5,6-EET | C14768 | EpETrE | <!----> | RC00001 .... | C00219 +.... | Arachido.... | 1.14.14..... | Product   |\n",
       "| 2 | K08726 | soluble epoxide hydrolase / lipid-phosphate phosphatase [EC:3.3.2.10 3.1.3.76]       | 2053 | (RefSeq).... | Homo sap.... | Arachido.... | NCBI-Gen.... | Pfam: Ab.... | R07111 | 5,6-EET | C14768 | EpETrE | 5,6-EET .... | RC01757 .... | C14768 +.... | 5,6-EET .... |     3.3.2.10 | Substrate |\n",
       "| 3 | K17709 | cytochrome P450 family 2 subfamily B6 [EC:1.14.14.-]                                 | 1555 | (RefSeq).... | Homo sap.... | Arachido.... | NCBI-Gen.... | Pfam: p4.... | R07052 | 5,6-EET | C14768 | EpETrE | <!----> | RC00001 .... | C00219 +.... | Arachido.... | 1.14.14..... | Product   |\n",
       "\n"
      ],
      "text/plain": [
       "  orthology_id\n",
       "1 K07418      \n",
       "2 K08726      \n",
       "3 K17709      \n",
       "  ORTHOLOGY                                                                           \n",
       "1 cytochrome P450 family 2 subfamily J [EC:1.14.14.1 1.14.14.73 1.14.14.74 1.14.14.75]\n",
       "2 soluble epoxide hydrolase / lipid-phosphate phosphatase [EC:3.3.2.10 3.1.3.76]      \n",
       "3 cytochrome P450 family 2 subfamily B6 [EC:1.14.14.-]                                \n",
       "  gene_id gene_name    ORGANISM     PATHWAY      DBLINKS      MOTIF       \n",
       "1 1573    (RefSeq).... Homo sap.... Arachido.... NCBI-Gen....   Pfam: p450\n",
       "2 2053    (RefSeq).... Homo sap.... Arachido.... NCBI-Gen.... Pfam: Ab....\n",
       "3 1555    (RefSeq).... Homo sap.... Arachido.... NCBI-Gen.... Pfam: p4....\n",
       "  rxn    Metabolite KEGG ID sub_class Rxn_name     RCLASS       EQUATION    \n",
       "1 R07052 5,6-EET    C14768  EpETrE                 RC00001 .... C00219 +....\n",
       "2 R07111 5,6-EET    C14768  EpETrE    5,6-EET .... RC01757 .... C14768 +....\n",
       "3 R07052 5,6-EET    C14768  EpETrE                 RC00001 .... C00219 +....\n",
       "  EQUATION_more ENZYME       reactant_product\n",
       "1 Arachido....  1.14.14..... Product         \n",
       "2 5,6-EET ....      3.3.2.10 Substrate       \n",
       "3 Arachido....  1.14.14..... Product         "
      ]
     },
     "metadata": {},
     "output_type": "display_data"
    }
   ],
   "source": [
    "rclass_info = react_substrate(met_gene_info)\n",
    "head(rclass_info)"
   ]
  },
  {
   "cell_type": "markdown",
   "metadata": {},
   "source": [
    "#### Get gene info in short form"
   ]
  },
  {
   "cell_type": "code",
   "execution_count": 25,
   "metadata": {},
   "outputs": [],
   "source": [
    "met_gene_info2=data.table::data.table(rclass_info)[,lapply(.SD, function(x) toString(unique(x))), by = 'Metabolite']"
   ]
  },
  {
   "cell_type": "code",
   "execution_count": null,
   "metadata": {},
   "outputs": [],
   "source": []
  }
 ],
 "metadata": {
  "kernelspec": {
   "display_name": "R",
   "language": "R",
   "name": "ir"
  },
  "language_info": {
   "codemirror_mode": "r",
   "file_extension": ".r",
   "mimetype": "text/x-r-source",
   "name": "R",
   "pygments_lexer": "r",
   "version": "4.3.3"
  }
 },
 "nbformat": 4,
 "nbformat_minor": 2
}

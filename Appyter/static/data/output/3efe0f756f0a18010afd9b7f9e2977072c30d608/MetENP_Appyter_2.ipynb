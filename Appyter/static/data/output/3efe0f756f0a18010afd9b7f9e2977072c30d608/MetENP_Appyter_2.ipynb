{
 "cells": [
  {
   "cell_type": "markdown",
   "id": "institutional-dispute",
   "metadata": {},
   "source": [
    "### Load all necessary packages"
   ]
  },
  {
   "cell_type": "code",
   "execution_count": 1,
   "id": "liquid-timber",
   "metadata": {
    "execution": {
     "iopub.execute_input": "2021-03-27T00:34:19.122840Z",
     "iopub.status.busy": "2021-03-27T00:34:19.119235Z",
     "iopub.status.idle": "2021-03-27T00:34:31.440063Z",
     "shell.execute_reply": "2021-03-27T00:34:31.441253Z"
    }
   },
   "outputs": [
    {
     "data": {
      "text/plain": [
       "''"
      ]
     },
     "execution_count": 1,
     "metadata": {},
     "output_type": "execute_result"
    }
   ],
   "source": [
    "import rpy2\n",
    "import rpy2.robjects as robjects\n",
    "import rpy2.robjects.packages as rpackages\n",
    "\n",
    "from rpy2.robjects import numpy2ri, pandas2ri\n",
    "\n",
    "import rpy2.ipython.html\n",
    "rpy2.ipython.html.init_printing()\n",
    "\n",
    "import rpy2.robjects.lib.ggplot2 as gp\n",
    "from rpy2.ipython.ggplot import image_png\n",
    "\n",
    "from rpy2.rinterface_lib import openrlib\n",
    "\n",
    "robjects.r('''\n",
    "\n",
    "library(MetENP)\n",
    "\n",
    "''')\n",
    ";"
   ]
  },
  {
   "cell_type": "markdown",
   "id": "related-undergraduate",
   "metadata": {},
   "source": [
    "### Start data processing"
   ]
  },
  {
   "cell_type": "code",
   "execution_count": 2,
   "id": "vital-brave",
   "metadata": {
    "execution": {
     "iopub.execute_input": "2021-03-27T00:34:31.453913Z",
     "iopub.status.busy": "2021-03-27T00:34:31.451294Z",
     "iopub.status.idle": "2021-03-27T00:34:47.465784Z",
     "shell.execute_reply": "2021-03-27T00:34:47.466768Z"
    }
   },
   "outputs": [],
   "source": [
    "data_1 = robjects.r['getmwstudies']('ST000915', \n",
    "    'data'\n",
    ")"
   ]
  },
  {
   "cell_type": "code",
   "execution_count": 3,
   "id": "overall-symphony",
   "metadata": {
    "execution": {
     "iopub.execute_input": "2021-03-27T00:34:47.489947Z",
     "iopub.status.busy": "2021-03-27T00:34:47.487685Z",
     "iopub.status.idle": "2021-03-27T00:34:47.716887Z",
     "shell.execute_reply": "2021-03-27T00:34:47.717746Z"
    }
   },
   "outputs": [],
   "source": [
    "with openrlib.rlock:\n",
    "    \n",
    "    robjects.r.assign('data_1', data_1)\n",
    "    \n",
    "    robjects.r('''\n",
    "\n",
    "    data_1_print = data.frame(apply(data_1, c(1,2), function(x){unlist(x, TRUE, TRUE)}))\n",
    "    head(data_1_print)\n",
    "\n",
    "    ''')\n",
    "    \n",
    "    pass"
   ]
  },
  {
   "cell_type": "code",
   "execution_count": 4,
   "id": "naval-newport",
   "metadata": {
    "execution": {
     "iopub.execute_input": "2021-03-27T00:34:47.726759Z",
     "iopub.status.busy": "2021-03-27T00:34:47.723823Z",
     "iopub.status.idle": "2021-03-27T00:34:47.786059Z",
     "shell.execute_reply": "2021-03-27T00:34:47.787077Z"
    }
   },
   "outputs": [],
   "source": [
    "metadata = robjects.r['getmwstudies']('ST000915', \n",
    "    'factors'\n",
    ")"
   ]
  },
  {
   "cell_type": "code",
   "execution_count": 5,
   "id": "satisfied-preliminary",
   "metadata": {
    "execution": {
     "iopub.execute_input": "2021-03-27T00:34:47.796210Z",
     "iopub.status.busy": "2021-03-27T00:34:47.793825Z",
     "iopub.status.idle": "2021-03-27T00:34:47.819920Z",
     "shell.execute_reply": "2021-03-27T00:34:47.820565Z"
    }
   },
   "outputs": [
    {
     "data": {
      "text/html": [
       "\n",
       "<emph>DataFrame</emph> with 6 rows and\n",
       "  5 columns:\n",
       "<table class=\"rpy2_table\">\n",
       "  <thead>\n",
       "    <tr class=\"rpy2_names\">\n",
       "      <th></th>\n",
       "      <th></th>\n",
       "      <th>study_id</th>\n",
       "      <th>local_sample_id</th>\n",
       "      <th>subject_type</th>\n",
       "      <th>factors</th>\n",
       "      <th>Diagnosis</th>\n",
       "    </tr>\n",
       "  </thead>\n",
       "  <tbody>\n",
       "    <tr>\n",
       "      <td class=\"rpy2_rowname\">0</td>\n",
       "        <td class=\"rpy2_names\">1</td>\n",
       "      <td>ST000915</td>\n",
       "      <td>NASH005</td>\n",
       "      <td>Human clinical study</td>\n",
       "      <td>Diagnosis:Cirrhosis</td>\n",
       "      <td>Cirrhosis</td>\n",
       "    </tr>\n",
       "    <tr>\n",
       "      <td class=\"rpy2_rowname\">1</td>\n",
       "        <td class=\"rpy2_names\">2</td>\n",
       "      <td>ST000915</td>\n",
       "      <td>NASH007</td>\n",
       "      <td>Human clinical study</td>\n",
       "      <td>Diagnosis:Cirrhosis</td>\n",
       "      <td>Cirrhosis</td>\n",
       "    </tr>\n",
       "    <tr>\n",
       "      <td class=\"rpy2_rowname\">2</td>\n",
       "        <td class=\"rpy2_names\">3</td>\n",
       "      <td>ST000915</td>\n",
       "      <td>NASH009</td>\n",
       "      <td>Human clinical study</td>\n",
       "      <td>Diagnosis:Cirrhosis</td>\n",
       "      <td>Cirrhosis</td>\n",
       "    </tr>\n",
       "    <tr>\n",
       "      <td class=\"rpy2_rowname\">3</td>\n",
       "        <td class=\"rpy2_names\">4</td>\n",
       "      <td>ST000915</td>\n",
       "      <td>NASH013</td>\n",
       "      <td>Human clinical study</td>\n",
       "      <td>Diagnosis:Cirrhosis</td>\n",
       "      <td>Cirrhosis</td>\n",
       "    </tr>\n",
       "    <tr>\n",
       "      <td class=\"rpy2_rowname\">4</td>\n",
       "        <td class=\"rpy2_names\">5</td>\n",
       "      <td>ST000915</td>\n",
       "      <td>NASH016</td>\n",
       "      <td>Human clinical study</td>\n",
       "      <td>Diagnosis:Cirrhosis</td>\n",
       "      <td>Cirrhosis</td>\n",
       "    </tr>\n",
       "    <tr>\n",
       "      <td class=\"rpy2_rowname\">5</td>\n",
       "        <td class=\"rpy2_names\">6</td>\n",
       "      <td>ST000915</td>\n",
       "      <td>NASH022</td>\n",
       "      <td>Human clinical study</td>\n",
       "      <td>Diagnosis:Cirrhosis</td>\n",
       "      <td>Cirrhosis</td>\n",
       "    </tr>\n",
       "  </tbody>\n",
       "</table>"
      ],
      "text/plain": [
       "<rpy2.robjects.vectors.DataFrame object at 0x7feeda318600> [RTYPES.VECSXP]\n",
       "R classes: ('data.frame',)\n",
       "[StrSexp..., StrSexp..., StrSexp..., StrSexp..., StrSexp...]\n",
       "  study_id: <class 'rpy2.rinterface_lib.sexp.StrSexpVector'>\n",
       "  <rpy2.rinterface_lib.sexp.StrSexpVector object at 0x7feeda318140> [RTYPES.STRSXP]\n",
       "  local_sample_id: <class 'rpy2.rinterface_lib.sexp.StrSexpVector'>\n",
       "  <rpy2.rinterface_lib.sexp.StrSexpVector object at 0x7feeda304380> [RTYPES.STRSXP]\n",
       "  subject_type: <class 'rpy2.rinterface_lib.sexp.StrSexpVector'>\n",
       "  <rpy2.rinterface_lib.sexp.StrSexpVector object at 0x7feeda304200> [RTYPES.STRSXP]\n",
       "  factors: <class 'rpy2.rinterface_lib.sexp.StrSexpVector'>\n",
       "  <rpy2.rinterface_lib.sexp.StrSexpVector object at 0x7feeda304d80> [RTYPES.STRSXP]\n",
       "  Diagnosis: <class 'rpy2.rinterface_lib.sexp.StrSexpVector'>\n",
       "  <rpy2.rinterface_lib.sexp.StrSexpVector object at 0x7feeda304b80> [RTYPES.STRSXP]"
      ]
     },
     "execution_count": 5,
     "metadata": {},
     "output_type": "execute_result"
    }
   ],
   "source": [
    "robjects.r.assign('metadata', metadata)\n",
    "\n",
    "robjects.r('''\n",
    "metadata_print = data.frame(apply(metadata, c(1,2), function(x){unlist(x, TRUE, TRUE)}))\n",
    "head(metadata_print)\n",
    "''')"
   ]
  },
  {
   "cell_type": "markdown",
   "id": "alone-consultancy",
   "metadata": {},
   "source": [
    "Find the factors you would want to compare\n",
    "Multiple factors (independent variables) are formatted in multiple columns but you can get information on all the factors by \"factors\" column, such as 'TreatmentGroup:Prednisolone', this indicates column name 'TreatmentGroup' with factor Prednisolone. For t-test use the factors in the same column. For comparing multipe independent variables use anova by anova_ana function."
   ]
  },
  {
   "cell_type": "markdown",
   "id": "tired-sydney",
   "metadata": {},
   "source": [
    "### Associate metabolomics data to the refmet class"
   ]
  },
  {
   "cell_type": "code",
   "execution_count": 6,
   "id": "global-vocabulary",
   "metadata": {
    "execution": {
     "iopub.execute_input": "2021-03-27T00:34:47.833527Z",
     "iopub.status.busy": "2021-03-27T00:34:47.830588Z",
     "iopub.status.idle": "2021-03-27T00:34:57.488238Z",
     "shell.execute_reply": "2021-03-27T00:34:57.488978Z"
    }
   },
   "outputs": [
    {
     "data": {
      "text/html": [
       "\n",
       "<emph>DataFrame</emph> with 6 rows and\n",
       "  97 columns:\n",
       "<table class=\"rpy2_table\">\n",
       "  <thead>\n",
       "    <tr class=\"rpy2_names\">\n",
       "      <th></th>\n",
       "      <th></th>\n",
       "      <th>metabolite_name</th>\n",
       "      <th>analysis_id</th>\n",
       "      <th>analysis_summary</th>\n",
       "      <th>metabolite_id</th>\n",
       "      <th>...</th>\n",
       "      <th>main_class</th>\n",
       "      <th>sub_class</th>\n",
       "    </tr>\n",
       "  </thead>\n",
       "  <tbody>\n",
       "    <tr>\n",
       "      <td class=\"rpy2_rowname\">0</td>\n",
       "        <td class=\"rpy2_names\">1</td>\n",
       "      <td>1,2-DG(30:0)</td>\n",
       "      <td>AN001488</td>\n",
       "      <td>Core E Neutral Lipids</td>\n",
       "      <td>ME231190</td>\n",
       "       <td>...</td>\n",
       "      <td>Diradylglycerols</td>\n",
       "      <td>DAG</td>\n",
       "    </tr>\n",
       "    <tr>\n",
       "      <td class=\"rpy2_rowname\">1</td>\n",
       "        <td class=\"rpy2_names\">2</td>\n",
       "      <td>1,2-DG(30:1)</td>\n",
       "      <td>AN001488</td>\n",
       "      <td>Core E Neutral Lipids</td>\n",
       "      <td>ME231189</td>\n",
       "       <td>...</td>\n",
       "      <td>Diradylglycerols</td>\n",
       "      <td>DAG</td>\n",
       "    </tr>\n",
       "    <tr>\n",
       "      <td class=\"rpy2_rowname\">2</td>\n",
       "        <td class=\"rpy2_names\">3</td>\n",
       "      <td>1,2-DG(32:0)</td>\n",
       "      <td>AN001488</td>\n",
       "      <td>Core E Neutral Lipids</td>\n",
       "      <td>ME231196</td>\n",
       "       <td>...</td>\n",
       "      <td>Diradylglycerols</td>\n",
       "      <td>DAG</td>\n",
       "    </tr>\n",
       "    <tr>\n",
       "      <td class=\"rpy2_rowname\">3</td>\n",
       "        <td class=\"rpy2_names\">4</td>\n",
       "      <td>1,2-DG(32:1)</td>\n",
       "      <td>AN001488</td>\n",
       "      <td>Core E Neutral Lipids</td>\n",
       "      <td>ME231195</td>\n",
       "       <td>...</td>\n",
       "      <td>Diradylglycerols</td>\n",
       "      <td>DAG</td>\n",
       "    </tr>\n",
       "    <tr>\n",
       "      <td class=\"rpy2_rowname\">4</td>\n",
       "        <td class=\"rpy2_names\">5</td>\n",
       "      <td>1,2-DG(32:2)</td>\n",
       "      <td>AN001488</td>\n",
       "      <td>Core E Neutral Lipids</td>\n",
       "      <td>ME231194</td>\n",
       "       <td>...</td>\n",
       "      <td>Diradylglycerols</td>\n",
       "      <td>DAG</td>\n",
       "    </tr>\n",
       "    <tr>\n",
       "      <td class=\"rpy2_rowname\">5</td>\n",
       "        <td class=\"rpy2_names\">6</td>\n",
       "      <td>1,2-DG(32:3)</td>\n",
       "      <td>AN001488</td>\n",
       "      <td>Core E Neutral Lipids</td>\n",
       "      <td>ME231193</td>\n",
       "       <td>...</td>\n",
       "      <td>Diradylglycerols</td>\n",
       "      <td>DAG</td>\n",
       "    </tr>\n",
       "  </tbody>\n",
       "</table>"
      ],
      "text/plain": [
       "<rpy2.robjects.vectors.DataFrame object at 0x7feedda07a80> [RTYPES.VECSXP]\n",
       "R classes: ('data.frame',)\n",
       "[StrSexpVe..., StrSexpVe..., StrSexpVe..., StrSexpVe..., ..., StrSexpVe..., StrSexpVe..., StrSexpVe..., StrSexpVe...]\n",
       "  metabolite_name: <class 'rpy2.robjects.vectors.StrVector'>\n",
       "  <rpy2.robjects.vectors.StrVector object at 0x7feedda07640> [RTYPES.STRSXP]\n",
       "R classes: ('character',)\n",
       "['1,2-..., '1,2-..., '1,2-..., '1,2-..., '1,2-..., '1,2-...]\n",
       "  analysis_id: <class 'rpy2.robjects.vectors.StrVector'>\n",
       "  <rpy2.robjects.vectors.StrVector object at 0x7feeda2fd6c0> [RTYPES.STRSXP]\n",
       "R classes: ('character',)\n",
       "['AN00..., 'AN00..., 'AN00..., 'AN00..., 'AN00..., 'AN00...]\n",
       "  analysis_summary: <class 'rpy2.robjects.vectors.StrVector'>\n",
       "  <rpy2.robjects.vectors.StrVector object at 0x7feeda300f00> [RTYPES.STRSXP]\n",
       "R classes: ('character',)\n",
       "['Core..., 'Core..., 'Core..., 'Core..., 'Core..., 'Core...]\n",
       "  metabolite_id: <class 'rpy2.robjects.vectors.StrVector'>\n",
       "  <rpy2.robjects.vectors.StrVector object at 0x7feeda300b00> [RTYPES.STRSXP]\n",
       "R classes: ('character',)\n",
       "['ME23..., 'ME23..., 'ME23..., 'ME23..., 'ME23..., 'ME23...]\n",
       "...\n",
       "  NASH001: <class 'rpy2.robjects.vectors.StrVector'>\n",
       "  <rpy2.robjects.vectors.StrVector object at 0x7feeda300940> [RTYPES.STRSXP]\n",
       "R classes: ('character',)\n",
       "['C33H..., 'C33H..., 'C35H..., 'C35H..., 'C35H..., 'C35H...]\n",
       "  NASH002: <class 'rpy2.robjects.vectors.StrVector'>\n",
       "  <rpy2.robjects.vectors.StrVector object at 0x7feeda300540> [RTYPES.STRSXP]\n",
       "R classes: ('character',)\n",
       "['Glyc..., 'Glyc..., 'Glyc..., 'Glyc..., 'Glyc..., 'Glyc...]\n",
       "  NASH003: <class 'rpy2.robjects.vectors.StrVector'>\n",
       "  <rpy2.robjects.vectors.StrVector object at 0x7feeda2e9980> [RTYPES.STRSXP]\n",
       "R classes: ('character',)\n",
       "['Dira..., 'Dira..., 'Dira..., 'Dira..., 'Dira..., 'Dira...]\n",
       "  NASH004: <class 'rpy2.robjects.vectors.StrVector'>\n",
       "  <rpy2.robjects.vectors.StrVector object at 0x7feeda304400> [RTYPES.STRSXP]\n",
       "R classes: ('character',)\n",
       "['DAG', 'DAG', 'DAG', 'DAG', 'DAG', 'DAG']"
      ]
     },
     "execution_count": 6,
     "metadata": {},
     "output_type": "execute_result"
    }
   ],
   "source": [
    "refmet_class = robjects.r['convert_refmet'](data_1)\n",
    "\n",
    "robjects.r.assign('refmet_class', refmet_class)\n",
    "\n",
    "robjects.r('''\n",
    "\n",
    "refmet_class_print = data.frame(apply(refmet_class, c(1,2), function(x){unlist(x, TRUE, TRUE)}))\n",
    "head(refmet_class_print)\n",
    "\n",
    "''')"
   ]
  },
  {
   "cell_type": "code",
   "execution_count": 7,
   "id": "owned-parcel",
   "metadata": {
    "execution": {
     "iopub.execute_input": "2021-03-27T00:34:57.508794Z",
     "iopub.status.busy": "2021-03-27T00:34:57.503694Z",
     "iopub.status.idle": "2021-03-27T00:34:57.515506Z",
     "shell.execute_reply": "2021-03-27T00:34:57.511393Z"
    }
   },
   "outputs": [
    {
     "data": {
      "text/html": [
       "\n",
       "<emph>DataFrame</emph> with 4 rows and\n",
       "  1 columns:\n",
       "<table class=\"rpy2_table\">\n",
       "  <thead>\n",
       "    <tr class=\"rpy2_names\">\n",
       "      <th></th>\n",
       "      <th></th>\n",
       "      <th>unique.metadata_print.factors.</th>\n",
       "    </tr>\n",
       "  </thead>\n",
       "  <tbody>\n",
       "    <tr>\n",
       "      <td class=\"rpy2_rowname\">0</td>\n",
       "        <td class=\"rpy2_names\">1</td>\n",
       "      <td>Diagnosis:Cirrhosis</td>\n",
       "    </tr>\n",
       "    <tr>\n",
       "      <td class=\"rpy2_rowname\">1</td>\n",
       "        <td class=\"rpy2_names\">2</td>\n",
       "      <td>Diagnosis:NASH</td>\n",
       "    </tr>\n",
       "    <tr>\n",
       "      <td class=\"rpy2_rowname\">2</td>\n",
       "        <td class=\"rpy2_names\">3</td>\n",
       "      <td>Diagnosis:Normal</td>\n",
       "    </tr>\n",
       "    <tr>\n",
       "      <td class=\"rpy2_rowname\">3</td>\n",
       "        <td class=\"rpy2_names\">4</td>\n",
       "      <td>Diagnosis:Steatosis</td>\n",
       "    </tr>\n",
       "  </tbody>\n",
       "</table>"
      ],
      "text/plain": [
       "<rpy2.robjects.vectors.DataFrame object at 0x7feedda04580> [RTYPES.VECSXP]\n",
       "R classes: ('data.frame',)\n",
       "[StrSexpVector]\n",
       "  unique.metadata_print.factors.: <class 'rpy2.rinterface_lib.sexp.StrSexpVector'>\n",
       "  <rpy2.rinterface_lib.sexp.StrSexpVector object at 0x7feedda04800> [RTYPES.STRSXP]"
      ]
     },
     "execution_count": 7,
     "metadata": {},
     "output_type": "execute_result"
    }
   ],
   "source": [
    "robjects.r('''\n",
    "data.frame(unique(metadata_print$factors))\n",
    "''')"
   ]
  },
  {
   "cell_type": "code",
   "execution_count": 8,
   "id": "exterior-minimum",
   "metadata": {
    "execution": {
     "iopub.execute_input": "2021-03-27T00:34:57.531900Z",
     "iopub.status.busy": "2021-03-27T00:34:57.527905Z",
     "iopub.status.idle": "2021-03-27T00:34:57.547604Z",
     "shell.execute_reply": "2021-03-27T00:34:57.549005Z"
    }
   },
   "outputs": [
    {
     "data": {
      "text/html": [
       "\n",
       "<emph>DataFrame</emph> with 6 rows and\n",
       "  1 columns:\n",
       "<table class=\"rpy2_table\">\n",
       "  <thead>\n",
       "    <tr class=\"rpy2_names\">\n",
       "      <th></th>\n",
       "      <th></th>\n",
       "      <th>unique.data_1_print.analysis_summary.</th>\n",
       "    </tr>\n",
       "  </thead>\n",
       "  <tbody>\n",
       "    <tr>\n",
       "      <td class=\"rpy2_rowname\">0</td>\n",
       "        <td class=\"rpy2_names\">1</td>\n",
       "      <td>Core G Fatty acids/Eicosanoids</td>\n",
       "    </tr>\n",
       "    <tr>\n",
       "      <td class=\"rpy2_rowname\">1</td>\n",
       "        <td class=\"rpy2_names\">2</td>\n",
       "      <td>Core J Sterols</td>\n",
       "    </tr>\n",
       "    <tr>\n",
       "      <td class=\"rpy2_rowname\">2</td>\n",
       "        <td class=\"rpy2_names\">3</td>\n",
       "      <td>Core K Prenols/Cardiolipins</td>\n",
       "    </tr>\n",
       "    <tr>\n",
       "      <td class=\"rpy2_rowname\">3</td>\n",
       "        <td class=\"rpy2_names\">4</td>\n",
       "      <td>Core E Neutral Lipids</td>\n",
       "    </tr>\n",
       "    <tr>\n",
       "      <td class=\"rpy2_rowname\">4</td>\n",
       "        <td class=\"rpy2_names\">5</td>\n",
       "      <td>Core I Sphingolipids</td>\n",
       "    </tr>\n",
       "    <tr>\n",
       "      <td class=\"rpy2_rowname\">5</td>\n",
       "        <td class=\"rpy2_names\">6</td>\n",
       "      <td>Core H Phospholipids</td>\n",
       "    </tr>\n",
       "  </tbody>\n",
       "</table>"
      ],
      "text/plain": [
       "<rpy2.robjects.vectors.DataFrame object at 0x7feedb6a2b80> [RTYPES.VECSXP]\n",
       "R classes: ('data.frame',)\n",
       "[StrSexpVector]\n",
       "  unique.data_1_print.analysis_summary.: <class 'rpy2.rinterface_lib.sexp.StrSexpVector'>\n",
       "  <rpy2.rinterface_lib.sexp.StrSexpVector object at 0x7feedb2b4240> [RTYPES.STRSXP]"
      ]
     },
     "execution_count": 8,
     "metadata": {},
     "output_type": "execute_result"
    }
   ],
   "source": [
    "robjects.r('''\n",
    "data.frame(unique(data_1_print$analysis_summary))\n",
    "''')"
   ]
  },
  {
   "cell_type": "markdown",
   "id": "worthy-consequence",
   "metadata": {},
   "source": [
    "### Find significant metabolites, run significance of all the analysis summary together. The analysis summary/modes you got in the previous section"
   ]
  },
  {
   "cell_type": "markdown",
   "id": "better-journalism",
   "metadata": {},
   "source": [
    "There is a normalization step which takes into account missing values, and this can be achieved via three methods:\n",
    "\n",
    "1) half_of_min: where the NAs are replaced by half of min values in the data\n",
    "\n",
    "2) remove_NAs: where Cols with NAs values are removed\n",
    "\n",
    "3) 50percent: where cols with more than 50% NAs values are removed\n",
    "\n",
    "half_of_min is ideal when you wish to see which metabolites were present in either group. Very high fold change would mean it was present in either group."
   ]
  },
  {
   "cell_type": "code",
   "execution_count": 9,
   "id": "upper-pound",
   "metadata": {
    "execution": {
     "iopub.execute_input": "2021-03-27T00:34:57.573697Z",
     "iopub.status.busy": "2021-03-27T00:34:57.570668Z",
     "iopub.status.idle": "2021-03-27T00:34:57.587326Z",
     "shell.execute_reply": "2021-03-27T00:34:57.588771Z"
    }
   },
   "outputs": [
    {
     "data": {
      "text/html": [
       "\n",
       "<emph>StrVector</emph> with 1 elements:\n",
       "<table class=\"rpy2_table\">\n",
       "<thead>\n",
       "</thead>\n",
       "<tbody>\n",
       "<tr>\n",
       "      <td>0.5</td>\n",
       "</tr>\n",
       "</tbody>\n",
       "</table>"
      ],
      "text/plain": [
       "<rpy2.robjects.vectors.StrVector object at 0x7feed6023880> [RTYPES.STRSXP]\n",
       "R classes: ('character',)\n",
       "['0.5']"
      ]
     },
     "execution_count": 9,
     "metadata": {},
     "output_type": "execute_result"
    }
   ],
   "source": [
    "robjects.r.assign('refmet_class', refmet_class)\n",
    "robjects.r.assign('metcol', 'metabolite_name')\n",
    "robjects.r.assign('fac1', 'Cirrhosis')\n",
    "robjects.r.assign('fac2', 'Normal')\n",
    "robjects.r.assign('faccol', 'Diagnosis')\n",
    "robjects.r.assign('samcol', 'local_sample_id')\n",
    "robjects.r.assign('normtype', ['50percent'])\n",
    "robjects.r.assign('pthres', '0.05')\n",
    "robjects.r.assign('thres_log2foldchangevar', '0.5')"
   ]
  },
  {
   "cell_type": "code",
   "execution_count": 10,
   "id": "broadband-cabin",
   "metadata": {
    "execution": {
     "iopub.execute_input": "2021-03-27T00:34:57.633626Z",
     "iopub.status.busy": "2021-03-27T00:34:57.600339Z",
     "iopub.status.idle": "2021-03-27T00:34:57.675078Z",
     "shell.execute_reply": "2021-03-27T00:34:57.636348Z"
    }
   },
   "outputs": [
    {
     "data": {
      "text/plain": [
       "''"
      ]
     },
     "execution_count": 10,
     "metadata": {},
     "output_type": "execute_result"
    }
   ],
   "source": [
    "robjects.r('''\n",
    "ptreshnum<-as.numeric(pthres)\n",
    "thres_log2foldchangenum<-as.numeric(thres_log2foldchangevar)\n",
    "''')\n",
    ";"
   ]
  },
  {
   "cell_type": "code",
   "execution_count": 11,
   "id": "advised-playing",
   "metadata": {
    "execution": {
     "iopub.execute_input": "2021-03-27T00:34:57.701504Z",
     "iopub.status.busy": "2021-03-27T00:34:57.695178Z",
     "iopub.status.idle": "2021-03-27T00:34:57.725045Z",
     "shell.execute_reply": "2021-03-27T00:34:57.726684Z"
    }
   },
   "outputs": [
    {
     "data": {
      "text/plain": [
       "<rpy2.rinterface_lib.sexp.NULLType object at 0x7feed6109580> [RTYPES.NILSXP]"
      ]
     },
     "execution_count": 11,
     "metadata": {},
     "output_type": "execute_result"
    }
   ],
   "source": [
    "robjects.r.assign('mettit', 'Core G Fatty acids/Eicosanoids, Core J Sterols, Core K Prenols/Cardiolipins, Core E Neutral Lipids')\n",
    "robjects.r('''\n",
    "list_mettit <- strsplit(mettit, ',')\n",
    "list_mettit = unlist(list_mettit, TRUE, TRUE)\n",
    "titles <- list()\n",
    "for(elm in list_mettit) {\n",
    "    elm = trimws(elm)\n",
    "    titles <- c(titles, elm)\n",
    "}\n",
    "''')"
   ]
  },
  {
   "cell_type": "code",
   "execution_count": 12,
   "id": "legendary-check",
   "metadata": {
    "execution": {
     "iopub.execute_input": "2021-03-27T00:34:57.747860Z",
     "iopub.status.busy": "2021-03-27T00:34:57.739438Z",
     "iopub.status.idle": "2021-03-27T00:34:58.610897Z",
     "shell.execute_reply": "2021-03-27T00:34:58.613299Z"
    }
   },
   "outputs": [
    {
     "data": {
      "text/plain": [
       "''"
      ]
     },
     "execution_count": 12,
     "metadata": {},
     "output_type": "execute_result"
    }
   ],
   "source": [
    "#is p adjust ONLY FDR?\n",
    "\n",
    "robjects.r('''\n",
    "stats_metabolites = significant_met(metabolomics_data=refmet_class_print, met_col=metcol,analysis_type=c(titles), metadata=metadata, factor1=fac1, factor2=fac2, factor_col=faccol,sample_col=samcol, p_adjust='fdr',normalization=normtype)\n",
    "''')\n",
    ";"
   ]
  },
  {
   "cell_type": "code",
   "execution_count": 13,
   "id": "physical-passing",
   "metadata": {
    "execution": {
     "iopub.execute_input": "2021-03-27T00:34:58.622271Z",
     "iopub.status.busy": "2021-03-27T00:34:58.620148Z",
     "iopub.status.idle": "2021-03-27T00:34:58.629018Z",
     "shell.execute_reply": "2021-03-27T00:34:58.630432Z"
    }
   },
   "outputs": [
    {
     "data": {
      "text/plain": [
       "''"
      ]
     },
     "execution_count": 13,
     "metadata": {},
     "output_type": "execute_result"
    }
   ],
   "source": [
    "robjects.r('''\n",
    "sig_metabolites = stats_metabolites[which(stats_metabolites[,\"pval\"] <= ptreshnum&abs(stats_metabolites[,\"log2Fold_change\"])>thres_log2foldchangenum),]\n",
    "''')\n",
    ";"
   ]
  },
  {
   "cell_type": "code",
   "execution_count": 14,
   "id": "shared-stocks",
   "metadata": {
    "execution": {
     "iopub.execute_input": "2021-03-27T00:34:58.654151Z",
     "iopub.status.busy": "2021-03-27T00:34:58.651135Z",
     "iopub.status.idle": "2021-03-27T00:35:00.851659Z",
     "shell.execute_reply": "2021-03-27T00:35:00.852994Z"
    }
   },
   "outputs": [
    {
     "data": {
      "image/png": "[encoded data removed]",
      "text/plain": [
       "<IPython.core.display.Image object>"
      ]
     },
     "execution_count": 14,
     "metadata": {},
     "output_type": "execute_result"
    }
   ],
   "source": [
    "image_png(robjects.r('''\n",
    "plot_volcano(stats_metabolites, thres_pval= ptreshnum, thres_log2foldchange = thres_log2foldchangenum, TRUE)\n",
    "'''))"
   ]
  },
  {
   "cell_type": "markdown",
   "id": "whole-arcade",
   "metadata": {},
   "source": [
    "### Map metabolite class of the significant metabolites utilzing refmet classification in Metabolomics Workbench\n",
    "This function not only maps metabolite to metabolite class but also to external databases such as pubchem, inchi key, smiles and kegg\n",
    "\n",
    "In this example, we will go forward with significant metabolite obtained by t-test/"
   ]
  },
  {
   "cell_type": "code",
   "execution_count": 15,
   "id": "ready-simple",
   "metadata": {
    "execution": {
     "iopub.execute_input": "2021-03-27T00:35:00.870340Z",
     "iopub.status.busy": "2021-03-27T00:35:00.864800Z",
     "iopub.status.idle": "2021-03-27T00:35:02.086849Z",
     "shell.execute_reply": "2021-03-27T00:35:02.087799Z"
    }
   },
   "outputs": [],
   "source": [
    "with openrlib.rlock:\n",
    "    robjects.r('''\n",
    "    sig_metabolites_kegg_id= map_keggid(sig_metabolites)\n",
    "    ''')\n",
    "    pass"
   ]
  },
  {
   "cell_type": "markdown",
   "id": "fabulous-filling",
   "metadata": {},
   "source": [
    "#### Check all your significant metabolites have not been assigned metabolite class\n",
    "Outcome should be 0 elements (?)"
   ]
  },
  {
   "cell_type": "code",
   "execution_count": 16,
   "id": "painful-heater",
   "metadata": {
    "execution": {
     "iopub.execute_input": "2021-03-27T00:35:02.097272Z",
     "iopub.status.busy": "2021-03-27T00:35:02.094380Z",
     "iopub.status.idle": "2021-03-27T00:35:02.105372Z",
     "shell.execute_reply": "2021-03-27T00:35:02.103983Z"
    }
   },
   "outputs": [
    {
     "data": {
      "text/html": [
       "\n",
       "<emph>StrVector</emph> with 0 elements:\n",
       "<table class=\"rpy2_table\">\n",
       "<thead>\n",
       "</thead>\n",
       "<tbody>\n",
       "<tr>\n",
       "</tr>\n",
       "</tbody>\n",
       "</table>"
      ],
      "text/plain": [
       "<rpy2.robjects.vectors.StrVector object at 0x7feedb2b0540> [RTYPES.STRSXP]\n",
       "R classes: ('character',)\n",
       "[]"
      ]
     },
     "execution_count": 16,
     "metadata": {},
     "output_type": "execute_result"
    }
   ],
   "source": [
    "robjects.r('''\n",
    "setdiff(sig_metabolites$refmet_name, sig_metabolites_kegg_id$refmet_name)\n",
    "''')"
   ]
  },
  {
   "cell_type": "markdown",
   "id": "least-shape",
   "metadata": {},
   "source": [
    "### Count metabolites in each of the metabolite class and plotting\n",
    "You may choose from sub_class, main_class and super_class"
   ]
  },
  {
   "cell_type": "code",
   "execution_count": 17,
   "id": "diagnostic-phoenix",
   "metadata": {
    "execution": {
     "iopub.execute_input": "2021-03-27T00:35:02.120273Z",
     "iopub.status.busy": "2021-03-27T00:35:02.116485Z",
     "iopub.status.idle": "2021-03-27T00:35:02.185380Z",
     "shell.execute_reply": "2021-03-27T00:35:02.188149Z"
    }
   },
   "outputs": [
    {
     "data": {
      "text/plain": [
       "''"
      ]
     },
     "execution_count": 17,
     "metadata": {},
     "output_type": "execute_result"
    }
   ],
   "source": [
    "robjects.r.assign('classtype', ['sub_class'])\n",
    "robjects.r('''\n",
    "metclassvar <- as.character(classtype[1])\n",
    "count_changes = metcountplot(df_metclass=sig_metabolites_kegg_id, metclass=metclassvar, plotting=TRUE, thres_logfC = 0.5)\n",
    "''')\n",
    ";"
   ]
  },
  {
   "cell_type": "code",
   "execution_count": 18,
   "id": "desperate-message",
   "metadata": {
    "execution": {
     "iopub.execute_input": "2021-03-27T00:35:02.202399Z",
     "iopub.status.busy": "2021-03-27T00:35:02.198104Z",
     "iopub.status.idle": "2021-03-27T00:35:02.436644Z",
     "shell.execute_reply": "2021-03-27T00:35:02.437748Z"
    }
   },
   "outputs": [
    {
     "data": {
      "image/png": "[encoded data removed]",
      "text/plain": [
       "<IPython.core.display.Image object>"
      ]
     },
     "execution_count": 18,
     "metadata": {},
     "output_type": "execute_result"
    }
   ],
   "source": [
    "image_png(robjects.r('''\n",
    "count_changes$plotimg\n",
    "'''))"
   ]
  },
  {
   "cell_type": "markdown",
   "id": "double-string",
   "metadata": {},
   "source": [
    "### Enrichment class score\n",
    "\n",
    "Calculate the enrichment score of each metabolite class. Enrichment score is calculated through hypergeometric method. One can specify the no. of significant metabolites in a class while calculating the enrichment score. We advice to use the number of mtabolites in each class as 3 or more. But if someone just wants to know the enrichment score and rest of the information of all the metabolites, then they can choose the number as 1."
   ]
  },
  {
   "cell_type": "code",
   "execution_count": 19,
   "id": "legendary-fraud",
   "metadata": {
    "execution": {
     "iopub.execute_input": "2021-03-27T00:35:02.470382Z",
     "iopub.status.busy": "2021-03-27T00:35:02.461288Z",
     "iopub.status.idle": "2021-03-27T00:35:02.477500Z",
     "shell.execute_reply": "2021-03-27T00:35:02.462096Z"
    }
   },
   "outputs": [
    {
     "data": {
      "text/html": [
       "\n",
       "<emph>IntVector</emph> with 1 elements:\n",
       "<table class=\"rpy2_table\">\n",
       "<thead>\n",
       "</thead>\n",
       "<tbody>\n",
       "<tr>\n",
       "      <td>5</td>\n",
       "</tr>\n",
       "</tbody>\n",
       "</table>"
      ],
      "text/plain": [
       "<rpy2.robjects.vectors.IntVector object at 0x7feeda2fdd00> [RTYPES.INTSXP]\n",
       "R classes: ('integer',)\n",
       "[5]"
      ]
     },
     "execution_count": 19,
     "metadata": {},
     "output_type": "execute_result"
    }
   ],
   "source": [
    "robjects.r.assign('sigmets', 5)"
   ]
  },
  {
   "cell_type": "code",
   "execution_count": 20,
   "id": "involved-milton",
   "metadata": {
    "execution": {
     "iopub.execute_input": "2021-03-27T00:35:02.505313Z",
     "iopub.status.busy": "2021-03-27T00:35:02.499204Z",
     "iopub.status.idle": "2021-03-27T00:35:02.557663Z",
     "shell.execute_reply": "2021-03-27T00:35:02.559426Z"
    }
   },
   "outputs": [
    {
     "data": {
      "text/plain": [
       "''"
      ]
     },
     "execution_count": 20,
     "metadata": {},
     "output_type": "execute_result"
    }
   ],
   "source": [
    "robjects.r('''\n",
    "metenrichment = metclassenrichment(df_metclass=sig_metabolites_kegg_id,refmet_class, metclass=metclassvar,enrich_stats=\"HG\",no=sigmets)\n",
    "''')\n",
    ";"
   ]
  },
  {
   "cell_type": "markdown",
   "id": "twenty-football",
   "metadata": {},
   "source": [
    "#### Plot the enrichment score via function plot_met_enrichment"
   ]
  },
  {
   "cell_type": "code",
   "execution_count": 21,
   "id": "stuck-hindu",
   "metadata": {
    "execution": {
     "iopub.execute_input": "2021-03-27T00:35:02.580257Z",
     "iopub.status.busy": "2021-03-27T00:35:02.575504Z",
     "iopub.status.idle": "2021-03-27T00:35:02.932072Z",
     "shell.execute_reply": "2021-03-27T00:35:02.934941Z"
    }
   },
   "outputs": [
    {
     "data": {
      "image/png": "[encoded data removed]",
      "text/plain": [
       "<IPython.core.display.Image object>"
      ]
     },
     "execution_count": 21,
     "metadata": {},
     "output_type": "execute_result"
    }
   ],
   "source": [
    "image_png(robjects.r('''\n",
    "plot_met_enrichment(metenrichment, metclassvar,\"HG\", no=sigmets)\n",
    "'''))"
   ]
  },
  {
   "cell_type": "markdown",
   "id": "informational-flood",
   "metadata": {},
   "source": [
    "### Check the pathways with reactions of all the significant metabolites"
   ]
  },
  {
   "cell_type": "code",
   "execution_count": 22,
   "id": "painful-africa",
   "metadata": {
    "execution": {
     "iopub.execute_input": "2021-03-27T00:35:02.955271Z",
     "iopub.status.busy": "2021-03-27T00:35:02.950186Z",
     "iopub.status.idle": "2021-03-27T00:35:07.258483Z",
     "shell.execute_reply": "2021-03-27T00:35:07.259357Z"
    }
   },
   "outputs": [
    {
     "data": {
      "text/html": [
       "\n",
       "<emph>DataFrame</emph> with 6 rows and\n",
       "  22 columns:\n",
       "<table class=\"rpy2_table\">\n",
       "  <thead>\n",
       "    <tr class=\"rpy2_names\">\n",
       "      <th></th>\n",
       "      <th></th>\n",
       "      <th>rxn</th>\n",
       "      <th>refmet_name</th>\n",
       "      <th>Exact mass</th>\n",
       "      <th>KEGG ID</th>\n",
       "      <th>...</th>\n",
       "      <th>pathway_id</th>\n",
       "      <th>sps_path_id</th>\n",
       "    </tr>\n",
       "  </thead>\n",
       "  <tbody>\n",
       "    <tr>\n",
       "      <td class=\"rpy2_rowname\">0</td>\n",
       "        <td class=\"rpy2_names\">1</td>\n",
       "      <td>R01312</td>\n",
       "      <td>1,2-DG 34:1</td>\n",
       "      <td>594.5223</td>\n",
       "      <td>C00641</td>\n",
       "       <td>...</td>\n",
       "      <td>rn00564</td>\n",
       "      <td>hsa00564</td>\n",
       "    </tr>\n",
       "    <tr>\n",
       "      <td class=\"rpy2_rowname\">1</td>\n",
       "        <td class=\"rpy2_names\">2</td>\n",
       "      <td>R01312</td>\n",
       "      <td>1,2-DG 36:2</td>\n",
       "      <td>620.5380</td>\n",
       "      <td>C00641</td>\n",
       "       <td>...</td>\n",
       "      <td>rn00564</td>\n",
       "      <td>hsa00564</td>\n",
       "    </tr>\n",
       "    <tr>\n",
       "      <td class=\"rpy2_rowname\">2</td>\n",
       "        <td class=\"rpy2_names\">3</td>\n",
       "      <td>R01312</td>\n",
       "      <td>1,2-DG 32:1</td>\n",
       "      <td>566.4910</td>\n",
       "      <td>C00641</td>\n",
       "       <td>...</td>\n",
       "      <td>rn00564</td>\n",
       "      <td>hsa00564</td>\n",
       "    </tr>\n",
       "    <tr>\n",
       "      <td class=\"rpy2_rowname\">3</td>\n",
       "        <td class=\"rpy2_names\">4</td>\n",
       "      <td>R01312</td>\n",
       "      <td>1,2-DG 36:1</td>\n",
       "      <td>622.5536</td>\n",
       "      <td>C00641</td>\n",
       "       <td>...</td>\n",
       "      <td>rn00564</td>\n",
       "      <td>hsa00564</td>\n",
       "    </tr>\n",
       "    <tr>\n",
       "      <td class=\"rpy2_rowname\">4</td>\n",
       "        <td class=\"rpy2_names\">5</td>\n",
       "      <td>R01312</td>\n",
       "      <td>1,2-DG 34:2</td>\n",
       "      <td>592.5067</td>\n",
       "      <td>C00641</td>\n",
       "       <td>...</td>\n",
       "      <td>rn00564</td>\n",
       "      <td>hsa00564</td>\n",
       "    </tr>\n",
       "    <tr>\n",
       "      <td class=\"rpy2_rowname\">5</td>\n",
       "        <td class=\"rpy2_names\">6</td>\n",
       "      <td>R01312</td>\n",
       "      <td>1,2-DG 34:0</td>\n",
       "      <td>596.5380</td>\n",
       "      <td>C00641</td>\n",
       "       <td>...</td>\n",
       "      <td>rn00564</td>\n",
       "      <td>hsa00564</td>\n",
       "    </tr>\n",
       "  </tbody>\n",
       "</table>"
      ],
      "text/plain": [
       "<rpy2.robjects.vectors.DataFrame object at 0x7feedda04d80> [RTYPES.VECSXP]\n",
       "R classes: ('data.frame',)\n",
       "[StrSexpVe..., StrSexpVe..., StrSexpVe..., StrSexpVe..., ..., ListSexpV..., StrSexpVe..., StrSexpVe..., StrSexpVe...]\n",
       "  rxn: <class 'rpy2.robjects.vectors.StrVector'>\n",
       "  <rpy2.robjects.vectors.StrVector object at 0x7feedd9db4c0> [RTYPES.STRSXP]\n",
       "R classes: ('character',)\n",
       "['R013..., 'R013..., 'R013..., 'R013..., 'R013..., 'R013...]\n",
       "  refmet_name: <class 'rpy2.robjects.vectors.StrVector'>\n",
       "  <rpy2.robjects.vectors.StrVector object at 0x7feedd9db180> [RTYPES.STRSXP]\n",
       "R classes: ('character',)\n",
       "['1,2-..., '1,2-..., '1,2-..., '1,2-..., '1,2-..., '1,2-...]\n",
       "  Exact mass: <class 'rpy2.robjects.vectors.StrVector'>\n",
       "  <rpy2.robjects.vectors.StrVector object at 0x7feedd9d7380> [RTYPES.STRSXP]\n",
       "R classes: ('character',)\n",
       "['594...., '620...., '566...., '622...., '592...., '596....]\n",
       "  KEGG ID: <class 'rpy2.robjects.vectors.StrVector'>\n",
       "  <rpy2.robjects.vectors.StrVector object at 0x7feedd9d7340> [RTYPES.STRSXP]\n",
       "R classes: ('character',)\n",
       "['C006..., 'C006..., 'C006..., 'C006..., 'C006..., 'C006...]\n",
       "...\n",
       "<rpy2.robjects.vectors.DataFrame object at 0x7feedda04d80> [RTYPES.VECSXP]\n",
       "R classes: ('data.frame',)\n",
       "[StrSexpVe..., StrSexpVe..., StrSexpVe..., StrSexpVe..., ..., ListSexpV..., StrSexpVe..., StrSexpVe..., StrSexpVe...]\n",
       "  Normal_mean: <class 'rpy2.robjects.vectors.StrVector'>\n",
       "  <rpy2.robjects.vectors.StrVector object at 0x7feedda04d40> [RTYPES.STRSXP]\n",
       "R classes: ('character',)\n",
       "['Glyc..., 'Glyc..., 'Glyc..., 'Glyc..., 'Glyc..., 'Glyc...]\n",
       "  Fold_change: <class 'rpy2.robjects.vectors.StrVector'>\n",
       "  <rpy2.robjects.vectors.StrVector object at 0x7feedda04900> [RTYPES.STRSXP]\n",
       "R classes: ('character',)\n",
       "['rn00..., 'rn00..., 'rn00..., 'rn00..., 'rn00..., 'rn00...]\n",
       "  log2Fold_change: <class 'rpy2.robjects.vectors.StrVector'>\n",
       "  <rpy2.robjects.vectors.StrVector object at 0x7feedda048c0> [RTYPES.STRSXP]\n",
       "R classes: ('character',)\n",
       "['hsa0..., 'hsa0..., 'hsa0..., 'hsa0..., 'hsa0..., 'hsa0...]"
      ]
     },
     "execution_count": 22,
     "metadata": {},
     "output_type": "execute_result"
    }
   ],
   "source": [
    "robjects.r.assign('studyOrg', 'hsa')\n",
    "robjects.r('''\n",
    "met_path = met_pathways(df_metenrichment = metenrichment, studyOrg)\n",
    "head(met_path)\n",
    "''')"
   ]
  },
  {
   "cell_type": "markdown",
   "id": "precise-formation",
   "metadata": {},
   "source": [
    "Find metabolites for which no pathways were registered in Kegg and/or no kegg id was found"
   ]
  },
  {
   "cell_type": "code",
   "execution_count": 23,
   "id": "southeast-garage",
   "metadata": {
    "execution": {
     "iopub.execute_input": "2021-03-27T00:35:07.286138Z",
     "iopub.status.busy": "2021-03-27T00:35:07.270545Z",
     "iopub.status.idle": "2021-03-27T00:35:07.291567Z",
     "shell.execute_reply": "2021-03-27T00:35:07.288842Z"
    }
   },
   "outputs": [],
   "source": [
    "#setdiff(metenrichment$Metabolite,unique(met_path$Metabolite))\n",
    "\n",
    "#not necessary for final script?"
   ]
  },
  {
   "cell_type": "markdown",
   "id": "about-complex",
   "metadata": {},
   "source": [
    "### Get pathway enrichment sore.\n",
    "\n",
    "Once we have the pathway information, we can calculate enrichment score of pathways. Again, here i have used hypergeometric score. For hypergeometric score, we need to know the total number of kegg compounds that are linked to kegg pathways. \n",
    "N = total no. of cmpds linked to kegg pathway (this is the step which might take long), so I advice to run the script comp_linkedto_pathways() just the first time or after 6 months or so if desired to run the pipeline again. save the result from comp_linkedto_pathways() and load it. Loading from saved file would save time for another analysis with another study. However the package takes care of loading. Save the data in the data folder.\n",
    "\n",
    "L = No. of cmpds in a pathway\n",
    "M= no. of altered cmpds in a pathway\n",
    "K =  total no. of altered cmpds\n",
    "phyper(M,L, N-L, K)\n",
    "\n",
    "\n",
    "This function also utilizes korg dataset from pathview package."
   ]
  },
  {
   "cell_type": "code",
   "execution_count": 24,
   "id": "tropical-alaska",
   "metadata": {
    "execution": {
     "iopub.execute_input": "2021-03-27T00:35:07.311386Z",
     "iopub.status.busy": "2021-03-27T00:35:07.305377Z",
     "iopub.status.idle": "2021-03-27T00:35:08.445929Z",
     "shell.execute_reply": "2021-03-27T00:35:08.446662Z"
    }
   },
   "outputs": [
    {
     "data": {
      "text/html": [
       "\n",
       "<emph>DataFrame</emph> with 6 rows and\n",
       "  5 columns:\n",
       "<table class=\"rpy2_table\">\n",
       "  <thead>\n",
       "    <tr class=\"rpy2_names\">\n",
       "      <th></th>\n",
       "      <th></th>\n",
       "      <th>Pathway name</th>\n",
       "      <th>No.of mets in study</th>\n",
       "      <th>Total_no._of_comps_in_pathway</th>\n",
       "      <th>pathway_HG p-value</th>\n",
       "      <th>Padjust</th>\n",
       "    </tr>\n",
       "  </thead>\n",
       "  <tbody>\n",
       "    <tr>\n",
       "      <td class=\"rpy2_rowname\">0</td>\n",
       "        <td class=\"rpy2_names\">1</td>\n",
       "      <td>Glycerolipid metabolism</td>\n",
       "      <td>9</td>\n",
       "      <td>38</td>\n",
       "      <td>0.0015509986267582677</td>\n",
       "      <td>0.003618996795769292</td>\n",
       "    </tr>\n",
       "    <tr>\n",
       "      <td class=\"rpy2_rowname\">1</td>\n",
       "        <td class=\"rpy2_names\">2</td>\n",
       "      <td>Glycerophospholipid metabolism</td>\n",
       "      <td>9</td>\n",
       "      <td>52</td>\n",
       "      <td>0.01486988045287663</td>\n",
       "      <td>0.0173481938616894</td>\n",
       "    </tr>\n",
       "    <tr>\n",
       "      <td class=\"rpy2_rowname\">2</td>\n",
       "        <td class=\"rpy2_names\">3</td>\n",
       "      <td>Glycosylphosphatidylinositol (GPI)-anchor biosynthesis</td>\n",
       "      <td>9</td>\n",
       "      <td>16</td>\n",
       "      <td>4.093303213599998e-07</td>\n",
       "      <td>2.8653122495199984e-06</td>\n",
       "    </tr>\n",
       "    <tr>\n",
       "      <td class=\"rpy2_rowname\">3</td>\n",
       "        <td class=\"rpy2_names\">4</td>\n",
       "      <td>Inositol phosphate metabolism</td>\n",
       "      <td>9</td>\n",
       "      <td>47</td>\n",
       "      <td>0.007484853186120302</td>\n",
       "      <td>0.013098493075710529</td>\n",
       "    </tr>\n",
       "    <tr>\n",
       "      <td class=\"rpy2_rowname\">4</td>\n",
       "        <td class=\"rpy2_names\">5</td>\n",
       "      <td>Phosphonate and phosphinate metabolism</td>\n",
       "      <td>9</td>\n",
       "      <td>56</td>\n",
       "      <td>0.023939733716296308</td>\n",
       "      <td>0.023939733716296308</td>\n",
       "    </tr>\n",
       "    <tr>\n",
       "      <td class=\"rpy2_rowname\">5</td>\n",
       "        <td class=\"rpy2_names\">6</td>\n",
       "      <td>Sphingolipid metabolism</td>\n",
       "      <td>9</td>\n",
       "      <td>25</td>\n",
       "      <td>4.266452519772316e-05</td>\n",
       "      <td>0.00014932583819203104</td>\n",
       "    </tr>\n",
       "  </tbody>\n",
       "</table>"
      ],
      "text/plain": [
       "<rpy2.robjects.vectors.DataFrame object at 0x7feeda2ed640> [RTYPES.VECSXP]\n",
       "R classes: ('data.frame',)\n",
       "[IntSexp..., IntSexp..., IntSexp..., FloatSe..., FloatSe...]\n",
       "  Pathway name: <class 'rpy2.rinterface.IntSexpVector'>\n",
       "  <rpy2.rinterface.IntSexpVector object at 0x7feedd9d7200> [RTYPES.INTSXP]\n",
       "  No.of mets in study: <class 'rpy2.rinterface.IntSexpVector'>\n",
       "  <rpy2.rinterface.IntSexpVector object at 0x7feedd9d6080> [RTYPES.INTSXP]\n",
       "  Total_no._of_comps_in_pathway: <class 'rpy2.rinterface.IntSexpVector'>\n",
       "  <rpy2.rinterface.IntSexpVector object at 0x7feedda074c0> [RTYPES.INTSXP]\n",
       "  pathway_HG p-value: <class 'rpy2.rinterface.FloatSexpVector'>\n",
       "  <rpy2.rinterface.FloatSexpVector object at 0x7feedd9d6840> [RTYPES.REALSXP]\n",
       "  Padjust: <class 'rpy2.rinterface.FloatSexpVector'>\n",
       "  <rpy2.rinterface.FloatSexpVector object at 0x7feedb692380> [RTYPES.REALSXP]"
      ]
     },
     "execution_count": 24,
     "metadata": {},
     "output_type": "execute_result"
    }
   ],
   "source": [
    "robjects.r('''\n",
    "kegg_es = path_enrichmentscore(met_path,sig_metabolite_kegg_id=sig_metabolite_kegg_id,ls_path=ls_path,refmet_class=refmet_class,sps='hsa',padj='fdr', kegg_comp_path=FALSE)\n",
    "head(kegg_es)\n",
    "''')"
   ]
  },
  {
   "cell_type": "markdown",
   "id": "analyzed-vertical",
   "metadata": {},
   "source": [
    "### Plot pathway network\n",
    "Only plotting significant pathways (pathway with p-value significance).\n",
    "\n",
    "The pathway network is such that it shows metabolites that are connected to different pathways and same metabolite in different pathway. Color of nodes of metabolites are according to the fold change of metabolites (low expression in green and high in red) and size of pathway nodes (square nodes) are according to the number of branches (meaning no of metabolites). All metabolite are written in blue"
   ]
  },
  {
   "cell_type": "code",
   "execution_count": 25,
   "id": "random-aside",
   "metadata": {
    "execution": {
     "iopub.execute_input": "2021-03-27T00:35:08.459636Z",
     "iopub.status.busy": "2021-03-27T00:35:08.455928Z",
     "iopub.status.idle": "2021-03-27T00:35:09.052931Z",
     "shell.execute_reply": "2021-03-27T00:35:09.055003Z"
    }
   },
   "outputs": [
    {
     "data": {
      "image/png": "[encoded data removed]",
      "text/plain": [
       "<IPython.core.display.Image object>"
      ]
     },
     "execution_count": 25,
     "metadata": {},
     "output_type": "execute_result"
    }
   ],
   "source": [
    "image_png(robjects.r('''\n",
    "plot_pathway_networks (met_path,kegg_es, TRUE)\n",
    "'''))"
   ]
  },
  {
   "cell_type": "markdown",
   "id": "revolutionary-rogers",
   "metadata": {},
   "source": [
    "### Heatmap"
   ]
  },
  {
   "cell_type": "code",
   "execution_count": 26,
   "id": "cordless-teach",
   "metadata": {
    "execution": {
     "iopub.execute_input": "2021-03-27T00:35:09.077240Z",
     "iopub.status.busy": "2021-03-27T00:35:09.067856Z",
     "iopub.status.idle": "2021-03-27T00:35:09.093327Z",
     "shell.execute_reply": "2021-03-27T00:35:09.090456Z"
    }
   },
   "outputs": [
    {
     "data": {
      "text/html": [
       "\n",
       "<emph>IntVector</emph> with 1 elements:\n",
       "<table class=\"rpy2_table\">\n",
       "<thead>\n",
       "</thead>\n",
       "<tbody>\n",
       "<tr>\n",
       "      <td>6</td>\n",
       "</tr>\n",
       "</tbody>\n",
       "</table>"
      ],
      "text/plain": [
       "<rpy2.robjects.vectors.IntVector object at 0x7feedd9d6640> [RTYPES.INTSXP]\n",
       "R classes: ('integer',)\n",
       "[6]"
      ]
     },
     "execution_count": 26,
     "metadata": {},
     "output_type": "execute_result"
    }
   ],
   "source": [
    "robjects.r.assign('x_size_heat', 8)\n",
    "robjects.r.assign('y_size_heat', 6)"
   ]
  },
  {
   "cell_type": "code",
   "execution_count": 27,
   "id": "integral-israeli",
   "metadata": {
    "execution": {
     "iopub.execute_input": "2021-03-27T00:35:09.115440Z",
     "iopub.status.busy": "2021-03-27T00:35:09.111774Z",
     "iopub.status.idle": "2021-03-27T00:35:09.279410Z",
     "shell.execute_reply": "2021-03-27T00:35:09.280235Z"
    }
   },
   "outputs": [
    {
     "data": {
      "image/png": "[encoded data removed]",
      "text/plain": [
       "<IPython.core.display.Image object>"
      ]
     },
     "execution_count": 27,
     "metadata": {},
     "output_type": "execute_result"
    }
   ],
   "source": [
    "image_png(robjects.r('''\n",
    "plot_heatmap(met_path, shorten_name=TRUE,refmet_name=FALSE, xaxis=x_size_heat, yaxis=y_size_heat)\n",
    "'''))"
   ]
  },
  {
   "cell_type": "markdown",
   "id": "capital-cincinnati",
   "metadata": {},
   "source": [
    "### Dotplot"
   ]
  },
  {
   "cell_type": "code",
   "execution_count": 28,
   "id": "committed-research",
   "metadata": {
    "execution": {
     "iopub.execute_input": "2021-03-27T00:35:09.301337Z",
     "iopub.status.busy": "2021-03-27T00:35:09.291474Z",
     "iopub.status.idle": "2021-03-27T00:35:09.310118Z",
     "shell.execute_reply": "2021-03-27T00:35:09.307185Z"
    }
   },
   "outputs": [
    {
     "data": {
      "text/html": [
       "\n",
       "<emph>IntVector</emph> with 1 elements:\n",
       "<table class=\"rpy2_table\">\n",
       "<thead>\n",
       "</thead>\n",
       "<tbody>\n",
       "<tr>\n",
       "      <td>6</td>\n",
       "</tr>\n",
       "</tbody>\n",
       "</table>"
      ],
      "text/plain": [
       "<rpy2.robjects.vectors.IntVector object at 0x7feedd9db580> [RTYPES.INTSXP]\n",
       "R classes: ('integer',)\n",
       "[6]"
      ]
     },
     "execution_count": 28,
     "metadata": {},
     "output_type": "execute_result"
    }
   ],
   "source": [
    "robjects.r.assign('x_size_dot', 8)\n",
    "robjects.r.assign('y_size_dot', 6)"
   ]
  },
  {
   "cell_type": "code",
   "execution_count": 29,
   "id": "amateur-completion",
   "metadata": {
    "execution": {
     "iopub.execute_input": "2021-03-27T00:35:09.327243Z",
     "iopub.status.busy": "2021-03-27T00:35:09.321584Z",
     "iopub.status.idle": "2021-03-27T00:35:09.568664Z",
     "shell.execute_reply": "2021-03-27T00:35:09.569895Z"
    }
   },
   "outputs": [
    {
     "data": {
      "image/png": "[encoded data removed]",
      "text/plain": [
       "<IPython.core.display.Image object>"
      ]
     },
     "execution_count": 29,
     "metadata": {},
     "output_type": "execute_result"
    }
   ],
   "source": [
    "image_png(robjects.r('''\n",
    "dotplot_met_class_path (met_path, kegg_es, metclassvar,xaxis=x_size_dot,yaxis=y_size_dot)\n",
    "'''))"
   ]
  },
  {
   "cell_type": "markdown",
   "id": "outdoor-irrigation",
   "metadata": {},
   "source": [
    "### Get the gene and enzyme info\n",
    "\n",
    "Here we get the information of genes involved in enriched pathways for specified organism"
   ]
  },
  {
   "cell_type": "code",
   "execution_count": 30,
   "id": "cultural-empire",
   "metadata": {
    "execution": {
     "iopub.execute_input": "2021-03-27T00:35:09.588258Z",
     "iopub.status.busy": "2021-03-27T00:35:09.583164Z",
     "iopub.status.idle": "2021-03-27T00:35:35.131836Z",
     "shell.execute_reply": "2021-03-27T00:35:35.131045Z"
    }
   },
   "outputs": [
    {
     "data": {
      "text/html": [
       "\n",
       "<emph>DataFrame</emph> with 6 rows and\n",
       "  18 columns:\n",
       "<table class=\"rpy2_table\">\n",
       "  <thead>\n",
       "    <tr class=\"rpy2_names\">\n",
       "      <th></th>\n",
       "      <th></th>\n",
       "      <th>orthology_id</th>\n",
       "      <th>ORTHOLOGY</th>\n",
       "      <th>gene_id</th>\n",
       "      <th>gene_name</th>\n",
       "      <th>...</th>\n",
       "      <th>EQUATION_more</th>\n",
       "      <th>ENZYME</th>\n",
       "    </tr>\n",
       "  </thead>\n",
       "  <tbody>\n",
       "    <tr>\n",
       "      <td class=\"rpy2_rowname\">0</td>\n",
       "        <td class=\"rpy2_names\">1</td>\n",
       "      <td>K00637</td>\n",
       "      <td>sterol O-acyltransferase [EC:2.3.1.26]</td>\n",
       "      <td>   CDS \n",
       "\"6646\" \n",
       "</td>\n",
       "      <td>[1] \"SOAT1, ACACT, ACAT, ACAT-1, ACAT1, SOAT, STAT\"\n",
       "</td>\n",
       "       <td>...</td>\n",
       "      <td>[1] \"Acyl-CoA + Cholesterol <=> CoA + Cholesterol ester\"\n",
       "</td>\n",
       "      <td>[1] \"2.3.1.26\"\n",
       "</td>\n",
       "    </tr>\n",
       "    <tr>\n",
       "      <td class=\"rpy2_rowname\">1</td>\n",
       "        <td class=\"rpy2_names\">2</td>\n",
       "      <td>K00637</td>\n",
       "      <td>sterol O-acyltransferase [EC:2.3.1.26]</td>\n",
       "      <td>   CDS \n",
       "\"8435\" \n",
       "</td>\n",
       "      <td>[1] \"SOAT2, ACACT2, ACAT2, ARGP2\"\n",
       "</td>\n",
       "       <td>...</td>\n",
       "      <td>[1] \"Acyl-CoA + Cholesterol <=> CoA + Cholesterol ester\"\n",
       "</td>\n",
       "      <td>[1] \"2.3.1.26\"\n",
       "</td>\n",
       "    </tr>\n",
       "    <tr>\n",
       "      <td class=\"rpy2_rowname\">2</td>\n",
       "        <td class=\"rpy2_names\">3</td>\n",
       "      <td>K00901</td>\n",
       "      <td>diacylglycerol kinase (ATP) [EC:2.7.1.107]</td>\n",
       "      <td>     CDS \n",
       "\"139189\" \n",
       "</td>\n",
       "      <td>[1] \"DGKK\"\n",
       "</td>\n",
       "       <td>...</td>\n",
       "      <td>[1] \"ATP + 1,2-Diacyl-sn-glycerol <=> ADP + Phosphatidate\"\n",
       "</td>\n",
       "      <td>[1] \"2.7.1.107\"\n",
       "</td>\n",
       "    </tr>\n",
       "    <tr>\n",
       "      <td class=\"rpy2_rowname\">3</td>\n",
       "        <td class=\"rpy2_names\">4</td>\n",
       "      <td>K00901</td>\n",
       "      <td>diacylglycerol kinase (ATP) [EC:2.7.1.107]</td>\n",
       "      <td>     CDS \n",
       "\"139189\" \n",
       "</td>\n",
       "      <td>[1] \"DGKK\"\n",
       "</td>\n",
       "       <td>...</td>\n",
       "      <td>[1] \"ATP + 1,2-Diacyl-sn-glycerol <=> ADP + Phosphatidate\"\n",
       "</td>\n",
       "      <td>[1] \"2.7.1.107\"\n",
       "</td>\n",
       "    </tr>\n",
       "    <tr>\n",
       "      <td class=\"rpy2_rowname\">4</td>\n",
       "        <td class=\"rpy2_names\">5</td>\n",
       "      <td>K00901</td>\n",
       "      <td>diacylglycerol kinase (ATP) [EC:2.7.1.107]</td>\n",
       "      <td>     CDS \n",
       "\"139189\" \n",
       "</td>\n",
       "      <td>[1] \"DGKK\"\n",
       "</td>\n",
       "       <td>...</td>\n",
       "      <td>[1] \"ATP + 1,2-Diacyl-sn-glycerol <=> ADP + Phosphatidate\"\n",
       "</td>\n",
       "      <td>[1] \"2.7.1.107\"\n",
       "</td>\n",
       "    </tr>\n",
       "    <tr>\n",
       "      <td class=\"rpy2_rowname\">5</td>\n",
       "        <td class=\"rpy2_names\">6</td>\n",
       "      <td>K00901</td>\n",
       "      <td>diacylglycerol kinase (ATP) [EC:2.7.1.107]</td>\n",
       "      <td>     CDS \n",
       "\"139189\" \n",
       "</td>\n",
       "      <td>[1] \"DGKK\"\n",
       "</td>\n",
       "       <td>...</td>\n",
       "      <td>[1] \"ATP + 1,2-Diacyl-sn-glycerol <=> ADP + Phosphatidate\"\n",
       "</td>\n",
       "      <td>[1] \"2.7.1.107\"\n",
       "</td>\n",
       "    </tr>\n",
       "  </tbody>\n",
       "</table>"
      ],
      "text/plain": [
       "<rpy2.robjects.vectors.DataFrame object at 0x7feedb2b13c0> [RTYPES.VECSXP]\n",
       "R classes: ('data.frame',)\n",
       "[StrSexpVe..., StrSexpVe..., ListSexpV..., ListSexpV..., ..., ListSexpV..., ListSexpV..., ListSexpV..., ListSexpV...]\n",
       "  orthology_id: <class 'rpy2.robjects.vectors.StrVector'>\n",
       "  <rpy2.robjects.vectors.StrVector object at 0x7feedb1aa880> [RTYPES.STRSXP]\n",
       "R classes: ('character',)\n",
       "['K006..., 'K006..., 'K009..., 'K009..., 'K009..., 'K009...]\n",
       "  ORTHOLOGY: <class 'rpy2.robjects.vectors.StrVector'>\n",
       "  <rpy2.robjects.vectors.StrVector object at 0x7feedb1aa140> [RTYPES.STRSXP]\n",
       "R classes: ('character',)\n",
       "['ster..., 'ster..., 'diac..., 'diac..., 'diac..., 'diac...]\n",
       "<rpy2.robjects.vectors.DataFrame object at 0x7feedb2b13c0> [RTYPES.VECSXP]\n",
       "R classes: ('data.frame',)\n",
       "[StrSexpVe..., StrSexpVe..., ListSexpV..., ListSexpV..., ..., ListSexpV..., ListSexpV..., ListSexpV..., ListSexpV...]\n",
       "<rpy2.robjects.vectors.DataFrame object at 0x7feedb2b13c0> [RTYPES.VECSXP]\n",
       "R classes: ('data.frame',)\n",
       "[StrSexpVe..., StrSexpVe..., ListSexpV..., ListSexpV..., ..., ListSexpV..., ListSexpV..., ListSexpV..., ListSexpV...]\n",
       "...\n",
       "<rpy2.robjects.vectors.DataFrame object at 0x7feedb2b13c0> [RTYPES.VECSXP]\n",
       "R classes: ('data.frame',)\n",
       "[StrSexpVe..., StrSexpVe..., ListSexpV..., ListSexpV..., ..., ListSexpV..., ListSexpV..., ListSexpV..., ListSexpV...]\n",
       "<rpy2.robjects.vectors.DataFrame object at 0x7feedb2b13c0> [RTYPES.VECSXP]\n",
       "R classes: ('data.frame',)\n",
       "[StrSexpVe..., StrSexpVe..., ListSexpV..., ListSexpV..., ..., ListSexpV..., ListSexpV..., ListSexpV..., ListSexpV...]\n",
       "<rpy2.robjects.vectors.DataFrame object at 0x7feedb2b13c0> [RTYPES.VECSXP]\n",
       "R classes: ('data.frame',)\n",
       "[StrSexpVe..., StrSexpVe..., ListSexpV..., ListSexpV..., ..., ListSexpV..., ListSexpV..., ListSexpV..., ListSexpV...]\n",
       "<rpy2.robjects.vectors.DataFrame object at 0x7feedb2b13c0> [RTYPES.VECSXP]\n",
       "R classes: ('data.frame',)\n",
       "[StrSexpVe..., StrSexpVe..., ListSexpV..., ListSexpV..., ..., ListSexpV..., ListSexpV..., ListSexpV..., ListSexpV...]"
      ]
     },
     "execution_count": 30,
     "metadata": {},
     "output_type": "execute_result"
    }
   ],
   "source": [
    "robjects.r('''\n",
    "met_gene_info = enzyme_gene_info (metenrichment, studyOrg, metclassvar)\n",
    "head(met_gene_info)\n",
    "''')"
   ]
  },
  {
   "cell_type": "markdown",
   "id": "baking-madison",
   "metadata": {},
   "source": [
    "#### Get the information if metabolite is a reactant or substrate"
   ]
  },
  {
   "cell_type": "code",
   "execution_count": 31,
   "id": "uniform-substitute",
   "metadata": {
    "execution": {
     "iopub.execute_input": "2021-03-27T00:35:35.145960Z",
     "iopub.status.busy": "2021-03-27T00:35:35.141161Z",
     "iopub.status.idle": "2021-03-27T00:35:35.265276Z",
     "shell.execute_reply": "2021-03-27T00:35:35.266034Z"
    }
   },
   "outputs": [
    {
     "data": {
      "text/html": [
       "\n",
       "<emph>DataFrame</emph> with 6 rows and\n",
       "  19 columns:\n",
       "<table class=\"rpy2_table\">\n",
       "  <thead>\n",
       "    <tr class=\"rpy2_names\">\n",
       "      <th></th>\n",
       "      <th></th>\n",
       "      <th>orthology_id</th>\n",
       "      <th>ORTHOLOGY</th>\n",
       "      <th>gene_id</th>\n",
       "      <th>gene_name</th>\n",
       "      <th>...</th>\n",
       "      <th>ENZYME</th>\n",
       "      <th>reactant_product</th>\n",
       "    </tr>\n",
       "  </thead>\n",
       "  <tbody>\n",
       "    <tr>\n",
       "      <td class=\"rpy2_rowname\">0</td>\n",
       "        <td class=\"rpy2_names\">1</td>\n",
       "      <td>K00637</td>\n",
       "      <td>sterol O-acyltransferase [EC:2.3.1.26]</td>\n",
       "      <td>   CDS \n",
       "\"6646\" \n",
       "</td>\n",
       "      <td>[1] \"SOAT1, ACACT, ACAT, ACAT-1, ACAT1, SOAT, STAT\"\n",
       "</td>\n",
       "       <td>...</td>\n",
       "      <td>[1] \"2.3.1.26\"\n",
       "</td>\n",
       "      <td>Product</td>\n",
       "    </tr>\n",
       "    <tr>\n",
       "      <td class=\"rpy2_rowname\">1</td>\n",
       "        <td class=\"rpy2_names\">2</td>\n",
       "      <td>K00637</td>\n",
       "      <td>sterol O-acyltransferase [EC:2.3.1.26]</td>\n",
       "      <td>   CDS \n",
       "\"8435\" \n",
       "</td>\n",
       "      <td>[1] \"SOAT2, ACACT2, ACAT2, ARGP2\"\n",
       "</td>\n",
       "       <td>...</td>\n",
       "      <td>[1] \"2.3.1.26\"\n",
       "</td>\n",
       "      <td>Product</td>\n",
       "    </tr>\n",
       "    <tr>\n",
       "      <td class=\"rpy2_rowname\">2</td>\n",
       "        <td class=\"rpy2_names\">3</td>\n",
       "      <td>K00901</td>\n",
       "      <td>diacylglycerol kinase (ATP) [EC:2.7.1.107]</td>\n",
       "      <td>     CDS \n",
       "\"139189\" \n",
       "</td>\n",
       "      <td>[1] \"DGKK\"\n",
       "</td>\n",
       "       <td>...</td>\n",
       "      <td>[1] \"2.7.1.107\"\n",
       "</td>\n",
       "      <td>Substrate</td>\n",
       "    </tr>\n",
       "    <tr>\n",
       "      <td class=\"rpy2_rowname\">3</td>\n",
       "        <td class=\"rpy2_names\">4</td>\n",
       "      <td>K00901</td>\n",
       "      <td>diacylglycerol kinase (ATP) [EC:2.7.1.107]</td>\n",
       "      <td>     CDS \n",
       "\"139189\" \n",
       "</td>\n",
       "      <td>[1] \"DGKK\"\n",
       "</td>\n",
       "       <td>...</td>\n",
       "      <td>[1] \"2.7.1.107\"\n",
       "</td>\n",
       "      <td>Substrate</td>\n",
       "    </tr>\n",
       "    <tr>\n",
       "      <td class=\"rpy2_rowname\">4</td>\n",
       "        <td class=\"rpy2_names\">5</td>\n",
       "      <td>K00901</td>\n",
       "      <td>diacylglycerol kinase (ATP) [EC:2.7.1.107]</td>\n",
       "      <td>     CDS \n",
       "\"139189\" \n",
       "</td>\n",
       "      <td>[1] \"DGKK\"\n",
       "</td>\n",
       "       <td>...</td>\n",
       "      <td>[1] \"2.7.1.107\"\n",
       "</td>\n",
       "      <td>Substrate</td>\n",
       "    </tr>\n",
       "    <tr>\n",
       "      <td class=\"rpy2_rowname\">5</td>\n",
       "        <td class=\"rpy2_names\">6</td>\n",
       "      <td>K00901</td>\n",
       "      <td>diacylglycerol kinase (ATP) [EC:2.7.1.107]</td>\n",
       "      <td>     CDS \n",
       "\"139189\" \n",
       "</td>\n",
       "      <td>[1] \"DGKK\"\n",
       "</td>\n",
       "       <td>...</td>\n",
       "      <td>[1] \"2.7.1.107\"\n",
       "</td>\n",
       "      <td>Substrate</td>\n",
       "    </tr>\n",
       "  </tbody>\n",
       "</table>"
      ],
      "text/plain": [
       "<rpy2.robjects.vectors.DataFrame object at 0x7feedb1b9580> [RTYPES.VECSXP]\n",
       "R classes: ('data.frame',)\n",
       "[StrSexpVe..., StrSexpVe..., ListSexpV..., ListSexpV..., ..., ListSexpV..., ListSexpV..., ListSexpV..., StrSexpVe...]\n",
       "  orthology_id: <class 'rpy2.robjects.vectors.StrVector'>\n",
       "  <rpy2.robjects.vectors.StrVector object at 0x7feedb16ef00> [RTYPES.STRSXP]\n",
       "R classes: ('character',)\n",
       "['K006..., 'K006..., 'K009..., 'K009..., 'K009..., 'K009...]\n",
       "  ORTHOLOGY: <class 'rpy2.robjects.vectors.StrVector'>\n",
       "  <rpy2.robjects.vectors.StrVector object at 0x7feedb16e880> [RTYPES.STRSXP]\n",
       "R classes: ('character',)\n",
       "['ster..., 'ster..., 'diac..., 'diac..., 'diac..., 'diac...]\n",
       "<rpy2.robjects.vectors.DataFrame object at 0x7feedb1b9580> [RTYPES.VECSXP]\n",
       "R classes: ('data.frame',)\n",
       "[StrSexpVe..., StrSexpVe..., ListSexpV..., ListSexpV..., ..., ListSexpV..., ListSexpV..., ListSexpV..., StrSexpVe...]\n",
       "<rpy2.robjects.vectors.DataFrame object at 0x7feedb1b9580> [RTYPES.VECSXP]\n",
       "R classes: ('data.frame',)\n",
       "[StrSexpVe..., StrSexpVe..., ListSexpV..., ListSexpV..., ..., ListSexpV..., ListSexpV..., ListSexpV..., StrSexpVe...]\n",
       "...\n",
       "<rpy2.robjects.vectors.DataFrame object at 0x7feedb1b9580> [RTYPES.VECSXP]\n",
       "R classes: ('data.frame',)\n",
       "[StrSexpVe..., StrSexpVe..., ListSexpV..., ListSexpV..., ..., ListSexpV..., ListSexpV..., ListSexpV..., StrSexpVe...]\n",
       "<rpy2.robjects.vectors.DataFrame object at 0x7feedb1b9580> [RTYPES.VECSXP]\n",
       "R classes: ('data.frame',)\n",
       "[StrSexpVe..., StrSexpVe..., ListSexpV..., ListSexpV..., ..., ListSexpV..., ListSexpV..., ListSexpV..., StrSexpVe...]\n",
       "<rpy2.robjects.vectors.DataFrame object at 0x7feedb1b9580> [RTYPES.VECSXP]\n",
       "R classes: ('data.frame',)\n",
       "[StrSexpVe..., StrSexpVe..., ListSexpV..., ListSexpV..., ..., ListSexpV..., ListSexpV..., ListSexpV..., StrSexpVe...]\n",
       "  MOTIF: <class 'rpy2.robjects.vectors.StrVector'>\n",
       "  <rpy2.robjects.vectors.StrVector object at 0x7feedda08040> [RTYPES.STRSXP]\n",
       "R classes: ('character',)\n",
       "['Prod..., 'Prod..., 'Subs..., 'Subs..., 'Subs..., 'Subs...]"
      ]
     },
     "execution_count": 31,
     "metadata": {},
     "output_type": "execute_result"
    }
   ],
   "source": [
    "robjects.r('''\n",
    "rclass_info = react_substrate(met_gene_info)\n",
    "head(rclass_info)\n",
    "''')"
   ]
  },
  {
   "cell_type": "markdown",
   "id": "nominated-cruise",
   "metadata": {},
   "source": [
    "#### Get gene info in short form"
   ]
  },
  {
   "cell_type": "code",
   "execution_count": 32,
   "id": "north-calcium",
   "metadata": {
    "execution": {
     "iopub.execute_input": "2021-03-27T00:35:35.281760Z",
     "iopub.status.busy": "2021-03-27T00:35:35.277666Z",
     "iopub.status.idle": "2021-03-27T00:35:35.604013Z",
     "shell.execute_reply": "2021-03-27T00:35:35.605659Z"
    }
   },
   "outputs": [
    {
     "data": {
      "text/html": [
       "\n",
       "<emph>DataFrame</emph> with 10 rows and\n",
       "  19 columns:\n",
       "<table class=\"rpy2_table\">\n",
       "  <thead>\n",
       "    <tr class=\"rpy2_names\">\n",
       "      <th></th>\n",
       "      <th></th>\n",
       "      <th>Metabolite</th>\n",
       "      <th>orthology_id</th>\n",
       "      <th>ORTHOLOGY</th>\n",
       "      <th>gene_id</th>\n",
       "      <th>...</th>\n",
       "      <th>ENZYME</th>\n",
       "      <th>reactant_product</th>\n",
       "    </tr>\n",
       "  </thead>\n",
       "  <tbody>\n",
       "    <tr>\n",
       "      <td class=\"rpy2_rowname\">0</td>\n",
       "        <td class=\"rpy2_names\">1</td>\n",
       "      <td>CE(22:6)</td>\n",
       "      <td>K00637, K01052, K12298</td>\n",
       "      <td>sterol O-acyltransferase [EC:2.3.1.26], lysosomal acid lipase/cholesteryl ester hydrolase [EC:3.1.1.13], bile salt-stimulated lipase [EC:3.1.1.3 3.1.1.13]</td>\n",
       "      <td>6646, 8435, 3988, 1056</td>\n",
       "       <td>...</td>\n",
       "      <td>2.3.1.26, 3.1.1.13</td>\n",
       "      <td>Product, Substrate</td>\n",
       "    </tr>\n",
       "    <tr>\n",
       "      <td class=\"rpy2_rowname\">1</td>\n",
       "        <td class=\"rpy2_names\">2</td>\n",
       "      <td>1,2-DG(32:1)</td>\n",
       "      <td>K00901, K00993, K00994, K01080, K01116, K04714, K05285, K05287, K05288, K05310, K05857, K05858, K05859, K05860, K05861, K11155, K11160, K12298, K13534, K13644, K14073, K14074, K14075, K14076, K14452, K14456, K14457, K14458, K15728, K16816, K18693, K19006, K22283, K22284</td>\n",
       "      <td>diacylglycerol kinase (ATP) [EC:2.7.1.107], ethanolaminephosphotransferase [EC:2.7.8.1], diacylglycerol cholinephosphotransferase [EC:2.7.8.2], phosphatidate phosphatase [EC:3.1.3.4], phosphatidylinositol phospholipase C, gamma-1 [EC:3.1.4.11], shingomyelin synthase [EC:2.7.8.27], GPI ethanolamine phosphate transferase 1 [EC:2.7.-.-], GPI ethanolamine phosphate transferase 2/3 subunit F, GPI ethanolamine phosphate transferase 3 subunit O [EC:2.7.-.-], ethanolamine phosphate transferase 2 subunit G [EC:2.7.-.-], phosphatidylinositol phospholipase C, delta [EC:3.1.4.11], phosphatidylinositol phospholipase C, beta [EC:3.1.4.11], phosphatidylinositol phospholipase C, gamma-2 [EC:3.1.4.11], phosphatidylinositol phospholipase C, epsilon [EC:3.1.4.11], phosphatidylinositol phospholipase C, zeta [EC:3.1.4.11], diacylglycerol O-acyltransferase 1 [EC:2.3.1.20 2.3.1.75 2.3.1.76], diacylglycerol O-acyltransferase 2 [EC:2.3.1.20 2.3.1.75], bile salt-stimulated lipase [EC:3.1.1.3 3.1.1.13], patatin-like phospholipase domain-containing protein 3 [EC:3.1.1.3 2.3.1.-], choline/ethanolamine phosphotransferase [EC:2.7.8.1 2.7.8.2], pancreatic triacylglycerol lipase [EC:3.1.1.3], pancreatic lipase-related protein 1 [EC:3.1.1.3], pancreatic lipase-related protein 2 [EC:3.1.1.3], pancreatic lipase-related protein 3 [EC:3.1.1.3], gastric triacylglycerol lipase [EC:3.1.1.3], 2-acylglycerol O-acyltransferase 3 [EC:2.3.1.20 2.3.1.22], 2-acylglycerol O-acyltransferase 2 [EC:2.3.1.22], 2-acylglycerol O-acyltransferase 1 [EC:2.3.1.22], phosphatidate phosphatase LPIN [EC:3.1.3.4], patatin-like phospholipase domain-containing protein 2 [EC:3.1.1.3], diacylglycerol diphosphate phosphatase / phosphatidate phosphatase [EC:3.1.3.81 3.1.3.4], phosphatidylinositol phospholipase C, eta [EC:3.1.4.11], hepatic triacylglycerol lipase [EC:3.1.1.3], endothelial lipase [EC:3.1.1.3]</td>\n",
       "      <td>139189, 1606, 1607, 1608, 160851, 1609, 8525, 8526, 8527, 9162, 85465, 56994, 8611, 8612, 8613, 5335, 166929, 259230, 23556, 5281, 84720, 54872, 113026, 5333, 84812, 23236, 5330, 5331, 5332, 5336, 51196, 89869, 8694, 84649, 1056, 80339, 10390, 5406, 5407, 5408, 119548, 8513, 346606, 80168, 116255, 23175, 64900, 9663, 57104, 196051, 84513, 23007, 9651, 3990, 9388</td>\n",
       "       <td>...</td>\n",
       "      <td>2.7.1.107, 2.7.8.1, 2.7.8.2, c(\"3.1.3.4\", \"3.1.3.81\"), 3.1.4.11, c(\"3.1.4.3\", \"3.1.4.11\", \"4.6.1.13\"), 2.7.8.27, 2.7.-.-, NULL, 2.3.1.20, 3.1.1.3, 2.3.1.22</td>\n",
       "      <td>Substrate, Product</td>\n",
       "    </tr>\n",
       "    <tr>\n",
       "      <td class=\"rpy2_rowname\">2</td>\n",
       "        <td class=\"rpy2_names\">3</td>\n",
       "      <td>1,2-DG(34:0)</td>\n",
       "      <td>K00901, K00993, K00994, K01080, K01116, K04714, K05285, K05287, K05288, K05310, K05857, K05858, K05859, K05860, K05861, K11155, K11160, K12298, K13534, K13644, K14073, K14074, K14075, K14076, K14452, K14456, K14457, K14458, K15728, K16816, K18693, K19006, K22283, K22284</td>\n",
       "      <td>diacylglycerol kinase (ATP) [EC:2.7.1.107], ethanolaminephosphotransferase [EC:2.7.8.1], diacylglycerol cholinephosphotransferase [EC:2.7.8.2], phosphatidate phosphatase [EC:3.1.3.4], phosphatidylinositol phospholipase C, gamma-1 [EC:3.1.4.11], shingomyelin synthase [EC:2.7.8.27], GPI ethanolamine phosphate transferase 1 [EC:2.7.-.-], GPI ethanolamine phosphate transferase 2/3 subunit F, GPI ethanolamine phosphate transferase 3 subunit O [EC:2.7.-.-], ethanolamine phosphate transferase 2 subunit G [EC:2.7.-.-], phosphatidylinositol phospholipase C, delta [EC:3.1.4.11], phosphatidylinositol phospholipase C, beta [EC:3.1.4.11], phosphatidylinositol phospholipase C, gamma-2 [EC:3.1.4.11], phosphatidylinositol phospholipase C, epsilon [EC:3.1.4.11], phosphatidylinositol phospholipase C, zeta [EC:3.1.4.11], diacylglycerol O-acyltransferase 1 [EC:2.3.1.20 2.3.1.75 2.3.1.76], diacylglycerol O-acyltransferase 2 [EC:2.3.1.20 2.3.1.75], bile salt-stimulated lipase [EC:3.1.1.3 3.1.1.13], patatin-like phospholipase domain-containing protein 3 [EC:3.1.1.3 2.3.1.-], choline/ethanolamine phosphotransferase [EC:2.7.8.1 2.7.8.2], pancreatic triacylglycerol lipase [EC:3.1.1.3], pancreatic lipase-related protein 1 [EC:3.1.1.3], pancreatic lipase-related protein 2 [EC:3.1.1.3], pancreatic lipase-related protein 3 [EC:3.1.1.3], gastric triacylglycerol lipase [EC:3.1.1.3], 2-acylglycerol O-acyltransferase 3 [EC:2.3.1.20 2.3.1.22], 2-acylglycerol O-acyltransferase 2 [EC:2.3.1.22], 2-acylglycerol O-acyltransferase 1 [EC:2.3.1.22], phosphatidate phosphatase LPIN [EC:3.1.3.4], patatin-like phospholipase domain-containing protein 2 [EC:3.1.1.3], diacylglycerol diphosphate phosphatase / phosphatidate phosphatase [EC:3.1.3.81 3.1.3.4], phosphatidylinositol phospholipase C, eta [EC:3.1.4.11], hepatic triacylglycerol lipase [EC:3.1.1.3], endothelial lipase [EC:3.1.1.3]</td>\n",
       "      <td>139189, 1606, 1607, 1608, 160851, 1609, 8525, 8526, 8527, 9162, 85465, 56994, 8611, 8612, 8613, 5335, 166929, 259230, 23556, 5281, 84720, 54872, 113026, 5333, 84812, 23236, 5330, 5331, 5332, 5336, 51196, 89869, 8694, 84649, 1056, 80339, 10390, 5406, 5407, 5408, 119548, 8513, 346606, 80168, 116255, 23175, 64900, 9663, 57104, 196051, 84513, 23007, 9651, 3990, 9388</td>\n",
       "       <td>...</td>\n",
       "      <td>2.7.1.107, 2.7.8.1, 2.7.8.2, c(\"3.1.3.4\", \"3.1.3.81\"), 3.1.4.11, c(\"3.1.4.3\", \"3.1.4.11\", \"4.6.1.13\"), 2.7.8.27, 2.7.-.-, NULL, 2.3.1.20, 3.1.1.3, 2.3.1.22</td>\n",
       "      <td>Substrate, Product</td>\n",
       "    </tr>\n",
       "    <tr>\n",
       "      <td class=\"rpy2_rowname\">3</td>\n",
       "        <td class=\"rpy2_names\">4</td>\n",
       "      <td>1,2-DG(36:4)</td>\n",
       "      <td>K00901, K00993, K00994, K01080, K01116, K04714, K05285, K05287, K05288, K05310, K05857, K05858, K05859, K05860, K05861, K11155, K11160, K12298, K13534, K13644, K14073, K14074, K14075, K14076, K14452, K14456, K14457, K14458, K15728, K16816, K18693, K19006, K22283, K22284</td>\n",
       "      <td>diacylglycerol kinase (ATP) [EC:2.7.1.107], ethanolaminephosphotransferase [EC:2.7.8.1], diacylglycerol cholinephosphotransferase [EC:2.7.8.2], phosphatidate phosphatase [EC:3.1.3.4], phosphatidylinositol phospholipase C, gamma-1 [EC:3.1.4.11], shingomyelin synthase [EC:2.7.8.27], GPI ethanolamine phosphate transferase 1 [EC:2.7.-.-], GPI ethanolamine phosphate transferase 2/3 subunit F, GPI ethanolamine phosphate transferase 3 subunit O [EC:2.7.-.-], ethanolamine phosphate transferase 2 subunit G [EC:2.7.-.-], phosphatidylinositol phospholipase C, delta [EC:3.1.4.11], phosphatidylinositol phospholipase C, beta [EC:3.1.4.11], phosphatidylinositol phospholipase C, gamma-2 [EC:3.1.4.11], phosphatidylinositol phospholipase C, epsilon [EC:3.1.4.11], phosphatidylinositol phospholipase C, zeta [EC:3.1.4.11], diacylglycerol O-acyltransferase 1 [EC:2.3.1.20 2.3.1.75 2.3.1.76], diacylglycerol O-acyltransferase 2 [EC:2.3.1.20 2.3.1.75], bile salt-stimulated lipase [EC:3.1.1.3 3.1.1.13], patatin-like phospholipase domain-containing protein 3 [EC:3.1.1.3 2.3.1.-], choline/ethanolamine phosphotransferase [EC:2.7.8.1 2.7.8.2], pancreatic triacylglycerol lipase [EC:3.1.1.3], pancreatic lipase-related protein 1 [EC:3.1.1.3], pancreatic lipase-related protein 2 [EC:3.1.1.3], pancreatic lipase-related protein 3 [EC:3.1.1.3], gastric triacylglycerol lipase [EC:3.1.1.3], 2-acylglycerol O-acyltransferase 3 [EC:2.3.1.20 2.3.1.22], 2-acylglycerol O-acyltransferase 2 [EC:2.3.1.22], 2-acylglycerol O-acyltransferase 1 [EC:2.3.1.22], phosphatidate phosphatase LPIN [EC:3.1.3.4], patatin-like phospholipase domain-containing protein 2 [EC:3.1.1.3], diacylglycerol diphosphate phosphatase / phosphatidate phosphatase [EC:3.1.3.81 3.1.3.4], phosphatidylinositol phospholipase C, eta [EC:3.1.4.11], hepatic triacylglycerol lipase [EC:3.1.1.3], endothelial lipase [EC:3.1.1.3]</td>\n",
       "      <td>139189, 1606, 1607, 1608, 160851, 1609, 8525, 8526, 8527, 9162, 85465, 56994, 8611, 8612, 8613, 5335, 166929, 259230, 23556, 5281, 84720, 54872, 113026, 5333, 84812, 23236, 5330, 5331, 5332, 5336, 51196, 89869, 8694, 84649, 1056, 80339, 10390, 5406, 5407, 5408, 119548, 8513, 346606, 80168, 116255, 23175, 64900, 9663, 57104, 196051, 84513, 23007, 9651, 3990, 9388</td>\n",
       "       <td>...</td>\n",
       "      <td>2.7.1.107, 2.7.8.1, 2.7.8.2, c(\"3.1.3.4\", \"3.1.3.81\"), 3.1.4.11, c(\"3.1.4.3\", \"3.1.4.11\", \"4.6.1.13\"), 2.7.8.27, 2.7.-.-, NULL, 2.3.1.20, 3.1.1.3, 2.3.1.22</td>\n",
       "      <td>Substrate, Product</td>\n",
       "    </tr>\n",
       "    <tr>\n",
       "      <td class=\"rpy2_rowname\">4</td>\n",
       "        <td class=\"rpy2_names\">5</td>\n",
       "      <td>1,2-DG(34:2)</td>\n",
       "      <td>K00901, K00993, K00994, K01080, K01116, K04714, K05285, K05287, K05288, K05310, K05857, K05858, K05859, K05860, K05861, K11155, K11160, K12298, K13534, K13644, K14073, K14074, K14075, K14076, K14452, K14456, K14457, K14458, K15728, K16816, K18693, K19006, K22283, K22284</td>\n",
       "      <td>diacylglycerol kinase (ATP) [EC:2.7.1.107], ethanolaminephosphotransferase [EC:2.7.8.1], diacylglycerol cholinephosphotransferase [EC:2.7.8.2], phosphatidate phosphatase [EC:3.1.3.4], phosphatidylinositol phospholipase C, gamma-1 [EC:3.1.4.11], shingomyelin synthase [EC:2.7.8.27], GPI ethanolamine phosphate transferase 1 [EC:2.7.-.-], GPI ethanolamine phosphate transferase 2/3 subunit F, GPI ethanolamine phosphate transferase 3 subunit O [EC:2.7.-.-], ethanolamine phosphate transferase 2 subunit G [EC:2.7.-.-], phosphatidylinositol phospholipase C, delta [EC:3.1.4.11], phosphatidylinositol phospholipase C, beta [EC:3.1.4.11], phosphatidylinositol phospholipase C, gamma-2 [EC:3.1.4.11], phosphatidylinositol phospholipase C, epsilon [EC:3.1.4.11], phosphatidylinositol phospholipase C, zeta [EC:3.1.4.11], diacylglycerol O-acyltransferase 1 [EC:2.3.1.20 2.3.1.75 2.3.1.76], diacylglycerol O-acyltransferase 2 [EC:2.3.1.20 2.3.1.75], bile salt-stimulated lipase [EC:3.1.1.3 3.1.1.13], patatin-like phospholipase domain-containing protein 3 [EC:3.1.1.3 2.3.1.-], choline/ethanolamine phosphotransferase [EC:2.7.8.1 2.7.8.2], pancreatic triacylglycerol lipase [EC:3.1.1.3], pancreatic lipase-related protein 1 [EC:3.1.1.3], pancreatic lipase-related protein 2 [EC:3.1.1.3], pancreatic lipase-related protein 3 [EC:3.1.1.3], gastric triacylglycerol lipase [EC:3.1.1.3], 2-acylglycerol O-acyltransferase 3 [EC:2.3.1.20 2.3.1.22], 2-acylglycerol O-acyltransferase 2 [EC:2.3.1.22], 2-acylglycerol O-acyltransferase 1 [EC:2.3.1.22], phosphatidate phosphatase LPIN [EC:3.1.3.4], patatin-like phospholipase domain-containing protein 2 [EC:3.1.1.3], diacylglycerol diphosphate phosphatase / phosphatidate phosphatase [EC:3.1.3.81 3.1.3.4], phosphatidylinositol phospholipase C, eta [EC:3.1.4.11], hepatic triacylglycerol lipase [EC:3.1.1.3], endothelial lipase [EC:3.1.1.3]</td>\n",
       "      <td>139189, 1606, 1607, 1608, 160851, 1609, 8525, 8526, 8527, 9162, 85465, 56994, 8611, 8612, 8613, 5335, 166929, 259230, 23556, 5281, 84720, 54872, 113026, 5333, 84812, 23236, 5330, 5331, 5332, 5336, 51196, 89869, 8694, 84649, 1056, 80339, 10390, 5406, 5407, 5408, 119548, 8513, 346606, 80168, 116255, 23175, 64900, 9663, 57104, 196051, 84513, 23007, 9651, 3990, 9388</td>\n",
       "       <td>...</td>\n",
       "      <td>2.7.1.107, 2.7.8.1, 2.7.8.2, c(\"3.1.3.4\", \"3.1.3.81\"), 3.1.4.11, c(\"3.1.4.3\", \"3.1.4.11\", \"4.6.1.13\"), 2.7.8.27, 2.7.-.-, NULL, 2.3.1.20, 3.1.1.3, 2.3.1.22</td>\n",
       "      <td>Substrate, Product</td>\n",
       "    </tr>\n",
       "    <tr>\n",
       "      <td class=\"rpy2_rowname\">5</td>\n",
       "        <td class=\"rpy2_names\">6</td>\n",
       "      <td>1,2-DG(36:3)</td>\n",
       "      <td>K00901, K00993, K00994, K01080, K01116, K04714, K05285, K05287, K05288, K05310, K05857, K05858, K05859, K05860, K05861, K11155, K11160, K12298, K13534, K13644, K14073, K14074, K14075, K14076, K14452, K14456, K14457, K14458, K15728, K16816, K18693, K19006, K22283, K22284</td>\n",
       "      <td>diacylglycerol kinase (ATP) [EC:2.7.1.107], ethanolaminephosphotransferase [EC:2.7.8.1], diacylglycerol cholinephosphotransferase [EC:2.7.8.2], phosphatidate phosphatase [EC:3.1.3.4], phosphatidylinositol phospholipase C, gamma-1 [EC:3.1.4.11], shingomyelin synthase [EC:2.7.8.27], GPI ethanolamine phosphate transferase 1 [EC:2.7.-.-], GPI ethanolamine phosphate transferase 2/3 subunit F, GPI ethanolamine phosphate transferase 3 subunit O [EC:2.7.-.-], ethanolamine phosphate transferase 2 subunit G [EC:2.7.-.-], phosphatidylinositol phospholipase C, delta [EC:3.1.4.11], phosphatidylinositol phospholipase C, beta [EC:3.1.4.11], phosphatidylinositol phospholipase C, gamma-2 [EC:3.1.4.11], phosphatidylinositol phospholipase C, epsilon [EC:3.1.4.11], phosphatidylinositol phospholipase C, zeta [EC:3.1.4.11], diacylglycerol O-acyltransferase 1 [EC:2.3.1.20 2.3.1.75 2.3.1.76], diacylglycerol O-acyltransferase 2 [EC:2.3.1.20 2.3.1.75], bile salt-stimulated lipase [EC:3.1.1.3 3.1.1.13], patatin-like phospholipase domain-containing protein 3 [EC:3.1.1.3 2.3.1.-], choline/ethanolamine phosphotransferase [EC:2.7.8.1 2.7.8.2], pancreatic triacylglycerol lipase [EC:3.1.1.3], pancreatic lipase-related protein 1 [EC:3.1.1.3], pancreatic lipase-related protein 2 [EC:3.1.1.3], pancreatic lipase-related protein 3 [EC:3.1.1.3], gastric triacylglycerol lipase [EC:3.1.1.3], 2-acylglycerol O-acyltransferase 3 [EC:2.3.1.20 2.3.1.22], 2-acylglycerol O-acyltransferase 2 [EC:2.3.1.22], 2-acylglycerol O-acyltransferase 1 [EC:2.3.1.22], phosphatidate phosphatase LPIN [EC:3.1.3.4], patatin-like phospholipase domain-containing protein 2 [EC:3.1.1.3], diacylglycerol diphosphate phosphatase / phosphatidate phosphatase [EC:3.1.3.81 3.1.3.4], phosphatidylinositol phospholipase C, eta [EC:3.1.4.11], hepatic triacylglycerol lipase [EC:3.1.1.3], endothelial lipase [EC:3.1.1.3]</td>\n",
       "      <td>139189, 1606, 1607, 1608, 160851, 1609, 8525, 8526, 8527, 9162, 85465, 56994, 8611, 8612, 8613, 5335, 166929, 259230, 23556, 5281, 84720, 54872, 113026, 5333, 84812, 23236, 5330, 5331, 5332, 5336, 51196, 89869, 8694, 84649, 1056, 80339, 10390, 5406, 5407, 5408, 119548, 8513, 346606, 80168, 116255, 23175, 64900, 9663, 57104, 196051, 84513, 23007, 9651, 3990, 9388</td>\n",
       "       <td>...</td>\n",
       "      <td>2.7.1.107, 2.7.8.1, 2.7.8.2, c(\"3.1.3.4\", \"3.1.3.81\"), 3.1.4.11, c(\"3.1.4.3\", \"3.1.4.11\", \"4.6.1.13\"), 2.7.8.27, 2.7.-.-, NULL, 2.3.1.20, 3.1.1.3, 2.3.1.22</td>\n",
       "      <td>Substrate, Product</td>\n",
       "    </tr>\n",
       "    <tr>\n",
       "      <td class=\"rpy2_rowname\">6</td>\n",
       "        <td class=\"rpy2_names\">7</td>\n",
       "      <td>1,2-DG(32:0)</td>\n",
       "      <td>K00901, K00993, K00994, K01080, K01116, K04714, K05285, K05287, K05288, K05310, K05857, K05858, K05859, K05860, K05861, K11155, K11160, K12298, K13534, K13644, K14073, K14074, K14075, K14076, K14452, K14456, K14457, K14458, K15728, K16816, K18693, K19006, K22283, K22284</td>\n",
       "      <td>diacylglycerol kinase (ATP) [EC:2.7.1.107], ethanolaminephosphotransferase [EC:2.7.8.1], diacylglycerol cholinephosphotransferase [EC:2.7.8.2], phosphatidate phosphatase [EC:3.1.3.4], phosphatidylinositol phospholipase C, gamma-1 [EC:3.1.4.11], shingomyelin synthase [EC:2.7.8.27], GPI ethanolamine phosphate transferase 1 [EC:2.7.-.-], GPI ethanolamine phosphate transferase 2/3 subunit F, GPI ethanolamine phosphate transferase 3 subunit O [EC:2.7.-.-], ethanolamine phosphate transferase 2 subunit G [EC:2.7.-.-], phosphatidylinositol phospholipase C, delta [EC:3.1.4.11], phosphatidylinositol phospholipase C, beta [EC:3.1.4.11], phosphatidylinositol phospholipase C, gamma-2 [EC:3.1.4.11], phosphatidylinositol phospholipase C, epsilon [EC:3.1.4.11], phosphatidylinositol phospholipase C, zeta [EC:3.1.4.11], diacylglycerol O-acyltransferase 1 [EC:2.3.1.20 2.3.1.75 2.3.1.76], diacylglycerol O-acyltransferase 2 [EC:2.3.1.20 2.3.1.75], bile salt-stimulated lipase [EC:3.1.1.3 3.1.1.13], patatin-like phospholipase domain-containing protein 3 [EC:3.1.1.3 2.3.1.-], choline/ethanolamine phosphotransferase [EC:2.7.8.1 2.7.8.2], pancreatic triacylglycerol lipase [EC:3.1.1.3], pancreatic lipase-related protein 1 [EC:3.1.1.3], pancreatic lipase-related protein 2 [EC:3.1.1.3], pancreatic lipase-related protein 3 [EC:3.1.1.3], gastric triacylglycerol lipase [EC:3.1.1.3], 2-acylglycerol O-acyltransferase 3 [EC:2.3.1.20 2.3.1.22], 2-acylglycerol O-acyltransferase 2 [EC:2.3.1.22], 2-acylglycerol O-acyltransferase 1 [EC:2.3.1.22], phosphatidate phosphatase LPIN [EC:3.1.3.4], patatin-like phospholipase domain-containing protein 2 [EC:3.1.1.3], diacylglycerol diphosphate phosphatase / phosphatidate phosphatase [EC:3.1.3.81 3.1.3.4], phosphatidylinositol phospholipase C, eta [EC:3.1.4.11], hepatic triacylglycerol lipase [EC:3.1.1.3], endothelial lipase [EC:3.1.1.3]</td>\n",
       "      <td>139189, 1606, 1607, 1608, 160851, 1609, 8525, 8526, 8527, 9162, 85465, 56994, 8611, 8612, 8613, 5335, 166929, 259230, 23556, 5281, 84720, 54872, 113026, 5333, 84812, 23236, 5330, 5331, 5332, 5336, 51196, 89869, 8694, 84649, 1056, 80339, 10390, 5406, 5407, 5408, 119548, 8513, 346606, 80168, 116255, 23175, 64900, 9663, 57104, 196051, 84513, 23007, 9651, 3990, 9388</td>\n",
       "       <td>...</td>\n",
       "      <td>2.7.1.107, 2.7.8.1, 2.7.8.2, c(\"3.1.3.4\", \"3.1.3.81\"), c(\"3.1.4.3\", \"3.1.4.11\", \"4.6.1.13\"), 3.1.4.11, 2.7.8.27, 2.7.-.-, NULL, 2.3.1.20, 3.1.1.3, 2.3.1.22</td>\n",
       "      <td>Substrate, Product</td>\n",
       "    </tr>\n",
       "    <tr>\n",
       "      <td class=\"rpy2_rowname\">7</td>\n",
       "        <td class=\"rpy2_names\">8</td>\n",
       "      <td>1,2-DG(36:1)</td>\n",
       "      <td>K00901, K00993, K00994, K01080, K01116, K04714, K05285, K05287, K05288, K05310, K05857, K05858, K05859, K05860, K05861, K11155, K11160, K12298, K13534, K13644, K14073, K14074, K14075, K14076, K14452, K14456, K14457, K14458, K15728, K16816, K18693, K19006, K22283, K22284</td>\n",
       "      <td>diacylglycerol kinase (ATP) [EC:2.7.1.107], ethanolaminephosphotransferase [EC:2.7.8.1], diacylglycerol cholinephosphotransferase [EC:2.7.8.2], phosphatidate phosphatase [EC:3.1.3.4], phosphatidylinositol phospholipase C, gamma-1 [EC:3.1.4.11], shingomyelin synthase [EC:2.7.8.27], GPI ethanolamine phosphate transferase 1 [EC:2.7.-.-], GPI ethanolamine phosphate transferase 2/3 subunit F, GPI ethanolamine phosphate transferase 3 subunit O [EC:2.7.-.-], ethanolamine phosphate transferase 2 subunit G [EC:2.7.-.-], phosphatidylinositol phospholipase C, delta [EC:3.1.4.11], phosphatidylinositol phospholipase C, beta [EC:3.1.4.11], phosphatidylinositol phospholipase C, gamma-2 [EC:3.1.4.11], phosphatidylinositol phospholipase C, epsilon [EC:3.1.4.11], phosphatidylinositol phospholipase C, zeta [EC:3.1.4.11], diacylglycerol O-acyltransferase 1 [EC:2.3.1.20 2.3.1.75 2.3.1.76], diacylglycerol O-acyltransferase 2 [EC:2.3.1.20 2.3.1.75], bile salt-stimulated lipase [EC:3.1.1.3 3.1.1.13], patatin-like phospholipase domain-containing protein 3 [EC:3.1.1.3 2.3.1.-], choline/ethanolamine phosphotransferase [EC:2.7.8.1 2.7.8.2], pancreatic triacylglycerol lipase [EC:3.1.1.3], pancreatic lipase-related protein 1 [EC:3.1.1.3], pancreatic lipase-related protein 2 [EC:3.1.1.3], pancreatic lipase-related protein 3 [EC:3.1.1.3], gastric triacylglycerol lipase [EC:3.1.1.3], 2-acylglycerol O-acyltransferase 3 [EC:2.3.1.20 2.3.1.22], 2-acylglycerol O-acyltransferase 2 [EC:2.3.1.22], 2-acylglycerol O-acyltransferase 1 [EC:2.3.1.22], phosphatidate phosphatase LPIN [EC:3.1.3.4], patatin-like phospholipase domain-containing protein 2 [EC:3.1.1.3], diacylglycerol diphosphate phosphatase / phosphatidate phosphatase [EC:3.1.3.81 3.1.3.4], phosphatidylinositol phospholipase C, eta [EC:3.1.4.11], hepatic triacylglycerol lipase [EC:3.1.1.3], endothelial lipase [EC:3.1.1.3]</td>\n",
       "      <td>139189, 1606, 1607, 1608, 160851, 1609, 8525, 8526, 8527, 9162, 85465, 56994, 8611, 8612, 8613, 5335, 166929, 259230, 23556, 5281, 84720, 54872, 113026, 5333, 84812, 23236, 5330, 5331, 5332, 5336, 51196, 89869, 8694, 84649, 1056, 80339, 10390, 5406, 5407, 5408, 119548, 8513, 346606, 80168, 116255, 23175, 64900, 9663, 57104, 196051, 84513, 23007, 9651, 3990, 9388</td>\n",
       "       <td>...</td>\n",
       "      <td>2.7.1.107, 2.7.8.1, 2.7.8.2, c(\"3.1.3.4\", \"3.1.3.81\"), c(\"3.1.4.3\", \"3.1.4.11\", \"4.6.1.13\"), 3.1.4.11, 2.7.8.27, 2.7.-.-, NULL, 2.3.1.20, 3.1.1.3, 2.3.1.22</td>\n",
       "      <td>Substrate, Product</td>\n",
       "    </tr>\n",
       "    <tr>\n",
       "      <td class=\"rpy2_rowname\">8</td>\n",
       "        <td class=\"rpy2_names\">9</td>\n",
       "      <td>1,2-DG(36:2)</td>\n",
       "      <td>K00901, K00993, K00994, K01080, K01116, K04714, K05285, K05287, K05288, K05310, K05857, K05858, K05859, K05860, K05861, K11155, K11160, K12298, K13534, K13644, K14073, K14074, K14075, K14076, K14452, K14456, K14457, K14458, K15728, K16816, K18693, K19006, K22283, K22284</td>\n",
       "      <td>diacylglycerol kinase (ATP) [EC:2.7.1.107], ethanolaminephosphotransferase [EC:2.7.8.1], diacylglycerol cholinephosphotransferase [EC:2.7.8.2], phosphatidate phosphatase [EC:3.1.3.4], phosphatidylinositol phospholipase C, gamma-1 [EC:3.1.4.11], shingomyelin synthase [EC:2.7.8.27], GPI ethanolamine phosphate transferase 1 [EC:2.7.-.-], GPI ethanolamine phosphate transferase 2/3 subunit F, GPI ethanolamine phosphate transferase 3 subunit O [EC:2.7.-.-], ethanolamine phosphate transferase 2 subunit G [EC:2.7.-.-], phosphatidylinositol phospholipase C, delta [EC:3.1.4.11], phosphatidylinositol phospholipase C, beta [EC:3.1.4.11], phosphatidylinositol phospholipase C, gamma-2 [EC:3.1.4.11], phosphatidylinositol phospholipase C, epsilon [EC:3.1.4.11], phosphatidylinositol phospholipase C, zeta [EC:3.1.4.11], diacylglycerol O-acyltransferase 1 [EC:2.3.1.20 2.3.1.75 2.3.1.76], diacylglycerol O-acyltransferase 2 [EC:2.3.1.20 2.3.1.75], bile salt-stimulated lipase [EC:3.1.1.3 3.1.1.13], patatin-like phospholipase domain-containing protein 3 [EC:3.1.1.3 2.3.1.-], choline/ethanolamine phosphotransferase [EC:2.7.8.1 2.7.8.2], pancreatic triacylglycerol lipase [EC:3.1.1.3], pancreatic lipase-related protein 1 [EC:3.1.1.3], pancreatic lipase-related protein 2 [EC:3.1.1.3], pancreatic lipase-related protein 3 [EC:3.1.1.3], gastric triacylglycerol lipase [EC:3.1.1.3], 2-acylglycerol O-acyltransferase 3 [EC:2.3.1.20 2.3.1.22], 2-acylglycerol O-acyltransferase 2 [EC:2.3.1.22], 2-acylglycerol O-acyltransferase 1 [EC:2.3.1.22], phosphatidate phosphatase LPIN [EC:3.1.3.4], patatin-like phospholipase domain-containing protein 2 [EC:3.1.1.3], diacylglycerol diphosphate phosphatase / phosphatidate phosphatase [EC:3.1.3.81 3.1.3.4], phosphatidylinositol phospholipase C, eta [EC:3.1.4.11], hepatic triacylglycerol lipase [EC:3.1.1.3], endothelial lipase [EC:3.1.1.3]</td>\n",
       "      <td>139189, 1606, 1607, 1608, 160851, 1609, 8525, 8526, 8527, 9162, 85465, 56994, 8611, 8612, 8613, 5335, 166929, 259230, 23556, 5281, 84720, 54872, 113026, 5333, 84812, 23236, 5330, 5331, 5332, 5336, 51196, 89869, 8694, 84649, 1056, 80339, 10390, 5406, 5407, 5408, 119548, 8513, 346606, 80168, 116255, 23175, 64900, 9663, 57104, 196051, 84513, 23007, 9651, 3990, 9388</td>\n",
       "       <td>...</td>\n",
       "      <td>2.7.1.107, 2.7.8.1, 2.7.8.2, c(\"3.1.3.4\", \"3.1.3.81\"), c(\"3.1.4.3\", \"3.1.4.11\", \"4.6.1.13\"), 3.1.4.11, 2.7.8.27, 2.7.-.-, NULL, 2.3.1.20, 3.1.1.3, 2.3.1.22</td>\n",
       "      <td>Substrate, Product</td>\n",
       "    </tr>\n",
       "    <tr>\n",
       "      <td class=\"rpy2_rowname\">9</td>\n",
       "        <td class=\"rpy2_names\">10</td>\n",
       "      <td>1,2-DG(34:1)</td>\n",
       "      <td>K00901, K00993, K00994, K01080, K01116, K04714, K05285, K05287, K05288, K05310, K05857, K05858, K05859, K05860, K05861, K11155, K11160, K12298, K13534, K13644, K14073, K14074, K14075, K14076, K14452, K14456, K14457, K14458, K15728, K16816, K18693, K19006, K22283, K22284</td>\n",
       "      <td>diacylglycerol kinase (ATP) [EC:2.7.1.107], ethanolaminephosphotransferase [EC:2.7.8.1], diacylglycerol cholinephosphotransferase [EC:2.7.8.2], phosphatidate phosphatase [EC:3.1.3.4], phosphatidylinositol phospholipase C, gamma-1 [EC:3.1.4.11], shingomyelin synthase [EC:2.7.8.27], GPI ethanolamine phosphate transferase 1 [EC:2.7.-.-], GPI ethanolamine phosphate transferase 2/3 subunit F, GPI ethanolamine phosphate transferase 3 subunit O [EC:2.7.-.-], ethanolamine phosphate transferase 2 subunit G [EC:2.7.-.-], phosphatidylinositol phospholipase C, delta [EC:3.1.4.11], phosphatidylinositol phospholipase C, beta [EC:3.1.4.11], phosphatidylinositol phospholipase C, gamma-2 [EC:3.1.4.11], phosphatidylinositol phospholipase C, epsilon [EC:3.1.4.11], phosphatidylinositol phospholipase C, zeta [EC:3.1.4.11], diacylglycerol O-acyltransferase 1 [EC:2.3.1.20 2.3.1.75 2.3.1.76], diacylglycerol O-acyltransferase 2 [EC:2.3.1.20 2.3.1.75], bile salt-stimulated lipase [EC:3.1.1.3 3.1.1.13], patatin-like phospholipase domain-containing protein 3 [EC:3.1.1.3 2.3.1.-], choline/ethanolamine phosphotransferase [EC:2.7.8.1 2.7.8.2], pancreatic triacylglycerol lipase [EC:3.1.1.3], pancreatic lipase-related protein 1 [EC:3.1.1.3], pancreatic lipase-related protein 2 [EC:3.1.1.3], pancreatic lipase-related protein 3 [EC:3.1.1.3], gastric triacylglycerol lipase [EC:3.1.1.3], 2-acylglycerol O-acyltransferase 3 [EC:2.3.1.20 2.3.1.22], 2-acylglycerol O-acyltransferase 2 [EC:2.3.1.22], 2-acylglycerol O-acyltransferase 1 [EC:2.3.1.22], phosphatidate phosphatase LPIN [EC:3.1.3.4], patatin-like phospholipase domain-containing protein 2 [EC:3.1.1.3], diacylglycerol diphosphate phosphatase / phosphatidate phosphatase [EC:3.1.3.81 3.1.3.4], phosphatidylinositol phospholipase C, eta [EC:3.1.4.11], hepatic triacylglycerol lipase [EC:3.1.1.3], endothelial lipase [EC:3.1.1.3]</td>\n",
       "      <td>139189, 1606, 1607, 1608, 160851, 1609, 8525, 8526, 8527, 9162, 85465, 56994, 8611, 8612, 8613, 5335, 166929, 259230, 23556, 5281, 84720, 54872, 113026, 5333, 84812, 23236, 5330, 5331, 5332, 5336, 51196, 89869, 8694, 84649, 1056, 80339, 10390, 5406, 5407, 5408, 119548, 8513, 346606, 80168, 116255, 23175, 64900, 9663, 57104, 196051, 84513, 23007, 9651, 3990, 9388</td>\n",
       "       <td>...</td>\n",
       "      <td>2.7.1.107, 2.7.8.1, 2.7.8.2, c(\"3.1.3.4\", \"3.1.3.81\"), 3.1.4.11, c(\"3.1.4.3\", \"3.1.4.11\", \"4.6.1.13\"), 2.7.8.27, 2.7.-.-, NULL, 2.3.1.20, 3.1.1.3, 2.3.1.22</td>\n",
       "      <td>Substrate, Product</td>\n",
       "    </tr>\n",
       "  </tbody>\n",
       "</table>"
      ],
      "text/plain": [
       "<rpy2.robjects.vectors.DataFrame object at 0x7feedb1aa180> [RTYPES.VECSXP]\n",
       "R classes: ('data.table', 'data.frame')\n",
       "[StrSexpVe..., StrSexpVe..., StrSexpVe..., StrSexpVe..., ..., StrSexpVe..., StrSexpVe..., StrSexpVe..., StrSexpVe...]\n",
       "  Metabolite: <class 'rpy2.robjects.vectors.StrVector'>\n",
       "  <rpy2.robjects.vectors.StrVector object at 0x7feedb1aab40> [RTYPES.STRSXP]\n",
       "R classes: ('character',)\n",
       "['CE(22:6)', '1,2-DG(3..., '1,2-DG(3..., '1,2-DG(3..., ..., '1,2-DG(3..., '1,2-DG(3..., '1,2-DG(3..., '1,2-DG(3...]\n",
       "  orthology_id: <class 'rpy2.robjects.vectors.StrVector'>\n",
       "  <rpy2.robjects.vectors.StrVector object at 0x7feeda30b7c0> [RTYPES.STRSXP]\n",
       "R classes: ('character',)\n",
       "['K00637, ..., 'K00901, ..., 'K00901, ..., 'K00901, ..., ..., 'K00901, ..., 'K00901, ..., 'K00901, ..., 'K00901, ...]\n",
       "  ORTHOLOGY: <class 'rpy2.robjects.vectors.StrVector'>\n",
       "  <rpy2.robjects.vectors.StrVector object at 0x7feeda30b480> [RTYPES.STRSXP]\n",
       "R classes: ('character',)\n",
       "['sterol O..., 'diacylgl..., 'diacylgl..., 'diacylgl..., ..., 'diacylgl..., 'diacylgl..., 'diacylgl..., 'diacylgl...]\n",
       "  gene_id: <class 'rpy2.robjects.vectors.StrVector'>\n",
       "  <rpy2.robjects.vectors.StrVector object at 0x7feeda30b400> [RTYPES.STRSXP]\n",
       "R classes: ('character',)\n",
       "['6646, 84..., '139189, ..., '139189, ..., '139189, ..., ..., '139189, ..., '139189, ..., '139189, ..., '139189, ...]\n",
       "...\n",
       "  DEFINITION: <class 'rpy2.robjects.vectors.StrVector'>\n",
       "  <rpy2.robjects.vectors.StrVector object at 0x7feeda30bb80> [RTYPES.STRSXP]\n",
       "R classes: ('character',)\n",
       "['C00040 +..., 'C00002 +..., 'C00002 +..., 'C00002 +..., ..., 'C00002 +..., 'C00002 +..., 'C00002 +..., 'C00002 +...]\n",
       "  ORGANISM: <class 'rpy2.robjects.vectors.StrVector'>\n",
       "  <rpy2.robjects.vectors.StrVector object at 0x7feeda564780> [RTYPES.STRSXP]\n",
       "R classes: ('character',)\n",
       "['Acyl-CoA..., 'ATP + 1,..., 'ATP + 1,..., 'ATP + 1,..., ..., 'ATP + 1,..., 'ATP + 1,..., 'ATP + 1,..., 'ATP + 1,...]\n",
       "  PATHWAY: <class 'rpy2.robjects.vectors.StrVector'>\n",
       "  <rpy2.robjects.vectors.StrVector object at 0x7feeda30b240> [RTYPES.STRSXP]\n",
       "R classes: ('character',)\n",
       "['2.3.1.26..., '2.7.1.10..., '2.7.1.10..., '2.7.1.10..., ..., '2.7.1.10..., '2.7.1.10..., '2.7.1.10..., '2.7.1.10...]\n",
       "  DBLINKS: <class 'rpy2.robjects.vectors.StrVector'>\n",
       "  <rpy2.robjects.vectors.StrVector object at 0x7feeda564640> [RTYPES.STRSXP]\n",
       "R classes: ('character',)\n",
       "['Product,..., 'Substrat..., 'Substrat..., 'Substrat..., ..., 'Substrat..., 'Substrat..., 'Substrat..., 'Substrat...]"
      ]
     },
     "execution_count": 32,
     "metadata": {},
     "output_type": "execute_result"
    }
   ],
   "source": [
    "robjects.r('''\n",
    "met_gene_info2=data.table::data.table(rclass_info)[,lapply(.SD, function(x) toString(unique(x))), by = 'Metabolite']\n",
    "''')"
   ]
  },
  {
   "cell_type": "code",
   "execution_count": null,
   "id": "adverse-beatles",
   "metadata": {},
   "outputs": [],
   "source": []
  }
 ],
 "metadata": {
  "appyter": {
   "nbconstruct": {
    "filename": "MetENP_Appyter_2.ipynb",
    "files": {},
    "version": "0.13.0\n"
   },
   "nbexecute": {
    "completed": "2021-03-26T17:35:37.748562+00:00",
    "files": {},
    "started": "2021-03-26T17:34:17.415962+00:00",
    "version": "0.13.0\n"
   }
  },
  "kernelspec": {
   "display_name": "my-first-appyter",
   "language": "python",
   "name": "my-first-appyter"
  },
  "language_info": {
   "codemirror_mode": {
    "name": "ipython",
    "version": 3
   },
   "file_extension": ".py",
   "mimetype": "text/x-python",
   "name": "python",
   "nbconvert_exporter": "python",
   "pygments_lexer": "ipython3",
   "version": "3.8.5"
  }
 },
 "nbformat": 4,
 "nbformat_minor": 5
}

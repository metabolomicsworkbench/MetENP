{
 "cells": [
  {
   "cell_type": "code",
   "execution_count": 1,
   "id": "liquid-timber",
   "metadata": {
    "execution": {
     "iopub.execute_input": "2021-03-26T03:45:54.808008Z",
     "iopub.status.busy": "2021-03-26T03:45:54.806090Z",
     "iopub.status.idle": "2021-03-26T03:46:09.350407Z",
     "shell.execute_reply": "2021-03-26T03:46:09.351935Z"
    }
   },
   "outputs": [
    {
     "data": {
      "text/plain": [
       "''"
      ]
     },
     "execution_count": 1,
     "metadata": {},
     "output_type": "execute_result"
    }
   ],
   "source": [
    "import rpy2\n",
    "import rpy2.robjects as robjects\n",
    "import rpy2.robjects.packages as rpackages\n",
    "\n",
    "from rpy2.robjects import numpy2ri, pandas2ri\n",
    "\n",
    "import rpy2.ipython.html\n",
    "rpy2.ipython.html.init_printing()\n",
    "\n",
    "import rpy2.robjects.lib.ggplot2 as gp\n",
    "from rpy2.ipython.ggplot import image_png\n",
    "\n",
    "from rpy2.rinterface_lib import openrlib\n",
    "\n",
    "robjects.r('''\n",
    "\n",
    "library(MetENP)\n",
    "\n",
    "''')\n",
    ";"
   ]
  },
  {
   "cell_type": "code",
   "execution_count": 2,
   "id": "liquid-violation",
   "metadata": {
    "execution": {
     "iopub.execute_input": "2021-03-26T03:46:09.368465Z",
     "iopub.status.busy": "2021-03-26T03:46:09.363716Z",
     "iopub.status.idle": "2021-03-26T03:46:27.098088Z",
     "shell.execute_reply": "2021-03-26T03:46:27.103325Z"
    }
   },
   "outputs": [],
   "source": [
    "data_1 = robjects.r['getmwstudies']('ST000915', \n",
    "    'data'\n",
    ")"
   ]
  },
  {
   "cell_type": "code",
   "execution_count": 3,
   "id": "overall-symphony",
   "metadata": {
    "execution": {
     "iopub.execute_input": "2021-03-26T03:46:27.144593Z",
     "iopub.status.busy": "2021-03-26T03:46:27.137371Z",
     "iopub.status.idle": "2021-03-26T03:46:27.609503Z",
     "shell.execute_reply": "2021-03-26T03:46:27.610912Z"
    }
   },
   "outputs": [],
   "source": [
    "with openrlib.rlock:\n",
    "    \n",
    "    robjects.r.assign('data_1', data_1)\n",
    "    \n",
    "    robjects.r('''\n",
    "\n",
    "    data_1_print = data.frame(apply(data_1, c(1,2), function(x){unlist(x, TRUE, TRUE)}))\n",
    "    head(data_1_print)\n",
    "\n",
    "    ''')\n",
    "    \n",
    "    pass"
   ]
  },
  {
   "cell_type": "code",
   "execution_count": 4,
   "id": "thorough-program",
   "metadata": {
    "execution": {
     "iopub.execute_input": "2021-03-26T03:46:27.629174Z",
     "iopub.status.busy": "2021-03-26T03:46:27.627421Z",
     "iopub.status.idle": "2021-03-26T03:46:28.817269Z",
     "shell.execute_reply": "2021-03-26T03:46:28.827070Z"
    }
   },
   "outputs": [],
   "source": [
    "metadata = robjects.r['getmwstudies']('ST000915', \n",
    "    'factors'\n",
    ")"
   ]
  },
  {
   "cell_type": "code",
   "execution_count": 5,
   "id": "satisfied-preliminary",
   "metadata": {
    "execution": {
     "iopub.execute_input": "2021-03-26T03:46:28.850806Z",
     "iopub.status.busy": "2021-03-26T03:46:28.845811Z",
     "iopub.status.idle": "2021-03-26T03:46:28.889350Z",
     "shell.execute_reply": "2021-03-26T03:46:28.890566Z"
    }
   },
   "outputs": [
    {
     "data": {
      "text/html": [
       "\n",
       "<emph>DataFrame</emph> with 6 rows and\n",
       "  5 columns:\n",
       "<table class=\"rpy2_table\">\n",
       "  <thead>\n",
       "    <tr class=\"rpy2_names\">\n",
       "      <th></th>\n",
       "      <th></th>\n",
       "      <th>study_id</th>\n",
       "      <th>local_sample_id</th>\n",
       "      <th>subject_type</th>\n",
       "      <th>factors</th>\n",
       "      <th>Diagnosis</th>\n",
       "    </tr>\n",
       "  </thead>\n",
       "  <tbody>\n",
       "    <tr>\n",
       "      <td class=\"rpy2_rowname\">0</td>\n",
       "        <td class=\"rpy2_names\">1</td>\n",
       "      <td>ST000915</td>\n",
       "      <td>NASH005</td>\n",
       "      <td>Human clinical study</td>\n",
       "      <td>Diagnosis:Cirrhosis</td>\n",
       "      <td>Cirrhosis</td>\n",
       "    </tr>\n",
       "    <tr>\n",
       "      <td class=\"rpy2_rowname\">1</td>\n",
       "        <td class=\"rpy2_names\">2</td>\n",
       "      <td>ST000915</td>\n",
       "      <td>NASH007</td>\n",
       "      <td>Human clinical study</td>\n",
       "      <td>Diagnosis:Cirrhosis</td>\n",
       "      <td>Cirrhosis</td>\n",
       "    </tr>\n",
       "    <tr>\n",
       "      <td class=\"rpy2_rowname\">2</td>\n",
       "        <td class=\"rpy2_names\">3</td>\n",
       "      <td>ST000915</td>\n",
       "      <td>NASH009</td>\n",
       "      <td>Human clinical study</td>\n",
       "      <td>Diagnosis:Cirrhosis</td>\n",
       "      <td>Cirrhosis</td>\n",
       "    </tr>\n",
       "    <tr>\n",
       "      <td class=\"rpy2_rowname\">3</td>\n",
       "        <td class=\"rpy2_names\">4</td>\n",
       "      <td>ST000915</td>\n",
       "      <td>NASH013</td>\n",
       "      <td>Human clinical study</td>\n",
       "      <td>Diagnosis:Cirrhosis</td>\n",
       "      <td>Cirrhosis</td>\n",
       "    </tr>\n",
       "    <tr>\n",
       "      <td class=\"rpy2_rowname\">4</td>\n",
       "        <td class=\"rpy2_names\">5</td>\n",
       "      <td>ST000915</td>\n",
       "      <td>NASH016</td>\n",
       "      <td>Human clinical study</td>\n",
       "      <td>Diagnosis:Cirrhosis</td>\n",
       "      <td>Cirrhosis</td>\n",
       "    </tr>\n",
       "    <tr>\n",
       "      <td class=\"rpy2_rowname\">5</td>\n",
       "        <td class=\"rpy2_names\">6</td>\n",
       "      <td>ST000915</td>\n",
       "      <td>NASH022</td>\n",
       "      <td>Human clinical study</td>\n",
       "      <td>Diagnosis:Cirrhosis</td>\n",
       "      <td>Cirrhosis</td>\n",
       "    </tr>\n",
       "  </tbody>\n",
       "</table>"
      ],
      "text/plain": [
       "<rpy2.robjects.vectors.DataFrame object at 0x7f8f1b303f00> [RTYPES.VECSXP]\n",
       "R classes: ('data.frame',)\n",
       "[StrSexp..., StrSexp..., StrSexp..., StrSexp..., StrSexp...]\n",
       "  study_id: <class 'rpy2.rinterface_lib.sexp.StrSexpVector'>\n",
       "  <rpy2.rinterface_lib.sexp.StrSexpVector object at 0x7f8f1b303240> [RTYPES.STRSXP]\n",
       "  local_sample_id: <class 'rpy2.rinterface_lib.sexp.StrSexpVector'>\n",
       "  <rpy2.rinterface_lib.sexp.StrSexpVector object at 0x7f8f1b2ed3c0> [RTYPES.STRSXP]\n",
       "  subject_type: <class 'rpy2.rinterface_lib.sexp.StrSexpVector'>\n",
       "  <rpy2.rinterface_lib.sexp.StrSexpVector object at 0x7f8f1b2ed340> [RTYPES.STRSXP]\n",
       "  factors: <class 'rpy2.rinterface_lib.sexp.StrSexpVector'>\n",
       "  <rpy2.rinterface_lib.sexp.StrSexpVector object at 0x7f8f1b300b40> [RTYPES.STRSXP]\n",
       "  Diagnosis: <class 'rpy2.rinterface_lib.sexp.StrSexpVector'>\n",
       "  <rpy2.rinterface_lib.sexp.StrSexpVector object at 0x7f8f1b300140> [RTYPES.STRSXP]"
      ]
     },
     "execution_count": 5,
     "metadata": {},
     "output_type": "execute_result"
    }
   ],
   "source": [
    "robjects.r.assign('metadata', metadata)\n",
    "\n",
    "robjects.r('''\n",
    "metadata_print = data.frame(apply(metadata, c(1,2), function(x){unlist(x, TRUE, TRUE)}))\n",
    "head(metadata_print)\n",
    "''')"
   ]
  },
  {
   "cell_type": "markdown",
   "id": "alone-consultancy",
   "metadata": {},
   "source": [
    "Find the factors you would want to compare\n",
    "Multiple factors (independent variables) are formatted in multiple columns but you can get information on all the factors by \"factors\" column, such as 'TreatmentGroup:Prednisolone', this indicates column name 'TreatmentGroup' with factor Prednisolone. For t-test use the factors in the same column. For comparing multipe independent variables use anova by anova_ana function."
   ]
  },
  {
   "cell_type": "markdown",
   "id": "tired-sydney",
   "metadata": {},
   "source": [
    "### Associate metabolomics data to the refmet class"
   ]
  },
  {
   "cell_type": "code",
   "execution_count": 6,
   "id": "global-vocabulary",
   "metadata": {
    "execution": {
     "iopub.execute_input": "2021-03-26T03:46:28.903326Z",
     "iopub.status.busy": "2021-03-26T03:46:28.900099Z",
     "iopub.status.idle": "2021-03-26T03:46:40.611323Z",
     "shell.execute_reply": "2021-03-26T03:46:40.612586Z"
    }
   },
   "outputs": [
    {
     "data": {
      "text/html": [
       "\n",
       "<emph>DataFrame</emph> with 6 rows and\n",
       "  97 columns:\n",
       "<table class=\"rpy2_table\">\n",
       "  <thead>\n",
       "    <tr class=\"rpy2_names\">\n",
       "      <th></th>\n",
       "      <th></th>\n",
       "      <th>metabolite_name</th>\n",
       "      <th>analysis_id</th>\n",
       "      <th>analysis_summary</th>\n",
       "      <th>metabolite_id</th>\n",
       "      <th>...</th>\n",
       "      <th>main_class</th>\n",
       "      <th>sub_class</th>\n",
       "    </tr>\n",
       "  </thead>\n",
       "  <tbody>\n",
       "    <tr>\n",
       "      <td class=\"rpy2_rowname\">0</td>\n",
       "        <td class=\"rpy2_names\">1</td>\n",
       "      <td>1,2-DG(30:0)</td>\n",
       "      <td>AN001488</td>\n",
       "      <td>Core E Neutral Lipids</td>\n",
       "      <td>ME231190</td>\n",
       "       <td>...</td>\n",
       "      <td>Diradylglycerols</td>\n",
       "      <td>DAG</td>\n",
       "    </tr>\n",
       "    <tr>\n",
       "      <td class=\"rpy2_rowname\">1</td>\n",
       "        <td class=\"rpy2_names\">2</td>\n",
       "      <td>1,2-DG(30:1)</td>\n",
       "      <td>AN001488</td>\n",
       "      <td>Core E Neutral Lipids</td>\n",
       "      <td>ME231189</td>\n",
       "       <td>...</td>\n",
       "      <td>Diradylglycerols</td>\n",
       "      <td>DAG</td>\n",
       "    </tr>\n",
       "    <tr>\n",
       "      <td class=\"rpy2_rowname\">2</td>\n",
       "        <td class=\"rpy2_names\">3</td>\n",
       "      <td>1,2-DG(32:0)</td>\n",
       "      <td>AN001488</td>\n",
       "      <td>Core E Neutral Lipids</td>\n",
       "      <td>ME231196</td>\n",
       "       <td>...</td>\n",
       "      <td>Diradylglycerols</td>\n",
       "      <td>DAG</td>\n",
       "    </tr>\n",
       "    <tr>\n",
       "      <td class=\"rpy2_rowname\">3</td>\n",
       "        <td class=\"rpy2_names\">4</td>\n",
       "      <td>1,2-DG(32:1)</td>\n",
       "      <td>AN001488</td>\n",
       "      <td>Core E Neutral Lipids</td>\n",
       "      <td>ME231195</td>\n",
       "       <td>...</td>\n",
       "      <td>Diradylglycerols</td>\n",
       "      <td>DAG</td>\n",
       "    </tr>\n",
       "    <tr>\n",
       "      <td class=\"rpy2_rowname\">4</td>\n",
       "        <td class=\"rpy2_names\">5</td>\n",
       "      <td>1,2-DG(32:2)</td>\n",
       "      <td>AN001488</td>\n",
       "      <td>Core E Neutral Lipids</td>\n",
       "      <td>ME231194</td>\n",
       "       <td>...</td>\n",
       "      <td>Diradylglycerols</td>\n",
       "      <td>DAG</td>\n",
       "    </tr>\n",
       "    <tr>\n",
       "      <td class=\"rpy2_rowname\">5</td>\n",
       "        <td class=\"rpy2_names\">6</td>\n",
       "      <td>1,2-DG(32:3)</td>\n",
       "      <td>AN001488</td>\n",
       "      <td>Core E Neutral Lipids</td>\n",
       "      <td>ME231193</td>\n",
       "       <td>...</td>\n",
       "      <td>Diradylglycerols</td>\n",
       "      <td>DAG</td>\n",
       "    </tr>\n",
       "  </tbody>\n",
       "</table>"
      ],
      "text/plain": [
       "<rpy2.robjects.vectors.DataFrame object at 0x7f8f1f3104c0> [RTYPES.VECSXP]\n",
       "R classes: ('data.frame',)\n",
       "[StrSexpVe..., StrSexpVe..., StrSexpVe..., StrSexpVe..., ..., StrSexpVe..., StrSexpVe..., StrSexpVe..., StrSexpVe...]\n",
       "  metabolite_name: <class 'rpy2.robjects.vectors.StrVector'>\n",
       "  <rpy2.robjects.vectors.StrVector object at 0x7f8f1f30eec0> [RTYPES.STRSXP]\n",
       "R classes: ('character',)\n",
       "['1,2-..., '1,2-..., '1,2-..., '1,2-..., '1,2-..., '1,2-...]\n",
       "  analysis_id: <class 'rpy2.robjects.vectors.StrVector'>\n",
       "  <rpy2.robjects.vectors.StrVector object at 0x7f8f1f30e040> [RTYPES.STRSXP]\n",
       "R classes: ('character',)\n",
       "['AN00..., 'AN00..., 'AN00..., 'AN00..., 'AN00..., 'AN00...]\n",
       "  analysis_summary: <class 'rpy2.robjects.vectors.StrVector'>\n",
       "  <rpy2.robjects.vectors.StrVector object at 0x7f8f1f30c340> [RTYPES.STRSXP]\n",
       "R classes: ('character',)\n",
       "['Core..., 'Core..., 'Core..., 'Core..., 'Core..., 'Core...]\n",
       "  metabolite_id: <class 'rpy2.robjects.vectors.StrVector'>\n",
       "  <rpy2.robjects.vectors.StrVector object at 0x7f8f1f30c040> [RTYPES.STRSXP]\n",
       "R classes: ('character',)\n",
       "['ME23..., 'ME23..., 'ME23..., 'ME23..., 'ME23..., 'ME23...]\n",
       "...\n",
       "  NASH001: <class 'rpy2.robjects.vectors.StrVector'>\n",
       "  <rpy2.robjects.vectors.StrVector object at 0x7f8f1b2f7ec0> [RTYPES.STRSXP]\n",
       "R classes: ('character',)\n",
       "['C33H..., 'C33H..., 'C35H..., 'C35H..., 'C35H..., 'C35H...]\n",
       "  NASH002: <class 'rpy2.robjects.vectors.StrVector'>\n",
       "  <rpy2.robjects.vectors.StrVector object at 0x7f8f1b2f72c0> [RTYPES.STRSXP]\n",
       "R classes: ('character',)\n",
       "['Glyc..., 'Glyc..., 'Glyc..., 'Glyc..., 'Glyc..., 'Glyc...]\n",
       "  NASH003: <class 'rpy2.robjects.vectors.StrVector'>\n",
       "  <rpy2.robjects.vectors.StrVector object at 0x7f8f1b300d40> [RTYPES.STRSXP]\n",
       "R classes: ('character',)\n",
       "['Dira..., 'Dira..., 'Dira..., 'Dira..., 'Dira..., 'Dira...]\n",
       "  NASH004: <class 'rpy2.robjects.vectors.StrVector'>\n",
       "  <rpy2.robjects.vectors.StrVector object at 0x7f8f1b2ed180> [RTYPES.STRSXP]\n",
       "R classes: ('character',)\n",
       "['DAG', 'DAG', 'DAG', 'DAG', 'DAG', 'DAG']"
      ]
     },
     "execution_count": 6,
     "metadata": {},
     "output_type": "execute_result"
    }
   ],
   "source": [
    "refmet_class = robjects.r['convert_refmet'](data_1)\n",
    "\n",
    "robjects.r.assign('refmet_class', refmet_class)\n",
    "\n",
    "robjects.r('''\n",
    "\n",
    "refmet_class_print = data.frame(apply(refmet_class, c(1,2), function(x){unlist(x, TRUE, TRUE)}))\n",
    "head(refmet_class_print)\n",
    "\n",
    "''')"
   ]
  },
  {
   "cell_type": "code",
   "execution_count": 7,
   "id": "owned-parcel",
   "metadata": {
    "execution": {
     "iopub.execute_input": "2021-03-26T03:46:40.631629Z",
     "iopub.status.busy": "2021-03-26T03:46:40.627016Z",
     "iopub.status.idle": "2021-03-26T03:46:40.641646Z",
     "shell.execute_reply": "2021-03-26T03:46:40.644124Z"
    }
   },
   "outputs": [
    {
     "data": {
      "text/html": [
       "\n",
       "<emph>DataFrame</emph> with 4 rows and\n",
       "  1 columns:\n",
       "<table class=\"rpy2_table\">\n",
       "  <thead>\n",
       "    <tr class=\"rpy2_names\">\n",
       "      <th></th>\n",
       "      <th></th>\n",
       "      <th>unique.metadata_print.factors.</th>\n",
       "    </tr>\n",
       "  </thead>\n",
       "  <tbody>\n",
       "    <tr>\n",
       "      <td class=\"rpy2_rowname\">0</td>\n",
       "        <td class=\"rpy2_names\">1</td>\n",
       "      <td>Diagnosis:Cirrhosis</td>\n",
       "    </tr>\n",
       "    <tr>\n",
       "      <td class=\"rpy2_rowname\">1</td>\n",
       "        <td class=\"rpy2_names\">2</td>\n",
       "      <td>Diagnosis:NASH</td>\n",
       "    </tr>\n",
       "    <tr>\n",
       "      <td class=\"rpy2_rowname\">2</td>\n",
       "        <td class=\"rpy2_names\">3</td>\n",
       "      <td>Diagnosis:Normal</td>\n",
       "    </tr>\n",
       "    <tr>\n",
       "      <td class=\"rpy2_rowname\">3</td>\n",
       "        <td class=\"rpy2_names\">4</td>\n",
       "      <td>Diagnosis:Steatosis</td>\n",
       "    </tr>\n",
       "  </tbody>\n",
       "</table>"
      ],
      "text/plain": [
       "<rpy2.robjects.vectors.DataFrame object at 0x7f8f1f1dd180> [RTYPES.VECSXP]\n",
       "R classes: ('data.frame',)\n",
       "[StrSexpVector]\n",
       "  unique.metadata_print.factors.: <class 'rpy2.rinterface_lib.sexp.StrSexpVector'>\n",
       "  <rpy2.rinterface_lib.sexp.StrSexpVector object at 0x7f8f1f1dd280> [RTYPES.STRSXP]"
      ]
     },
     "execution_count": 7,
     "metadata": {},
     "output_type": "execute_result"
    }
   ],
   "source": [
    "robjects.r('''\n",
    "data.frame(unique(metadata_print$factors))\n",
    "''')"
   ]
  },
  {
   "cell_type": "code",
   "execution_count": 8,
   "id": "exterior-minimum",
   "metadata": {
    "execution": {
     "iopub.execute_input": "2021-03-26T03:46:40.680720Z",
     "iopub.status.busy": "2021-03-26T03:46:40.670937Z",
     "iopub.status.idle": "2021-03-26T03:46:40.704072Z",
     "shell.execute_reply": "2021-03-26T03:46:40.707099Z"
    }
   },
   "outputs": [
    {
     "data": {
      "text/html": [
       "\n",
       "<emph>DataFrame</emph> with 6 rows and\n",
       "  1 columns:\n",
       "<table class=\"rpy2_table\">\n",
       "  <thead>\n",
       "    <tr class=\"rpy2_names\">\n",
       "      <th></th>\n",
       "      <th></th>\n",
       "      <th>unique.data_1_print.analysis_summary.</th>\n",
       "    </tr>\n",
       "  </thead>\n",
       "  <tbody>\n",
       "    <tr>\n",
       "      <td class=\"rpy2_rowname\">0</td>\n",
       "        <td class=\"rpy2_names\">1</td>\n",
       "      <td>Core G Fatty acids/Eicosanoids</td>\n",
       "    </tr>\n",
       "    <tr>\n",
       "      <td class=\"rpy2_rowname\">1</td>\n",
       "        <td class=\"rpy2_names\">2</td>\n",
       "      <td>Core J Sterols</td>\n",
       "    </tr>\n",
       "    <tr>\n",
       "      <td class=\"rpy2_rowname\">2</td>\n",
       "        <td class=\"rpy2_names\">3</td>\n",
       "      <td>Core K Prenols/Cardiolipins</td>\n",
       "    </tr>\n",
       "    <tr>\n",
       "      <td class=\"rpy2_rowname\">3</td>\n",
       "        <td class=\"rpy2_names\">4</td>\n",
       "      <td>Core E Neutral Lipids</td>\n",
       "    </tr>\n",
       "    <tr>\n",
       "      <td class=\"rpy2_rowname\">4</td>\n",
       "        <td class=\"rpy2_names\">5</td>\n",
       "      <td>Core I Sphingolipids</td>\n",
       "    </tr>\n",
       "    <tr>\n",
       "      <td class=\"rpy2_rowname\">5</td>\n",
       "        <td class=\"rpy2_names\">6</td>\n",
       "      <td>Core H Phospholipids</td>\n",
       "    </tr>\n",
       "  </tbody>\n",
       "</table>"
      ],
      "text/plain": [
       "<rpy2.robjects.vectors.DataFrame object at 0x7f8f1f309fc0> [RTYPES.VECSXP]\n",
       "R classes: ('data.frame',)\n",
       "[StrSexpVector]\n",
       "  unique.data_1_print.analysis_summary.: <class 'rpy2.rinterface_lib.sexp.StrSexpVector'>\n",
       "  <rpy2.rinterface_lib.sexp.StrSexpVector object at 0x7f8f1f30b780> [RTYPES.STRSXP]"
      ]
     },
     "execution_count": 8,
     "metadata": {},
     "output_type": "execute_result"
    }
   ],
   "source": [
    "robjects.r('''\n",
    "data.frame(unique(data_1_print$analysis_summary))\n",
    "''')"
   ]
  },
  {
   "cell_type": "markdown",
   "id": "worthy-consequence",
   "metadata": {},
   "source": [
    "### Find significant metabolites, run significance of all the analysis summary together. The analysis summary/modes you got in the previous section"
   ]
  },
  {
   "cell_type": "markdown",
   "id": "better-journalism",
   "metadata": {},
   "source": [
    "There is a normalization step which takes into account missing values, and this can be achieved via three methods:\n",
    "\n",
    "1) half_of_min: where the NAs are replaced by half of min values in the data\n",
    "\n",
    "2) remove_NAs: where Cols with NAs values are removed\n",
    "\n",
    "3) 50percent: where cols with more than 50% NAs values are removed\n",
    "\n",
    "half_of_min is ideal when you wish to see which metabolites were present in either group. Very high fold change would mean it was present in either group."
   ]
  },
  {
   "cell_type": "code",
   "execution_count": 9,
   "id": "artificial-sender",
   "metadata": {
    "execution": {
     "iopub.execute_input": "2021-03-26T03:46:40.740392Z",
     "iopub.status.busy": "2021-03-26T03:46:40.736542Z",
     "iopub.status.idle": "2021-03-26T03:46:40.771276Z",
     "shell.execute_reply": "2021-03-26T03:46:40.770561Z"
    }
   },
   "outputs": [
    {
     "data": {
      "text/html": [
       "\n",
       "<emph>StrVector</emph> with 1 elements:\n",
       "<table class=\"rpy2_table\">\n",
       "<thead>\n",
       "</thead>\n",
       "<tbody>\n",
       "<tr>\n",
       "      <td>0.5</td>\n",
       "</tr>\n",
       "</tbody>\n",
       "</table>"
      ],
      "text/plain": [
       "<rpy2.robjects.vectors.StrVector object at 0x7f8f1b2d2d00> [RTYPES.STRSXP]\n",
       "R classes: ('character',)\n",
       "['0.5']"
      ]
     },
     "execution_count": 9,
     "metadata": {},
     "output_type": "execute_result"
    }
   ],
   "source": [
    "robjects.r.assign('refmet_class', refmet_class)\n",
    "robjects.r.assign('metcol', 'metabolite_name')\n",
    "robjects.r.assign('fac1', 'Cirrhosis')\n",
    "robjects.r.assign('fac2', 'Normal')\n",
    "robjects.r.assign('faccol', 'Diagnosis')\n",
    "robjects.r.assign('samcol', 'local_sample_id')\n",
    "robjects.r.assign('normtype', ['remove_NAs'])\n",
    "robjects.r.assign('pthres', '0.10')\n",
    "robjects.r.assign('thres_log2foldchangevar', '0.5')"
   ]
  },
  {
   "cell_type": "code",
   "execution_count": 10,
   "id": "broadband-cabin",
   "metadata": {
    "execution": {
     "iopub.execute_input": "2021-03-26T03:46:40.804434Z",
     "iopub.status.busy": "2021-03-26T03:46:40.798679Z",
     "iopub.status.idle": "2021-03-26T03:46:40.819604Z",
     "shell.execute_reply": "2021-03-26T03:46:40.808447Z"
    }
   },
   "outputs": [
    {
     "data": {
      "text/plain": [
       "''"
      ]
     },
     "execution_count": 10,
     "metadata": {},
     "output_type": "execute_result"
    }
   ],
   "source": [
    "robjects.r('''\n",
    "ptreshnum<-as.numeric(pthres)\n",
    "thres_log2foldchangenum<-as.numeric(thres_log2foldchangevar)\n",
    "''')\n",
    ";"
   ]
  },
  {
   "cell_type": "code",
   "execution_count": 11,
   "id": "provincial-writer",
   "metadata": {
    "execution": {
     "iopub.execute_input": "2021-03-26T03:46:40.844641Z",
     "iopub.status.busy": "2021-03-26T03:46:40.838897Z",
     "iopub.status.idle": "2021-03-26T03:46:40.883653Z",
     "shell.execute_reply": "2021-03-26T03:46:40.884776Z"
    }
   },
   "outputs": [
    {
     "data": {
      "text/plain": [
       "<rpy2.rinterface_lib.sexp.NULLType object at 0x7f8f178088c0> [RTYPES.NILSXP]"
      ]
     },
     "execution_count": 11,
     "metadata": {},
     "output_type": "execute_result"
    }
   ],
   "source": [
    "robjects.r.assign('mettit', 'Core G Fatty acids/Eicosanoids, Core J Sterols, Core K Prenols/Cardiolipins, Core E Neutral Lipids, Core I Sphingolipids, Core H Phospholipids')\n",
    "robjects.r('''\n",
    "list_mettit <- strsplit(mettit, ',')\n",
    "list_mettit = unlist(list_mettit, TRUE, TRUE)\n",
    "titles <- list()\n",
    "for(elm in list_mettit) {\n",
    "    elm = trimws(elm)\n",
    "    titles <- c(titles, elm)\n",
    "}\n",
    "''')"
   ]
  },
  {
   "cell_type": "code",
   "execution_count": 12,
   "id": "legendary-check",
   "metadata": {
    "execution": {
     "iopub.execute_input": "2021-03-26T03:46:40.915228Z",
     "iopub.status.busy": "2021-03-26T03:46:40.903688Z",
     "iopub.status.idle": "2021-03-26T03:46:46.449034Z",
     "shell.execute_reply": "2021-03-26T03:46:46.449916Z"
    }
   },
   "outputs": [
    {
     "data": {
      "text/plain": [
       "''"
      ]
     },
     "execution_count": 12,
     "metadata": {},
     "output_type": "execute_result"
    }
   ],
   "source": [
    "#is p adjust ONLY FDR?\n",
    "\n",
    "robjects.r('''\n",
    "stats_metabolites = significant_met(metabolomics_data=refmet_class_print, met_col=metcol,analysis_type=c(titles), metadata=metadata, factor1=fac1, factor2=fac2, factor_col=faccol,sample_col=samcol, p_adjust='fdr',normalization=normtype)\n",
    "''')\n",
    ";"
   ]
  },
  {
   "cell_type": "code",
   "execution_count": 13,
   "id": "physical-passing",
   "metadata": {
    "execution": {
     "iopub.execute_input": "2021-03-26T03:46:46.474497Z",
     "iopub.status.busy": "2021-03-26T03:46:46.470436Z",
     "iopub.status.idle": "2021-03-26T03:46:46.488148Z",
     "shell.execute_reply": "2021-03-26T03:46:46.490474Z"
    }
   },
   "outputs": [
    {
     "data": {
      "text/plain": [
       "''"
      ]
     },
     "execution_count": 13,
     "metadata": {},
     "output_type": "execute_result"
    }
   ],
   "source": [
    "robjects.r('''\n",
    "sig_metabolites = stats_metabolites[which(stats_metabolites[,\"pval\"] <= ptreshnum&abs(stats_metabolites[,\"log2Fold_change\"])>thres_log2foldchangenum),]\n",
    "''')\n",
    ";"
   ]
  },
  {
   "cell_type": "code",
   "execution_count": 14,
   "id": "shared-stocks",
   "metadata": {
    "execution": {
     "iopub.execute_input": "2021-03-26T03:46:46.504718Z",
     "iopub.status.busy": "2021-03-26T03:46:46.501755Z",
     "iopub.status.idle": "2021-03-26T03:46:56.797789Z",
     "shell.execute_reply": "2021-03-26T03:46:56.799510Z"
    }
   },
   "outputs": [
    {
     "data": {
      "image/png": "[encoded data removed]",
      "text/plain": [
       "<IPython.core.display.Image object>"
      ]
     },
     "execution_count": 14,
     "metadata": {},
     "output_type": "execute_result"
    }
   ],
   "source": [
    "image_png(robjects.r('''\n",
    "plot_volcano(stats_metabolites, thres_pval= ptreshnum, thres_log2foldchange = thres_log2foldchangenum, TRUE)\n",
    "'''))"
   ]
  },
  {
   "cell_type": "markdown",
   "id": "whole-arcade",
   "metadata": {},
   "source": [
    "### Map metabolite class of the significant metabolites utilzing refmet classification in Metabolomics Workbench\n",
    "This function not only maps metabolite to metabolite class but also to external databases such as pubchem, inchi key, smiles and kegg\n",
    "\n",
    "In this example, we will go forward with significant metabolite obtained by t-test/"
   ]
  },
  {
   "cell_type": "code",
   "execution_count": 15,
   "id": "ready-simple",
   "metadata": {
    "execution": {
     "iopub.execute_input": "2021-03-26T03:46:56.823518Z",
     "iopub.status.busy": "2021-03-26T03:46:56.819716Z",
     "iopub.status.idle": "2021-03-26T03:46:58.673604Z",
     "shell.execute_reply": "2021-03-26T03:46:58.674527Z"
    }
   },
   "outputs": [],
   "source": [
    "with openrlib.rlock:\n",
    "    robjects.r('''\n",
    "    sig_metabolites_kegg_id= map_keggid(sig_metabolites)\n",
    "    ''')\n",
    "    pass"
   ]
  },
  {
   "cell_type": "markdown",
   "id": "fabulous-filling",
   "metadata": {},
   "source": [
    "#### Check all your significant metabolites have not been assigned metabolite class\n",
    "Outcome should be 0 elements (?)"
   ]
  },
  {
   "cell_type": "code",
   "execution_count": 16,
   "id": "painful-heater",
   "metadata": {
    "execution": {
     "iopub.execute_input": "2021-03-26T03:46:58.687200Z",
     "iopub.status.busy": "2021-03-26T03:46:58.684395Z",
     "iopub.status.idle": "2021-03-26T03:46:58.693210Z",
     "shell.execute_reply": "2021-03-26T03:46:58.693952Z"
    }
   },
   "outputs": [
    {
     "data": {
      "text/html": [
       "\n",
       "<emph>StrVector</emph> with 1 elements:\n",
       "<table class=\"rpy2_table\">\n",
       "<thead>\n",
       "</thead>\n",
       "<tbody>\n",
       "<tr>\n",
       "      <td>Tricosanoic acid</td>\n",
       "</tr>\n",
       "</tbody>\n",
       "</table>"
      ],
      "text/plain": [
       "<rpy2.robjects.vectors.StrVector object at 0x7f8f1b2f0700> [RTYPES.STRSXP]\n",
       "R classes: ('character',)\n",
       "['Tricosanoic acid']"
      ]
     },
     "execution_count": 16,
     "metadata": {},
     "output_type": "execute_result"
    }
   ],
   "source": [
    "robjects.r('''\n",
    "setdiff(sig_metabolites$refmet_name, sig_metabolites_kegg_id$refmet_name)\n",
    "''')"
   ]
  },
  {
   "cell_type": "markdown",
   "id": "least-shape",
   "metadata": {},
   "source": [
    "### Count metabolites in each of the metabolite class and plotting\n",
    "You may choose from sub_class, main_class and super_class"
   ]
  },
  {
   "cell_type": "code",
   "execution_count": 17,
   "id": "convenient-trial",
   "metadata": {
    "execution": {
     "iopub.execute_input": "2021-03-26T03:46:58.706127Z",
     "iopub.status.busy": "2021-03-26T03:46:58.703377Z",
     "iopub.status.idle": "2021-03-26T03:46:58.813878Z",
     "shell.execute_reply": "2021-03-26T03:46:58.814561Z"
    }
   },
   "outputs": [
    {
     "data": {
      "text/plain": [
       "''"
      ]
     },
     "execution_count": 17,
     "metadata": {},
     "output_type": "execute_result"
    }
   ],
   "source": [
    "robjects.r.assign('classtype', ['main_class'])\n",
    "robjects.r('''\n",
    "metclassvar <- as.character(classtype[1])\n",
    "count_changes = metcountplot(df_metclass=sig_metabolites_kegg_id, metclass=metclassvar, plotting=TRUE, thres_logfC = 0.5)\n",
    "''')\n",
    ";"
   ]
  },
  {
   "cell_type": "code",
   "execution_count": 18,
   "id": "desperate-message",
   "metadata": {
    "execution": {
     "iopub.execute_input": "2021-03-26T03:46:58.824304Z",
     "iopub.status.busy": "2021-03-26T03:46:58.821006Z",
     "iopub.status.idle": "2021-03-26T03:46:59.050606Z",
     "shell.execute_reply": "2021-03-26T03:46:59.051736Z"
    }
   },
   "outputs": [
    {
     "data": {
      "image/png": "[encoded data removed]",
      "text/plain": [
       "<IPython.core.display.Image object>"
      ]
     },
     "execution_count": 18,
     "metadata": {},
     "output_type": "execute_result"
    }
   ],
   "source": [
    "image_png(robjects.r('''\n",
    "count_changes$plotimg\n",
    "'''))"
   ]
  },
  {
   "cell_type": "markdown",
   "id": "double-string",
   "metadata": {},
   "source": [
    "### Enrichment class score\n",
    "\n",
    "Calculate the enrichment score of each metabolite class. Enrichment score is calculated through hypergeometric method. One can specify the no. of significant metabolites in a class while calculating the enrichment score. We advice to use the number of mtabolites in each class as 3 or more. But if someone just wants to know the enrichment score and rest of the information of all the metabolites, then they can choose the number as 1."
   ]
  },
  {
   "cell_type": "code",
   "execution_count": 19,
   "id": "civil-attitude",
   "metadata": {
    "execution": {
     "iopub.execute_input": "2021-03-26T03:46:59.069734Z",
     "iopub.status.busy": "2021-03-26T03:46:59.065360Z",
     "iopub.status.idle": "2021-03-26T03:46:59.077609Z",
     "shell.execute_reply": "2021-03-26T03:46:59.074483Z"
    }
   },
   "outputs": [
    {
     "data": {
      "text/html": [
       "\n",
       "<emph>IntVector</emph> with 1 elements:\n",
       "<table class=\"rpy2_table\">\n",
       "<thead>\n",
       "</thead>\n",
       "<tbody>\n",
       "<tr>\n",
       "      <td>5</td>\n",
       "</tr>\n",
       "</tbody>\n",
       "</table>"
      ],
      "text/plain": [
       "<rpy2.robjects.vectors.IntVector object at 0x7f8f1c41a4c0> [RTYPES.INTSXP]\n",
       "R classes: ('integer',)\n",
       "[5]"
      ]
     },
     "execution_count": 19,
     "metadata": {},
     "output_type": "execute_result"
    }
   ],
   "source": [
    "robjects.r.assign('sigmets', 5)"
   ]
  },
  {
   "cell_type": "code",
   "execution_count": 20,
   "id": "involved-milton",
   "metadata": {
    "execution": {
     "iopub.execute_input": "2021-03-26T03:46:59.117958Z",
     "iopub.status.busy": "2021-03-26T03:46:59.114694Z",
     "iopub.status.idle": "2021-03-26T03:46:59.202923Z",
     "shell.execute_reply": "2021-03-26T03:46:59.203683Z"
    }
   },
   "outputs": [
    {
     "data": {
      "text/plain": [
       "''"
      ]
     },
     "execution_count": 20,
     "metadata": {},
     "output_type": "execute_result"
    }
   ],
   "source": [
    "robjects.r('''\n",
    "metenrichment = metclassenrichment(df_metclass=sig_metabolites_kegg_id,refmet_class, metclass=metclassvar,enrich_stats=\"HG\",no=sigmets)\n",
    "''')\n",
    ";"
   ]
  },
  {
   "cell_type": "markdown",
   "id": "twenty-football",
   "metadata": {},
   "source": [
    "#### Plot the enrichment score via function plot_met_enrichment"
   ]
  },
  {
   "cell_type": "code",
   "execution_count": 21,
   "id": "stuck-hindu",
   "metadata": {
    "execution": {
     "iopub.execute_input": "2021-03-26T03:46:59.213218Z",
     "iopub.status.busy": "2021-03-26T03:46:59.210763Z",
     "iopub.status.idle": "2021-03-26T03:46:59.310288Z",
     "shell.execute_reply": "2021-03-26T03:46:59.311145Z"
    }
   },
   "outputs": [
    {
     "data": {
      "image/png": "[encoded data removed]",
      "text/plain": [
       "<IPython.core.display.Image object>"
      ]
     },
     "execution_count": 21,
     "metadata": {},
     "output_type": "execute_result"
    }
   ],
   "source": [
    "image_png(robjects.r('''\n",
    "plot_met_enrichment(metenrichment, metclassvar,\"HG\", no=sigmets)\n",
    "'''))"
   ]
  },
  {
   "cell_type": "markdown",
   "id": "informational-flood",
   "metadata": {},
   "source": [
    "### Check the pathways with reactions of all the significant metabolites"
   ]
  },
  {
   "cell_type": "code",
   "execution_count": 22,
   "id": "alternate-topic",
   "metadata": {
    "execution": {
     "iopub.execute_input": "2021-03-26T03:46:59.325235Z",
     "iopub.status.busy": "2021-03-26T03:46:59.322127Z",
     "iopub.status.idle": "2021-03-26T03:47:05.216199Z",
     "shell.execute_reply": "2021-03-26T03:47:05.217225Z"
    }
   },
   "outputs": [
    {
     "data": {
      "text/html": [
       "\n",
       "<emph>DataFrame</emph> with 6 rows and\n",
       "  22 columns:\n",
       "<table class=\"rpy2_table\">\n",
       "  <thead>\n",
       "    <tr class=\"rpy2_names\">\n",
       "      <th></th>\n",
       "      <th></th>\n",
       "      <th>rxn</th>\n",
       "      <th>refmet_name</th>\n",
       "      <th>Exact mass</th>\n",
       "      <th>KEGG ID</th>\n",
       "      <th>...</th>\n",
       "      <th>pathway_id</th>\n",
       "      <th>sps_path_id</th>\n",
       "    </tr>\n",
       "  </thead>\n",
       "  <tbody>\n",
       "    <tr>\n",
       "      <td class=\"rpy2_rowname\">0</td>\n",
       "        <td class=\"rpy2_names\">1</td>\n",
       "      <td>R01457</td>\n",
       "      <td>Desmosterol</td>\n",
       "      <td>384.3392</td>\n",
       "      <td>C01802</td>\n",
       "       <td>...</td>\n",
       "      <td>rn00100</td>\n",
       "      <td>hsa00100</td>\n",
       "    </tr>\n",
       "    <tr>\n",
       "      <td class=\"rpy2_rowname\">1</td>\n",
       "        <td class=\"rpy2_names\">2</td>\n",
       "      <td>R01457</td>\n",
       "      <td>Desmosterol</td>\n",
       "      <td>384.3392</td>\n",
       "      <td>C01802</td>\n",
       "       <td>...</td>\n",
       "      <td>rn01100</td>\n",
       "      <td>hsa01100</td>\n",
       "    </tr>\n",
       "    <tr>\n",
       "      <td class=\"rpy2_rowname\">2</td>\n",
       "        <td class=\"rpy2_names\">3</td>\n",
       "      <td>R01494</td>\n",
       "      <td>Cer 18:1;O2/22:0</td>\n",
       "      <td>621.6060</td>\n",
       "      <td>C00195</td>\n",
       "       <td>...</td>\n",
       "      <td>rn00600</td>\n",
       "      <td>hsa00600</td>\n",
       "    </tr>\n",
       "    <tr>\n",
       "      <td class=\"rpy2_rowname\">3</td>\n",
       "        <td class=\"rpy2_names\">4</td>\n",
       "      <td>R01494</td>\n",
       "      <td>Cer 18:1;O2/22:0</td>\n",
       "      <td>621.6060</td>\n",
       "      <td>C00195</td>\n",
       "       <td>...</td>\n",
       "      <td>rn01100</td>\n",
       "      <td>hsa01100</td>\n",
       "    </tr>\n",
       "    <tr>\n",
       "      <td class=\"rpy2_rowname\">4</td>\n",
       "        <td class=\"rpy2_names\">5</td>\n",
       "      <td>R01494</td>\n",
       "      <td>Cer 18:1;O2/20:0</td>\n",
       "      <td>593.5747</td>\n",
       "      <td>C00195</td>\n",
       "       <td>...</td>\n",
       "      <td>rn00600</td>\n",
       "      <td>hsa00600</td>\n",
       "    </tr>\n",
       "    <tr>\n",
       "      <td class=\"rpy2_rowname\">5</td>\n",
       "        <td class=\"rpy2_names\">6</td>\n",
       "      <td>R01494</td>\n",
       "      <td>Cer 18:1;O2/20:0</td>\n",
       "      <td>593.5747</td>\n",
       "      <td>C00195</td>\n",
       "       <td>...</td>\n",
       "      <td>rn01100</td>\n",
       "      <td>hsa01100</td>\n",
       "    </tr>\n",
       "  </tbody>\n",
       "</table>"
      ],
      "text/plain": [
       "<rpy2.robjects.vectors.DataFrame object at 0x7f8f1f1ddd00> [RTYPES.VECSXP]\n",
       "R classes: ('data.frame',)\n",
       "[StrSexpVe..., StrSexpVe..., StrSexpVe..., StrSexpVe..., ..., ListSexpV..., StrSexpVe..., StrSexpVe..., StrSexpVe...]\n",
       "  rxn: <class 'rpy2.robjects.vectors.StrVector'>\n",
       "  <rpy2.robjects.vectors.StrVector object at 0x7f8f1f1ddf40> [RTYPES.STRSXP]\n",
       "R classes: ('character',)\n",
       "['R014..., 'R014..., 'R014..., 'R014..., 'R014..., 'R014...]\n",
       "  refmet_name: <class 'rpy2.robjects.vectors.StrVector'>\n",
       "  <rpy2.robjects.vectors.StrVector object at 0x7f8f1f1ddac0> [RTYPES.STRSXP]\n",
       "R classes: ('character',)\n",
       "['Desm..., 'Desm..., 'Cer ..., 'Cer ..., 'Cer ..., 'Cer ...]\n",
       "  Exact mass: <class 'rpy2.robjects.vectors.StrVector'>\n",
       "  <rpy2.robjects.vectors.StrVector object at 0x7f8f1f1dd0c0> [RTYPES.STRSXP]\n",
       "R classes: ('character',)\n",
       "['384...., '384...., '621...., '621...., '593...., '593....]\n",
       "  KEGG ID: <class 'rpy2.robjects.vectors.StrVector'>\n",
       "  <rpy2.robjects.vectors.StrVector object at 0x7f8f1f1dde00> [RTYPES.STRSXP]\n",
       "R classes: ('character',)\n",
       "['C018..., 'C018..., 'C001..., 'C001..., 'C001..., 'C001...]\n",
       "...\n",
       "<rpy2.robjects.vectors.DataFrame object at 0x7f8f1f1ddd00> [RTYPES.VECSXP]\n",
       "R classes: ('data.frame',)\n",
       "[StrSexpVe..., StrSexpVe..., StrSexpVe..., StrSexpVe..., ..., ListSexpV..., StrSexpVe..., StrSexpVe..., StrSexpVe...]\n",
       "  Normal_mean: <class 'rpy2.robjects.vectors.StrVector'>\n",
       "  <rpy2.robjects.vectors.StrVector object at 0x7f8f1c05b100> [RTYPES.STRSXP]\n",
       "R classes: ('character',)\n",
       "['Ster..., 'Meta..., 'Sphi..., 'Meta..., 'Sphi..., 'Meta...]\n",
       "  Fold_change: <class 'rpy2.robjects.vectors.StrVector'>\n",
       "  <rpy2.robjects.vectors.StrVector object at 0x7f8f1c09d840> [RTYPES.STRSXP]\n",
       "R classes: ('character',)\n",
       "['rn00..., 'rn01..., 'rn00..., 'rn01..., 'rn00..., 'rn01...]\n",
       "  log2Fold_change: <class 'rpy2.robjects.vectors.StrVector'>\n",
       "  <rpy2.robjects.vectors.StrVector object at 0x7f8f1c09d5c0> [RTYPES.STRSXP]\n",
       "R classes: ('character',)\n",
       "['hsa0..., 'hsa0..., 'hsa0..., 'hsa0..., 'hsa0..., 'hsa0...]"
      ]
     },
     "execution_count": 22,
     "metadata": {},
     "output_type": "execute_result"
    }
   ],
   "source": [
    "robjects.r.assign('studyOrg', 'hsa')\n",
    "robjects.r('''\n",
    "met_path = met_pathways(df_metenrichment = metenrichment, studyOrg)\n",
    "head(met_path)\n",
    "''')"
   ]
  },
  {
   "cell_type": "markdown",
   "id": "precise-formation",
   "metadata": {},
   "source": [
    "Find metabolites for which no pathways were registered in Kegg and/or no kegg id was found"
   ]
  },
  {
   "cell_type": "code",
   "execution_count": 23,
   "id": "southeast-garage",
   "metadata": {
    "execution": {
     "iopub.execute_input": "2021-03-26T03:47:05.234414Z",
     "iopub.status.busy": "2021-03-26T03:47:05.230946Z",
     "iopub.status.idle": "2021-03-26T03:47:05.240935Z",
     "shell.execute_reply": "2021-03-26T03:47:05.236576Z"
    }
   },
   "outputs": [],
   "source": [
    "#setdiff(metenrichment$Metabolite,unique(met_path$Metabolite))\n",
    "\n",
    "#not necessary for final script?"
   ]
  },
  {
   "cell_type": "markdown",
   "id": "about-complex",
   "metadata": {},
   "source": [
    "### Get pathway enrichment sore.\n",
    "\n",
    "Once we have the pathway information, we can calculate enrichment score of pathways. Again, here i have used hypergeometric score. For hypergeometric score, we need to know the total number of kegg compounds that are linked to kegg pathways. \n",
    "N = total no. of cmpds linked to kegg pathway (this is the step which might take long), so I advice to run the script comp_linkedto_pathways() just the first time or after 6 months or so if desired to run the pipeline again. save the result from comp_linkedto_pathways() and load it. Loading from saved file would save time for another analysis with another study. However the package takes care of loading. Save the data in the data folder.\n",
    "\n",
    "L = No. of cmpds in a pathway\n",
    "M= no. of altered cmpds in a pathway\n",
    "K =  total no. of altered cmpds\n",
    "phyper(M,L, N-L, K)\n",
    "\n",
    "\n",
    "This function also utilizes korg dataset from pathview package."
   ]
  },
  {
   "cell_type": "code",
   "execution_count": 24,
   "id": "tropical-alaska",
   "metadata": {
    "execution": {
     "iopub.execute_input": "2021-03-26T03:47:05.266036Z",
     "iopub.status.busy": "2021-03-26T03:47:05.261407Z",
     "iopub.status.idle": "2021-03-26T03:47:06.745861Z",
     "shell.execute_reply": "2021-03-26T03:47:06.746638Z"
    }
   },
   "outputs": [
    {
     "data": {
      "text/html": [
       "\n",
       "<emph>DataFrame</emph> with 6 rows and\n",
       "  5 columns:\n",
       "<table class=\"rpy2_table\">\n",
       "  <thead>\n",
       "    <tr class=\"rpy2_names\">\n",
       "      <th></th>\n",
       "      <th></th>\n",
       "      <th>Pathway name</th>\n",
       "      <th>No.of mets in study</th>\n",
       "      <th>Total_no._of_comps_in_pathway</th>\n",
       "      <th>pathway_HG p-value</th>\n",
       "      <th>Padjust</th>\n",
       "    </tr>\n",
       "  </thead>\n",
       "  <tbody>\n",
       "    <tr>\n",
       "      <td class=\"rpy2_rowname\">0</td>\n",
       "        <td class=\"rpy2_names\">1</td>\n",
       "      <td>Arachidonic acid metabolism</td>\n",
       "      <td>4</td>\n",
       "      <td>75</td>\n",
       "      <td>0.9839224283176491</td>\n",
       "      <td>0.9999984188564448</td>\n",
       "    </tr>\n",
       "    <tr>\n",
       "      <td class=\"rpy2_rowname\">1</td>\n",
       "        <td class=\"rpy2_names\">2</td>\n",
       "      <td>Ether lipid metabolism</td>\n",
       "      <td>1</td>\n",
       "      <td>25</td>\n",
       "      <td>0.9554379079073129</td>\n",
       "      <td>0.9999984188564448</td>\n",
       "    </tr>\n",
       "    <tr>\n",
       "      <td class=\"rpy2_rowname\">2</td>\n",
       "        <td class=\"rpy2_names\">3</td>\n",
       "      <td>Glycerophospholipid metabolism</td>\n",
       "      <td>5</td>\n",
       "      <td>52</td>\n",
       "      <td>0.7372159807892236</td>\n",
       "      <td>0.9999984188564448</td>\n",
       "    </tr>\n",
       "    <tr>\n",
       "      <td class=\"rpy2_rowname\">3</td>\n",
       "        <td class=\"rpy2_names\">4</td>\n",
       "      <td>Glycosylphosphatidylinositol (GPI)-anchor biosynthesis</td>\n",
       "      <td>4</td>\n",
       "      <td>16</td>\n",
       "      <td>0.09842157122901546</td>\n",
       "      <td>0.4428970705305696</td>\n",
       "    </tr>\n",
       "    <tr>\n",
       "      <td class=\"rpy2_rowname\">4</td>\n",
       "        <td class=\"rpy2_names\">5</td>\n",
       "      <td>Phosphonate and phosphinate metabolism</td>\n",
       "      <td>6</td>\n",
       "      <td>56</td>\n",
       "      <td>0.6410496641120365</td>\n",
       "      <td>0.9999984188564448</td>\n",
       "    </tr>\n",
       "    <tr>\n",
       "      <td class=\"rpy2_rowname\">5</td>\n",
       "        <td class=\"rpy2_names\">6</td>\n",
       "      <td>Primary bile acid biosynthesis</td>\n",
       "      <td>1</td>\n",
       "      <td>47</td>\n",
       "      <td>0.9974813212950839</td>\n",
       "      <td>0.9999984188564448</td>\n",
       "    </tr>\n",
       "  </tbody>\n",
       "</table>"
      ],
      "text/plain": [
       "<rpy2.robjects.vectors.DataFrame object at 0x7f8f1f1c7c80> [RTYPES.VECSXP]\n",
       "R classes: ('data.frame',)\n",
       "[IntSexp..., IntSexp..., IntSexp..., FloatSe..., FloatSe...]\n",
       "  Pathway name: <class 'rpy2.rinterface.IntSexpVector'>\n",
       "  <rpy2.rinterface.IntSexpVector object at 0x7f8f1f1c3240> [RTYPES.INTSXP]\n",
       "  No.of mets in study: <class 'rpy2.rinterface.IntSexpVector'>\n",
       "  <rpy2.rinterface.IntSexpVector object at 0x7f8f1f1c33c0> [RTYPES.INTSXP]\n",
       "  Total_no._of_comps_in_pathway: <class 'rpy2.rinterface.IntSexpVector'>\n",
       "  <rpy2.rinterface.IntSexpVector object at 0x7f8f1f1c38c0> [RTYPES.INTSXP]\n",
       "  pathway_HG p-value: <class 'rpy2.rinterface.FloatSexpVector'>\n",
       "  <rpy2.rinterface.FloatSexpVector object at 0x7f8f1c41a440> [RTYPES.REALSXP]\n",
       "  Padjust: <class 'rpy2.rinterface.FloatSexpVector'>\n",
       "  <rpy2.rinterface.FloatSexpVector object at 0x7f8f1b2f3780> [RTYPES.REALSXP]"
      ]
     },
     "execution_count": 24,
     "metadata": {},
     "output_type": "execute_result"
    }
   ],
   "source": [
    "robjects.r('''\n",
    "kegg_es = path_enrichmentscore(met_path,sig_metabolite_kegg_id=sig_metabolite_kegg_id,ls_path=ls_path,refmet_class=refmet_class,sps='hsa',padj='fdr', kegg_comp_path=FALSE)\n",
    "head(kegg_es)\n",
    "''')"
   ]
  },
  {
   "cell_type": "markdown",
   "id": "analyzed-vertical",
   "metadata": {},
   "source": [
    "### Plot pathway network\n",
    "Only plotting significant pathways (pathway with p-value significance).\n",
    "\n",
    "The pathway network is such that it shows metabolites that are connected to different pathways and same metabolite in different pathway. Color of nodes of metabolites are according to the fold change of metabolites (low expression in green and high in red) and size of pathway nodes (square nodes) are according to the number of branches (meaning no of metabolites). All metabolite are written in blue"
   ]
  },
  {
   "cell_type": "code",
   "execution_count": 25,
   "id": "random-aside",
   "metadata": {
    "execution": {
     "iopub.execute_input": "2021-03-26T03:47:06.758369Z",
     "iopub.status.busy": "2021-03-26T03:47:06.755577Z",
     "iopub.status.idle": "2021-03-26T03:47:08.075712Z",
     "shell.execute_reply": "2021-03-26T03:47:08.073077Z"
    }
   },
   "outputs": [
    {
     "data": {
      "image/png": "[encoded data removed]",
      "text/plain": [
       "<IPython.core.display.Image object>"
      ]
     },
     "execution_count": 25,
     "metadata": {},
     "output_type": "execute_result"
    }
   ],
   "source": [
    "image_png(robjects.r('''\n",
    "plot_pathway_networks (met_path,kegg_es, TRUE)\n",
    "'''))"
   ]
  },
  {
   "cell_type": "markdown",
   "id": "revolutionary-rogers",
   "metadata": {},
   "source": [
    "### Heatmap"
   ]
  },
  {
   "cell_type": "code",
   "execution_count": 26,
   "id": "latest-accessory",
   "metadata": {
    "execution": {
     "iopub.execute_input": "2021-03-26T03:47:08.094071Z",
     "iopub.status.busy": "2021-03-26T03:47:08.089963Z",
     "iopub.status.idle": "2021-03-26T03:47:08.101534Z",
     "shell.execute_reply": "2021-03-26T03:47:08.099611Z"
    }
   },
   "outputs": [
    {
     "data": {
      "text/html": [
       "\n",
       "<emph>IntVector</emph> with 1 elements:\n",
       "<table class=\"rpy2_table\">\n",
       "<thead>\n",
       "</thead>\n",
       "<tbody>\n",
       "<tr>\n",
       "      <td>6</td>\n",
       "</tr>\n",
       "</tbody>\n",
       "</table>"
      ],
      "text/plain": [
       "<rpy2.robjects.vectors.IntVector object at 0x7f8f1b2f6d80> [RTYPES.INTSXP]\n",
       "R classes: ('integer',)\n",
       "[6]"
      ]
     },
     "execution_count": 26,
     "metadata": {},
     "output_type": "execute_result"
    }
   ],
   "source": [
    "robjects.r.assign('x_size_heat', 8)\n",
    "robjects.r.assign('y_size_heat', 6)"
   ]
  },
  {
   "cell_type": "code",
   "execution_count": 27,
   "id": "integral-israeli",
   "metadata": {
    "execution": {
     "iopub.execute_input": "2021-03-26T03:47:08.112656Z",
     "iopub.status.busy": "2021-03-26T03:47:08.109993Z",
     "iopub.status.idle": "2021-03-26T03:47:08.343190Z",
     "shell.execute_reply": "2021-03-26T03:47:08.344427Z"
    }
   },
   "outputs": [
    {
     "data": {
      "image/png": "[encoded data removed]",
      "text/plain": [
       "<IPython.core.display.Image object>"
      ]
     },
     "execution_count": 27,
     "metadata": {},
     "output_type": "execute_result"
    }
   ],
   "source": [
    "image_png(robjects.r('''\n",
    "plot_heatmap(met_path, shorten_name=TRUE,refmet_name=FALSE, xaxis=x_size_heat, yaxis=y_size_heat)\n",
    "'''))"
   ]
  },
  {
   "cell_type": "markdown",
   "id": "capital-cincinnati",
   "metadata": {},
   "source": [
    "### Dotplot"
   ]
  },
  {
   "cell_type": "code",
   "execution_count": 28,
   "id": "german-grounds",
   "metadata": {
    "execution": {
     "iopub.execute_input": "2021-03-26T03:47:08.409936Z",
     "iopub.status.busy": "2021-03-26T03:47:08.406840Z",
     "iopub.status.idle": "2021-03-26T03:47:08.415990Z",
     "shell.execute_reply": "2021-03-26T03:47:08.407510Z"
    }
   },
   "outputs": [
    {
     "data": {
      "text/html": [
       "\n",
       "<emph>IntVector</emph> with 1 elements:\n",
       "<table class=\"rpy2_table\">\n",
       "<thead>\n",
       "</thead>\n",
       "<tbody>\n",
       "<tr>\n",
       "      <td>6</td>\n",
       "</tr>\n",
       "</tbody>\n",
       "</table>"
      ],
      "text/plain": [
       "<rpy2.robjects.vectors.IntVector object at 0x7f8f1c09d300> [RTYPES.INTSXP]\n",
       "R classes: ('integer',)\n",
       "[6]"
      ]
     },
     "execution_count": 28,
     "metadata": {},
     "output_type": "execute_result"
    }
   ],
   "source": [
    "robjects.r.assign('x_size_dot', 8)\n",
    "robjects.r.assign('y_size_dot', 6)"
   ]
  },
  {
   "cell_type": "code",
   "execution_count": 29,
   "id": "amateur-completion",
   "metadata": {
    "execution": {
     "iopub.execute_input": "2021-03-26T03:47:08.427236Z",
     "iopub.status.busy": "2021-03-26T03:47:08.424864Z",
     "iopub.status.idle": "2021-03-26T03:47:08.701819Z",
     "shell.execute_reply": "2021-03-26T03:47:08.844710Z"
    }
   },
   "outputs": [
    {
     "data": {
      "image/png": "[encoded data removed]",
      "text/plain": [
       "<IPython.core.display.Image object>"
      ]
     },
     "execution_count": 29,
     "metadata": {},
     "output_type": "execute_result"
    }
   ],
   "source": [
    "image_png(robjects.r('''\n",
    "dotplot_met_class_path (met_path, kegg_es, metclassvar,xaxis=x_size_dot,yaxis=y_size_dot)\n",
    "'''))"
   ]
  },
  {
   "cell_type": "markdown",
   "id": "outdoor-irrigation",
   "metadata": {},
   "source": [
    "### Get the gene and enzyme info\n",
    "\n",
    "Here we get the information of genes involved in enriched pathways for specified organism"
   ]
  },
  {
   "cell_type": "code",
   "execution_count": 30,
   "id": "cultural-empire",
   "metadata": {
    "execution": {
     "iopub.execute_input": "2021-03-26T03:47:08.894928Z",
     "iopub.status.busy": "2021-03-26T03:47:08.887237Z",
     "iopub.status.idle": "2021-03-26T03:47:41.856771Z",
     "shell.execute_reply": "2021-03-26T03:47:41.857886Z"
    }
   },
   "outputs": [
    {
     "data": {
      "text/html": [
       "\n",
       "<emph>DataFrame</emph> with 6 rows and\n",
       "  18 columns:\n",
       "<table class=\"rpy2_table\">\n",
       "  <thead>\n",
       "    <tr class=\"rpy2_names\">\n",
       "      <th></th>\n",
       "      <th></th>\n",
       "      <th>orthology_id</th>\n",
       "      <th>ORTHOLOGY</th>\n",
       "      <th>gene_id</th>\n",
       "      <th>gene_name</th>\n",
       "      <th>...</th>\n",
       "      <th>EQUATION_more</th>\n",
       "      <th>ENZYME</th>\n",
       "    </tr>\n",
       "  </thead>\n",
       "  <tbody>\n",
       "    <tr>\n",
       "      <td class=\"rpy2_rowname\">0</td>\n",
       "        <td class=\"rpy2_names\">1</td>\n",
       "      <td>K00432</td>\n",
       "      <td>glutathione peroxidase [EC:1.11.1.9]</td>\n",
       "      <td>     CDS \n",
       "\"257202\" \n",
       "</td>\n",
       "      <td>[1] \"GPX6, GPX5p, GPXP3, GPx-6, GSHPx-6, dJ1186N24, dJ1186N24.1\"\n",
       "</td>\n",
       "       <td>...</td>\n",
       "      <td>[1] \"2 Glutathione + 5(S)-HPETE <=> Glutathione disulfide + 5(S)-HETE + H2O\"\n",
       "</td>\n",
       "      <td>[1] \"1.11.1.9\"\n",
       "</td>\n",
       "    </tr>\n",
       "    <tr>\n",
       "      <td class=\"rpy2_rowname\">1</td>\n",
       "        <td class=\"rpy2_names\">2</td>\n",
       "      <td>K00432</td>\n",
       "      <td>glutathione peroxidase [EC:1.11.1.9]</td>\n",
       "      <td>   CDS \n",
       "\"2876\" \n",
       "</td>\n",
       "      <td>[1] \"GPX1, GPXD, GSHPX1\"\n",
       "</td>\n",
       "       <td>...</td>\n",
       "      <td>[1] \"2 Glutathione + 5(S)-HPETE <=> Glutathione disulfide + 5(S)-HETE + H2O\"\n",
       "</td>\n",
       "      <td>[1] \"1.11.1.9\"\n",
       "</td>\n",
       "    </tr>\n",
       "    <tr>\n",
       "      <td class=\"rpy2_rowname\">2</td>\n",
       "        <td class=\"rpy2_names\">3</td>\n",
       "      <td>K00432</td>\n",
       "      <td>glutathione peroxidase [EC:1.11.1.9]</td>\n",
       "      <td>   CDS \n",
       "\"2877\" \n",
       "</td>\n",
       "      <td>[1] \"GPX2, GI-GPx, GPRP, GPRP-2, GPx-2, GPx-GI, GSHPX-GI, GSHPx-2\"\n",
       "</td>\n",
       "       <td>...</td>\n",
       "      <td>[1] \"2 Glutathione + 5(S)-HPETE <=> Glutathione disulfide + 5(S)-HETE + H2O\"\n",
       "</td>\n",
       "      <td>[1] \"1.11.1.9\"\n",
       "</td>\n",
       "    </tr>\n",
       "    <tr>\n",
       "      <td class=\"rpy2_rowname\">3</td>\n",
       "        <td class=\"rpy2_names\">4</td>\n",
       "      <td>K00432</td>\n",
       "      <td>glutathione peroxidase [EC:1.11.1.9]</td>\n",
       "      <td>   CDS \n",
       "\"2878\" \n",
       "</td>\n",
       "      <td>[1] \"GPX3, GPx-P, GSHPx-3, GSHPx-P\"\n",
       "</td>\n",
       "       <td>...</td>\n",
       "      <td>[1] \"2 Glutathione + 5(S)-HPETE <=> Glutathione disulfide + 5(S)-HETE + H2O\"\n",
       "</td>\n",
       "      <td>[1] \"1.11.1.9\"\n",
       "</td>\n",
       "    </tr>\n",
       "    <tr>\n",
       "      <td class=\"rpy2_rowname\">4</td>\n",
       "        <td class=\"rpy2_names\">5</td>\n",
       "      <td>K00432</td>\n",
       "      <td>glutathione peroxidase [EC:1.11.1.9]</td>\n",
       "      <td>   CDS \n",
       "\"2880\" \n",
       "</td>\n",
       "      <td>[1] \"GPX5, EGLP, GPx-5, GSHPx-5, HEL-S-75p\"\n",
       "</td>\n",
       "       <td>...</td>\n",
       "      <td>[1] \"2 Glutathione + 5(S)-HPETE <=> Glutathione disulfide + 5(S)-HETE + H2O\"\n",
       "</td>\n",
       "      <td>[1] \"1.11.1.9\"\n",
       "</td>\n",
       "    </tr>\n",
       "    <tr>\n",
       "      <td class=\"rpy2_rowname\">5</td>\n",
       "        <td class=\"rpy2_names\">6</td>\n",
       "      <td>K00432</td>\n",
       "      <td>glutathione peroxidase [EC:1.11.1.9]</td>\n",
       "      <td>   CDS \n",
       "\"2882\" \n",
       "</td>\n",
       "      <td>[1] \"GPX7, CL683, GPX6, GPx-7, GSHPx-7, NPGPx\"\n",
       "</td>\n",
       "       <td>...</td>\n",
       "      <td>[1] \"2 Glutathione + 5(S)-HPETE <=> Glutathione disulfide + 5(S)-HETE + H2O\"\n",
       "</td>\n",
       "      <td>[1] \"1.11.1.9\"\n",
       "</td>\n",
       "    </tr>\n",
       "  </tbody>\n",
       "</table>"
      ],
      "text/plain": [
       "<rpy2.robjects.vectors.DataFrame object at 0x7f8f1f1c7840> [RTYPES.VECSXP]\n",
       "R classes: ('data.frame',)\n",
       "[StrSexpVe..., StrSexpVe..., ListSexpV..., ListSexpV..., ..., ListSexpV..., ListSexpV..., ListSexpV..., ListSexpV...]\n",
       "  orthology_id: <class 'rpy2.robjects.vectors.StrVector'>\n",
       "  <rpy2.robjects.vectors.StrVector object at 0x7f8f1c0acbc0> [RTYPES.STRSXP]\n",
       "R classes: ('character',)\n",
       "['K004..., 'K004..., 'K004..., 'K004..., 'K004..., 'K004...]\n",
       "  ORTHOLOGY: <class 'rpy2.robjects.vectors.StrVector'>\n",
       "  <rpy2.robjects.vectors.StrVector object at 0x7f8f1c0aa300> [RTYPES.STRSXP]\n",
       "R classes: ('character',)\n",
       "['glut..., 'glut..., 'glut..., 'glut..., 'glut..., 'glut...]\n",
       "<rpy2.robjects.vectors.DataFrame object at 0x7f8f1f1c7840> [RTYPES.VECSXP]\n",
       "R classes: ('data.frame',)\n",
       "[StrSexpVe..., StrSexpVe..., ListSexpV..., ListSexpV..., ..., ListSexpV..., ListSexpV..., ListSexpV..., ListSexpV...]\n",
       "<rpy2.robjects.vectors.DataFrame object at 0x7f8f1f1c7840> [RTYPES.VECSXP]\n",
       "R classes: ('data.frame',)\n",
       "[StrSexpVe..., StrSexpVe..., ListSexpV..., ListSexpV..., ..., ListSexpV..., ListSexpV..., ListSexpV..., ListSexpV...]\n",
       "...\n",
       "<rpy2.robjects.vectors.DataFrame object at 0x7f8f1f1c7840> [RTYPES.VECSXP]\n",
       "R classes: ('data.frame',)\n",
       "[StrSexpVe..., StrSexpVe..., ListSexpV..., ListSexpV..., ..., ListSexpV..., ListSexpV..., ListSexpV..., ListSexpV...]\n",
       "<rpy2.robjects.vectors.DataFrame object at 0x7f8f1f1c7840> [RTYPES.VECSXP]\n",
       "R classes: ('data.frame',)\n",
       "[StrSexpVe..., StrSexpVe..., ListSexpV..., ListSexpV..., ..., ListSexpV..., ListSexpV..., ListSexpV..., ListSexpV...]\n",
       "<rpy2.robjects.vectors.DataFrame object at 0x7f8f1f1c7840> [RTYPES.VECSXP]\n",
       "R classes: ('data.frame',)\n",
       "[StrSexpVe..., StrSexpVe..., ListSexpV..., ListSexpV..., ..., ListSexpV..., ListSexpV..., ListSexpV..., ListSexpV...]\n",
       "<rpy2.robjects.vectors.DataFrame object at 0x7f8f1f1c7840> [RTYPES.VECSXP]\n",
       "R classes: ('data.frame',)\n",
       "[StrSexpVe..., StrSexpVe..., ListSexpV..., ListSexpV..., ..., ListSexpV..., ListSexpV..., ListSexpV..., ListSexpV...]"
      ]
     },
     "execution_count": 30,
     "metadata": {},
     "output_type": "execute_result"
    }
   ],
   "source": [
    "robjects.r('''\n",
    "met_gene_info = enzyme_gene_info (metenrichment, studyOrg, metclassvar)\n",
    "head(met_gene_info)\n",
    "''')"
   ]
  },
  {
   "cell_type": "markdown",
   "id": "baking-madison",
   "metadata": {},
   "source": [
    "#### Get the information if metabolite is a reactant or substrate"
   ]
  },
  {
   "cell_type": "code",
   "execution_count": 31,
   "id": "uniform-substitute",
   "metadata": {
    "execution": {
     "iopub.execute_input": "2021-03-26T03:47:41.871972Z",
     "iopub.status.busy": "2021-03-26T03:47:41.869337Z",
     "iopub.status.idle": "2021-03-26T03:47:41.943696Z",
     "shell.execute_reply": "2021-03-26T03:47:41.944542Z"
    }
   },
   "outputs": [
    {
     "data": {
      "text/html": [
       "\n",
       "<emph>DataFrame</emph> with 6 rows and\n",
       "  19 columns:\n",
       "<table class=\"rpy2_table\">\n",
       "  <thead>\n",
       "    <tr class=\"rpy2_names\">\n",
       "      <th></th>\n",
       "      <th></th>\n",
       "      <th>orthology_id</th>\n",
       "      <th>ORTHOLOGY</th>\n",
       "      <th>gene_id</th>\n",
       "      <th>gene_name</th>\n",
       "      <th>...</th>\n",
       "      <th>ENZYME</th>\n",
       "      <th>reactant_product</th>\n",
       "    </tr>\n",
       "  </thead>\n",
       "  <tbody>\n",
       "    <tr>\n",
       "      <td class=\"rpy2_rowname\">0</td>\n",
       "        <td class=\"rpy2_names\">1</td>\n",
       "      <td>K00432</td>\n",
       "      <td>glutathione peroxidase [EC:1.11.1.9]</td>\n",
       "      <td>     CDS \n",
       "\"257202\" \n",
       "</td>\n",
       "      <td>[1] \"GPX6, GPX5p, GPXP3, GPx-6, GSHPx-6, dJ1186N24, dJ1186N24.1\"\n",
       "</td>\n",
       "       <td>...</td>\n",
       "      <td>[1] \"1.11.1.9\"\n",
       "</td>\n",
       "      <td>Product</td>\n",
       "    </tr>\n",
       "    <tr>\n",
       "      <td class=\"rpy2_rowname\">1</td>\n",
       "        <td class=\"rpy2_names\">2</td>\n",
       "      <td>K00432</td>\n",
       "      <td>glutathione peroxidase [EC:1.11.1.9]</td>\n",
       "      <td>   CDS \n",
       "\"2876\" \n",
       "</td>\n",
       "      <td>[1] \"GPX1, GPXD, GSHPX1\"\n",
       "</td>\n",
       "       <td>...</td>\n",
       "      <td>[1] \"1.11.1.9\"\n",
       "</td>\n",
       "      <td>Product</td>\n",
       "    </tr>\n",
       "    <tr>\n",
       "      <td class=\"rpy2_rowname\">2</td>\n",
       "        <td class=\"rpy2_names\">3</td>\n",
       "      <td>K00432</td>\n",
       "      <td>glutathione peroxidase [EC:1.11.1.9]</td>\n",
       "      <td>   CDS \n",
       "\"2877\" \n",
       "</td>\n",
       "      <td>[1] \"GPX2, GI-GPx, GPRP, GPRP-2, GPx-2, GPx-GI, GSHPX-GI, GSHPx-2\"\n",
       "</td>\n",
       "       <td>...</td>\n",
       "      <td>[1] \"1.11.1.9\"\n",
       "</td>\n",
       "      <td>Product</td>\n",
       "    </tr>\n",
       "    <tr>\n",
       "      <td class=\"rpy2_rowname\">3</td>\n",
       "        <td class=\"rpy2_names\">4</td>\n",
       "      <td>K00432</td>\n",
       "      <td>glutathione peroxidase [EC:1.11.1.9]</td>\n",
       "      <td>   CDS \n",
       "\"2878\" \n",
       "</td>\n",
       "      <td>[1] \"GPX3, GPx-P, GSHPx-3, GSHPx-P\"\n",
       "</td>\n",
       "       <td>...</td>\n",
       "      <td>[1] \"1.11.1.9\"\n",
       "</td>\n",
       "      <td>Product</td>\n",
       "    </tr>\n",
       "    <tr>\n",
       "      <td class=\"rpy2_rowname\">4</td>\n",
       "        <td class=\"rpy2_names\">5</td>\n",
       "      <td>K00432</td>\n",
       "      <td>glutathione peroxidase [EC:1.11.1.9]</td>\n",
       "      <td>   CDS \n",
       "\"2880\" \n",
       "</td>\n",
       "      <td>[1] \"GPX5, EGLP, GPx-5, GSHPx-5, HEL-S-75p\"\n",
       "</td>\n",
       "       <td>...</td>\n",
       "      <td>[1] \"1.11.1.9\"\n",
       "</td>\n",
       "      <td>Product</td>\n",
       "    </tr>\n",
       "    <tr>\n",
       "      <td class=\"rpy2_rowname\">5</td>\n",
       "        <td class=\"rpy2_names\">6</td>\n",
       "      <td>K00432</td>\n",
       "      <td>glutathione peroxidase [EC:1.11.1.9]</td>\n",
       "      <td>   CDS \n",
       "\"2882\" \n",
       "</td>\n",
       "      <td>[1] \"GPX7, CL683, GPX6, GPx-7, GSHPx-7, NPGPx\"\n",
       "</td>\n",
       "       <td>...</td>\n",
       "      <td>[1] \"1.11.1.9\"\n",
       "</td>\n",
       "      <td>Product</td>\n",
       "    </tr>\n",
       "  </tbody>\n",
       "</table>"
      ],
      "text/plain": [
       "<rpy2.robjects.vectors.DataFrame object at 0x7f8f1f3093c0> [RTYPES.VECSXP]\n",
       "R classes: ('data.frame',)\n",
       "[StrSexpVe..., StrSexpVe..., ListSexpV..., ListSexpV..., ..., ListSexpV..., ListSexpV..., ListSexpV..., StrSexpVe...]\n",
       "  orthology_id: <class 'rpy2.robjects.vectors.StrVector'>\n",
       "  <rpy2.robjects.vectors.StrVector object at 0x7f8f1b2ef8c0> [RTYPES.STRSXP]\n",
       "R classes: ('character',)\n",
       "['K004..., 'K004..., 'K004..., 'K004..., 'K004..., 'K004...]\n",
       "  ORTHOLOGY: <class 'rpy2.robjects.vectors.StrVector'>\n",
       "  <rpy2.robjects.vectors.StrVector object at 0x7f8f1b326d80> [RTYPES.STRSXP]\n",
       "R classes: ('character',)\n",
       "['glut..., 'glut..., 'glut..., 'glut..., 'glut..., 'glut...]\n",
       "<rpy2.robjects.vectors.DataFrame object at 0x7f8f1f3093c0> [RTYPES.VECSXP]\n",
       "R classes: ('data.frame',)\n",
       "[StrSexpVe..., StrSexpVe..., ListSexpV..., ListSexpV..., ..., ListSexpV..., ListSexpV..., ListSexpV..., StrSexpVe...]\n",
       "<rpy2.robjects.vectors.DataFrame object at 0x7f8f1f3093c0> [RTYPES.VECSXP]\n",
       "R classes: ('data.frame',)\n",
       "[StrSexpVe..., StrSexpVe..., ListSexpV..., ListSexpV..., ..., ListSexpV..., ListSexpV..., ListSexpV..., StrSexpVe...]\n",
       "...\n",
       "<rpy2.robjects.vectors.DataFrame object at 0x7f8f1f3093c0> [RTYPES.VECSXP]\n",
       "R classes: ('data.frame',)\n",
       "[StrSexpVe..., StrSexpVe..., ListSexpV..., ListSexpV..., ..., ListSexpV..., ListSexpV..., ListSexpV..., StrSexpVe...]\n",
       "<rpy2.robjects.vectors.DataFrame object at 0x7f8f1f3093c0> [RTYPES.VECSXP]\n",
       "R classes: ('data.frame',)\n",
       "[StrSexpVe..., StrSexpVe..., ListSexpV..., ListSexpV..., ..., ListSexpV..., ListSexpV..., ListSexpV..., StrSexpVe...]\n",
       "<rpy2.robjects.vectors.DataFrame object at 0x7f8f1f3093c0> [RTYPES.VECSXP]\n",
       "R classes: ('data.frame',)\n",
       "[StrSexpVe..., StrSexpVe..., ListSexpV..., ListSexpV..., ..., ListSexpV..., ListSexpV..., ListSexpV..., StrSexpVe...]\n",
       "  MOTIF: <class 'rpy2.robjects.vectors.StrVector'>\n",
       "  <rpy2.robjects.vectors.StrVector object at 0x7f8f1b2f0340> [RTYPES.STRSXP]\n",
       "R classes: ('character',)\n",
       "['Prod..., 'Prod..., 'Prod..., 'Prod..., 'Prod..., 'Prod...]"
      ]
     },
     "execution_count": 31,
     "metadata": {},
     "output_type": "execute_result"
    }
   ],
   "source": [
    "robjects.r('''\n",
    "rclass_info = react_substrate(met_gene_info)\n",
    "head(rclass_info)\n",
    "''')"
   ]
  },
  {
   "cell_type": "markdown",
   "id": "nominated-cruise",
   "metadata": {},
   "source": [
    "#### Get gene info in short form"
   ]
  },
  {
   "cell_type": "code",
   "execution_count": 32,
   "id": "north-calcium",
   "metadata": {
    "execution": {
     "iopub.execute_input": "2021-03-26T03:47:41.954860Z",
     "iopub.status.busy": "2021-03-26T03:47:41.952384Z",
     "iopub.status.idle": "2021-03-26T03:47:42.596735Z",
     "shell.execute_reply": "2021-03-26T03:47:42.597897Z"
    }
   },
   "outputs": [
    {
     "data": {
      "text/html": [
       "\n",
       "<emph>DataFrame</emph> with 27 rows and\n",
       "  19 columns:\n",
       "<table class=\"rpy2_table\">\n",
       "  <thead>\n",
       "    <tr class=\"rpy2_names\">\n",
       "      <th></th>\n",
       "      <th></th>\n",
       "      <th>Metabolite</th>\n",
       "      <th>orthology_id</th>\n",
       "      <th>ORTHOLOGY</th>\n",
       "      <th>gene_id</th>\n",
       "      <th>...</th>\n",
       "      <th>ENZYME</th>\n",
       "      <th>reactant_product</th>\n",
       "    </tr>\n",
       "  </thead>\n",
       "  <tbody>\n",
       "    <tr>\n",
       "      <td class=\"rpy2_rowname\">0</td>\n",
       "        <td class=\"rpy2_names\">1</td>\n",
       "      <td>5-HETE</td>\n",
       "      <td>K00432</td>\n",
       "      <td>glutathione peroxidase [EC:1.11.1.9]</td>\n",
       "      <td>257202, 2876, 2877, 2878, 2880, 2882, 493869</td>\n",
       "       <td>...</td>\n",
       "      <td>1.11.1.9</td>\n",
       "      <td>Product</td>\n",
       "    </tr>\n",
       "    <tr>\n",
       "      <td class=\"rpy2_rowname\">1</td>\n",
       "        <td class=\"rpy2_names\">2</td>\n",
       "      <td>22R-hydroxy-cholesterol</td>\n",
       "      <td>K00498</td>\n",
       "      <td>cholesterol monooxygenase (side-chain-cleaving) [EC:1.14.15.6]</td>\n",
       "      <td>1583</td>\n",
       "       <td>...</td>\n",
       "      <td>1.14.15.6</td>\n",
       "      <td>Product, Substrate</td>\n",
       "    </tr>\n",
       "    <tr>\n",
       "      <td class=\"rpy2_rowname\">2</td>\n",
       "        <td class=\"rpy2_names\">3</td>\n",
       "      <td>PE(36:3)</td>\n",
       "      <td>K00551, K00993, K01047, K01115, K01613, K05285, K05287, K05288, K05310, K08730, K13512, K13515, K13517, K13644, K14621, K16342, K16343, K16817, K16860</td>\n",
       "      <td>phosphatidylethanolamine/phosphatidyl-N-methylethanolamine N-methyltransferase [EC:2.1.1.17 2.1.1.71], ethanolaminephosphotransferase [EC:2.7.8.1], secretory phospholipase A2 [EC:3.1.1.4], phospholipase D1/2 [EC:3.1.4.4], phosphatidylserine decarboxylase [EC:4.1.1.65], GPI ethanolamine phosphate transferase 1 [EC:2.7.-.-], GPI ethanolamine phosphate transferase 2/3 subunit F, GPI ethanolamine phosphate transferase 3 subunit O [EC:2.7.-.-], ethanolamine phosphate transferase 2 subunit G [EC:2.7.-.-], phosphatidylserine synthase 2 [EC:2.7.8.29], lysophospholipid acyltransferase [EC:2.3.1.23 2.3.1.-], lysophospholipid acyltransferase 5 [EC:2.3.1.23 2.3.1.-], lysophospholipid acyltransferase 1/2 [EC:2.3.1.51 2.3.1.-], choline/ethanolamine phosphotransferase [EC:2.7.8.1 2.7.8.2], phospholipase B1, membrane-associated [EC:3.1.1.4 3.1.1.5], cytosolic phospholipase A2 [EC:3.1.1.4], calcium-independent phospholipase A2 [EC:3.1.1.4], HRAS-like suppressor 3 [EC:3.1.1.32 3.1.1.4], phospholipase D3/4 [EC:3.1.4.4]</td>\n",
       "      <td>10400, 85465, 26279, 30814, 391013, 50487, 5319, 5320, 5322, 64600, 81579, 8399, 84647, 5337, 5338, 23761, 23556, 5281, 84720, 54872, 81490, 254531, 10162, 129642, 154141, 10390, 151056, 100137049, 123745, 255189, 283748, 5321, 8605, 8681, 8398, 11145, 122618, 23646</td>\n",
       "       <td>...</td>\n",
       "      <td>2.1.1.17, 2.7.8.1, 3.1.1.4, 3.1.4.4, 4.1.1.65, 2.7.-.-, NULL, 2.7.8.29, 2.3.1.23, 3.1.1.32</td>\n",
       "      <td>Substrate, Product</td>\n",
       "    </tr>\n",
       "    <tr>\n",
       "      <td class=\"rpy2_rowname\">3</td>\n",
       "        <td class=\"rpy2_names\">4</td>\n",
       "      <td>PE(32:1)</td>\n",
       "      <td>K00551, K00993, K01047, K01115, K01613, K05285, K05287, K05288, K05310, K08730, K13512, K13515, K13517, K13644, K14621, K16342, K16343, K16817, K16860</td>\n",
       "      <td>phosphatidylethanolamine/phosphatidyl-N-methylethanolamine N-methyltransferase [EC:2.1.1.17 2.1.1.71], ethanolaminephosphotransferase [EC:2.7.8.1], secretory phospholipase A2 [EC:3.1.1.4], phospholipase D1/2 [EC:3.1.4.4], phosphatidylserine decarboxylase [EC:4.1.1.65], GPI ethanolamine phosphate transferase 1 [EC:2.7.-.-], GPI ethanolamine phosphate transferase 2/3 subunit F, GPI ethanolamine phosphate transferase 3 subunit O [EC:2.7.-.-], ethanolamine phosphate transferase 2 subunit G [EC:2.7.-.-], phosphatidylserine synthase 2 [EC:2.7.8.29], lysophospholipid acyltransferase [EC:2.3.1.23 2.3.1.-], lysophospholipid acyltransferase 5 [EC:2.3.1.23 2.3.1.-], lysophospholipid acyltransferase 1/2 [EC:2.3.1.51 2.3.1.-], choline/ethanolamine phosphotransferase [EC:2.7.8.1 2.7.8.2], phospholipase B1, membrane-associated [EC:3.1.1.4 3.1.1.5], cytosolic phospholipase A2 [EC:3.1.1.4], calcium-independent phospholipase A2 [EC:3.1.1.4], HRAS-like suppressor 3 [EC:3.1.1.32 3.1.1.4], phospholipase D3/4 [EC:3.1.4.4]</td>\n",
       "      <td>10400, 85465, 26279, 30814, 391013, 50487, 5319, 5320, 5322, 64600, 81579, 8399, 84647, 5337, 5338, 23761, 23556, 5281, 84720, 54872, 81490, 254531, 10162, 129642, 154141, 10390, 151056, 100137049, 123745, 255189, 283748, 5321, 8605, 8681, 8398, 11145, 122618, 23646</td>\n",
       "       <td>...</td>\n",
       "      <td>2.1.1.17, 2.7.8.1, 3.1.1.4, 3.1.4.4, 4.1.1.65, 2.7.-.-, NULL, 2.7.8.29, 2.3.1.23, 3.1.1.32</td>\n",
       "      <td>Substrate, Product</td>\n",
       "    </tr>\n",
       "    <tr>\n",
       "      <td class=\"rpy2_rowname\">4</td>\n",
       "        <td class=\"rpy2_names\">5</td>\n",
       "      <td>PE(40:6)</td>\n",
       "      <td>K00551, K00993, K01047, K01115, K01613, K05285, K05287, K05288, K05310, K08730, K13512, K13515, K13517, K13644, K14621, K16342, K16343, K16817, K16860</td>\n",
       "      <td>phosphatidylethanolamine/phosphatidyl-N-methylethanolamine N-methyltransferase [EC:2.1.1.17 2.1.1.71], ethanolaminephosphotransferase [EC:2.7.8.1], secretory phospholipase A2 [EC:3.1.1.4], phospholipase D1/2 [EC:3.1.4.4], phosphatidylserine decarboxylase [EC:4.1.1.65], GPI ethanolamine phosphate transferase 1 [EC:2.7.-.-], GPI ethanolamine phosphate transferase 2/3 subunit F, GPI ethanolamine phosphate transferase 3 subunit O [EC:2.7.-.-], ethanolamine phosphate transferase 2 subunit G [EC:2.7.-.-], phosphatidylserine synthase 2 [EC:2.7.8.29], lysophospholipid acyltransferase [EC:2.3.1.23 2.3.1.-], lysophospholipid acyltransferase 5 [EC:2.3.1.23 2.3.1.-], lysophospholipid acyltransferase 1/2 [EC:2.3.1.51 2.3.1.-], choline/ethanolamine phosphotransferase [EC:2.7.8.1 2.7.8.2], phospholipase B1, membrane-associated [EC:3.1.1.4 3.1.1.5], cytosolic phospholipase A2 [EC:3.1.1.4], calcium-independent phospholipase A2 [EC:3.1.1.4], HRAS-like suppressor 3 [EC:3.1.1.32 3.1.1.4], phospholipase D3/4 [EC:3.1.4.4]</td>\n",
       "      <td>10400, 85465, 26279, 30814, 391013, 50487, 5319, 5320, 5322, 64600, 81579, 8399, 84647, 5337, 5338, 23761, 23556, 5281, 84720, 54872, 81490, 254531, 10162, 129642, 154141, 10390, 151056, 100137049, 123745, 255189, 283748, 5321, 8605, 8681, 8398, 11145, 122618, 23646</td>\n",
       "       <td>...</td>\n",
       "      <td>2.1.1.17, 2.7.8.1, 3.1.1.4, 3.1.4.4, 4.1.1.65, 2.7.-.-, NULL, 2.7.8.29, 2.3.1.23, 3.1.1.32</td>\n",
       "      <td>Substrate, Product</td>\n",
       "    </tr>\n",
       "    <tr>\n",
       "      <td class=\"rpy2_rowname\">5</td>\n",
       "        <td class=\"rpy2_names\">6</td>\n",
       "      <td>PE(38:6)</td>\n",
       "      <td>K00551, K00993, K01047, K01115, K01613, K05285, K05287, K05288, K05310, K08730, K13512, K13515, K13517, K13644, K14621, K16342, K16343, K16817, K16860</td>\n",
       "      <td>phosphatidylethanolamine/phosphatidyl-N-methylethanolamine N-methyltransferase [EC:2.1.1.17 2.1.1.71], ethanolaminephosphotransferase [EC:2.7.8.1], secretory phospholipase A2 [EC:3.1.1.4], phospholipase D1/2 [EC:3.1.4.4], phosphatidylserine decarboxylase [EC:4.1.1.65], GPI ethanolamine phosphate transferase 1 [EC:2.7.-.-], GPI ethanolamine phosphate transferase 2/3 subunit F, GPI ethanolamine phosphate transferase 3 subunit O [EC:2.7.-.-], ethanolamine phosphate transferase 2 subunit G [EC:2.7.-.-], phosphatidylserine synthase 2 [EC:2.7.8.29], lysophospholipid acyltransferase [EC:2.3.1.23 2.3.1.-], lysophospholipid acyltransferase 5 [EC:2.3.1.23 2.3.1.-], lysophospholipid acyltransferase 1/2 [EC:2.3.1.51 2.3.1.-], choline/ethanolamine phosphotransferase [EC:2.7.8.1 2.7.8.2], phospholipase B1, membrane-associated [EC:3.1.1.4 3.1.1.5], cytosolic phospholipase A2 [EC:3.1.1.4], calcium-independent phospholipase A2 [EC:3.1.1.4], HRAS-like suppressor 3 [EC:3.1.1.32 3.1.1.4], phospholipase D3/4 [EC:3.1.4.4]</td>\n",
       "      <td>10400, 85465, 26279, 30814, 391013, 50487, 5319, 5320, 5322, 64600, 81579, 8399, 84647, 5337, 5338, 23761, 23556, 5281, 84720, 54872, 81490, 254531, 10162, 129642, 154141, 10390, 151056, 100137049, 123745, 255189, 283748, 5321, 8605, 8681, 8398, 11145, 122618, 23646</td>\n",
       "       <td>...</td>\n",
       "      <td>2.1.1.17, 2.7.8.1, 3.1.1.4, 3.1.4.4, 4.1.1.65, 2.7.-.-, NULL, 2.7.8.29, 2.3.1.23, 3.1.1.32</td>\n",
       "      <td>Substrate, Product</td>\n",
       "    </tr>\n",
       "    <tr>\n",
       "      <td class=\"rpy2_rowname\">6</td>\n",
       "        <td class=\"rpy2_names\">7</td>\n",
       "      <td>C26 Cer</td>\n",
       "      <td>K00720, K01080, K01201, K01202, K01441, K04628, K04710, K04712, K04714, K04715, K04716, K04717, K12348, K12349, K12350, K12351, K12352, K12353, K12354, K17108, K23727, K24621, K24622</td>\n",
       "      <td>ceramide glucosyltransferase [EC:2.4.1.80], phosphatidate phosphatase [EC:3.1.3.4], glucosylceramidase [EC:3.2.1.45], galactosylceramidase [EC:3.2.1.46], alkaline ceramidase [EC:3.5.1.23], ceramide galactosyltransferase [EC:2.4.1.47], sphingoid base N-stearoyltransferase [EC:2.3.1.299], sphingolipid 4-desaturase/C4-monooxygenase [EC:1.14.19.17 1.14.18.5], shingomyelin synthase [EC:2.7.8.27], ceramide kinase [EC:2.7.1.138], sphingosine-1-phosphate phosphatase 1 [EC:3.1.3.-], sphingosine-1-phosphate phosphotase 2 [EC:3.1.3.-], acid ceramidase [EC:3.5.1.23], neutral ceramidase [EC:3.5.1.23], sphingomyelin phosphodiesterase [EC:3.1.4.12], sphingomyelin phosphodiesterase 2 [EC:3.1.4.12], sphingomyelin phosphodiesterase 3 [EC:3.1.4.12], sphingomyelin phosphodiesterase 4 [EC:3.1.4.12], ectonucleotide pyrophosphatase/phosphodiesterase family member 7 [EC:3.1.4.12], non-lysosomal glucosylceramidase [EC:3.2.1.45], sphingoid base N-palmitoyltransferase [EC:2.3.1.291], very-long-chain ceramide synthase [EC:2.3.1.297], very-long-chain ceramide synthase / ultra-long-chain ceramide synthase [EC:2.3.1.297 2.3.1.298]</td>\n",
       "      <td>7357, 8611, 8612, 8613, 2629, 2581, 125981, 340485, 7368, 10715, 123099, 8560, 166929, 259230, 64781, 81537, 130367, 427, 56624, 6609, 6610, 55512, 55627, 339221, 57704, 253782, 91012, 29956, 79603, 204219</td>\n",
       "       <td>...</td>\n",
       "      <td>2.4.1.80, c(\"3.1.3.4\", \"3.1.3.-\"), c(\"3.2.1.45\", \"3.2.1.62\"), c(\"3.2.1.46\", \"3.2.1.62\"), 3.5.1.23, 2.4.1.47, c(\"2.3.1.24\", \"2.3.1.291\", \"2.3.1.297\", \"2.3.1.298\", \"2.3.1.299\"), 1.14.19.17, 2.7.8.27, 2.7.1.138, 3.1.4.12</td>\n",
       "      <td>Substrate, Product</td>\n",
       "    </tr>\n",
       "    <tr>\n",
       "      <td class=\"rpy2_rowname\">7</td>\n",
       "        <td class=\"rpy2_names\">8</td>\n",
       "      <td>C20 Cer</td>\n",
       "      <td>K00720, K01080, K01201, K01202, K01441, K04628, K04710, K04712, K04714, K04715, K04716, K04717, K12348, K12349, K12350, K12351, K12352, K12353, K12354, K17108, K23727, K24621, K24622</td>\n",
       "      <td>ceramide glucosyltransferase [EC:2.4.1.80], phosphatidate phosphatase [EC:3.1.3.4], glucosylceramidase [EC:3.2.1.45], galactosylceramidase [EC:3.2.1.46], alkaline ceramidase [EC:3.5.1.23], ceramide galactosyltransferase [EC:2.4.1.47], sphingoid base N-stearoyltransferase [EC:2.3.1.299], sphingolipid 4-desaturase/C4-monooxygenase [EC:1.14.19.17 1.14.18.5], shingomyelin synthase [EC:2.7.8.27], ceramide kinase [EC:2.7.1.138], sphingosine-1-phosphate phosphatase 1 [EC:3.1.3.-], sphingosine-1-phosphate phosphotase 2 [EC:3.1.3.-], acid ceramidase [EC:3.5.1.23], neutral ceramidase [EC:3.5.1.23], sphingomyelin phosphodiesterase [EC:3.1.4.12], sphingomyelin phosphodiesterase 2 [EC:3.1.4.12], sphingomyelin phosphodiesterase 3 [EC:3.1.4.12], sphingomyelin phosphodiesterase 4 [EC:3.1.4.12], ectonucleotide pyrophosphatase/phosphodiesterase family member 7 [EC:3.1.4.12], non-lysosomal glucosylceramidase [EC:3.2.1.45], sphingoid base N-palmitoyltransferase [EC:2.3.1.291], very-long-chain ceramide synthase [EC:2.3.1.297], very-long-chain ceramide synthase / ultra-long-chain ceramide synthase [EC:2.3.1.297 2.3.1.298]</td>\n",
       "      <td>7357, 8611, 8612, 8613, 2629, 2581, 125981, 340485, 7368, 10715, 123099, 8560, 166929, 259230, 64781, 81537, 130367, 427, 56624, 6609, 6610, 55512, 55627, 339221, 57704, 253782, 91012, 29956, 79603, 204219</td>\n",
       "       <td>...</td>\n",
       "      <td>2.4.1.80, c(\"3.1.3.4\", \"3.1.3.-\"), c(\"3.2.1.45\", \"3.2.1.62\"), c(\"3.2.1.46\", \"3.2.1.62\"), 3.5.1.23, 2.4.1.47, c(\"2.3.1.24\", \"2.3.1.291\", \"2.3.1.297\", \"2.3.1.298\", \"2.3.1.299\"), 1.14.19.17, 2.7.8.27, 2.7.1.138, 3.1.4.12</td>\n",
       "      <td>Substrate, Product</td>\n",
       "    </tr>\n",
       "    <tr>\n",
       "      <td class=\"rpy2_rowname\">...</td>\n",
       "        <td class=\"rpy2_names\">...</td>\n",
       "      <td>...</td>\n",
       "      <td>...</td>\n",
       "      <td>...</td>\n",
       "      <td>...</td>\n",
       "       <td>...</td>\n",
       "      <td>...</td>\n",
       "      <td>...</td>\n",
       "    </tr>\n",
       "    <tr>\n",
       "      <td class=\"rpy2_rowname\">25</td>\n",
       "        <td class=\"rpy2_names\">26</td>\n",
       "      <td>24S-hydroxy-cholesterol</td>\n",
       "      <td>K07439, K07440</td>\n",
       "      <td>24-hydroxycholesterol 7alpha-hydroxylase [EC:1.14.14.26], cholesterol 24-hydroxylase [EC:1.14.14.25]</td>\n",
       "      <td>51302, 10858</td>\n",
       "       <td>...</td>\n",
       "      <td>1.14.14.26, 1.14.14.25</td>\n",
       "      <td>Substrate, Product</td>\n",
       "    </tr>\n",
       "    <tr>\n",
       "      <td class=\"rpy2_rowname\">26</td>\n",
       "        <td class=\"rpy2_names\">27</td>\n",
       "      <td>Desmosterol</td>\n",
       "      <td>K09828</td>\n",
       "      <td>Delta24-sterol reductase [EC:1.3.1.72 1.3.1.-]</td>\n",
       "      <td>1718</td>\n",
       "       <td>...</td>\n",
       "      <td>1.3.1.72</td>\n",
       "      <td>Product</td>\n",
       "    </tr>\n",
       "  </tbody>\n",
       "</table>"
      ],
      "text/plain": [
       "<rpy2.robjects.vectors.DataFrame object at 0x7f8f1f1c7940> [RTYPES.VECSXP]\n",
       "R classes: ('data.table', 'data.frame')\n",
       "[StrSexpVe..., StrSexpVe..., StrSexpVe..., StrSexpVe..., ..., StrSexpVe..., StrSexpVe..., StrSexpVe..., StrSexpVe...]\n",
       "  Metabolite: <class 'rpy2.robjects.vectors.StrVector'>\n",
       "  <rpy2.robjects.vectors.StrVector object at 0x7f8f1c417740> [RTYPES.STRSXP]\n",
       "R classes: ('character',)\n",
       "['5-HETE', '22R-hydr..., 'PE(36:3)', 'PE(32:1)', ..., '14,15-EET', '5,6-EET', '24S-hydr..., 'Desmoste...]\n",
       "  orthology_id: <class 'rpy2.robjects.vectors.StrVector'>\n",
       "  <rpy2.robjects.vectors.StrVector object at 0x7f8f1b300640> [RTYPES.STRSXP]\n",
       "R classes: ('character',)\n",
       "['K00432', 'K00498', 'K00551, ..., 'K00551, ..., ..., 'K07418, ..., 'K07418, ..., 'K07439, ..., 'K09828']\n",
       "  ORTHOLOGY: <class 'rpy2.robjects.vectors.StrVector'>\n",
       "  <rpy2.robjects.vectors.StrVector object at 0x7f8f1f30c840> [RTYPES.STRSXP]\n",
       "R classes: ('character',)\n",
       "['glutathi..., 'choleste..., 'phosphat..., 'phosphat..., ..., 'cytochro..., 'cytochro..., '24-hydro..., 'Delta24-...]\n",
       "  gene_id: <class 'rpy2.robjects.vectors.StrVector'>\n",
       "  <rpy2.robjects.vectors.StrVector object at 0x7f8f1f30c940> [RTYPES.STRSXP]\n",
       "R classes: ('character',)\n",
       "['257202, ..., '1583', '10400, 8..., '10400, 8..., ..., '1573, 20..., '1573, 20..., '51302, 1..., '1718']\n",
       "...\n",
       "  DEFINITION: <class 'rpy2.robjects.vectors.StrVector'>\n",
       "  <rpy2.robjects.vectors.StrVector object at 0x7f8f1f30c600> [RTYPES.STRSXP]\n",
       "R classes: ('character',)\n",
       "['2 C00051..., 'C00187 +..., 'C00019 +..., 'C00019 +..., ..., 'C00219 +..., 'C00219 +..., 'C13550 +..., 'C00187 +...]\n",
       "  ORGANISM: <class 'rpy2.robjects.vectors.StrVector'>\n",
       "  <rpy2.robjects.vectors.StrVector object at 0x7f8f1f30cd40> [RTYPES.STRSXP]\n",
       "R classes: ('character',)\n",
       "['2 Glutat..., 'Choleste..., 'S-Adenos..., 'S-Adenos..., ..., 'Arachido..., 'Arachido..., 'Cerebros..., 'Choleste...]\n",
       "  PATHWAY: <class 'rpy2.robjects.vectors.StrVector'>\n",
       "  <rpy2.robjects.vectors.StrVector object at 0x7f8f1f30c400> [RTYPES.STRSXP]\n",
       "R classes: ('character',)\n",
       "['1.11.1.9', '1.14.15.6', '2.1.1.17..., '2.1.1.17..., ..., 'c(\"1.14...., 'c(\"1.14...., '1.14.14...., '1.3.1.72']\n",
       "  DBLINKS: <class 'rpy2.robjects.vectors.StrVector'>\n",
       "  <rpy2.robjects.vectors.StrVector object at 0x7f8f1c0a9b40> [RTYPES.STRSXP]\n",
       "R classes: ('character',)\n",
       "['Product', 'Product,..., 'Substrat..., 'Substrat..., ..., 'Product,..., 'Product,..., 'Substrat..., 'Product']"
      ]
     },
     "execution_count": 32,
     "metadata": {},
     "output_type": "execute_result"
    }
   ],
   "source": [
    "robjects.r('''\n",
    "met_gene_info2=data.table::data.table(rclass_info)[,lapply(.SD, function(x) toString(unique(x))), by = 'Metabolite']\n",
    "''')"
   ]
  },
  {
   "cell_type": "code",
   "execution_count": null,
   "id": "adverse-beatles",
   "metadata": {},
   "outputs": [],
   "source": []
  }
 ],
 "metadata": {
  "appyter": {
   "nbconstruct": {
    "filename": "MetENP_Appyter_2.ipynb",
    "files": {},
    "version": "0.12.0"
   },
   "nbexecute": {
    "completed": "2021-03-25T20:47:45.046320+00:00",
    "files": {},
    "started": "2021-03-25T20:45:52.082276+00:00",
    "version": "0.12.0"
   }
  },
  "kernelspec": {
   "display_name": "my-first-appyter",
   "language": "python",
   "name": "my-first-appyter"
  },
  "language_info": {
   "codemirror_mode": {
    "name": "ipython",
    "version": 3
   },
   "file_extension": ".py",
   "mimetype": "text/x-python",
   "name": "python",
   "nbconvert_exporter": "python",
   "pygments_lexer": "ipython3",
   "version": "3.8.5"
  }
 },
 "nbformat": 4,
 "nbformat_minor": 5
}

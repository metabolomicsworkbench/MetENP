{
 "cells": [
  {
   "cell_type": "code",
   "execution_count": 1,
   "id": "liquid-timber",
   "metadata": {
    "execution": {
     "iopub.execute_input": "2021-03-25T22:04:35.665184Z",
     "iopub.status.busy": "2021-03-25T22:04:35.663558Z",
     "iopub.status.idle": "2021-03-25T22:04:46.278884Z",
     "shell.execute_reply": "2021-03-25T22:04:46.280963Z"
    }
   },
   "outputs": [
    {
     "data": {
      "text/html": [
       "\n",
       "<emph>StrVector</emph> with 12 elements:\n",
       "<table class=\"rpy2_table\">\n",
       "<thead>\n",
       "</thead>\n",
       "<tbody>\n",
       "<tr>\n",
       "  <td>MetENP</td>\n",
       "  <td>ggplot2</td>\n",
       "  <td>lazyeval</td>\n",
       "  <td>rlang</td>\n",
       "  <td>tools</td>\n",
       "  <td>stats</td>\n",
       "  <td>graphics</td>\n",
       "  <td>grDevices</td>\n",
       "  <td>...</td>\n",
       "      <td>methods</td>\n",
       "      <td>base</td>\n",
       "</tr>\n",
       "</tbody>\n",
       "</table>"
      ],
      "text/plain": [
       "<rpy2.robjects.vectors.StrVector object at 0x7ffe872cddc0> [RTYPES.STRSXP]\n",
       "R classes: ('character',)\n",
       "['MetENP', 'ggplot2', 'lazyeval', 'rlang', ..., 'utils', 'datasets', 'methods', 'base']"
      ]
     },
     "execution_count": 1,
     "metadata": {},
     "output_type": "execute_result"
    }
   ],
   "source": [
    "import rpy2\n",
    "import rpy2.robjects as robjects\n",
    "import rpy2.robjects.packages as rpackages\n",
    "\n",
    "from rpy2.robjects import numpy2ri, pandas2ri\n",
    "\n",
    "import rpy2.ipython.html\n",
    "rpy2.ipython.html.init_printing()\n",
    "\n",
    "import rpy2.robjects.lib.ggplot2 as gp\n",
    "from rpy2.ipython.ggplot import image_png\n",
    "\n",
    "from rpy2.rinterface_lib import openrlib\n",
    "\n",
    "robjects.r('''\n",
    "\n",
    "library(MetENP)\n",
    "\n",
    "''')"
   ]
  },
  {
   "cell_type": "code",
   "execution_count": 2,
   "id": "significant-communications",
   "metadata": {
    "execution": {
     "iopub.execute_input": "2021-03-25T22:04:46.290363Z",
     "iopub.status.busy": "2021-03-25T22:04:46.287658Z",
     "iopub.status.idle": "2021-03-25T22:05:02.408881Z",
     "shell.execute_reply": "2021-03-25T22:05:02.409691Z"
    }
   },
   "outputs": [],
   "source": [
    "data_1 = robjects.r['getmwstudies']('ST000915', \n",
    "    'data'\n",
    ")"
   ]
  },
  {
   "cell_type": "code",
   "execution_count": 3,
   "id": "pretty-wright",
   "metadata": {
    "execution": {
     "iopub.execute_input": "2021-03-25T22:05:02.441254Z",
     "iopub.status.busy": "2021-03-25T22:05:02.439001Z",
     "iopub.status.idle": "2021-03-25T22:05:02.679744Z",
     "shell.execute_reply": "2021-03-25T22:05:02.680480Z"
    }
   },
   "outputs": [],
   "source": [
    "#killing the kernel without rlock. ISSUE: can't print data_1_print\n",
    "\n",
    "with openrlib.rlock:\n",
    "    \n",
    "    robjects.r.assign('data_1', data_1)\n",
    "    \n",
    "    robjects.r('''\n",
    "\n",
    "    data_1_print = data.frame(apply(data_1, c(1,2), function(x){unlist(x, TRUE, TRUE)}))\n",
    "    head(data_1_print)\n",
    "\n",
    "    ''')\n",
    "    \n",
    "    pass"
   ]
  },
  {
   "cell_type": "code",
   "execution_count": 4,
   "id": "immune-valentine",
   "metadata": {
    "execution": {
     "iopub.execute_input": "2021-03-25T22:05:02.688609Z",
     "iopub.status.busy": "2021-03-25T22:05:02.686333Z",
     "iopub.status.idle": "2021-03-25T22:05:02.749219Z",
     "shell.execute_reply": "2021-03-25T22:05:02.749934Z"
    }
   },
   "outputs": [],
   "source": [
    "metadata = robjects.r['getmwstudies']('ST000915', \n",
    "    'factors'\n",
    ")"
   ]
  },
  {
   "cell_type": "code",
   "execution_count": 5,
   "id": "satisfied-preliminary",
   "metadata": {
    "execution": {
     "iopub.execute_input": "2021-03-25T22:05:02.758285Z",
     "iopub.status.busy": "2021-03-25T22:05:02.755727Z",
     "iopub.status.idle": "2021-03-25T22:05:02.776870Z",
     "shell.execute_reply": "2021-03-25T22:05:02.777612Z"
    }
   },
   "outputs": [
    {
     "data": {
      "text/html": [
       "\n",
       "<emph>DataFrame</emph> with 6 rows and\n",
       "  5 columns:\n",
       "<table class=\"rpy2_table\">\n",
       "  <thead>\n",
       "    <tr class=\"rpy2_names\">\n",
       "      <th></th>\n",
       "      <th></th>\n",
       "      <th>study_id</th>\n",
       "      <th>local_sample_id</th>\n",
       "      <th>subject_type</th>\n",
       "      <th>factors</th>\n",
       "      <th>Diagnosis</th>\n",
       "    </tr>\n",
       "  </thead>\n",
       "  <tbody>\n",
       "    <tr>\n",
       "      <td class=\"rpy2_rowname\">0</td>\n",
       "        <td class=\"rpy2_names\">1</td>\n",
       "      <td>ST000915</td>\n",
       "      <td>NASH005</td>\n",
       "      <td>Human clinical study</td>\n",
       "      <td>Diagnosis:Cirrhosis</td>\n",
       "      <td>Cirrhosis</td>\n",
       "    </tr>\n",
       "    <tr>\n",
       "      <td class=\"rpy2_rowname\">1</td>\n",
       "        <td class=\"rpy2_names\">2</td>\n",
       "      <td>ST000915</td>\n",
       "      <td>NASH007</td>\n",
       "      <td>Human clinical study</td>\n",
       "      <td>Diagnosis:Cirrhosis</td>\n",
       "      <td>Cirrhosis</td>\n",
       "    </tr>\n",
       "    <tr>\n",
       "      <td class=\"rpy2_rowname\">2</td>\n",
       "        <td class=\"rpy2_names\">3</td>\n",
       "      <td>ST000915</td>\n",
       "      <td>NASH009</td>\n",
       "      <td>Human clinical study</td>\n",
       "      <td>Diagnosis:Cirrhosis</td>\n",
       "      <td>Cirrhosis</td>\n",
       "    </tr>\n",
       "    <tr>\n",
       "      <td class=\"rpy2_rowname\">3</td>\n",
       "        <td class=\"rpy2_names\">4</td>\n",
       "      <td>ST000915</td>\n",
       "      <td>NASH013</td>\n",
       "      <td>Human clinical study</td>\n",
       "      <td>Diagnosis:Cirrhosis</td>\n",
       "      <td>Cirrhosis</td>\n",
       "    </tr>\n",
       "    <tr>\n",
       "      <td class=\"rpy2_rowname\">4</td>\n",
       "        <td class=\"rpy2_names\">5</td>\n",
       "      <td>ST000915</td>\n",
       "      <td>NASH016</td>\n",
       "      <td>Human clinical study</td>\n",
       "      <td>Diagnosis:Cirrhosis</td>\n",
       "      <td>Cirrhosis</td>\n",
       "    </tr>\n",
       "    <tr>\n",
       "      <td class=\"rpy2_rowname\">5</td>\n",
       "        <td class=\"rpy2_names\">6</td>\n",
       "      <td>ST000915</td>\n",
       "      <td>NASH022</td>\n",
       "      <td>Human clinical study</td>\n",
       "      <td>Diagnosis:Cirrhosis</td>\n",
       "      <td>Cirrhosis</td>\n",
       "    </tr>\n",
       "  </tbody>\n",
       "</table>"
      ],
      "text/plain": [
       "<rpy2.robjects.vectors.DataFrame object at 0x7ffe8375ecc0> [RTYPES.VECSXP]\n",
       "R classes: ('data.frame',)\n",
       "[StrSexp..., StrSexp..., StrSexp..., StrSexp..., StrSexp...]\n",
       "  study_id: <class 'rpy2.rinterface_lib.sexp.StrSexpVector'>\n",
       "  <rpy2.rinterface_lib.sexp.StrSexpVector object at 0x7ffe8732e340> [RTYPES.STRSXP]\n",
       "  local_sample_id: <class 'rpy2.rinterface_lib.sexp.StrSexpVector'>\n",
       "  <rpy2.rinterface_lib.sexp.StrSexpVector object at 0x7ffe89555b00> [RTYPES.STRSXP]\n",
       "  subject_type: <class 'rpy2.rinterface_lib.sexp.StrSexpVector'>\n",
       "  <rpy2.rinterface_lib.sexp.StrSexpVector object at 0x7ffe89268a40> [RTYPES.STRSXP]\n",
       "  factors: <class 'rpy2.rinterface_lib.sexp.StrSexpVector'>\n",
       "  <rpy2.rinterface_lib.sexp.StrSexpVector object at 0x7ffe89543180> [RTYPES.STRSXP]\n",
       "  Diagnosis: <class 'rpy2.rinterface_lib.sexp.StrSexpVector'>\n",
       "  <rpy2.rinterface_lib.sexp.StrSexpVector object at 0x7ffe8c164d00> [RTYPES.STRSXP]"
      ]
     },
     "execution_count": 5,
     "metadata": {},
     "output_type": "execute_result"
    }
   ],
   "source": [
    "robjects.r.assign('metadata', metadata)\n",
    "\n",
    "robjects.r('''\n",
    "metadata_print = data.frame(apply(metadata, c(1,2), function(x){unlist(x, TRUE, TRUE)}))\n",
    "head(metadata_print)\n",
    "''')"
   ]
  },
  {
   "cell_type": "markdown",
   "id": "alone-consultancy",
   "metadata": {},
   "source": [
    "Find the factors you would want to compare\n",
    "Multiple factors (independent variables) are formatted in multiple columns but you can get information on all the factors by \"factors\" column, such as 'TreatmentGroup:Prednisolone', this indicates column name 'TreatmentGroup' with factor Prednisolone. For t-test use the factors in the same column. For comparing multipe independent variables use anova by anova_ana function."
   ]
  },
  {
   "cell_type": "markdown",
   "id": "tired-sydney",
   "metadata": {},
   "source": [
    "### Associate metabolomics data to the refmet class"
   ]
  },
  {
   "cell_type": "code",
   "execution_count": 6,
   "id": "global-vocabulary",
   "metadata": {
    "execution": {
     "iopub.execute_input": "2021-03-25T22:05:02.790192Z",
     "iopub.status.busy": "2021-03-25T22:05:02.787019Z",
     "iopub.status.idle": "2021-03-25T22:05:12.979108Z",
     "shell.execute_reply": "2021-03-25T22:05:12.979759Z"
    }
   },
   "outputs": [
    {
     "data": {
      "text/html": [
       "\n",
       "<emph>DataFrame</emph> with 6 rows and\n",
       "  97 columns:\n",
       "<table class=\"rpy2_table\">\n",
       "  <thead>\n",
       "    <tr class=\"rpy2_names\">\n",
       "      <th></th>\n",
       "      <th></th>\n",
       "      <th>metabolite_name</th>\n",
       "      <th>analysis_id</th>\n",
       "      <th>analysis_summary</th>\n",
       "      <th>metabolite_id</th>\n",
       "      <th>...</th>\n",
       "      <th>main_class</th>\n",
       "      <th>sub_class</th>\n",
       "    </tr>\n",
       "  </thead>\n",
       "  <tbody>\n",
       "    <tr>\n",
       "      <td class=\"rpy2_rowname\">0</td>\n",
       "        <td class=\"rpy2_names\">1</td>\n",
       "      <td>1,2-DG(30:0)</td>\n",
       "      <td>AN001488</td>\n",
       "      <td>Core E Neutral Lipids</td>\n",
       "      <td>ME231190</td>\n",
       "       <td>...</td>\n",
       "      <td>Diradylglycerols</td>\n",
       "      <td>DAG</td>\n",
       "    </tr>\n",
       "    <tr>\n",
       "      <td class=\"rpy2_rowname\">1</td>\n",
       "        <td class=\"rpy2_names\">2</td>\n",
       "      <td>1,2-DG(30:1)</td>\n",
       "      <td>AN001488</td>\n",
       "      <td>Core E Neutral Lipids</td>\n",
       "      <td>ME231189</td>\n",
       "       <td>...</td>\n",
       "      <td>Diradylglycerols</td>\n",
       "      <td>DAG</td>\n",
       "    </tr>\n",
       "    <tr>\n",
       "      <td class=\"rpy2_rowname\">2</td>\n",
       "        <td class=\"rpy2_names\">3</td>\n",
       "      <td>1,2-DG(32:0)</td>\n",
       "      <td>AN001488</td>\n",
       "      <td>Core E Neutral Lipids</td>\n",
       "      <td>ME231196</td>\n",
       "       <td>...</td>\n",
       "      <td>Diradylglycerols</td>\n",
       "      <td>DAG</td>\n",
       "    </tr>\n",
       "    <tr>\n",
       "      <td class=\"rpy2_rowname\">3</td>\n",
       "        <td class=\"rpy2_names\">4</td>\n",
       "      <td>1,2-DG(32:1)</td>\n",
       "      <td>AN001488</td>\n",
       "      <td>Core E Neutral Lipids</td>\n",
       "      <td>ME231195</td>\n",
       "       <td>...</td>\n",
       "      <td>Diradylglycerols</td>\n",
       "      <td>DAG</td>\n",
       "    </tr>\n",
       "    <tr>\n",
       "      <td class=\"rpy2_rowname\">4</td>\n",
       "        <td class=\"rpy2_names\">5</td>\n",
       "      <td>1,2-DG(32:2)</td>\n",
       "      <td>AN001488</td>\n",
       "      <td>Core E Neutral Lipids</td>\n",
       "      <td>ME231194</td>\n",
       "       <td>...</td>\n",
       "      <td>Diradylglycerols</td>\n",
       "      <td>DAG</td>\n",
       "    </tr>\n",
       "    <tr>\n",
       "      <td class=\"rpy2_rowname\">5</td>\n",
       "        <td class=\"rpy2_names\">6</td>\n",
       "      <td>1,2-DG(32:3)</td>\n",
       "      <td>AN001488</td>\n",
       "      <td>Core E Neutral Lipids</td>\n",
       "      <td>ME231193</td>\n",
       "       <td>...</td>\n",
       "      <td>Diradylglycerols</td>\n",
       "      <td>DAG</td>\n",
       "    </tr>\n",
       "  </tbody>\n",
       "</table>"
      ],
      "text/plain": [
       "<rpy2.robjects.vectors.DataFrame object at 0x7ffe892773c0> [RTYPES.VECSXP]\n",
       "R classes: ('data.frame',)\n",
       "[StrSexpVe..., StrSexpVe..., StrSexpVe..., StrSexpVe..., ..., StrSexpVe..., StrSexpVe..., StrSexpVe..., StrSexpVe...]\n",
       "  metabolite_name: <class 'rpy2.robjects.vectors.StrVector'>\n",
       "  <rpy2.robjects.vectors.StrVector object at 0x7ffe89277d80> [RTYPES.STRSXP]\n",
       "R classes: ('character',)\n",
       "['1,2-..., '1,2-..., '1,2-..., '1,2-..., '1,2-..., '1,2-...]\n",
       "  analysis_id: <class 'rpy2.robjects.vectors.StrVector'>\n",
       "  <rpy2.robjects.vectors.StrVector object at 0x7ffe87799e00> [RTYPES.STRSXP]\n",
       "R classes: ('character',)\n",
       "['AN00..., 'AN00..., 'AN00..., 'AN00..., 'AN00..., 'AN00...]\n",
       "  analysis_summary: <class 'rpy2.robjects.vectors.StrVector'>\n",
       "  <rpy2.robjects.vectors.StrVector object at 0x7ffe8915e4c0> [RTYPES.STRSXP]\n",
       "R classes: ('character',)\n",
       "['Core..., 'Core..., 'Core..., 'Core..., 'Core..., 'Core...]\n",
       "  metabolite_id: <class 'rpy2.robjects.vectors.StrVector'>\n",
       "  <rpy2.robjects.vectors.StrVector object at 0x7ffe8915e340> [RTYPES.STRSXP]\n",
       "R classes: ('character',)\n",
       "['ME23..., 'ME23..., 'ME23..., 'ME23..., 'ME23..., 'ME23...]\n",
       "...\n",
       "  NASH001: <class 'rpy2.robjects.vectors.StrVector'>\n",
       "  <rpy2.robjects.vectors.StrVector object at 0x7ffe87797f00> [RTYPES.STRSXP]\n",
       "R classes: ('character',)\n",
       "['C33H..., 'C33H..., 'C35H..., 'C35H..., 'C35H..., 'C35H...]\n",
       "  NASH002: <class 'rpy2.robjects.vectors.StrVector'>\n",
       "  <rpy2.robjects.vectors.StrVector object at 0x7ffe89278ac0> [RTYPES.STRSXP]\n",
       "R classes: ('character',)\n",
       "['Glyc..., 'Glyc..., 'Glyc..., 'Glyc..., 'Glyc..., 'Glyc...]\n",
       "  NASH003: <class 'rpy2.robjects.vectors.StrVector'>\n",
       "  <rpy2.robjects.vectors.StrVector object at 0x7ffe89278e80> [RTYPES.STRSXP]\n",
       "R classes: ('character',)\n",
       "['Dira..., 'Dira..., 'Dira..., 'Dira..., 'Dira..., 'Dira...]\n",
       "  NASH004: <class 'rpy2.robjects.vectors.StrVector'>\n",
       "  <rpy2.robjects.vectors.StrVector object at 0x7ffe8909c5c0> [RTYPES.STRSXP]\n",
       "R classes: ('character',)\n",
       "['DAG', 'DAG', 'DAG', 'DAG', 'DAG', 'DAG']"
      ]
     },
     "execution_count": 6,
     "metadata": {},
     "output_type": "execute_result"
    }
   ],
   "source": [
    "refmet_class = robjects.r['convert_refmet'](data_1)\n",
    "\n",
    "robjects.r.assign('refmet_class', refmet_class)\n",
    "\n",
    "robjects.r('''\n",
    "\n",
    "refmet_class_print = data.frame(apply(refmet_class, c(1,2), function(x){unlist(x, TRUE, TRUE)}))\n",
    "head(refmet_class_print)\n",
    "\n",
    "''')"
   ]
  },
  {
   "cell_type": "code",
   "execution_count": 7,
   "id": "owned-parcel",
   "metadata": {
    "execution": {
     "iopub.execute_input": "2021-03-25T22:05:12.989896Z",
     "iopub.status.busy": "2021-03-25T22:05:12.986623Z",
     "iopub.status.idle": "2021-03-25T22:05:12.998798Z",
     "shell.execute_reply": "2021-03-25T22:05:13.000624Z"
    }
   },
   "outputs": [
    {
     "data": {
      "text/html": [
       "\n",
       "<emph>DataFrame</emph> with 4 rows and\n",
       "  1 columns:\n",
       "<table class=\"rpy2_table\">\n",
       "  <thead>\n",
       "    <tr class=\"rpy2_names\">\n",
       "      <th></th>\n",
       "      <th></th>\n",
       "      <th>unique.metadata_print.factors.</th>\n",
       "    </tr>\n",
       "  </thead>\n",
       "  <tbody>\n",
       "    <tr>\n",
       "      <td class=\"rpy2_rowname\">0</td>\n",
       "        <td class=\"rpy2_names\">1</td>\n",
       "      <td>Diagnosis:Cirrhosis</td>\n",
       "    </tr>\n",
       "    <tr>\n",
       "      <td class=\"rpy2_rowname\">1</td>\n",
       "        <td class=\"rpy2_names\">2</td>\n",
       "      <td>Diagnosis:NASH</td>\n",
       "    </tr>\n",
       "    <tr>\n",
       "      <td class=\"rpy2_rowname\">2</td>\n",
       "        <td class=\"rpy2_names\">3</td>\n",
       "      <td>Diagnosis:Normal</td>\n",
       "    </tr>\n",
       "    <tr>\n",
       "      <td class=\"rpy2_rowname\">3</td>\n",
       "        <td class=\"rpy2_names\">4</td>\n",
       "      <td>Diagnosis:Steatosis</td>\n",
       "    </tr>\n",
       "  </tbody>\n",
       "</table>"
      ],
      "text/plain": [
       "<rpy2.robjects.vectors.DataFrame object at 0x7ffe8952f280> [RTYPES.VECSXP]\n",
       "R classes: ('data.frame',)\n",
       "[StrSexpVector]\n",
       "  unique.metadata_print.factors.: <class 'rpy2.rinterface_lib.sexp.StrSexpVector'>\n",
       "  <rpy2.rinterface_lib.sexp.StrSexpVector object at 0x7ffe872ec6c0> [RTYPES.STRSXP]"
      ]
     },
     "execution_count": 7,
     "metadata": {},
     "output_type": "execute_result"
    }
   ],
   "source": [
    "robjects.r('''\n",
    "data.frame(unique(metadata_print$factors))\n",
    "''')"
   ]
  },
  {
   "cell_type": "code",
   "execution_count": 8,
   "id": "exterior-minimum",
   "metadata": {
    "execution": {
     "iopub.execute_input": "2021-03-25T22:05:13.013099Z",
     "iopub.status.busy": "2021-03-25T22:05:13.008689Z",
     "iopub.status.idle": "2021-03-25T22:05:13.026464Z",
     "shell.execute_reply": "2021-03-25T22:05:13.028136Z"
    }
   },
   "outputs": [
    {
     "data": {
      "text/html": [
       "\n",
       "<emph>DataFrame</emph> with 6 rows and\n",
       "  1 columns:\n",
       "<table class=\"rpy2_table\">\n",
       "  <thead>\n",
       "    <tr class=\"rpy2_names\">\n",
       "      <th></th>\n",
       "      <th></th>\n",
       "      <th>unique.data_1_print.analysis_summary.</th>\n",
       "    </tr>\n",
       "  </thead>\n",
       "  <tbody>\n",
       "    <tr>\n",
       "      <td class=\"rpy2_rowname\">0</td>\n",
       "        <td class=\"rpy2_names\">1</td>\n",
       "      <td>Core G Fatty acids/Eicosanoids</td>\n",
       "    </tr>\n",
       "    <tr>\n",
       "      <td class=\"rpy2_rowname\">1</td>\n",
       "        <td class=\"rpy2_names\">2</td>\n",
       "      <td>Core J Sterols</td>\n",
       "    </tr>\n",
       "    <tr>\n",
       "      <td class=\"rpy2_rowname\">2</td>\n",
       "        <td class=\"rpy2_names\">3</td>\n",
       "      <td>Core K Prenols/Cardiolipins</td>\n",
       "    </tr>\n",
       "    <tr>\n",
       "      <td class=\"rpy2_rowname\">3</td>\n",
       "        <td class=\"rpy2_names\">4</td>\n",
       "      <td>Core E Neutral Lipids</td>\n",
       "    </tr>\n",
       "    <tr>\n",
       "      <td class=\"rpy2_rowname\">4</td>\n",
       "        <td class=\"rpy2_names\">5</td>\n",
       "      <td>Core I Sphingolipids</td>\n",
       "    </tr>\n",
       "    <tr>\n",
       "      <td class=\"rpy2_rowname\">5</td>\n",
       "        <td class=\"rpy2_names\">6</td>\n",
       "      <td>Core H Phospholipids</td>\n",
       "    </tr>\n",
       "  </tbody>\n",
       "</table>"
      ],
      "text/plain": [
       "<rpy2.robjects.vectors.DataFrame object at 0x7ffe872f5d00> [RTYPES.VECSXP]\n",
       "R classes: ('data.frame',)\n",
       "[StrSexpVector]\n",
       "  unique.data_1_print.analysis_summary.: <class 'rpy2.rinterface_lib.sexp.StrSexpVector'>\n",
       "  <rpy2.rinterface_lib.sexp.StrSexpVector object at 0x7ffe87316cc0> [RTYPES.STRSXP]"
      ]
     },
     "execution_count": 8,
     "metadata": {},
     "output_type": "execute_result"
    }
   ],
   "source": [
    "robjects.r('''\n",
    "data.frame(unique(data_1_print$analysis_summary))\n",
    "''')"
   ]
  },
  {
   "cell_type": "markdown",
   "id": "worthy-consequence",
   "metadata": {},
   "source": [
    "### Find significant metabolites, run significance of all the analysis summary together. The analysis summary/modes you got in the previous section"
   ]
  },
  {
   "cell_type": "markdown",
   "id": "better-journalism",
   "metadata": {},
   "source": [
    "There is a normalization step which takes into account missing values, and this can be achieved via three methods:\n",
    "\n",
    "1) half_of_min: where the NAs are replaced by half of min values in the data\n",
    "\n",
    "2) remove_NAs: where Cols with NAs values are removed\n",
    "\n",
    "3) 50percent: where cols with more than 50% NAs values are removed\n",
    "\n",
    "half_of_min is ideal when you wish to see which metabolites were present in either group. Very high fold change would mean it was present in either group."
   ]
  },
  {
   "cell_type": "code",
   "execution_count": 9,
   "id": "aggressive-brother",
   "metadata": {
    "execution": {
     "iopub.execute_input": "2021-03-25T22:05:13.047942Z",
     "iopub.status.busy": "2021-03-25T22:05:13.041843Z",
     "iopub.status.idle": "2021-03-25T22:05:13.069852Z",
     "shell.execute_reply": "2021-03-25T22:05:13.070593Z"
    }
   },
   "outputs": [
    {
     "data": {
      "text/html": [
       "\n",
       "<emph>StrVector</emph> with 1 elements:\n",
       "<table class=\"rpy2_table\">\n",
       "<thead>\n",
       "</thead>\n",
       "<tbody>\n",
       "<tr>\n",
       "      <td>0.5</td>\n",
       "</tr>\n",
       "</tbody>\n",
       "</table>"
      ],
      "text/plain": [
       "<rpy2.robjects.vectors.StrVector object at 0x7ffe872faf40> [RTYPES.STRSXP]\n",
       "R classes: ('character',)\n",
       "['0.5']"
      ]
     },
     "execution_count": 9,
     "metadata": {},
     "output_type": "execute_result"
    }
   ],
   "source": [
    "robjects.r.assign('refmet_class', refmet_class)\n",
    "robjects.r.assign('metcol', 'metabolite_name')\n",
    "robjects.r.assign('fac1', 'Normal')\n",
    "robjects.r.assign('fac2', 'Steatosis')\n",
    "robjects.r.assign('faccol', 'Diagnosis')\n",
    "robjects.r.assign('samcol', 'local_sample_id')\n",
    "robjects.r.assign('normtype', ['remove_NAs'])\n",
    "robjects.r.assign('pthres', '0.04')\n",
    "robjects.r.assign('thres_log2foldchangevar', '0.5')"
   ]
  },
  {
   "cell_type": "code",
   "execution_count": 10,
   "id": "broadband-cabin",
   "metadata": {
    "execution": {
     "iopub.execute_input": "2021-03-25T22:05:13.081912Z",
     "iopub.status.busy": "2021-03-25T22:05:13.078028Z",
     "iopub.status.idle": "2021-03-25T22:05:13.088031Z",
     "shell.execute_reply": "2021-03-25T22:05:13.089431Z"
    }
   },
   "outputs": [
    {
     "data": {
      "text/html": [
       "\n",
       "<emph>FloatVector</emph> with 1 elements:\n",
       "<table class=\"rpy2_table\">\n",
       "<thead>\n",
       "</thead>\n",
       "<tbody>\n",
       "<tr>\n",
       "      <td>0.5</td>\n",
       "</tr>\n",
       "</tbody>\n",
       "</table>"
      ],
      "text/plain": [
       "<rpy2.robjects.vectors.FloatVector object at 0x7ffe8733e4c0> [RTYPES.REALSXP]\n",
       "R classes: ('numeric',)\n",
       "[0.500000]"
      ]
     },
     "execution_count": 10,
     "metadata": {},
     "output_type": "execute_result"
    }
   ],
   "source": [
    "robjects.r('''\n",
    "ptreshnum<-as.numeric(pthres)\n",
    "thres_log2foldchangenum<-as.numeric(thres_log2foldchangevar)\n",
    "''')"
   ]
  },
  {
   "cell_type": "code",
   "execution_count": 11,
   "id": "grave-veteran",
   "metadata": {
    "execution": {
     "iopub.execute_input": "2021-03-25T22:05:13.100352Z",
     "iopub.status.busy": "2021-03-25T22:05:13.097752Z",
     "iopub.status.idle": "2021-03-25T22:05:13.110196Z",
     "shell.execute_reply": "2021-03-25T22:05:13.111115Z"
    }
   },
   "outputs": [
    {
     "data": {
      "text/plain": [
       "<rpy2.rinterface_lib.sexp.NULLType object at 0x7ffe838074c0> [RTYPES.NILSXP]"
      ]
     },
     "execution_count": 11,
     "metadata": {},
     "output_type": "execute_result"
    }
   ],
   "source": [
    "robjects.r.assign('mettit', 'Core G Fatty acids/Eicosanoids, Core J Sterols, Core K Prenols/Cardiolipins, Core E Neutral Lipids, Core H Phospholipids')\n",
    "robjects.r('''\n",
    "list_mettit <- strsplit(mettit, ',')\n",
    "list_mettit = unlist(list_mettit, TRUE, TRUE)\n",
    "titles <- list()\n",
    "for(elm in list_mettit) {\n",
    "    elm = trimws(elm)\n",
    "    titles <- c(titles, elm)\n",
    "}\n",
    "''')"
   ]
  },
  {
   "cell_type": "code",
   "execution_count": 12,
   "id": "legendary-check",
   "metadata": {
    "execution": {
     "iopub.execute_input": "2021-03-25T22:05:13.131015Z",
     "iopub.status.busy": "2021-03-25T22:05:13.120195Z",
     "iopub.status.idle": "2021-03-25T22:05:14.217314Z",
     "shell.execute_reply": "2021-03-25T22:05:14.218463Z"
    }
   },
   "outputs": [
    {
     "name": "stdout",
     "output_type": "stream",
     "text": [
      "[1]"
     ]
    },
    {
     "name": "stdout",
     "output_type": "stream",
     "text": [
      " \" \""
     ]
    },
    {
     "name": "stdout",
     "output_type": "stream",
     "text": [
      "\n"
     ]
    },
    {
     "data": {
      "text/html": [
       "\n",
       "<emph>StrVector</emph> with 1 elements:\n",
       "<table class=\"rpy2_table\">\n",
       "<thead>\n",
       "</thead>\n",
       "<tbody>\n",
       "<tr>\n",
       "      <td> </td>\n",
       "</tr>\n",
       "</tbody>\n",
       "</table>"
      ],
      "text/plain": [
       "<rpy2.robjects.vectors.StrVector object at 0x7ffe891551c0> [RTYPES.STRSXP]\n",
       "R classes: ('character',)\n",
       "[' ']"
      ]
     },
     "execution_count": 12,
     "metadata": {},
     "output_type": "execute_result"
    }
   ],
   "source": [
    "#changed factor 2 from column to single factor? \n",
    "#is p adjust ONLY FDR?\n",
    "#get rid of output here?\n",
    "\n",
    "robjects.r('''\n",
    "stats_metabolites = significant_met(metabolomics_data=refmet_class_print, met_col=metcol,analysis_type=c(titles), metadata=metadata, factor1=fac1, factor2=fac2, factor_col=faccol,sample_col=samcol, p_adjust='fdr',normalization=normtype)\n",
    "print(\" \")\n",
    "''')"
   ]
  },
  {
   "cell_type": "code",
   "execution_count": 13,
   "id": "physical-passing",
   "metadata": {
    "execution": {
     "iopub.execute_input": "2021-03-25T22:05:14.230938Z",
     "iopub.status.busy": "2021-03-25T22:05:14.227990Z",
     "iopub.status.idle": "2021-03-25T22:05:14.249882Z",
     "shell.execute_reply": "2021-03-25T22:05:14.241236Z"
    }
   },
   "outputs": [
    {
     "name": "stdout",
     "output_type": "stream",
     "text": [
      "[1]"
     ]
    },
    {
     "name": "stdout",
     "output_type": "stream",
     "text": [
      " \" \""
     ]
    },
    {
     "name": "stdout",
     "output_type": "stream",
     "text": [
      "\n"
     ]
    },
    {
     "data": {
      "text/html": [
       "\n",
       "<emph>StrVector</emph> with 1 elements:\n",
       "<table class=\"rpy2_table\">\n",
       "<thead>\n",
       "</thead>\n",
       "<tbody>\n",
       "<tr>\n",
       "      <td> </td>\n",
       "</tr>\n",
       "</tbody>\n",
       "</table>"
      ],
      "text/plain": [
       "<rpy2.robjects.vectors.StrVector object at 0x7ffe83749a40> [RTYPES.STRSXP]\n",
       "R classes: ('character',)\n",
       "[' ']"
      ]
     },
     "execution_count": 13,
     "metadata": {},
     "output_type": "execute_result"
    }
   ],
   "source": [
    "robjects.r('''\n",
    "sig_metabolites = stats_metabolites[which(stats_metabolites[,\"pval\"] <= ptreshnum&abs(stats_metabolites[,\"log2Fold_change\"])>thres_log2foldchangenum),]\n",
    "print(\" \")\n",
    "''')"
   ]
  },
  {
   "cell_type": "code",
   "execution_count": 14,
   "id": "shared-stocks",
   "metadata": {
    "execution": {
     "iopub.execute_input": "2021-03-25T22:05:14.267011Z",
     "iopub.status.busy": "2021-03-25T22:05:14.263953Z",
     "iopub.status.idle": "2021-03-25T22:05:16.914535Z",
     "shell.execute_reply": "2021-03-25T22:05:16.915687Z"
    }
   },
   "outputs": [
    {
     "data": {
      "image/png": "[encoded data removed]",
      "text/plain": [
       "<IPython.core.display.Image object>"
      ]
     },
     "execution_count": 14,
     "metadata": {},
     "output_type": "execute_result"
    }
   ],
   "source": [
    "image_png(robjects.r('''\n",
    "plot_volcano(stats_metabolites, thres_pval= ptreshnum, thres_log2foldchange = thres_log2foldchangenum, TRUE)\n",
    "'''))"
   ]
  },
  {
   "cell_type": "markdown",
   "id": "whole-arcade",
   "metadata": {},
   "source": [
    "### Map metabolite class of the significant metabolites utilzing refmet classification in Metabolomics Workbench\n",
    "This function not only maps metabolite to metabolite class but also to external databases such as pubchem, inchi key, smiles and kegg\n",
    "\n",
    "In this example, we will go forward with significant metabolite obtained by t-test/"
   ]
  },
  {
   "cell_type": "code",
   "execution_count": 15,
   "id": "ready-simple",
   "metadata": {
    "execution": {
     "iopub.execute_input": "2021-03-25T22:05:16.931635Z",
     "iopub.status.busy": "2021-03-25T22:05:16.926477Z",
     "iopub.status.idle": "2021-03-25T22:05:17.363469Z",
     "shell.execute_reply": "2021-03-25T22:05:17.364472Z"
    }
   },
   "outputs": [],
   "source": [
    "#killing the kernel\n",
    "\n",
    "with openrlib.rlock:\n",
    "    robjects.r('''\n",
    "    sig_metabolites_kegg_id= map_keggid(sig_metabolites)\n",
    "    ''')\n",
    "    pass"
   ]
  },
  {
   "cell_type": "markdown",
   "id": "union-weekly",
   "metadata": {},
   "source": [
    "#### Check all your significant metabolites have not been assigned metabolite class\n",
    "Outcome should be 0 elements (?)"
   ]
  },
  {
   "cell_type": "code",
   "execution_count": 16,
   "id": "comparative-flour",
   "metadata": {
    "execution": {
     "iopub.execute_input": "2021-03-25T22:05:17.374617Z",
     "iopub.status.busy": "2021-03-25T22:05:17.371382Z",
     "iopub.status.idle": "2021-03-25T22:05:17.382532Z",
     "shell.execute_reply": "2021-03-25T22:05:17.380884Z"
    }
   },
   "outputs": [
    {
     "data": {
      "text/html": [
       "\n",
       "<emph>StrVector</emph> with 1 elements:\n",
       "<table class=\"rpy2_table\">\n",
       "<thead>\n",
       "</thead>\n",
       "<tbody>\n",
       "<tr>\n",
       "      <td>Eicosapentaenoic acid</td>\n",
       "</tr>\n",
       "</tbody>\n",
       "</table>"
      ],
      "text/plain": [
       "<rpy2.robjects.vectors.StrVector object at 0x7ffe872f1e40> [RTYPES.STRSXP]\n",
       "R classes: ('character',)\n",
       "['Eicosapentaenoic acid']"
      ]
     },
     "execution_count": 16,
     "metadata": {},
     "output_type": "execute_result"
    }
   ],
   "source": [
    "robjects.r('''\n",
    "setdiff(sig_metabolites$refmet_name, sig_metabolites_kegg_id$refmet_name)\n",
    "''')"
   ]
  },
  {
   "cell_type": "markdown",
   "id": "forced-occasion",
   "metadata": {},
   "source": [
    "### Count metabolites in each of the metabolite class and plotting\n",
    "You may choose from sub_class, main_class and super_class"
   ]
  },
  {
   "cell_type": "code",
   "execution_count": 17,
   "id": "cloudy-jefferson",
   "metadata": {
    "execution": {
     "iopub.execute_input": "2021-03-25T22:05:17.399118Z",
     "iopub.status.busy": "2021-03-25T22:05:17.395401Z",
     "iopub.status.idle": "2021-03-25T22:05:18.144475Z",
     "shell.execute_reply": "2021-03-25T22:05:18.145161Z"
    }
   },
   "outputs": [
    {
     "data": {
      "text/html": [
       "\n",
       "<emph>ListVector</emph> with 2 elements:\n",
       "<table class=\"rpy2_table\">\n",
       "<thead>\n",
       "</thead>\n",
       "<tbody>\n",
       "  <tr>\n",
       "    <td class=\"rpy2_rowname\">0</td>\n",
       "    <td class=\"rpy2_names\">sig_met_count</td>\n",
       "    <td>        ...</td>\n",
       "  </tr>\n",
       "  <tr>\n",
       "    <td class=\"rpy2_rowname\">1</td>\n",
       "    <td class=\"rpy2_names\">plotimg</td>\n",
       "    <td></td>\n",
       "  </tr>\n",
       "</tr>\n",
       "</tbody>\n",
       "</table>"
      ],
      "text/plain": [
       "<rpy2.robjects.vectors.ListVector object at 0x7ffe8732f6c0> [RTYPES.VECSXP]\n",
       "R classes: ('list',)\n",
       "[ListSexpVector, ListSexpVector]\n",
       "  sig_met_count: <class 'rpy2.rinterface.ListSexpVector'>\n",
       "  <rpy2.rinterface.ListSexpVector object at 0x7ffe873094c0> [RTYPES.VECSXP]\n",
       "  plotimg: <class 'rpy2.rinterface.ListSexpVector'>\n",
       "  <rpy2.rinterface.ListSexpVector object at 0x7ffe87324880> [RTYPES.VECSXP]"
      ]
     },
     "execution_count": 17,
     "metadata": {},
     "output_type": "execute_result"
    }
   ],
   "source": [
    "robjects.r.assign('classtype', ['main_class'])\n",
    "robjects.r('''\n",
    "metclassvar <- as.character(classtype[1])\n",
    "count_changes = metcountplot(df_metclass=sig_metabolites_kegg_id, metclass=metclassvar, plotting=TRUE, thres_logfC = 0.5)\n",
    "''')"
   ]
  },
  {
   "cell_type": "code",
   "execution_count": 18,
   "id": "handmade-chess",
   "metadata": {
    "execution": {
     "iopub.execute_input": "2021-03-25T22:05:18.154470Z",
     "iopub.status.busy": "2021-03-25T22:05:18.151592Z",
     "iopub.status.idle": "2021-03-25T22:05:18.440923Z",
     "shell.execute_reply": "2021-03-25T22:05:18.441957Z"
    }
   },
   "outputs": [
    {
     "data": {
      "image/png": "[encoded data removed]",
      "text/plain": [
       "<IPython.core.display.Image object>"
      ]
     },
     "execution_count": 18,
     "metadata": {},
     "output_type": "execute_result"
    }
   ],
   "source": [
    "image_png(robjects.r('''\n",
    "count_changes$plotimg\n",
    "'''))"
   ]
  },
  {
   "cell_type": "markdown",
   "id": "smooth-letter",
   "metadata": {},
   "source": [
    "### Enrichment class score\n",
    "\n",
    "Calculate the enrichment score of each metabolite class. Enrichment score is calculated through hypergeometric method. One can specify the no. of significant metabolites in a class while calculating the enrichment score. We advice to use the number of mtabolites in each class as 3 or more. But if someone just wants to know the enrichment score and rest of the information of all the metabolites, then they can choose the number as 1."
   ]
  },
  {
   "cell_type": "code",
   "execution_count": 19,
   "id": "figured-assurance",
   "metadata": {
    "execution": {
     "iopub.execute_input": "2021-03-25T22:05:18.463512Z",
     "iopub.status.busy": "2021-03-25T22:05:18.451376Z",
     "iopub.status.idle": "2021-03-25T22:05:18.515036Z",
     "shell.execute_reply": "2021-03-25T22:05:18.516527Z"
    }
   },
   "outputs": [
    {
     "name": "stdout",
     "output_type": "stream",
     "text": [
      "[1]"
     ]
    },
    {
     "name": "stdout",
     "output_type": "stream",
     "text": [
      " \" \""
     ]
    },
    {
     "name": "stdout",
     "output_type": "stream",
     "text": [
      "\n"
     ]
    },
    {
     "data": {
      "text/html": [
       "\n",
       "<emph>StrVector</emph> with 1 elements:\n",
       "<table class=\"rpy2_table\">\n",
       "<thead>\n",
       "</thead>\n",
       "<tbody>\n",
       "<tr>\n",
       "      <td> </td>\n",
       "</tr>\n",
       "</tbody>\n",
       "</table>"
      ],
      "text/plain": [
       "<rpy2.robjects.vectors.StrVector object at 0x7ffe8909c5c0> [RTYPES.STRSXP]\n",
       "R classes: ('character',)\n",
       "[' ']"
      ]
     },
     "execution_count": 19,
     "metadata": {},
     "output_type": "execute_result"
    }
   ],
   "source": [
    "robjects.r.assign('sigmets', 3)\n",
    "robjects.r('''\n",
    "metenrichment = metclassenrichment(df_metclass=sig_metabolites_kegg_id,refmet_class, metclass=metclassvar,enrich_stats=\"HG\",no=sigmets)\n",
    "print(\" \")\n",
    "''')"
   ]
  },
  {
   "cell_type": "markdown",
   "id": "cleared-cooler",
   "metadata": {},
   "source": [
    "#### Plot the enrichment score via function plot_met_enrichment"
   ]
  },
  {
   "cell_type": "code",
   "execution_count": 20,
   "id": "cellular-parade",
   "metadata": {
    "execution": {
     "iopub.execute_input": "2021-03-25T22:05:18.532612Z",
     "iopub.status.busy": "2021-03-25T22:05:18.527227Z",
     "iopub.status.idle": "2021-03-25T22:05:18.673034Z",
     "shell.execute_reply": "2021-03-25T22:05:18.674655Z"
    }
   },
   "outputs": [
    {
     "data": {
      "image/png": "[encoded data removed]",
      "text/plain": [
       "<IPython.core.display.Image object>"
      ]
     },
     "execution_count": 20,
     "metadata": {},
     "output_type": "execute_result"
    }
   ],
   "source": [
    "image_png(robjects.r('''\n",
    "plot_met_enrichment(metenrichment, metclassvar,\"HG\", no=sigmets)\n",
    "'''))"
   ]
  },
  {
   "cell_type": "markdown",
   "id": "stupid-russia",
   "metadata": {},
   "source": [
    "### Check the pathways with reactions of all the significant metabolites"
   ]
  },
  {
   "cell_type": "code",
   "execution_count": 21,
   "id": "homeless-rabbit",
   "metadata": {
    "execution": {
     "iopub.execute_input": "2021-03-25T22:05:18.689306Z",
     "iopub.status.busy": "2021-03-25T22:05:18.686067Z",
     "iopub.status.idle": "2021-03-25T22:05:21.393406Z",
     "shell.execute_reply": "2021-03-25T22:05:21.394184Z"
    }
   },
   "outputs": [
    {
     "data": {
      "text/html": [
       "\n",
       "<emph>DataFrame</emph> with 6 rows and\n",
       "  22 columns:\n",
       "<table class=\"rpy2_table\">\n",
       "  <thead>\n",
       "    <tr class=\"rpy2_names\">\n",
       "      <th></th>\n",
       "      <th></th>\n",
       "      <th>rxn</th>\n",
       "      <th>refmet_name</th>\n",
       "      <th>Exact mass</th>\n",
       "      <th>KEGG ID</th>\n",
       "      <th>...</th>\n",
       "      <th>pathway_id</th>\n",
       "      <th>sps_path_id</th>\n",
       "    </tr>\n",
       "  </thead>\n",
       "  <tbody>\n",
       "    <tr>\n",
       "      <td class=\"rpy2_rowname\">0</td>\n",
       "        <td class=\"rpy2_names\">1</td>\n",
       "      <td>R01350</td>\n",
       "      <td>TG 54:5</td>\n",
       "      <td>880.7520</td>\n",
       "      <td>C00422</td>\n",
       "       <td>...</td>\n",
       "      <td>rn00561</td>\n",
       "      <td>hsa00561</td>\n",
       "    </tr>\n",
       "    <tr>\n",
       "      <td class=\"rpy2_rowname\">1</td>\n",
       "        <td class=\"rpy2_names\">2</td>\n",
       "      <td>R01350</td>\n",
       "      <td>TG 54:3</td>\n",
       "      <td>884.7833</td>\n",
       "      <td>C00422</td>\n",
       "       <td>...</td>\n",
       "      <td>rn00561</td>\n",
       "      <td>hsa00561</td>\n",
       "    </tr>\n",
       "    <tr>\n",
       "      <td class=\"rpy2_rowname\">2</td>\n",
       "        <td class=\"rpy2_names\">3</td>\n",
       "      <td>R01350</td>\n",
       "      <td>TG 50:4</td>\n",
       "      <td>826.7050</td>\n",
       "      <td>C00422</td>\n",
       "       <td>...</td>\n",
       "      <td>rn00561</td>\n",
       "      <td>hsa00561</td>\n",
       "    </tr>\n",
       "    <tr>\n",
       "      <td class=\"rpy2_rowname\">3</td>\n",
       "        <td class=\"rpy2_names\">4</td>\n",
       "      <td>R01350</td>\n",
       "      <td>TG 50:3</td>\n",
       "      <td>828.7207</td>\n",
       "      <td>C00422</td>\n",
       "       <td>...</td>\n",
       "      <td>rn00561</td>\n",
       "      <td>hsa00561</td>\n",
       "    </tr>\n",
       "    <tr>\n",
       "      <td class=\"rpy2_rowname\">4</td>\n",
       "        <td class=\"rpy2_names\">5</td>\n",
       "      <td>R01350</td>\n",
       "      <td>TG 54:6</td>\n",
       "      <td>878.7363</td>\n",
       "      <td>C00422</td>\n",
       "       <td>...</td>\n",
       "      <td>rn00561</td>\n",
       "      <td>hsa00561</td>\n",
       "    </tr>\n",
       "    <tr>\n",
       "      <td class=\"rpy2_rowname\">5</td>\n",
       "        <td class=\"rpy2_names\">6</td>\n",
       "      <td>R01350</td>\n",
       "      <td>TG 52:4</td>\n",
       "      <td>854.7363</td>\n",
       "      <td>C00422</td>\n",
       "       <td>...</td>\n",
       "      <td>rn00561</td>\n",
       "      <td>hsa00561</td>\n",
       "    </tr>\n",
       "  </tbody>\n",
       "</table>"
      ],
      "text/plain": [
       "<rpy2.robjects.vectors.DataFrame object at 0x7ffe8c1fd700> [RTYPES.VECSXP]\n",
       "R classes: ('data.frame',)\n",
       "[StrSexpVe..., StrSexpVe..., StrSexpVe..., StrSexpVe..., ..., ListSexpV..., StrSexpVe..., StrSexpVe..., StrSexpVe...]\n",
       "  rxn: <class 'rpy2.robjects.vectors.StrVector'>\n",
       "  <rpy2.robjects.vectors.StrVector object at 0x7ffe8c1fd180> [RTYPES.STRSXP]\n",
       "R classes: ('character',)\n",
       "['R013..., 'R013..., 'R013..., 'R013..., 'R013..., 'R013...]\n",
       "  refmet_name: <class 'rpy2.robjects.vectors.StrVector'>\n",
       "  <rpy2.robjects.vectors.StrVector object at 0x7ffe8c1fafc0> [RTYPES.STRSXP]\n",
       "R classes: ('character',)\n",
       "['TG 5..., 'TG 5..., 'TG 5..., 'TG 5..., 'TG 5..., 'TG 5...]\n",
       "  Exact mass: <class 'rpy2.robjects.vectors.StrVector'>\n",
       "  <rpy2.robjects.vectors.StrVector object at 0x7ffe8c1faa00> [RTYPES.STRSXP]\n",
       "R classes: ('character',)\n",
       "['880...., '884...., '826...., '828...., '878...., '854....]\n",
       "  KEGG ID: <class 'rpy2.robjects.vectors.StrVector'>\n",
       "  <rpy2.robjects.vectors.StrVector object at 0x7ffe8c1fac80> [RTYPES.STRSXP]\n",
       "R classes: ('character',)\n",
       "['C004..., 'C004..., 'C004..., 'C004..., 'C004..., 'C004...]\n",
       "...\n",
       "<rpy2.robjects.vectors.DataFrame object at 0x7ffe8c1fd700> [RTYPES.VECSXP]\n",
       "R classes: ('data.frame',)\n",
       "[StrSexpVe..., StrSexpVe..., StrSexpVe..., StrSexpVe..., ..., ListSexpV..., StrSexpVe..., StrSexpVe..., StrSexpVe...]\n",
       "  Steatosis_mean: <class 'rpy2.robjects.vectors.StrVector'>\n",
       "  <rpy2.robjects.vectors.StrVector object at 0x7ffe8c1fa1c0> [RTYPES.STRSXP]\n",
       "R classes: ('character',)\n",
       "['Glyc..., 'Glyc..., 'Glyc..., 'Glyc..., 'Glyc..., 'Glyc...]\n",
       "  Fold_change: <class 'rpy2.robjects.vectors.StrVector'>\n",
       "  <rpy2.robjects.vectors.StrVector object at 0x7ffe8c1f8dc0> [RTYPES.STRSXP]\n",
       "R classes: ('character',)\n",
       "['rn00..., 'rn00..., 'rn00..., 'rn00..., 'rn00..., 'rn00...]\n",
       "  log2Fold_change: <class 'rpy2.robjects.vectors.StrVector'>\n",
       "  <rpy2.robjects.vectors.StrVector object at 0x7ffe8c1f89c0> [RTYPES.STRSXP]\n",
       "R classes: ('character',)\n",
       "['hsa0..., 'hsa0..., 'hsa0..., 'hsa0..., 'hsa0..., 'hsa0...]"
      ]
     },
     "execution_count": 21,
     "metadata": {},
     "output_type": "execute_result"
    }
   ],
   "source": [
    "robjects.r.assign('studyOrg', 'hsa')\n",
    "robjects.r('''\n",
    "met_path = met_pathways(df_metenrichment = metenrichment, studyOrg)\n",
    "head(met_path)\n",
    "''')"
   ]
  },
  {
   "cell_type": "markdown",
   "id": "preliminary-street",
   "metadata": {},
   "source": [
    "Find metabolites for which no pathways were registered in Kegg and/or no kegg id was found"
   ]
  },
  {
   "cell_type": "code",
   "execution_count": 22,
   "id": "million-retailer",
   "metadata": {
    "execution": {
     "iopub.execute_input": "2021-03-25T22:05:21.406095Z",
     "iopub.status.busy": "2021-03-25T22:05:21.402360Z",
     "iopub.status.idle": "2021-03-25T22:05:21.409882Z",
     "shell.execute_reply": "2021-03-25T22:05:21.407872Z"
    }
   },
   "outputs": [],
   "source": [
    "#setdiff(metenrichment$Metabolite,unique(met_path$Metabolite))\n",
    "\n",
    "#not necessary for final script?"
   ]
  },
  {
   "cell_type": "markdown",
   "id": "innovative-bahamas",
   "metadata": {},
   "source": [
    "### Get pathway enrichment sore.\n",
    "\n",
    "Once we have the pathway information, we can calculate enrichment score of pathways. Again, here i have used hypergeometric score. For hypergeometric score, we need to know the total number of kegg compounds that are linked to kegg pathways. \n",
    "N = total no. of cmpds linked to kegg pathway (this is the step which might take long), so I advice to run the script comp_linkedto_pathways() just the first time or after 6 months or so if desired to run the pipeline again. save the result from comp_linkedto_pathways() and load it. Loading from saved file would save time for another analysis with another study. However the package takes care of loading. Save the data in the data folder.\n",
    "\n",
    "L = No. of cmpds in a pathway\n",
    "M= no. of altered cmpds in a pathway\n",
    "K =  total no. of altered cmpds\n",
    "phyper(M,L, N-L, K)\n",
    "\n",
    "\n",
    "This function also utilizes korg dataset from pathview package."
   ]
  },
  {
   "cell_type": "code",
   "execution_count": 23,
   "id": "cardiac-purse",
   "metadata": {
    "execution": {
     "iopub.execute_input": "2021-03-25T22:05:21.424777Z",
     "iopub.status.busy": "2021-03-25T22:05:21.421372Z",
     "iopub.status.idle": "2021-03-25T22:05:22.086595Z",
     "shell.execute_reply": "2021-03-25T22:05:22.085976Z"
    }
   },
   "outputs": [
    {
     "data": {
      "text/html": [
       "\n",
       "<emph>DataFrame</emph> with 3 rows and\n",
       "  5 columns:\n",
       "<table class=\"rpy2_table\">\n",
       "  <thead>\n",
       "    <tr class=\"rpy2_names\">\n",
       "      <th></th>\n",
       "      <th></th>\n",
       "      <th>Pathway name</th>\n",
       "      <th>No.of mets in study</th>\n",
       "      <th>Total_no._of_comps_in_pathway</th>\n",
       "      <th>pathway_HG p-value</th>\n",
       "      <th>Padjust</th>\n",
       "    </tr>\n",
       "  </thead>\n",
       "  <tbody>\n",
       "    <tr>\n",
       "      <td class=\"rpy2_rowname\">0</td>\n",
       "        <td class=\"rpy2_names\">1</td>\n",
       "      <td>Biosynthesis of unsaturated fatty acids</td>\n",
       "      <td>1</td>\n",
       "      <td>74</td>\n",
       "      <td>0.9415920165203002</td>\n",
       "      <td>0.9415920165203002</td>\n",
       "    </tr>\n",
       "    <tr>\n",
       "      <td class=\"rpy2_rowname\">1</td>\n",
       "        <td class=\"rpy2_names\">2</td>\n",
       "      <td>Glycerolipid metabolism</td>\n",
       "      <td>9</td>\n",
       "      <td>38</td>\n",
       "      <td>8.736312235680944e-07</td>\n",
       "      <td>2.620893670704283e-06</td>\n",
       "    </tr>\n",
       "    <tr>\n",
       "      <td class=\"rpy2_rowname\">2</td>\n",
       "        <td class=\"rpy2_names\">3</td>\n",
       "      <td>Steroid biosynthesis</td>\n",
       "      <td>1</td>\n",
       "      <td>58</td>\n",
       "      <td>0.8879920904576967</td>\n",
       "      <td>0.9415920165203002</td>\n",
       "    </tr>\n",
       "  </tbody>\n",
       "</table>"
      ],
      "text/plain": [
       "<rpy2.robjects.vectors.DataFrame object at 0x7ffe87316680> [RTYPES.VECSXP]\n",
       "R classes: ('data.frame',)\n",
       "[IntSexp..., IntSexp..., IntSexp..., FloatSe..., FloatSe...]\n",
       "  Pathway name: <class 'rpy2.rinterface.IntSexpVector'>\n",
       "  <rpy2.rinterface.IntSexpVector object at 0x7ffe872ec580> [RTYPES.INTSXP]\n",
       "  No.of mets in study: <class 'rpy2.rinterface.IntSexpVector'>\n",
       "  <rpy2.rinterface.IntSexpVector object at 0x7ffe8731c600> [RTYPES.INTSXP]\n",
       "  Total_no._of_comps_in_pathway: <class 'rpy2.rinterface.IntSexpVector'>\n",
       "  <rpy2.rinterface.IntSexpVector object at 0x7ffe876626c0> [RTYPES.INTSXP]\n",
       "  pathway_HG p-value: <class 'rpy2.rinterface.FloatSexpVector'>\n",
       "  <rpy2.rinterface.FloatSexpVector object at 0x7ffe8957b280> [RTYPES.REALSXP]\n",
       "  Padjust: <class 'rpy2.rinterface.FloatSexpVector'>\n",
       "  <rpy2.rinterface.FloatSexpVector object at 0x7ffe8917a9c0> [RTYPES.REALSXP]"
      ]
     },
     "execution_count": 23,
     "metadata": {},
     "output_type": "execute_result"
    }
   ],
   "source": [
    "robjects.r('''\n",
    "kegg_es = path_enrichmentscore(met_path,sig_metabolite_kegg_id=sig_metabolite_kegg_id,ls_path=ls_path,refmet_class=refmet_class,sps='hsa',padj='fdr', kegg_comp_path=FALSE)\n",
    "head(kegg_es)\n",
    "''')"
   ]
  },
  {
   "cell_type": "markdown",
   "id": "unlikely-anthropology",
   "metadata": {},
   "source": [
    "### Plot pathway network\n",
    "Only plotting significant pathways (pathway with p-value significance).\n",
    "\n",
    "The pathway network is such that it shows metabolites that are connected to different pathways and same metabolite in different pathway. Color of nodes of metabolites are according to the fold change of metabolites (low expression in green and high in red) and size of pathway nodes (square nodes) are according to the number of branches (meaning no of metabolites). All metabolite are written in blue"
   ]
  },
  {
   "cell_type": "code",
   "execution_count": 24,
   "id": "speaking-calibration",
   "metadata": {
    "execution": {
     "iopub.execute_input": "2021-03-25T22:05:22.096300Z",
     "iopub.status.busy": "2021-03-25T22:05:22.093399Z",
     "iopub.status.idle": "2021-03-25T22:05:22.477030Z",
     "shell.execute_reply": "2021-03-25T22:05:22.478078Z"
    }
   },
   "outputs": [
    {
     "data": {
      "image/png": "[encoded data removed]",
      "text/plain": [
       "<IPython.core.display.Image object>"
      ]
     },
     "execution_count": 24,
     "metadata": {},
     "output_type": "execute_result"
    }
   ],
   "source": [
    "image_png(robjects.r('''\n",
    "plot_pathway_networks (met_path,kegg_es, TRUE)\n",
    "'''))"
   ]
  },
  {
   "cell_type": "markdown",
   "id": "wrong-agenda",
   "metadata": {},
   "source": [
    "### Heatmap"
   ]
  },
  {
   "cell_type": "code",
   "execution_count": 25,
   "id": "dedicated-pilot",
   "metadata": {
    "execution": {
     "iopub.execute_input": "2021-03-25T22:05:22.493991Z",
     "iopub.status.busy": "2021-03-25T22:05:22.488909Z",
     "iopub.status.idle": "2021-03-25T22:05:22.503734Z",
     "shell.execute_reply": "2021-03-25T22:05:22.500571Z"
    }
   },
   "outputs": [
    {
     "data": {
      "text/html": [
       "\n",
       "<emph>IntVector</emph> with 1 elements:\n",
       "<table class=\"rpy2_table\">\n",
       "<thead>\n",
       "</thead>\n",
       "<tbody>\n",
       "<tr>\n",
       "      <td>6</td>\n",
       "</tr>\n",
       "</tbody>\n",
       "</table>"
      ],
      "text/plain": [
       "<rpy2.robjects.vectors.IntVector object at 0x7ffe8733e5c0> [RTYPES.INTSXP]\n",
       "R classes: ('integer',)\n",
       "[6]"
      ]
     },
     "execution_count": 25,
     "metadata": {},
     "output_type": "execute_result"
    }
   ],
   "source": [
    "robjects.r.assign('x_size_heat', 8)\n",
    "robjects.r.assign('y_size_heat', 6)"
   ]
  },
  {
   "cell_type": "code",
   "execution_count": 26,
   "id": "frank-terminology",
   "metadata": {
    "execution": {
     "iopub.execute_input": "2021-03-25T22:05:22.516068Z",
     "iopub.status.busy": "2021-03-25T22:05:22.512885Z",
     "iopub.status.idle": "2021-03-25T22:05:22.662942Z",
     "shell.execute_reply": "2021-03-25T22:05:22.663922Z"
    }
   },
   "outputs": [
    {
     "data": {
      "image/png": "[encoded data removed]",
      "text/plain": [
       "<IPython.core.display.Image object>"
      ]
     },
     "execution_count": 26,
     "metadata": {},
     "output_type": "execute_result"
    }
   ],
   "source": [
    "image_png(robjects.r('''\n",
    "plot_heatmap(met_path, shorten_name=TRUE,refmet_name=FALSE, xaxis=x_size_heat, yaxis=y_size_heat)\n",
    "'''))"
   ]
  },
  {
   "cell_type": "markdown",
   "id": "sitting-prefix",
   "metadata": {},
   "source": [
    "### Dotplot"
   ]
  },
  {
   "cell_type": "code",
   "execution_count": 27,
   "id": "verified-queen",
   "metadata": {
    "execution": {
     "iopub.execute_input": "2021-03-25T22:05:22.675696Z",
     "iopub.status.busy": "2021-03-25T22:05:22.672341Z",
     "iopub.status.idle": "2021-03-25T22:05:22.682385Z",
     "shell.execute_reply": "2021-03-25T22:05:22.680431Z"
    }
   },
   "outputs": [
    {
     "data": {
      "text/html": [
       "\n",
       "<emph>IntVector</emph> with 1 elements:\n",
       "<table class=\"rpy2_table\">\n",
       "<thead>\n",
       "</thead>\n",
       "<tbody>\n",
       "<tr>\n",
       "      <td>6</td>\n",
       "</tr>\n",
       "</tbody>\n",
       "</table>"
      ],
      "text/plain": [
       "<rpy2.robjects.vectors.IntVector object at 0x7ffe8c1fd180> [RTYPES.INTSXP]\n",
       "R classes: ('integer',)\n",
       "[6]"
      ]
     },
     "execution_count": 27,
     "metadata": {},
     "output_type": "execute_result"
    }
   ],
   "source": [
    "robjects.r.assign('x_size_dot', 8)\n",
    "robjects.r.assign('y_size_dot', 6)"
   ]
  },
  {
   "cell_type": "code",
   "execution_count": 28,
   "id": "cellular-syndicate",
   "metadata": {
    "execution": {
     "iopub.execute_input": "2021-03-25T22:05:22.696209Z",
     "iopub.status.busy": "2021-03-25T22:05:22.692047Z",
     "iopub.status.idle": "2021-03-25T22:05:22.914666Z",
     "shell.execute_reply": "2021-03-25T22:05:22.915679Z"
    }
   },
   "outputs": [
    {
     "data": {
      "image/png": "[encoded data removed]",
      "text/plain": [
       "<IPython.core.display.Image object>"
      ]
     },
     "execution_count": 28,
     "metadata": {},
     "output_type": "execute_result"
    }
   ],
   "source": [
    "image_png(robjects.r('''\n",
    "dotplot_met_class_path (met_path, kegg_es, metclassvar,xaxis=x_size_dot,yaxis=y_size_dot)\n",
    "'''))"
   ]
  },
  {
   "cell_type": "markdown",
   "id": "shaped-apache",
   "metadata": {},
   "source": [
    "### Get the gene and enzyme info\n",
    "\n",
    "Here we get the information of genes involved in enriched pathways for specified organism"
   ]
  },
  {
   "cell_type": "code",
   "execution_count": 29,
   "id": "judicial-biology",
   "metadata": {
    "execution": {
     "iopub.execute_input": "2021-03-25T22:05:22.926792Z",
     "iopub.status.busy": "2021-03-25T22:05:22.923769Z",
     "iopub.status.idle": "2021-03-25T22:05:30.308308Z",
     "shell.execute_reply": "2021-03-25T22:05:30.307673Z"
    }
   },
   "outputs": [
    {
     "data": {
      "text/html": [
       "\n",
       "<emph>DataFrame</emph> with 6 rows and\n",
       "  18 columns:\n",
       "<table class=\"rpy2_table\">\n",
       "  <thead>\n",
       "    <tr class=\"rpy2_names\">\n",
       "      <th></th>\n",
       "      <th></th>\n",
       "      <th>orthology_id</th>\n",
       "      <th>ORTHOLOGY</th>\n",
       "      <th>gene_id</th>\n",
       "      <th>gene_name</th>\n",
       "      <th>...</th>\n",
       "      <th>EQUATION_more</th>\n",
       "      <th>ENZYME</th>\n",
       "    </tr>\n",
       "  </thead>\n",
       "  <tbody>\n",
       "    <tr>\n",
       "      <td class=\"rpy2_rowname\">0</td>\n",
       "        <td class=\"rpy2_names\">1</td>\n",
       "      <td>K01059</td>\n",
       "      <td>lipoprotein lipase [EC:3.1.1.34]</td>\n",
       "      <td>   CDS \n",
       "\"4023\" \n",
       "</td>\n",
       "      <td>[1] \"LPL, HDLCQ11, LIPD\"\n",
       "</td>\n",
       "       <td>...</td>\n",
       "      <td>[1] \"Glycerol + Fatty acid <=> Triacylglycerol\"\n",
       "</td>\n",
       "      <td>[1] \"3.1.1.34\"\n",
       "</td>\n",
       "    </tr>\n",
       "    <tr>\n",
       "      <td class=\"rpy2_rowname\">1</td>\n",
       "        <td class=\"rpy2_names\">2</td>\n",
       "      <td>K01059</td>\n",
       "      <td>lipoprotein lipase [EC:3.1.1.34]</td>\n",
       "      <td>   CDS \n",
       "\"4023\" \n",
       "</td>\n",
       "      <td>[1] \"LPL, HDLCQ11, LIPD\"\n",
       "</td>\n",
       "       <td>...</td>\n",
       "      <td>[1] \"Glycerol + Fatty acid <=> Triacylglycerol\"\n",
       "</td>\n",
       "      <td>[1] \"3.1.1.34\"\n",
       "</td>\n",
       "    </tr>\n",
       "    <tr>\n",
       "      <td class=\"rpy2_rowname\">2</td>\n",
       "        <td class=\"rpy2_names\">3</td>\n",
       "      <td>K01059</td>\n",
       "      <td>lipoprotein lipase [EC:3.1.1.34]</td>\n",
       "      <td>   CDS \n",
       "\"4023\" \n",
       "</td>\n",
       "      <td>[1] \"LPL, HDLCQ11, LIPD\"\n",
       "</td>\n",
       "       <td>...</td>\n",
       "      <td>[1] \"Glycerol + Fatty acid <=> Triacylglycerol\"\n",
       "</td>\n",
       "      <td>[1] \"3.1.1.34\"\n",
       "</td>\n",
       "    </tr>\n",
       "    <tr>\n",
       "      <td class=\"rpy2_rowname\">3</td>\n",
       "        <td class=\"rpy2_names\">4</td>\n",
       "      <td>K01059</td>\n",
       "      <td>lipoprotein lipase [EC:3.1.1.34]</td>\n",
       "      <td>   CDS \n",
       "\"4023\" \n",
       "</td>\n",
       "      <td>[1] \"LPL, HDLCQ11, LIPD\"\n",
       "</td>\n",
       "       <td>...</td>\n",
       "      <td>[1] \"Glycerol + Fatty acid <=> Triacylglycerol\"\n",
       "</td>\n",
       "      <td>[1] \"3.1.1.34\"\n",
       "</td>\n",
       "    </tr>\n",
       "    <tr>\n",
       "      <td class=\"rpy2_rowname\">4</td>\n",
       "        <td class=\"rpy2_names\">5</td>\n",
       "      <td>K01059</td>\n",
       "      <td>lipoprotein lipase [EC:3.1.1.34]</td>\n",
       "      <td>   CDS \n",
       "\"4023\" \n",
       "</td>\n",
       "      <td>[1] \"LPL, HDLCQ11, LIPD\"\n",
       "</td>\n",
       "       <td>...</td>\n",
       "      <td>[1] \"Glycerol + Fatty acid <=> Triacylglycerol\"\n",
       "</td>\n",
       "      <td>[1] \"3.1.1.34\"\n",
       "</td>\n",
       "    </tr>\n",
       "    <tr>\n",
       "      <td class=\"rpy2_rowname\">5</td>\n",
       "        <td class=\"rpy2_names\">6</td>\n",
       "      <td>K01059</td>\n",
       "      <td>lipoprotein lipase [EC:3.1.1.34]</td>\n",
       "      <td>   CDS \n",
       "\"4023\" \n",
       "</td>\n",
       "      <td>[1] \"LPL, HDLCQ11, LIPD\"\n",
       "</td>\n",
       "       <td>...</td>\n",
       "      <td>[1] \"Glycerol + Fatty acid <=> Triacylglycerol\"\n",
       "</td>\n",
       "      <td>[1] \"3.1.1.34\"\n",
       "</td>\n",
       "    </tr>\n",
       "  </tbody>\n",
       "</table>"
      ],
      "text/plain": [
       "<rpy2.robjects.vectors.DataFrame object at 0x7ffe8c1f84c0> [RTYPES.VECSXP]\n",
       "R classes: ('data.frame',)\n",
       "[StrSexpVe..., StrSexpVe..., ListSexpV..., ListSexpV..., ..., ListSexpV..., ListSexpV..., ListSexpV..., ListSexpV...]\n",
       "  orthology_id: <class 'rpy2.robjects.vectors.StrVector'>\n",
       "  <rpy2.robjects.vectors.StrVector object at 0x7ffe8c1f7780> [RTYPES.STRSXP]\n",
       "R classes: ('character',)\n",
       "['K010..., 'K010..., 'K010..., 'K010..., 'K010..., 'K010...]\n",
       "  ORTHOLOGY: <class 'rpy2.robjects.vectors.StrVector'>\n",
       "  <rpy2.robjects.vectors.StrVector object at 0x7ffe8c1f7a40> [RTYPES.STRSXP]\n",
       "R classes: ('character',)\n",
       "['lipo..., 'lipo..., 'lipo..., 'lipo..., 'lipo..., 'lipo...]\n",
       "<rpy2.robjects.vectors.DataFrame object at 0x7ffe8c1f84c0> [RTYPES.VECSXP]\n",
       "R classes: ('data.frame',)\n",
       "[StrSexpVe..., StrSexpVe..., ListSexpV..., ListSexpV..., ..., ListSexpV..., ListSexpV..., ListSexpV..., ListSexpV...]\n",
       "<rpy2.robjects.vectors.DataFrame object at 0x7ffe8c1f84c0> [RTYPES.VECSXP]\n",
       "R classes: ('data.frame',)\n",
       "[StrSexpVe..., StrSexpVe..., ListSexpV..., ListSexpV..., ..., ListSexpV..., ListSexpV..., ListSexpV..., ListSexpV...]\n",
       "...\n",
       "<rpy2.robjects.vectors.DataFrame object at 0x7ffe8c1f84c0> [RTYPES.VECSXP]\n",
       "R classes: ('data.frame',)\n",
       "[StrSexpVe..., StrSexpVe..., ListSexpV..., ListSexpV..., ..., ListSexpV..., ListSexpV..., ListSexpV..., ListSexpV...]\n",
       "<rpy2.robjects.vectors.DataFrame object at 0x7ffe8c1f84c0> [RTYPES.VECSXP]\n",
       "R classes: ('data.frame',)\n",
       "[StrSexpVe..., StrSexpVe..., ListSexpV..., ListSexpV..., ..., ListSexpV..., ListSexpV..., ListSexpV..., ListSexpV...]\n",
       "<rpy2.robjects.vectors.DataFrame object at 0x7ffe8c1f84c0> [RTYPES.VECSXP]\n",
       "R classes: ('data.frame',)\n",
       "[StrSexpVe..., StrSexpVe..., ListSexpV..., ListSexpV..., ..., ListSexpV..., ListSexpV..., ListSexpV..., ListSexpV...]\n",
       "<rpy2.robjects.vectors.DataFrame object at 0x7ffe8c1f84c0> [RTYPES.VECSXP]\n",
       "R classes: ('data.frame',)\n",
       "[StrSexpVe..., StrSexpVe..., ListSexpV..., ListSexpV..., ..., ListSexpV..., ListSexpV..., ListSexpV..., ListSexpV...]"
      ]
     },
     "execution_count": 29,
     "metadata": {},
     "output_type": "execute_result"
    }
   ],
   "source": [
    "robjects.r('''\n",
    "met_gene_info = enzyme_gene_info (metenrichment, studyOrg, metclassvar)\n",
    "head(met_gene_info)\n",
    "''')"
   ]
  },
  {
   "cell_type": "markdown",
   "id": "complete-means",
   "metadata": {},
   "source": [
    "#### Get the information if metabolite is a reactant or substrate"
   ]
  },
  {
   "cell_type": "code",
   "execution_count": 30,
   "id": "motivated-brother",
   "metadata": {
    "execution": {
     "iopub.execute_input": "2021-03-25T22:05:30.319791Z",
     "iopub.status.busy": "2021-03-25T22:05:30.316685Z",
     "iopub.status.idle": "2021-03-25T22:05:30.356599Z",
     "shell.execute_reply": "2021-03-25T22:05:30.357330Z"
    }
   },
   "outputs": [
    {
     "data": {
      "text/html": [
       "\n",
       "<emph>DataFrame</emph> with 6 rows and\n",
       "  19 columns:\n",
       "<table class=\"rpy2_table\">\n",
       "  <thead>\n",
       "    <tr class=\"rpy2_names\">\n",
       "      <th></th>\n",
       "      <th></th>\n",
       "      <th>orthology_id</th>\n",
       "      <th>ORTHOLOGY</th>\n",
       "      <th>gene_id</th>\n",
       "      <th>gene_name</th>\n",
       "      <th>...</th>\n",
       "      <th>ENZYME</th>\n",
       "      <th>reactant_product</th>\n",
       "    </tr>\n",
       "  </thead>\n",
       "  <tbody>\n",
       "    <tr>\n",
       "      <td class=\"rpy2_rowname\">0</td>\n",
       "        <td class=\"rpy2_names\">1</td>\n",
       "      <td>K01059</td>\n",
       "      <td>lipoprotein lipase [EC:3.1.1.34]</td>\n",
       "      <td>   CDS \n",
       "\"4023\" \n",
       "</td>\n",
       "      <td>[1] \"LPL, HDLCQ11, LIPD\"\n",
       "</td>\n",
       "       <td>...</td>\n",
       "      <td>[1] \"3.1.1.34\"\n",
       "</td>\n",
       "      <td>Product</td>\n",
       "    </tr>\n",
       "    <tr>\n",
       "      <td class=\"rpy2_rowname\">1</td>\n",
       "        <td class=\"rpy2_names\">2</td>\n",
       "      <td>K01059</td>\n",
       "      <td>lipoprotein lipase [EC:3.1.1.34]</td>\n",
       "      <td>   CDS \n",
       "\"4023\" \n",
       "</td>\n",
       "      <td>[1] \"LPL, HDLCQ11, LIPD\"\n",
       "</td>\n",
       "       <td>...</td>\n",
       "      <td>[1] \"3.1.1.34\"\n",
       "</td>\n",
       "      <td>Product</td>\n",
       "    </tr>\n",
       "    <tr>\n",
       "      <td class=\"rpy2_rowname\">2</td>\n",
       "        <td class=\"rpy2_names\">3</td>\n",
       "      <td>K01059</td>\n",
       "      <td>lipoprotein lipase [EC:3.1.1.34]</td>\n",
       "      <td>   CDS \n",
       "\"4023\" \n",
       "</td>\n",
       "      <td>[1] \"LPL, HDLCQ11, LIPD\"\n",
       "</td>\n",
       "       <td>...</td>\n",
       "      <td>[1] \"3.1.1.34\"\n",
       "</td>\n",
       "      <td>Product</td>\n",
       "    </tr>\n",
       "    <tr>\n",
       "      <td class=\"rpy2_rowname\">3</td>\n",
       "        <td class=\"rpy2_names\">4</td>\n",
       "      <td>K01059</td>\n",
       "      <td>lipoprotein lipase [EC:3.1.1.34]</td>\n",
       "      <td>   CDS \n",
       "\"4023\" \n",
       "</td>\n",
       "      <td>[1] \"LPL, HDLCQ11, LIPD\"\n",
       "</td>\n",
       "       <td>...</td>\n",
       "      <td>[1] \"3.1.1.34\"\n",
       "</td>\n",
       "      <td>Product</td>\n",
       "    </tr>\n",
       "    <tr>\n",
       "      <td class=\"rpy2_rowname\">4</td>\n",
       "        <td class=\"rpy2_names\">5</td>\n",
       "      <td>K01059</td>\n",
       "      <td>lipoprotein lipase [EC:3.1.1.34]</td>\n",
       "      <td>   CDS \n",
       "\"4023\" \n",
       "</td>\n",
       "      <td>[1] \"LPL, HDLCQ11, LIPD\"\n",
       "</td>\n",
       "       <td>...</td>\n",
       "      <td>[1] \"3.1.1.34\"\n",
       "</td>\n",
       "      <td>Product</td>\n",
       "    </tr>\n",
       "    <tr>\n",
       "      <td class=\"rpy2_rowname\">5</td>\n",
       "        <td class=\"rpy2_names\">6</td>\n",
       "      <td>K01059</td>\n",
       "      <td>lipoprotein lipase [EC:3.1.1.34]</td>\n",
       "      <td>   CDS \n",
       "\"4023\" \n",
       "</td>\n",
       "      <td>[1] \"LPL, HDLCQ11, LIPD\"\n",
       "</td>\n",
       "       <td>...</td>\n",
       "      <td>[1] \"3.1.1.34\"\n",
       "</td>\n",
       "      <td>Product</td>\n",
       "    </tr>\n",
       "  </tbody>\n",
       "</table>"
      ],
      "text/plain": [
       "<rpy2.robjects.vectors.DataFrame object at 0x7ffe89161780> [RTYPES.VECSXP]\n",
       "R classes: ('data.frame',)\n",
       "[StrSexpVe..., StrSexpVe..., ListSexpV..., ListSexpV..., ..., ListSexpV..., ListSexpV..., ListSexpV..., StrSexpVe...]\n",
       "  orthology_id: <class 'rpy2.robjects.vectors.StrVector'>\n",
       "  <rpy2.robjects.vectors.StrVector object at 0x7ffe87309180> [RTYPES.STRSXP]\n",
       "R classes: ('character',)\n",
       "['K010..., 'K010..., 'K010..., 'K010..., 'K010..., 'K010...]\n",
       "  ORTHOLOGY: <class 'rpy2.robjects.vectors.StrVector'>\n",
       "  <rpy2.robjects.vectors.StrVector object at 0x7ffe87309880> [RTYPES.STRSXP]\n",
       "R classes: ('character',)\n",
       "['lipo..., 'lipo..., 'lipo..., 'lipo..., 'lipo..., 'lipo...]\n",
       "<rpy2.robjects.vectors.DataFrame object at 0x7ffe89161780> [RTYPES.VECSXP]\n",
       "R classes: ('data.frame',)\n",
       "[StrSexpVe..., StrSexpVe..., ListSexpV..., ListSexpV..., ..., ListSexpV..., ListSexpV..., ListSexpV..., StrSexpVe...]\n",
       "<rpy2.robjects.vectors.DataFrame object at 0x7ffe89161780> [RTYPES.VECSXP]\n",
       "R classes: ('data.frame',)\n",
       "[StrSexpVe..., StrSexpVe..., ListSexpV..., ListSexpV..., ..., ListSexpV..., ListSexpV..., ListSexpV..., StrSexpVe...]\n",
       "...\n",
       "<rpy2.robjects.vectors.DataFrame object at 0x7ffe89161780> [RTYPES.VECSXP]\n",
       "R classes: ('data.frame',)\n",
       "[StrSexpVe..., StrSexpVe..., ListSexpV..., ListSexpV..., ..., ListSexpV..., ListSexpV..., ListSexpV..., StrSexpVe...]\n",
       "<rpy2.robjects.vectors.DataFrame object at 0x7ffe89161780> [RTYPES.VECSXP]\n",
       "R classes: ('data.frame',)\n",
       "[StrSexpVe..., StrSexpVe..., ListSexpV..., ListSexpV..., ..., ListSexpV..., ListSexpV..., ListSexpV..., StrSexpVe...]\n",
       "<rpy2.robjects.vectors.DataFrame object at 0x7ffe89161780> [RTYPES.VECSXP]\n",
       "R classes: ('data.frame',)\n",
       "[StrSexpVe..., StrSexpVe..., ListSexpV..., ListSexpV..., ..., ListSexpV..., ListSexpV..., ListSexpV..., StrSexpVe...]\n",
       "  MOTIF: <class 'rpy2.robjects.vectors.StrVector'>\n",
       "  <rpy2.robjects.vectors.StrVector object at 0x7ffe8c1f45c0> [RTYPES.STRSXP]\n",
       "R classes: ('character',)\n",
       "['Prod..., 'Prod..., 'Prod..., 'Prod..., 'Prod..., 'Prod...]"
      ]
     },
     "execution_count": 30,
     "metadata": {},
     "output_type": "execute_result"
    }
   ],
   "source": [
    "robjects.r('''\n",
    "rclass_info = react_substrate(met_gene_info)\n",
    "head(rclass_info)\n",
    "''')"
   ]
  },
  {
   "cell_type": "markdown",
   "id": "corrected-florida",
   "metadata": {},
   "source": [
    "#### Get gene info in short form"
   ]
  },
  {
   "cell_type": "code",
   "execution_count": 31,
   "id": "recent-place",
   "metadata": {
    "execution": {
     "iopub.execute_input": "2021-03-25T22:05:30.372706Z",
     "iopub.status.busy": "2021-03-25T22:05:30.369124Z",
     "iopub.status.idle": "2021-03-25T22:05:30.538134Z",
     "shell.execute_reply": "2021-03-25T22:05:30.539071Z"
    }
   },
   "outputs": [
    {
     "data": {
      "text/html": [
       "\n",
       "<emph>DataFrame</emph> with 10 rows and\n",
       "  19 columns:\n",
       "<table class=\"rpy2_table\">\n",
       "  <thead>\n",
       "    <tr class=\"rpy2_names\">\n",
       "      <th></th>\n",
       "      <th></th>\n",
       "      <th>Metabolite</th>\n",
       "      <th>orthology_id</th>\n",
       "      <th>ORTHOLOGY</th>\n",
       "      <th>gene_id</th>\n",
       "      <th>...</th>\n",
       "      <th>ENZYME</th>\n",
       "      <th>reactant_product</th>\n",
       "    </tr>\n",
       "  </thead>\n",
       "  <tbody>\n",
       "    <tr>\n",
       "      <td class=\"rpy2_rowname\">0</td>\n",
       "        <td class=\"rpy2_names\">1</td>\n",
       "      <td>TG(54:6)</td>\n",
       "      <td>K01059, K11155, K11160, K12298, K13534, K14073, K14074, K14075, K14076, K14452, K14456, K16816, K22283, K22284</td>\n",
       "      <td>lipoprotein lipase [EC:3.1.1.34], diacylglycerol O-acyltransferase 1 [EC:2.3.1.20 2.3.1.75 2.3.1.76], diacylglycerol O-acyltransferase 2 [EC:2.3.1.20 2.3.1.75], bile salt-stimulated lipase [EC:3.1.1.3 3.1.1.13], patatin-like phospholipase domain-containing protein 3 [EC:3.1.1.3 2.3.1.-], pancreatic triacylglycerol lipase [EC:3.1.1.3], pancreatic lipase-related protein 1 [EC:3.1.1.3], pancreatic lipase-related protein 2 [EC:3.1.1.3], pancreatic lipase-related protein 3 [EC:3.1.1.3], gastric triacylglycerol lipase [EC:3.1.1.3], 2-acylglycerol O-acyltransferase 3 [EC:2.3.1.20 2.3.1.22], patatin-like phospholipase domain-containing protein 2 [EC:3.1.1.3], hepatic triacylglycerol lipase [EC:3.1.1.3], endothelial lipase [EC:3.1.1.3]</td>\n",
       "      <td>4023, 8694, 84649, 1056, 80339, 5406, 5407, 5408, 119548, 8513, 346606, 57104, 3990, 9388</td>\n",
       "       <td>...</td>\n",
       "      <td>3.1.1.34, 2.3.1.20, 3.1.1.3</td>\n",
       "      <td>Product, Substrate</td>\n",
       "    </tr>\n",
       "    <tr>\n",
       "      <td class=\"rpy2_rowname\">1</td>\n",
       "        <td class=\"rpy2_names\">2</td>\n",
       "      <td>TG(50:4)</td>\n",
       "      <td>K01059, K11155, K11160, K12298, K13534, K14073, K14074, K14075, K14076, K14452, K14456, K16816, K22283, K22284</td>\n",
       "      <td>lipoprotein lipase [EC:3.1.1.34], diacylglycerol O-acyltransferase 1 [EC:2.3.1.20 2.3.1.75 2.3.1.76], diacylglycerol O-acyltransferase 2 [EC:2.3.1.20 2.3.1.75], bile salt-stimulated lipase [EC:3.1.1.3 3.1.1.13], patatin-like phospholipase domain-containing protein 3 [EC:3.1.1.3 2.3.1.-], pancreatic triacylglycerol lipase [EC:3.1.1.3], pancreatic lipase-related protein 1 [EC:3.1.1.3], pancreatic lipase-related protein 2 [EC:3.1.1.3], pancreatic lipase-related protein 3 [EC:3.1.1.3], gastric triacylglycerol lipase [EC:3.1.1.3], 2-acylglycerol O-acyltransferase 3 [EC:2.3.1.20 2.3.1.22], patatin-like phospholipase domain-containing protein 2 [EC:3.1.1.3], hepatic triacylglycerol lipase [EC:3.1.1.3], endothelial lipase [EC:3.1.1.3]</td>\n",
       "      <td>4023, 8694, 84649, 1056, 80339, 5406, 5407, 5408, 119548, 8513, 346606, 57104, 3990, 9388</td>\n",
       "       <td>...</td>\n",
       "      <td>3.1.1.34, 2.3.1.20, 3.1.1.3</td>\n",
       "      <td>Product, Substrate</td>\n",
       "    </tr>\n",
       "    <tr>\n",
       "      <td class=\"rpy2_rowname\">2</td>\n",
       "        <td class=\"rpy2_names\">3</td>\n",
       "      <td>TG(52:4)</td>\n",
       "      <td>K01059, K11155, K11160, K12298, K13534, K14073, K14074, K14075, K14076, K14452, K14456, K16816, K22283, K22284</td>\n",
       "      <td>lipoprotein lipase [EC:3.1.1.34], diacylglycerol O-acyltransferase 1 [EC:2.3.1.20 2.3.1.75 2.3.1.76], diacylglycerol O-acyltransferase 2 [EC:2.3.1.20 2.3.1.75], bile salt-stimulated lipase [EC:3.1.1.3 3.1.1.13], patatin-like phospholipase domain-containing protein 3 [EC:3.1.1.3 2.3.1.-], pancreatic triacylglycerol lipase [EC:3.1.1.3], pancreatic lipase-related protein 1 [EC:3.1.1.3], pancreatic lipase-related protein 2 [EC:3.1.1.3], pancreatic lipase-related protein 3 [EC:3.1.1.3], gastric triacylglycerol lipase [EC:3.1.1.3], 2-acylglycerol O-acyltransferase 3 [EC:2.3.1.20 2.3.1.22], patatin-like phospholipase domain-containing protein 2 [EC:3.1.1.3], hepatic triacylglycerol lipase [EC:3.1.1.3], endothelial lipase [EC:3.1.1.3]</td>\n",
       "      <td>4023, 8694, 84649, 1056, 80339, 5406, 5407, 5408, 119548, 8513, 346606, 57104, 3990, 9388</td>\n",
       "       <td>...</td>\n",
       "      <td>3.1.1.34, 2.3.1.20, 3.1.1.3</td>\n",
       "      <td>Product, Substrate</td>\n",
       "    </tr>\n",
       "    <tr>\n",
       "      <td class=\"rpy2_rowname\">3</td>\n",
       "        <td class=\"rpy2_names\">4</td>\n",
       "      <td>TG(52:5)</td>\n",
       "      <td>K01059, K11155, K11160, K12298, K13534, K14073, K14074, K14075, K14076, K14452, K14456, K16816, K22283, K22284</td>\n",
       "      <td>lipoprotein lipase [EC:3.1.1.34], diacylglycerol O-acyltransferase 1 [EC:2.3.1.20 2.3.1.75 2.3.1.76], diacylglycerol O-acyltransferase 2 [EC:2.3.1.20 2.3.1.75], bile salt-stimulated lipase [EC:3.1.1.3 3.1.1.13], patatin-like phospholipase domain-containing protein 3 [EC:3.1.1.3 2.3.1.-], pancreatic triacylglycerol lipase [EC:3.1.1.3], pancreatic lipase-related protein 1 [EC:3.1.1.3], pancreatic lipase-related protein 2 [EC:3.1.1.3], pancreatic lipase-related protein 3 [EC:3.1.1.3], gastric triacylglycerol lipase [EC:3.1.1.3], 2-acylglycerol O-acyltransferase 3 [EC:2.3.1.20 2.3.1.22], patatin-like phospholipase domain-containing protein 2 [EC:3.1.1.3], hepatic triacylglycerol lipase [EC:3.1.1.3], endothelial lipase [EC:3.1.1.3]</td>\n",
       "      <td>4023, 8694, 84649, 1056, 80339, 5406, 5407, 5408, 119548, 8513, 346606, 57104, 3990, 9388</td>\n",
       "       <td>...</td>\n",
       "      <td>3.1.1.34, 2.3.1.20, 3.1.1.3</td>\n",
       "      <td>Product, Substrate</td>\n",
       "    </tr>\n",
       "    <tr>\n",
       "      <td class=\"rpy2_rowname\">4</td>\n",
       "        <td class=\"rpy2_names\">5</td>\n",
       "      <td>TG(54:4)</td>\n",
       "      <td>K01059, K11155, K11160, K12298, K13534, K14073, K14074, K14075, K14076, K14452, K14456, K16816, K22283, K22284</td>\n",
       "      <td>lipoprotein lipase [EC:3.1.1.34], diacylglycerol O-acyltransferase 1 [EC:2.3.1.20 2.3.1.75 2.3.1.76], diacylglycerol O-acyltransferase 2 [EC:2.3.1.20 2.3.1.75], bile salt-stimulated lipase [EC:3.1.1.3 3.1.1.13], patatin-like phospholipase domain-containing protein 3 [EC:3.1.1.3 2.3.1.-], pancreatic triacylglycerol lipase [EC:3.1.1.3], pancreatic lipase-related protein 1 [EC:3.1.1.3], pancreatic lipase-related protein 2 [EC:3.1.1.3], pancreatic lipase-related protein 3 [EC:3.1.1.3], gastric triacylglycerol lipase [EC:3.1.1.3], 2-acylglycerol O-acyltransferase 3 [EC:2.3.1.20 2.3.1.22], patatin-like phospholipase domain-containing protein 2 [EC:3.1.1.3], hepatic triacylglycerol lipase [EC:3.1.1.3], endothelial lipase [EC:3.1.1.3]</td>\n",
       "      <td>4023, 8694, 84649, 1056, 80339, 5406, 5407, 5408, 119548, 8513, 346606, 57104, 3990, 9388</td>\n",
       "       <td>...</td>\n",
       "      <td>3.1.1.34, 2.3.1.20, 3.1.1.3</td>\n",
       "      <td>Product, Substrate</td>\n",
       "    </tr>\n",
       "    <tr>\n",
       "      <td class=\"rpy2_rowname\">5</td>\n",
       "        <td class=\"rpy2_names\">6</td>\n",
       "      <td>TG(50:3)</td>\n",
       "      <td>K01059, K11155, K11160, K12298, K13534, K14073, K14074, K14075, K14076, K14452, K14456, K16816, K22283, K22284</td>\n",
       "      <td>lipoprotein lipase [EC:3.1.1.34], diacylglycerol O-acyltransferase 1 [EC:2.3.1.20 2.3.1.75 2.3.1.76], diacylglycerol O-acyltransferase 2 [EC:2.3.1.20 2.3.1.75], bile salt-stimulated lipase [EC:3.1.1.3 3.1.1.13], patatin-like phospholipase domain-containing protein 3 [EC:3.1.1.3 2.3.1.-], pancreatic triacylglycerol lipase [EC:3.1.1.3], pancreatic lipase-related protein 1 [EC:3.1.1.3], pancreatic lipase-related protein 2 [EC:3.1.1.3], pancreatic lipase-related protein 3 [EC:3.1.1.3], gastric triacylglycerol lipase [EC:3.1.1.3], 2-acylglycerol O-acyltransferase 3 [EC:2.3.1.20 2.3.1.22], patatin-like phospholipase domain-containing protein 2 [EC:3.1.1.3], hepatic triacylglycerol lipase [EC:3.1.1.3], endothelial lipase [EC:3.1.1.3]</td>\n",
       "      <td>4023, 8694, 84649, 1056, 80339, 5406, 5407, 5408, 119548, 8513, 346606, 57104, 3990, 9388</td>\n",
       "       <td>...</td>\n",
       "      <td>3.1.1.34, 2.3.1.20, 3.1.1.3</td>\n",
       "      <td>Product, Substrate</td>\n",
       "    </tr>\n",
       "    <tr>\n",
       "      <td class=\"rpy2_rowname\">6</td>\n",
       "        <td class=\"rpy2_names\">7</td>\n",
       "      <td>TG(55:3)</td>\n",
       "      <td>K01059, K11155, K11160, K12298, K13534, K14073, K14074, K14075, K14076, K14452, K14456, K16816, K22283, K22284</td>\n",
       "      <td>lipoprotein lipase [EC:3.1.1.34], diacylglycerol O-acyltransferase 1 [EC:2.3.1.20 2.3.1.75 2.3.1.76], diacylglycerol O-acyltransferase 2 [EC:2.3.1.20 2.3.1.75], bile salt-stimulated lipase [EC:3.1.1.3 3.1.1.13], patatin-like phospholipase domain-containing protein 3 [EC:3.1.1.3 2.3.1.-], pancreatic triacylglycerol lipase [EC:3.1.1.3], pancreatic lipase-related protein 1 [EC:3.1.1.3], pancreatic lipase-related protein 2 [EC:3.1.1.3], pancreatic lipase-related protein 3 [EC:3.1.1.3], gastric triacylglycerol lipase [EC:3.1.1.3], 2-acylglycerol O-acyltransferase 3 [EC:2.3.1.20 2.3.1.22], patatin-like phospholipase domain-containing protein 2 [EC:3.1.1.3], hepatic triacylglycerol lipase [EC:3.1.1.3], endothelial lipase [EC:3.1.1.3]</td>\n",
       "      <td>4023, 8694, 84649, 1056, 80339, 5406, 5407, 5408, 119548, 8513, 346606, 57104, 3990, 9388</td>\n",
       "       <td>...</td>\n",
       "      <td>3.1.1.34, 2.3.1.20, 3.1.1.3</td>\n",
       "      <td>Product, Substrate</td>\n",
       "    </tr>\n",
       "    <tr>\n",
       "      <td class=\"rpy2_rowname\">7</td>\n",
       "        <td class=\"rpy2_names\">8</td>\n",
       "      <td>TG(54:5)</td>\n",
       "      <td>K01059, K11155, K11160, K12298, K13534, K14073, K14074, K14075, K14076, K14452, K14456, K16816, K22283, K22284</td>\n",
       "      <td>lipoprotein lipase [EC:3.1.1.34], diacylglycerol O-acyltransferase 1 [EC:2.3.1.20 2.3.1.75 2.3.1.76], diacylglycerol O-acyltransferase 2 [EC:2.3.1.20 2.3.1.75], bile salt-stimulated lipase [EC:3.1.1.3 3.1.1.13], patatin-like phospholipase domain-containing protein 3 [EC:3.1.1.3 2.3.1.-], pancreatic triacylglycerol lipase [EC:3.1.1.3], pancreatic lipase-related protein 1 [EC:3.1.1.3], pancreatic lipase-related protein 2 [EC:3.1.1.3], pancreatic lipase-related protein 3 [EC:3.1.1.3], gastric triacylglycerol lipase [EC:3.1.1.3], 2-acylglycerol O-acyltransferase 3 [EC:2.3.1.20 2.3.1.22], patatin-like phospholipase domain-containing protein 2 [EC:3.1.1.3], hepatic triacylglycerol lipase [EC:3.1.1.3], endothelial lipase [EC:3.1.1.3]</td>\n",
       "      <td>4023, 8694, 84649, 1056, 80339, 5406, 5407, 5408, 119548, 8513, 346606, 57104, 3990, 9388</td>\n",
       "       <td>...</td>\n",
       "      <td>3.1.1.34, 2.3.1.20, 3.1.1.3</td>\n",
       "      <td>Product, Substrate</td>\n",
       "    </tr>\n",
       "    <tr>\n",
       "      <td class=\"rpy2_rowname\">8</td>\n",
       "        <td class=\"rpy2_names\">9</td>\n",
       "      <td>TG(54:3)</td>\n",
       "      <td>K01059, K11155, K11160, K12298, K13534, K14073, K14074, K14075, K14076, K14452, K14456, K16816, K22283, K22284</td>\n",
       "      <td>lipoprotein lipase [EC:3.1.1.34], diacylglycerol O-acyltransferase 1 [EC:2.3.1.20 2.3.1.75 2.3.1.76], diacylglycerol O-acyltransferase 2 [EC:2.3.1.20 2.3.1.75], bile salt-stimulated lipase [EC:3.1.1.3 3.1.1.13], patatin-like phospholipase domain-containing protein 3 [EC:3.1.1.3 2.3.1.-], pancreatic triacylglycerol lipase [EC:3.1.1.3], pancreatic lipase-related protein 1 [EC:3.1.1.3], pancreatic lipase-related protein 2 [EC:3.1.1.3], pancreatic lipase-related protein 3 [EC:3.1.1.3], gastric triacylglycerol lipase [EC:3.1.1.3], 2-acylglycerol O-acyltransferase 3 [EC:2.3.1.20 2.3.1.22], patatin-like phospholipase domain-containing protein 2 [EC:3.1.1.3], hepatic triacylglycerol lipase [EC:3.1.1.3], endothelial lipase [EC:3.1.1.3]</td>\n",
       "      <td>4023, 8694, 84649, 1056, 80339, 5406, 5407, 5408, 119548, 8513, 346606, 57104, 3990, 9388</td>\n",
       "       <td>...</td>\n",
       "      <td>3.1.1.34, 2.3.1.20, 3.1.1.3</td>\n",
       "      <td>Product, Substrate</td>\n",
       "    </tr>\n",
       "    <tr>\n",
       "      <td class=\"rpy2_rowname\">9</td>\n",
       "        <td class=\"rpy2_names\">10</td>\n",
       "      <td>Desmosterol</td>\n",
       "      <td>K09828</td>\n",
       "      <td>Delta24-sterol reductase [EC:1.3.1.72 1.3.1.-]</td>\n",
       "      <td>1718</td>\n",
       "       <td>...</td>\n",
       "      <td>1.3.1.72</td>\n",
       "      <td>Product</td>\n",
       "    </tr>\n",
       "  </tbody>\n",
       "</table>"
      ],
      "text/plain": [
       "<rpy2.robjects.vectors.DataFrame object at 0x7ffe872ecd80> [RTYPES.VECSXP]\n",
       "R classes: ('data.table', 'data.frame')\n",
       "[StrSexpVe..., StrSexpVe..., StrSexpVe..., StrSexpVe..., ..., StrSexpVe..., StrSexpVe..., StrSexpVe..., StrSexpVe...]\n",
       "  Metabolite: <class 'rpy2.robjects.vectors.StrVector'>\n",
       "  <rpy2.robjects.vectors.StrVector object at 0x7ffe8c1f6f80> [RTYPES.STRSXP]\n",
       "R classes: ('character',)\n",
       "['TG(54:6)', 'TG(50:4)', 'TG(52:4)', 'TG(52:5)', ..., 'TG(55:3)', 'TG(54:5)', 'TG(54:3)', 'Desmoste...]\n",
       "  orthology_id: <class 'rpy2.robjects.vectors.StrVector'>\n",
       "  <rpy2.robjects.vectors.StrVector object at 0x7ffe8c1f69c0> [RTYPES.STRSXP]\n",
       "R classes: ('character',)\n",
       "['K01059, ..., 'K01059, ..., 'K01059, ..., 'K01059, ..., ..., 'K01059, ..., 'K01059, ..., 'K01059, ..., 'K09828']\n",
       "  ORTHOLOGY: <class 'rpy2.robjects.vectors.StrVector'>\n",
       "  <rpy2.robjects.vectors.StrVector object at 0x7ffe8c1f6040> [RTYPES.STRSXP]\n",
       "R classes: ('character',)\n",
       "['lipoprot..., 'lipoprot..., 'lipoprot..., 'lipoprot..., ..., 'lipoprot..., 'lipoprot..., 'lipoprot..., 'Delta24-...]\n",
       "  gene_id: <class 'rpy2.robjects.vectors.StrVector'>\n",
       "  <rpy2.robjects.vectors.StrVector object at 0x7ffe8c1f4ac0> [RTYPES.STRSXP]\n",
       "R classes: ('character',)\n",
       "['4023, 86..., '4023, 86..., '4023, 86..., '4023, 86..., ..., '4023, 86..., '4023, 86..., '4023, 86..., '1718']\n",
       "...\n",
       "  DEFINITION: <class 'rpy2.robjects.vectors.StrVector'>\n",
       "  <rpy2.robjects.vectors.StrVector object at 0x7ffe8c1f4ec0> [RTYPES.STRSXP]\n",
       "R classes: ('character',)\n",
       "['C00116 +..., 'C00116 +..., 'C00116 +..., 'C00116 +..., ..., 'C00116 +..., 'C00116 +..., 'C00116 +..., 'C00187 +...]\n",
       "  ORGANISM: <class 'rpy2.robjects.vectors.StrVector'>\n",
       "  <rpy2.robjects.vectors.StrVector object at 0x7ffe8c1f42c0> [RTYPES.STRSXP]\n",
       "R classes: ('character',)\n",
       "['Glycerol..., 'Glycerol..., 'Glycerol..., 'Glycerol..., ..., 'Glycerol..., 'Glycerol..., 'Glycerol..., 'Choleste...]\n",
       "  PATHWAY: <class 'rpy2.robjects.vectors.StrVector'>\n",
       "  <rpy2.robjects.vectors.StrVector object at 0x7ffe872f1640> [RTYPES.STRSXP]\n",
       "R classes: ('character',)\n",
       "['3.1.1.34..., '3.1.1.34..., '3.1.1.34..., '3.1.1.34..., ..., '3.1.1.34..., '3.1.1.34..., '3.1.1.34..., '1.3.1.72']\n",
       "  DBLINKS: <class 'rpy2.robjects.vectors.StrVector'>\n",
       "  <rpy2.robjects.vectors.StrVector object at 0x7ffe872f1180> [RTYPES.STRSXP]\n",
       "R classes: ('character',)\n",
       "['Product,..., 'Product,..., 'Product,..., 'Product,..., ..., 'Product,..., 'Product,..., 'Product,..., 'Product']"
      ]
     },
     "execution_count": 31,
     "metadata": {},
     "output_type": "execute_result"
    }
   ],
   "source": [
    "robjects.r('''\n",
    "met_gene_info2=data.table::data.table(rclass_info)[,lapply(.SD, function(x) toString(unique(x))), by = 'Metabolite']\n",
    "''')"
   ]
  },
  {
   "cell_type": "code",
   "execution_count": null,
   "id": "alpine-walker",
   "metadata": {},
   "outputs": [],
   "source": []
  }
 ],
 "metadata": {
  "appyter": {
   "nbconstruct": {
    "filename": "MetENP_Appyter_2.ipynb",
    "files": {},
    "version": "0.12.0"
   },
   "nbexecute": {
    "completed": "2021-03-25T15:05:32.175260+00:00",
    "files": {},
    "started": "2021-03-25T15:04:33.930089+00:00",
    "version": "0.12.0"
   }
  },
  "kernelspec": {
   "display_name": "my-first-appyter",
   "language": "python",
   "name": "my-first-appyter"
  },
  "language_info": {
   "codemirror_mode": {
    "name": "ipython",
    "version": 3
   },
   "file_extension": ".py",
   "mimetype": "text/x-python",
   "name": "python",
   "nbconvert_exporter": "python",
   "pygments_lexer": "ipython3",
   "version": "3.8.5"
  }
 },
 "nbformat": 4,
 "nbformat_minor": 5
}

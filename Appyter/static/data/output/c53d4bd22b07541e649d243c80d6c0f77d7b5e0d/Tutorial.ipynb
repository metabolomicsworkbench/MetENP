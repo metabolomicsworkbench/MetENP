{
 "cells": [
  {
   "cell_type": "code",
   "execution_count": 1,
   "id": "hired-teddy",
   "metadata": {
    "execution": {
     "iopub.execute_input": "2021-02-02T07:48:13.195946Z",
     "iopub.status.busy": "2021-02-02T07:48:13.193425Z",
     "iopub.status.idle": "2021-02-02T07:48:13.198255Z",
     "shell.execute_reply": "2021-02-02T07:48:13.197303Z"
    }
   },
   "outputs": [],
   "source": [
    "#this isn't in R or Python"
   ]
  },
  {
   "cell_type": "code",
   "execution_count": 2,
   "id": "communist-relative",
   "metadata": {
    "execution": {
     "iopub.execute_input": "2021-02-02T07:48:13.213939Z",
     "iopub.status.busy": "2021-02-02T07:48:13.211075Z",
     "iopub.status.idle": "2021-02-02T07:48:13.220477Z",
     "shell.execute_reply": "2021-02-02T07:48:13.218480Z"
    }
   },
   "outputs": [
    {
     "name": "stdout",
     "output_type": "stream",
     "text": [
      "13\n"
     ]
    }
   ],
   "source": [
    "num1 = 5\n",
    "num2 = 8\n",
    "print(num1+num2)"
   ]
  },
  {
   "cell_type": "code",
   "execution_count": null,
   "id": "technical-bracelet",
   "metadata": {},
   "outputs": [],
   "source": []
  }
 ],
 "metadata": {
  "appyter": {
   "nbconstruct": {
    "filename": "Tutorial.ipynb",
    "files": {},
    "version": "0.12.0"
   },
   "nbexecute": {
    "completed": "2021-02-01T23:48:13.530604+00:00",
    "files": {},
    "started": "2021-02-01T23:48:11.408511+00:00",
    "version": "0.12.0"
   }
  },
  "kernelspec": {
   "display_name": "my-first-appyter",
   "language": "python",
   "name": "my-first-appyter"
  },
  "language_info": {
   "codemirror_mode": {
    "name": "ipython",
    "version": 3
   },
   "file_extension": ".py",
   "mimetype": "text/x-python",
   "name": "python",
   "nbconvert_exporter": "python",
   "pygments_lexer": "ipython3",
   "version": "3.8.5"
  }
 },
 "nbformat": 4,
 "nbformat_minor": 5
}

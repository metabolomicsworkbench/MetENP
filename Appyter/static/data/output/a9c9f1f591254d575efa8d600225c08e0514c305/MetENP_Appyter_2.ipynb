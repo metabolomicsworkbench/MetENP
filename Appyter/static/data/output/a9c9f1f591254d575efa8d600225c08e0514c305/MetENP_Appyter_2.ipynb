{
 "cells": [
  {
   "cell_type": "code",
   "execution_count": 1,
   "id": "liquid-timber",
   "metadata": {
    "execution": {
     "iopub.execute_input": "2021-03-25T21:03:48.362955Z",
     "iopub.status.busy": "2021-03-25T21:03:48.361117Z",
     "iopub.status.idle": "2021-03-25T21:03:57.653180Z",
     "shell.execute_reply": "2021-03-25T21:03:57.653904Z"
    }
   },
   "outputs": [
    {
     "data": {
      "text/html": [
       "\n",
       "<emph>StrVector</emph> with 12 elements:\n",
       "<table class=\"rpy2_table\">\n",
       "<thead>\n",
       "</thead>\n",
       "<tbody>\n",
       "<tr>\n",
       "  <td>MetENP</td>\n",
       "  <td>ggplot2</td>\n",
       "  <td>lazyeval</td>\n",
       "  <td>rlang</td>\n",
       "  <td>tools</td>\n",
       "  <td>stats</td>\n",
       "  <td>graphics</td>\n",
       "  <td>grDevices</td>\n",
       "  <td>...</td>\n",
       "      <td>methods</td>\n",
       "      <td>base</td>\n",
       "</tr>\n",
       "</tbody>\n",
       "</table>"
      ],
      "text/plain": [
       "<rpy2.robjects.vectors.StrVector object at 0x7f8aba3eda00> [RTYPES.STRSXP]\n",
       "R classes: ('character',)\n",
       "['MetENP', 'ggplot2', 'lazyeval', 'rlang', ..., 'utils', 'datasets', 'methods', 'base']"
      ]
     },
     "execution_count": 1,
     "metadata": {},
     "output_type": "execute_result"
    }
   ],
   "source": [
    "import rpy2\n",
    "import rpy2.robjects as robjects\n",
    "import rpy2.robjects.packages as rpackages\n",
    "\n",
    "from rpy2.robjects import numpy2ri, pandas2ri\n",
    "\n",
    "import rpy2.ipython.html\n",
    "rpy2.ipython.html.init_printing()\n",
    "\n",
    "import rpy2.robjects.lib.ggplot2 as gp\n",
    "from rpy2.ipython.ggplot import image_png\n",
    "robjects.r('''\n",
    "\n",
    "library(MetENP)\n",
    "\n",
    "''')"
   ]
  },
  {
   "cell_type": "code",
   "execution_count": 2,
   "id": "muslim-virginia",
   "metadata": {
    "execution": {
     "iopub.execute_input": "2021-03-25T21:03:57.663054Z",
     "iopub.status.busy": "2021-03-25T21:03:57.660200Z",
     "iopub.status.idle": "2021-03-25T21:04:13.746396Z",
     "shell.execute_reply": "2021-03-25T21:04:13.745675Z"
    }
   },
   "outputs": [],
   "source": [
    "data_1 = robjects.r['getmwstudies']('ST000915', \n",
    "    'data'\n",
    ")"
   ]
  },
  {
   "cell_type": "code",
   "execution_count": 3,
   "id": "accomplished-treatment",
   "metadata": {
    "execution": {
     "iopub.execute_input": "2021-03-25T21:04:13.756667Z",
     "iopub.status.busy": "2021-03-25T21:04:13.754176Z",
     "iopub.status.idle": "2021-03-25T21:04:13.978509Z",
     "shell.execute_reply": "2021-03-25T21:04:13.979274Z"
    }
   },
   "outputs": [],
   "source": [
    "#killing the kernel without rlock. ISSUE: can't print data_1_print\n",
    "\n",
    "from rpy2.rinterface_lib import openrlib\n",
    "\n",
    "with openrlib.rlock:\n",
    "    \n",
    "    robjects.r.assign('data_1', data_1)\n",
    "    \n",
    "    robjects.r('''\n",
    "\n",
    "    data_1_print = data.frame(apply(data_1, c(1,2), function(x){unlist(x, TRUE, TRUE)}))\n",
    "    head(data_1_print)\n",
    "\n",
    "    ''')\n",
    "    \n",
    "    pass"
   ]
  },
  {
   "cell_type": "code",
   "execution_count": 4,
   "id": "earlier-aspect",
   "metadata": {
    "execution": {
     "iopub.execute_input": "2021-03-25T21:04:13.988483Z",
     "iopub.status.busy": "2021-03-25T21:04:13.985726Z",
     "iopub.status.idle": "2021-03-25T21:04:14.044315Z",
     "shell.execute_reply": "2021-03-25T21:04:14.045031Z"
    }
   },
   "outputs": [],
   "source": [
    "metadata = robjects.r['getmwstudies']('ST000915', \n",
    "    'factors'\n",
    ")"
   ]
  },
  {
   "cell_type": "code",
   "execution_count": 5,
   "id": "satisfied-preliminary",
   "metadata": {
    "execution": {
     "iopub.execute_input": "2021-03-25T21:04:14.054100Z",
     "iopub.status.busy": "2021-03-25T21:04:14.051540Z",
     "iopub.status.idle": "2021-03-25T21:04:14.073345Z",
     "shell.execute_reply": "2021-03-25T21:04:14.072655Z"
    }
   },
   "outputs": [
    {
     "data": {
      "text/html": [
       "\n",
       "<emph>DataFrame</emph> with 6 rows and\n",
       "  5 columns:\n",
       "<table class=\"rpy2_table\">\n",
       "  <thead>\n",
       "    <tr class=\"rpy2_names\">\n",
       "      <th></th>\n",
       "      <th></th>\n",
       "      <th>study_id</th>\n",
       "      <th>local_sample_id</th>\n",
       "      <th>subject_type</th>\n",
       "      <th>factors</th>\n",
       "      <th>Diagnosis</th>\n",
       "    </tr>\n",
       "  </thead>\n",
       "  <tbody>\n",
       "    <tr>\n",
       "      <td class=\"rpy2_rowname\">0</td>\n",
       "        <td class=\"rpy2_names\">1</td>\n",
       "      <td>ST000915</td>\n",
       "      <td>NASH005</td>\n",
       "      <td>Human clinical study</td>\n",
       "      <td>Diagnosis:Cirrhosis</td>\n",
       "      <td>Cirrhosis</td>\n",
       "    </tr>\n",
       "    <tr>\n",
       "      <td class=\"rpy2_rowname\">1</td>\n",
       "        <td class=\"rpy2_names\">2</td>\n",
       "      <td>ST000915</td>\n",
       "      <td>NASH007</td>\n",
       "      <td>Human clinical study</td>\n",
       "      <td>Diagnosis:Cirrhosis</td>\n",
       "      <td>Cirrhosis</td>\n",
       "    </tr>\n",
       "    <tr>\n",
       "      <td class=\"rpy2_rowname\">2</td>\n",
       "        <td class=\"rpy2_names\">3</td>\n",
       "      <td>ST000915</td>\n",
       "      <td>NASH009</td>\n",
       "      <td>Human clinical study</td>\n",
       "      <td>Diagnosis:Cirrhosis</td>\n",
       "      <td>Cirrhosis</td>\n",
       "    </tr>\n",
       "    <tr>\n",
       "      <td class=\"rpy2_rowname\">3</td>\n",
       "        <td class=\"rpy2_names\">4</td>\n",
       "      <td>ST000915</td>\n",
       "      <td>NASH013</td>\n",
       "      <td>Human clinical study</td>\n",
       "      <td>Diagnosis:Cirrhosis</td>\n",
       "      <td>Cirrhosis</td>\n",
       "    </tr>\n",
       "    <tr>\n",
       "      <td class=\"rpy2_rowname\">4</td>\n",
       "        <td class=\"rpy2_names\">5</td>\n",
       "      <td>ST000915</td>\n",
       "      <td>NASH016</td>\n",
       "      <td>Human clinical study</td>\n",
       "      <td>Diagnosis:Cirrhosis</td>\n",
       "      <td>Cirrhosis</td>\n",
       "    </tr>\n",
       "    <tr>\n",
       "      <td class=\"rpy2_rowname\">5</td>\n",
       "        <td class=\"rpy2_names\">6</td>\n",
       "      <td>ST000915</td>\n",
       "      <td>NASH022</td>\n",
       "      <td>Human clinical study</td>\n",
       "      <td>Diagnosis:Cirrhosis</td>\n",
       "      <td>Cirrhosis</td>\n",
       "    </tr>\n",
       "  </tbody>\n",
       "</table>"
      ],
      "text/plain": [
       "<rpy2.robjects.vectors.DataFrame object at 0x7f8ab67668c0> [RTYPES.VECSXP]\n",
       "R classes: ('data.frame',)\n",
       "[StrSexp..., StrSexp..., StrSexp..., StrSexp..., StrSexp...]\n",
       "  study_id: <class 'rpy2.rinterface_lib.sexp.StrSexpVector'>\n",
       "  <rpy2.rinterface_lib.sexp.StrSexpVector object at 0x7f8aba3c30c0> [RTYPES.STRSXP]\n",
       "  local_sample_id: <class 'rpy2.rinterface_lib.sexp.StrSexpVector'>\n",
       "  <rpy2.rinterface_lib.sexp.StrSexpVector object at 0x7f8aba3ccc40> [RTYPES.STRSXP]\n",
       "  subject_type: <class 'rpy2.rinterface_lib.sexp.StrSexpVector'>\n",
       "  <rpy2.rinterface_lib.sexp.StrSexpVector object at 0x7f8aba3cc6c0> [RTYPES.STRSXP]\n",
       "  factors: <class 'rpy2.rinterface_lib.sexp.StrSexpVector'>\n",
       "  <rpy2.rinterface_lib.sexp.StrSexpVector object at 0x7f8aba3daf00> [RTYPES.STRSXP]\n",
       "  Diagnosis: <class 'rpy2.rinterface_lib.sexp.StrSexpVector'>\n",
       "  <rpy2.rinterface_lib.sexp.StrSexpVector object at 0x7f8aba3dae80> [RTYPES.STRSXP]"
      ]
     },
     "execution_count": 5,
     "metadata": {},
     "output_type": "execute_result"
    }
   ],
   "source": [
    "robjects.r.assign('metadata', metadata)\n",
    "\n",
    "robjects.r('''\n",
    "metadata_print = data.frame(apply(metadata, c(1,2), function(x){unlist(x, TRUE, TRUE)}))\n",
    "head(metadata_print)\n",
    "''')"
   ]
  },
  {
   "cell_type": "markdown",
   "id": "alone-consultancy",
   "metadata": {},
   "source": [
    "Find the factors you would want to compare\n",
    "Multiple factors (independent variables) are formatted in multiple columns but you can get information on all the factors by \"factors\" column, such as 'TreatmentGroup:Prednisolone', this indicates column name 'TreatmentGroup' with factor Prednisolone. For t-test use the factors in the same column. For comparing multipe independent variables use anova by anova_ana function."
   ]
  },
  {
   "cell_type": "markdown",
   "id": "tired-sydney",
   "metadata": {},
   "source": [
    "### Associate metabolomics data to the refmet class"
   ]
  },
  {
   "cell_type": "code",
   "execution_count": 6,
   "id": "global-vocabulary",
   "metadata": {
    "execution": {
     "iopub.execute_input": "2021-03-25T21:04:14.084173Z",
     "iopub.status.busy": "2021-03-25T21:04:14.081294Z",
     "iopub.status.idle": "2021-03-25T21:04:23.873118Z",
     "shell.execute_reply": "2021-03-25T21:04:23.872509Z"
    }
   },
   "outputs": [
    {
     "data": {
      "text/html": [
       "\n",
       "<emph>DataFrame</emph> with 6 rows and\n",
       "  97 columns:\n",
       "<table class=\"rpy2_table\">\n",
       "  <thead>\n",
       "    <tr class=\"rpy2_names\">\n",
       "      <th></th>\n",
       "      <th></th>\n",
       "      <th>metabolite_name</th>\n",
       "      <th>analysis_id</th>\n",
       "      <th>analysis_summary</th>\n",
       "      <th>metabolite_id</th>\n",
       "      <th>...</th>\n",
       "      <th>main_class</th>\n",
       "      <th>sub_class</th>\n",
       "    </tr>\n",
       "  </thead>\n",
       "  <tbody>\n",
       "    <tr>\n",
       "      <td class=\"rpy2_rowname\">0</td>\n",
       "        <td class=\"rpy2_names\">1</td>\n",
       "      <td>1,2-DG(30:0)</td>\n",
       "      <td>AN001488</td>\n",
       "      <td>Core E Neutral Lipids</td>\n",
       "      <td>ME231190</td>\n",
       "       <td>...</td>\n",
       "      <td>Diradylglycerols</td>\n",
       "      <td>DAG</td>\n",
       "    </tr>\n",
       "    <tr>\n",
       "      <td class=\"rpy2_rowname\">1</td>\n",
       "        <td class=\"rpy2_names\">2</td>\n",
       "      <td>1,2-DG(30:1)</td>\n",
       "      <td>AN001488</td>\n",
       "      <td>Core E Neutral Lipids</td>\n",
       "      <td>ME231189</td>\n",
       "       <td>...</td>\n",
       "      <td>Diradylglycerols</td>\n",
       "      <td>DAG</td>\n",
       "    </tr>\n",
       "    <tr>\n",
       "      <td class=\"rpy2_rowname\">2</td>\n",
       "        <td class=\"rpy2_names\">3</td>\n",
       "      <td>1,2-DG(32:0)</td>\n",
       "      <td>AN001488</td>\n",
       "      <td>Core E Neutral Lipids</td>\n",
       "      <td>ME231196</td>\n",
       "       <td>...</td>\n",
       "      <td>Diradylglycerols</td>\n",
       "      <td>DAG</td>\n",
       "    </tr>\n",
       "    <tr>\n",
       "      <td class=\"rpy2_rowname\">3</td>\n",
       "        <td class=\"rpy2_names\">4</td>\n",
       "      <td>1,2-DG(32:1)</td>\n",
       "      <td>AN001488</td>\n",
       "      <td>Core E Neutral Lipids</td>\n",
       "      <td>ME231195</td>\n",
       "       <td>...</td>\n",
       "      <td>Diradylglycerols</td>\n",
       "      <td>DAG</td>\n",
       "    </tr>\n",
       "    <tr>\n",
       "      <td class=\"rpy2_rowname\">4</td>\n",
       "        <td class=\"rpy2_names\">5</td>\n",
       "      <td>1,2-DG(32:2)</td>\n",
       "      <td>AN001488</td>\n",
       "      <td>Core E Neutral Lipids</td>\n",
       "      <td>ME231194</td>\n",
       "       <td>...</td>\n",
       "      <td>Diradylglycerols</td>\n",
       "      <td>DAG</td>\n",
       "    </tr>\n",
       "    <tr>\n",
       "      <td class=\"rpy2_rowname\">5</td>\n",
       "        <td class=\"rpy2_names\">6</td>\n",
       "      <td>1,2-DG(32:3)</td>\n",
       "      <td>AN001488</td>\n",
       "      <td>Core E Neutral Lipids</td>\n",
       "      <td>ME231193</td>\n",
       "       <td>...</td>\n",
       "      <td>Diradylglycerols</td>\n",
       "      <td>DAG</td>\n",
       "    </tr>\n",
       "  </tbody>\n",
       "</table>"
      ],
      "text/plain": [
       "<rpy2.robjects.vectors.DataFrame object at 0x7f8aba3d52c0> [RTYPES.VECSXP]\n",
       "R classes: ('data.frame',)\n",
       "[StrSexpVe..., StrSexpVe..., StrSexpVe..., StrSexpVe..., ..., StrSexpVe..., StrSexpVe..., StrSexpVe..., StrSexpVe...]\n",
       "  metabolite_name: <class 'rpy2.robjects.vectors.StrVector'>\n",
       "  <rpy2.robjects.vectors.StrVector object at 0x7f8aba3f65c0> [RTYPES.STRSXP]\n",
       "R classes: ('character',)\n",
       "['1,2-..., '1,2-..., '1,2-..., '1,2-..., '1,2-..., '1,2-...]\n",
       "  analysis_id: <class 'rpy2.robjects.vectors.StrVector'>\n",
       "  <rpy2.robjects.vectors.StrVector object at 0x7f8aba3c1c80> [RTYPES.STRSXP]\n",
       "R classes: ('character',)\n",
       "['AN00..., 'AN00..., 'AN00..., 'AN00..., 'AN00..., 'AN00...]\n",
       "  analysis_summary: <class 'rpy2.robjects.vectors.StrVector'>\n",
       "  <rpy2.robjects.vectors.StrVector object at 0x7f8aba3d8700> [RTYPES.STRSXP]\n",
       "R classes: ('character',)\n",
       "['Core..., 'Core..., 'Core..., 'Core..., 'Core..., 'Core...]\n",
       "  metabolite_id: <class 'rpy2.robjects.vectors.StrVector'>\n",
       "  <rpy2.robjects.vectors.StrVector object at 0x7f8aba3d89c0> [RTYPES.STRSXP]\n",
       "R classes: ('character',)\n",
       "['ME23..., 'ME23..., 'ME23..., 'ME23..., 'ME23..., 'ME23...]\n",
       "...\n",
       "  NASH001: <class 'rpy2.robjects.vectors.StrVector'>\n",
       "  <rpy2.robjects.vectors.StrVector object at 0x7f8aba3d8380> [RTYPES.STRSXP]\n",
       "R classes: ('character',)\n",
       "['C33H..., 'C33H..., 'C35H..., 'C35H..., 'C35H..., 'C35H...]\n",
       "  NASH002: <class 'rpy2.robjects.vectors.StrVector'>\n",
       "  <rpy2.robjects.vectors.StrVector object at 0x7f8aba3da400> [RTYPES.STRSXP]\n",
       "R classes: ('character',)\n",
       "['Glyc..., 'Glyc..., 'Glyc..., 'Glyc..., 'Glyc..., 'Glyc...]\n",
       "  NASH003: <class 'rpy2.robjects.vectors.StrVector'>\n",
       "  <rpy2.robjects.vectors.StrVector object at 0x7f8aba3da700> [RTYPES.STRSXP]\n",
       "R classes: ('character',)\n",
       "['Dira..., 'Dira..., 'Dira..., 'Dira..., 'Dira..., 'Dira...]\n",
       "  NASH004: <class 'rpy2.robjects.vectors.StrVector'>\n",
       "  <rpy2.robjects.vectors.StrVector object at 0x7f8aba3c3400> [RTYPES.STRSXP]\n",
       "R classes: ('character',)\n",
       "['DAG', 'DAG', 'DAG', 'DAG', 'DAG', 'DAG']"
      ]
     },
     "execution_count": 6,
     "metadata": {},
     "output_type": "execute_result"
    }
   ],
   "source": [
    "refmet_class = robjects.r['convert_refmet'](data_1)\n",
    "\n",
    "robjects.r.assign('refmet_class', refmet_class)\n",
    "\n",
    "robjects.r('''\n",
    "\n",
    "refmet_class_print = data.frame(apply(refmet_class, c(1,2), function(x){unlist(x, TRUE, TRUE)}))\n",
    "head(refmet_class_print)\n",
    "\n",
    "''')"
   ]
  },
  {
   "cell_type": "code",
   "execution_count": 7,
   "id": "owned-parcel",
   "metadata": {
    "execution": {
     "iopub.execute_input": "2021-03-25T21:04:23.882242Z",
     "iopub.status.busy": "2021-03-25T21:04:23.879451Z",
     "iopub.status.idle": "2021-03-25T21:04:23.889889Z",
     "shell.execute_reply": "2021-03-25T21:04:23.890656Z"
    }
   },
   "outputs": [
    {
     "data": {
      "text/html": [
       "\n",
       "<emph>DataFrame</emph> with 4 rows and\n",
       "  1 columns:\n",
       "<table class=\"rpy2_table\">\n",
       "  <thead>\n",
       "    <tr class=\"rpy2_names\">\n",
       "      <th></th>\n",
       "      <th></th>\n",
       "      <th>unique.metadata_print.factors.</th>\n",
       "    </tr>\n",
       "  </thead>\n",
       "  <tbody>\n",
       "    <tr>\n",
       "      <td class=\"rpy2_rowname\">0</td>\n",
       "        <td class=\"rpy2_names\">1</td>\n",
       "      <td>Diagnosis:Cirrhosis</td>\n",
       "    </tr>\n",
       "    <tr>\n",
       "      <td class=\"rpy2_rowname\">1</td>\n",
       "        <td class=\"rpy2_names\">2</td>\n",
       "      <td>Diagnosis:NASH</td>\n",
       "    </tr>\n",
       "    <tr>\n",
       "      <td class=\"rpy2_rowname\">2</td>\n",
       "        <td class=\"rpy2_names\">3</td>\n",
       "      <td>Diagnosis:Normal</td>\n",
       "    </tr>\n",
       "    <tr>\n",
       "      <td class=\"rpy2_rowname\">3</td>\n",
       "        <td class=\"rpy2_names\">4</td>\n",
       "      <td>Diagnosis:Steatosis</td>\n",
       "    </tr>\n",
       "  </tbody>\n",
       "</table>"
      ],
      "text/plain": [
       "<rpy2.robjects.vectors.DataFrame object at 0x7f8abe9bc780> [RTYPES.VECSXP]\n",
       "R classes: ('data.frame',)\n",
       "[StrSexpVector]\n",
       "  unique.metadata_print.factors.: <class 'rpy2.rinterface_lib.sexp.StrSexpVector'>\n",
       "  <rpy2.rinterface_lib.sexp.StrSexpVector object at 0x7f8abe9bca80> [RTYPES.STRSXP]"
      ]
     },
     "execution_count": 7,
     "metadata": {},
     "output_type": "execute_result"
    }
   ],
   "source": [
    "robjects.r('''\n",
    "data.frame(unique(metadata_print$factors))\n",
    "''')"
   ]
  },
  {
   "cell_type": "code",
   "execution_count": 8,
   "id": "exterior-minimum",
   "metadata": {
    "execution": {
     "iopub.execute_input": "2021-03-25T21:04:23.901245Z",
     "iopub.status.busy": "2021-03-25T21:04:23.897696Z",
     "iopub.status.idle": "2021-03-25T21:04:23.914119Z",
     "shell.execute_reply": "2021-03-25T21:04:23.915775Z"
    }
   },
   "outputs": [
    {
     "data": {
      "text/html": [
       "\n",
       "<emph>DataFrame</emph> with 6 rows and\n",
       "  1 columns:\n",
       "<table class=\"rpy2_table\">\n",
       "  <thead>\n",
       "    <tr class=\"rpy2_names\">\n",
       "      <th></th>\n",
       "      <th></th>\n",
       "      <th>unique.data_1_print.analysis_summary.</th>\n",
       "    </tr>\n",
       "  </thead>\n",
       "  <tbody>\n",
       "    <tr>\n",
       "      <td class=\"rpy2_rowname\">0</td>\n",
       "        <td class=\"rpy2_names\">1</td>\n",
       "      <td>Core G Fatty acids/Eicosanoids</td>\n",
       "    </tr>\n",
       "    <tr>\n",
       "      <td class=\"rpy2_rowname\">1</td>\n",
       "        <td class=\"rpy2_names\">2</td>\n",
       "      <td>Core J Sterols</td>\n",
       "    </tr>\n",
       "    <tr>\n",
       "      <td class=\"rpy2_rowname\">2</td>\n",
       "        <td class=\"rpy2_names\">3</td>\n",
       "      <td>Core K Prenols/Cardiolipins</td>\n",
       "    </tr>\n",
       "    <tr>\n",
       "      <td class=\"rpy2_rowname\">3</td>\n",
       "        <td class=\"rpy2_names\">4</td>\n",
       "      <td>Core E Neutral Lipids</td>\n",
       "    </tr>\n",
       "    <tr>\n",
       "      <td class=\"rpy2_rowname\">4</td>\n",
       "        <td class=\"rpy2_names\">5</td>\n",
       "      <td>Core I Sphingolipids</td>\n",
       "    </tr>\n",
       "    <tr>\n",
       "      <td class=\"rpy2_rowname\">5</td>\n",
       "        <td class=\"rpy2_names\">6</td>\n",
       "      <td>Core H Phospholipids</td>\n",
       "    </tr>\n",
       "  </tbody>\n",
       "</table>"
      ],
      "text/plain": [
       "<rpy2.robjects.vectors.DataFrame object at 0x7f8abe9bf880> [RTYPES.VECSXP]\n",
       "R classes: ('data.frame',)\n",
       "[StrSexpVector]\n",
       "  unique.data_1_print.analysis_summary.: <class 'rpy2.rinterface_lib.sexp.StrSexpVector'>\n",
       "  <rpy2.rinterface_lib.sexp.StrSexpVector object at 0x7f8abeb05e00> [RTYPES.STRSXP]"
      ]
     },
     "execution_count": 8,
     "metadata": {},
     "output_type": "execute_result"
    }
   ],
   "source": [
    "robjects.r('''\n",
    "data.frame(unique(data_1_print$analysis_summary))\n",
    "''')"
   ]
  },
  {
   "cell_type": "markdown",
   "id": "worthy-consequence",
   "metadata": {},
   "source": [
    "### Find significant metabolites, run significance of all the analysis summary together. The analysis summary/modes you got in the previous section"
   ]
  },
  {
   "cell_type": "markdown",
   "id": "better-journalism",
   "metadata": {},
   "source": [
    "There is a normalization step which takes into account missing values, and this can be achieved via three methods:\n",
    "\n",
    "1) half_of_min: where the NAs are replaced by half of min values in the data\n",
    "\n",
    "2) remove_NAs: where Cols with NAs values are removed\n",
    "\n",
    "3) 50percent: where cols with more than 50% NAs values are removed\n",
    "\n",
    "half_of_min is ideal when you wish to see which metabolites were present in either group. Very high fold change would mean it was present in either group."
   ]
  },
  {
   "cell_type": "code",
   "execution_count": 9,
   "id": "burning-decade",
   "metadata": {
    "execution": {
     "iopub.execute_input": "2021-03-25T21:04:23.931915Z",
     "iopub.status.busy": "2021-03-25T21:04:23.928314Z",
     "iopub.status.idle": "2021-03-25T21:04:23.948044Z",
     "shell.execute_reply": "2021-03-25T21:04:23.950026Z"
    }
   },
   "outputs": [
    {
     "data": {
      "text/html": [
       "\n",
       "<emph>StrVector</emph> with 1 elements:\n",
       "<table class=\"rpy2_table\">\n",
       "<thead>\n",
       "</thead>\n",
       "<tbody>\n",
       "<tr>\n",
       "      <td>0.5</td>\n",
       "</tr>\n",
       "</tbody>\n",
       "</table>"
      ],
      "text/plain": [
       "<rpy2.robjects.vectors.StrVector object at 0x7f8aba3d83c0> [RTYPES.STRSXP]\n",
       "R classes: ('character',)\n",
       "['0.5']"
      ]
     },
     "execution_count": 9,
     "metadata": {},
     "output_type": "execute_result"
    }
   ],
   "source": [
    "robjects.r.assign('refmet_class', refmet_class)\n",
    "robjects.r.assign('metcol', 'metabolite_name')\n",
    "#robjects.r.assign('mettit', 'Core G Fatty acids/Eicosanoids, Core J Sterols, Core K Prenols/Cardiolipins, Core E Neutral Lipids, Core I Sphingolipids, Core H Phospholipids')\n",
    "robjects.r.assign('fac1', 'Cirrhosis')\n",
    "robjects.r.assign('fac2', 'Normal')\n",
    "robjects.r.assign('faccol', 'Diagnosis')\n",
    "robjects.r.assign('samcol', 'local_sample_id')\n",
    "robjects.r.assign('normtype', ['50percent'])\n",
    "robjects.r.assign('pthres', '0.05')\n",
    "robjects.r.assign('thres_log2foldchangevar', '0.5')"
   ]
  },
  {
   "cell_type": "code",
   "execution_count": 10,
   "id": "broadband-cabin",
   "metadata": {
    "execution": {
     "iopub.execute_input": "2021-03-25T21:04:23.965562Z",
     "iopub.status.busy": "2021-03-25T21:04:23.960972Z",
     "iopub.status.idle": "2021-03-25T21:04:23.972295Z",
     "shell.execute_reply": "2021-03-25T21:04:23.972960Z"
    }
   },
   "outputs": [
    {
     "data": {
      "text/html": [
       "\n",
       "<emph>FloatVector</emph> with 1 elements:\n",
       "<table class=\"rpy2_table\">\n",
       "<thead>\n",
       "</thead>\n",
       "<tbody>\n",
       "<tr>\n",
       "      <td>0.5</td>\n",
       "</tr>\n",
       "</tbody>\n",
       "</table>"
      ],
      "text/plain": [
       "<rpy2.robjects.vectors.FloatVector object at 0x7f8aba3fc440> [RTYPES.REALSXP]\n",
       "R classes: ('numeric',)\n",
       "[0.500000]"
      ]
     },
     "execution_count": 10,
     "metadata": {},
     "output_type": "execute_result"
    }
   ],
   "source": [
    "robjects.r('''\n",
    "ptreshnum<-as.numeric(pthres)\n",
    "thres_log2foldchangenum<-as.numeric(thres_log2foldchangevar)\n",
    "''')"
   ]
  },
  {
   "cell_type": "code",
   "execution_count": 11,
   "id": "respected-gothic",
   "metadata": {
    "execution": {
     "iopub.execute_input": "2021-03-25T21:04:23.986164Z",
     "iopub.status.busy": "2021-03-25T21:04:23.982522Z",
     "iopub.status.idle": "2021-03-25T21:04:24.107564Z",
     "shell.execute_reply": "2021-03-25T21:04:24.037680Z"
    }
   },
   "outputs": [
    {
     "name": "stdout",
     "output_type": "stream",
     "text": [
      "[[1]]\n"
     ]
    },
    {
     "name": "stdout",
     "output_type": "stream",
     "text": [
      "[1]"
     ]
    },
    {
     "name": "stdout",
     "output_type": "stream",
     "text": [
      " \"Core G Fatty acids/Eicosanoids\""
     ]
    },
    {
     "name": "stdout",
     "output_type": "stream",
     "text": [
      "\n"
     ]
    },
    {
     "name": "stdout",
     "output_type": "stream",
     "text": [
      "\n"
     ]
    },
    {
     "name": "stdout",
     "output_type": "stream",
     "text": [
      "[[2]]\n"
     ]
    },
    {
     "name": "stdout",
     "output_type": "stream",
     "text": [
      "[1]"
     ]
    },
    {
     "name": "stdout",
     "output_type": "stream",
     "text": [
      " \"Core J Sterols\""
     ]
    },
    {
     "name": "stdout",
     "output_type": "stream",
     "text": [
      "\n"
     ]
    },
    {
     "name": "stdout",
     "output_type": "stream",
     "text": [
      "\n"
     ]
    },
    {
     "name": "stdout",
     "output_type": "stream",
     "text": [
      "[[3]]\n"
     ]
    },
    {
     "name": "stdout",
     "output_type": "stream",
     "text": [
      "[1]"
     ]
    },
    {
     "name": "stdout",
     "output_type": "stream",
     "text": [
      " \"Core K Prenols/Cardiolipins\""
     ]
    },
    {
     "name": "stdout",
     "output_type": "stream",
     "text": [
      "\n"
     ]
    },
    {
     "name": "stdout",
     "output_type": "stream",
     "text": [
      "\n"
     ]
    },
    {
     "name": "stdout",
     "output_type": "stream",
     "text": [
      "[[4]]\n"
     ]
    },
    {
     "name": "stdout",
     "output_type": "stream",
     "text": [
      "[1]"
     ]
    },
    {
     "name": "stdout",
     "output_type": "stream",
     "text": [
      " \"Core E Neutral Lipids\""
     ]
    },
    {
     "name": "stdout",
     "output_type": "stream",
     "text": [
      "\n"
     ]
    },
    {
     "name": "stdout",
     "output_type": "stream",
     "text": [
      "\n"
     ]
    },
    {
     "name": "stdout",
     "output_type": "stream",
     "text": [
      "[[5]]\n"
     ]
    },
    {
     "name": "stdout",
     "output_type": "stream",
     "text": [
      "[1]"
     ]
    },
    {
     "name": "stdout",
     "output_type": "stream",
     "text": [
      " \"Core I Sphingolipids\""
     ]
    },
    {
     "name": "stdout",
     "output_type": "stream",
     "text": [
      "\n"
     ]
    },
    {
     "name": "stdout",
     "output_type": "stream",
     "text": [
      "\n"
     ]
    },
    {
     "name": "stdout",
     "output_type": "stream",
     "text": [
      "[[6]]\n"
     ]
    },
    {
     "name": "stdout",
     "output_type": "stream",
     "text": [
      "[1]"
     ]
    },
    {
     "name": "stdout",
     "output_type": "stream",
     "text": [
      " \"Core H Phospholipids\""
     ]
    },
    {
     "name": "stdout",
     "output_type": "stream",
     "text": [
      "\n"
     ]
    },
    {
     "name": "stdout",
     "output_type": "stream",
     "text": [
      "\n"
     ]
    },
    {
     "data": {
      "text/html": [
       "\n",
       "<emph>ListVector</emph> with 6 elements:\n",
       "<table class=\"rpy2_table\">\n",
       "<thead>\n",
       "</thead>\n",
       "<tbody>\n",
       "  <tr>\n",
       "    <td class=\"rpy2_rowname\">0</td>\n",
       "    <td>[1]...</td>\n",
       "  </tr>\n",
       "  <tr>\n",
       "    <td class=\"rpy2_rowname\">1</td>\n",
       "    <td>[1]...</td>\n",
       "  </tr>\n",
       "  <tr>\n",
       "    <td class=\"rpy2_rowname\">2</td>\n",
       "    <td>[1]...</td>\n",
       "  </tr>\n",
       "  <tr>\n",
       "    <td class=\"rpy2_rowname\">3</td>\n",
       "    <td>[1]...</td>\n",
       "  </tr>\n",
       "  <tr>\n",
       "    <td class=\"rpy2_rowname\">4</td>\n",
       "    <td>[1]...</td>\n",
       "  </tr>\n",
       "  <tr>\n",
       "    <td class=\"rpy2_rowname\">5</td>\n",
       "    <td>[1]...</td>\n",
       "  </tr>\n",
       "</tr>\n",
       "</tbody>\n",
       "</table>"
      ],
      "text/plain": [
       "<rpy2.robjects.vectors.ListVector object at 0x7f8aba3a99c0> [RTYPES.VECSXP]\n",
       "R classes: ('list',)\n",
       "[StrSe..., StrSe..., StrSe..., StrSe..., StrSe..., StrSe...]\n",
       "  <no name>: <class 'rpy2.rinterface_lib.sexp.StrSexpVector'>\n",
       "  <rpy2.rinterface_lib.sexp.StrSexpVector object at 0x7f8aba3ebd80> [RTYPES.STRSXP]\n",
       "  <no name>: <class 'rpy2.rinterface_lib.sexp.StrSexpVector'>\n",
       "  <rpy2.rinterface_lib.sexp.StrSexpVector object at 0x7f8aba3ebe80> [RTYPES.STRSXP]\n",
       "  <no name>: <class 'rpy2.rinterface_lib.sexp.StrSexpVector'>\n",
       "  <rpy2.rinterface_lib.sexp.StrSexpVector object at 0x7f8aba3ebd80> [RTYPES.STRSXP]\n",
       "  <no name>: <class 'rpy2.rinterface_lib.sexp.StrSexpVector'>\n",
       "  <rpy2.rinterface_lib.sexp.StrSexpVector object at 0x7f8aba3ebe80> [RTYPES.STRSXP]\n",
       "  <no name>: <class 'rpy2.rinterface_lib.sexp.StrSexpVector'>\n",
       "  <rpy2.rinterface_lib.sexp.StrSexpVector object at 0x7f8aba3eb180> [RTYPES.STRSXP]\n",
       "  <no name>: <class 'rpy2.rinterface_lib.sexp.StrSexpVector'>\n",
       "  <rpy2.rinterface_lib.sexp.StrSexpVector object at 0x7f8aba3ebe80> [RTYPES.STRSXP]"
      ]
     },
     "execution_count": 11,
     "metadata": {},
     "output_type": "execute_result"
    }
   ],
   "source": [
    "robjects.r.assign('mettit', 'Core G Fatty acids/Eicosanoids, Core J Sterols, Core K Prenols/Cardiolipins, Core E Neutral Lipids, Core I Sphingolipids, Core H Phospholipids')\n",
    "robjects.r('''\n",
    "list_mettit <- strsplit(mettit, ',')\n",
    "list_mettit = unlist(list_mettit, TRUE, TRUE)\n",
    "titles <- list()\n",
    "for(elm in list_mettit) {\n",
    "    elm = trimws(elm)\n",
    "    titles <- c(titles, elm)\n",
    "}\n",
    "print(titles)\n",
    "''')"
   ]
  },
  {
   "cell_type": "code",
   "execution_count": 12,
   "id": "legendary-check",
   "metadata": {
    "execution": {
     "iopub.execute_input": "2021-03-25T21:04:24.122414Z",
     "iopub.status.busy": "2021-03-25T21:04:24.119070Z",
     "iopub.status.idle": "2021-03-25T21:04:25.895250Z",
     "shell.execute_reply": "2021-03-25T21:04:25.896084Z"
    }
   },
   "outputs": [
    {
     "data": {
      "text/html": [
       "\n",
       "<emph>DataFrame</emph> with 368 rows and\n",
       "  14 columns:\n",
       "<table class=\"rpy2_table\">\n",
       "  <thead>\n",
       "    <tr class=\"rpy2_names\">\n",
       "      <th></th>\n",
       "      <th></th>\n",
       "      <th>Metabolite</th>\n",
       "      <th>Cirrhosis_mean</th>\n",
       "      <th>Normal_mean</th>\n",
       "      <th>Fold_change</th>\n",
       "      <th>...</th>\n",
       "      <th>sub_class</th>\n",
       "      <th>formula</th>\n",
       "    </tr>\n",
       "  </thead>\n",
       "  <tbody>\n",
       "    <tr>\n",
       "      <td class=\"rpy2_rowname\">0</td>\n",
       "        <td class=\"rpy2_names\">1</td>\n",
       "      <td>11 HDoHE</td>\n",
       "      <td>0.00934300</td>\n",
       "      <td>0.01694194</td>\n",
       "      <td>1.813329765599914</td>\n",
       "       <td>...</td>\n",
       "      <td>Docosanoids</td>\n",
       "      <td>C22H32O3</td>\n",
       "    </tr>\n",
       "    <tr>\n",
       "      <td class=\"rpy2_rowname\">1</td>\n",
       "        <td class=\"rpy2_names\">2</td>\n",
       "      <td>11,12-EET</td>\n",
       "      <td>0.0609060</td>\n",
       "      <td>0.1709519</td>\n",
       "      <td>2.8068154204840243</td>\n",
       "       <td>...</td>\n",
       "      <td>EpETrE</td>\n",
       "      <td>C20H32O3</td>\n",
       "    </tr>\n",
       "    <tr>\n",
       "      <td class=\"rpy2_rowname\">2</td>\n",
       "        <td class=\"rpy2_names\">3</td>\n",
       "      <td>11,12-diHETrE</td>\n",
       "      <td>0.3029180</td>\n",
       "      <td>0.3299616</td>\n",
       "      <td>1.0892769660436157</td>\n",
       "       <td>...</td>\n",
       "      <td>HETrE</td>\n",
       "      <td>C20H34O4</td>\n",
       "    </tr>\n",
       "    <tr>\n",
       "      <td class=\"rpy2_rowname\">3</td>\n",
       "        <td class=\"rpy2_names\">4</td>\n",
       "      <td>11-HEPE</td>\n",
       "      <td>0.021045</td>\n",
       "      <td>0.013780</td>\n",
       "      <td>0.6547873604181516</td>\n",
       "       <td>...</td>\n",
       "      <td>HEPE</td>\n",
       "      <td>C20H30O3</td>\n",
       "    </tr>\n",
       "    <tr>\n",
       "      <td class=\"rpy2_rowname\">4</td>\n",
       "        <td class=\"rpy2_names\">5</td>\n",
       "      <td>11-HETE</td>\n",
       "      <td>0.06739050</td>\n",
       "      <td>0.06171452</td>\n",
       "      <td>0.9157747753763512</td>\n",
       "       <td>...</td>\n",
       "      <td>HETE</td>\n",
       "      <td>C20H32O3</td>\n",
       "    </tr>\n",
       "    <tr>\n",
       "      <td class=\"rpy2_rowname\">5</td>\n",
       "        <td class=\"rpy2_names\">6</td>\n",
       "      <td>12,13 EpOME</td>\n",
       "      <td>0.3021140</td>\n",
       "      <td>0.4340103</td>\n",
       "      <td>1.4365779142972521</td>\n",
       "       <td>...</td>\n",
       "      <td>EpOMEs</td>\n",
       "      <td>C18H32O3</td>\n",
       "    </tr>\n",
       "    <tr>\n",
       "      <td class=\"rpy2_rowname\">6</td>\n",
       "        <td class=\"rpy2_names\">7</td>\n",
       "      <td>12,13 diHOME</td>\n",
       "      <td>0.2559895</td>\n",
       "      <td>0.2421284</td>\n",
       "      <td>0.945852857246098</td>\n",
       "       <td>...</td>\n",
       "      <td>DiHOMEs</td>\n",
       "      <td>C18H34O4</td>\n",
       "    </tr>\n",
       "    <tr>\n",
       "      <td class=\"rpy2_rowname\">7</td>\n",
       "        <td class=\"rpy2_names\">8</td>\n",
       "      <td>12-HEPE</td>\n",
       "      <td>0.00945950</td>\n",
       "      <td>0.03728742</td>\n",
       "      <td>3.941796078016809</td>\n",
       "       <td>...</td>\n",
       "      <td>HEPE</td>\n",
       "      <td>C20H30O3</td>\n",
       "    </tr>\n",
       "    <tr>\n",
       "      <td class=\"rpy2_rowname\">...</td>\n",
       "        <td class=\"rpy2_names\">...</td>\n",
       "      <td>...</td>\n",
       "      <td>...</td>\n",
       "      <td>...</td>\n",
       "      <td>...</td>\n",
       "       <td>...</td>\n",
       "      <td>...</td>\n",
       "      <td>...</td>\n",
       "    </tr>\n",
       "    <tr>\n",
       "      <td class=\"rpy2_rowname\">366</td>\n",
       "        <td class=\"rpy2_names\">367</td>\n",
       "      <td>PS(40:5)</td>\n",
       "      <td>113.0706</td>\n",
       "      <td>139.7377</td>\n",
       "      <td>1.2358446846483524</td>\n",
       "       <td>...</td>\n",
       "      <td>PS</td>\n",
       "      <td>C46H80NO10P</td>\n",
       "    </tr>\n",
       "    <tr>\n",
       "      <td class=\"rpy2_rowname\">367</td>\n",
       "        <td class=\"rpy2_names\">368</td>\n",
       "      <td>PS(40:6)</td>\n",
       "      <td>214.6937</td>\n",
       "      <td>346.6461</td>\n",
       "      <td>1.6146076945900134</td>\n",
       "       <td>...</td>\n",
       "      <td>PS</td>\n",
       "      <td>C46H78NO10P</td>\n",
       "    </tr>\n",
       "  </tbody>\n",
       "</table>"
      ],
      "text/plain": [
       "<rpy2.robjects.vectors.DataFrame object at 0x7f8abc1256c0> [RTYPES.VECSXP]\n",
       "R classes: ('data.frame',)\n",
       "[StrSexpVe..., StrSexpVe..., StrSexpVe..., FloatSexp..., ..., StrSexpVe..., StrSexpVe..., StrSexpVe..., StrSexpVe...]\n",
       "  Metabolite: <class 'rpy2.robjects.vectors.StrVector'>\n",
       "  <rpy2.robjects.vectors.StrVector object at 0x7f8abc0f8d80> [RTYPES.STRSXP]\n",
       "R classes: ('character',)\n",
       "['11 HDoHE', '11,12-EET', '11,12-di..., '11-HEPE', ..., 'PS(38:6)', 'PS(40:4)', 'PS(40:5)', 'PS(40:6)']\n",
       "  Cirrhosis_mean: <class 'rpy2.robjects.vectors.StrVector'>\n",
       "  <rpy2.robjects.vectors.StrVector object at 0x7f8abc109500> [RTYPES.STRSXP]\n",
       "R classes: ('character',)\n",
       "['0.009343..., '0.0609060', '0.3029180', '0.021045', ..., '54.75620', '58.19604', '113.0706', '214.6937']\n",
       "  Normal_mean: <class 'rpy2.robjects.vectors.StrVector'>\n",
       "  <rpy2.robjects.vectors.StrVector object at 0x7f8aba3e9b40> [RTYPES.STRSXP]\n",
       "R classes: ('character',)\n",
       "['0.016941..., '0.1709519', '0.3299616', '0.013780', ..., '76.15857', '60.53497', '139.7377', '346.6461']\n",
       "  Fold_change: <class 'rpy2.robjects.vectors.FloatVector'>\n",
       "  <rpy2.robjects.vectors.FloatVector object at 0x7f8abc22ac80> [RTYPES.REALSXP]\n",
       "R classes: ('numeric',)\n",
       "[1.813330, 2.806815, 1.089277, 0.654787, ..., 1.390867, 1.040191, 1.235845, 1.614608]\n",
       "...\n",
       "  t_value: <class 'rpy2.robjects.vectors.StrVector'>\n",
       "  <rpy2.robjects.vectors.StrVector object at 0x7f8abe9bf280> [RTYPES.STRSXP]\n",
       "R classes: ('character',)\n",
       "['Fatty Ac..., 'Fatty Ac..., 'Fatty Ac..., 'Fatty Ac..., ..., 'Glycerop..., 'Glycerop..., 'Glycerop..., 'Glycerop...]\n",
       "  pval: <class 'rpy2.robjects.vectors.StrVector'>\n",
       "  <rpy2.robjects.vectors.StrVector object at 0x7f8abe9bf040> [RTYPES.STRSXP]\n",
       "R classes: ('character',)\n",
       "['Docosano..., 'Eicosano..., 'Eicosano..., 'Eicosano..., ..., 'Glycerop..., 'Glycerop..., 'Glycerop..., 'Glycerop...]\n",
       "  padj: <class 'rpy2.robjects.vectors.StrVector'>\n",
       "  <rpy2.robjects.vectors.StrVector object at 0x7f8abe9bfa80> [RTYPES.STRSXP]\n",
       "R classes: ('character',)\n",
       "['Docosano..., 'EpETrE', 'HETrE', 'HEPE', ..., 'PS', 'PS', 'PS', 'PS']\n",
       "  metabolite_id: <class 'rpy2.robjects.vectors.StrVector'>\n",
       "  <rpy2.robjects.vectors.StrVector object at 0x7f8abe9bfd80> [RTYPES.STRSXP]\n",
       "R classes: ('character',)\n",
       "['C22H32O3', 'C20H32O3', 'C20H34O4', 'C20H30O3', ..., 'C44H74NO..., 'C46H82NO..., 'C46H80NO..., 'C46H78NO...]"
      ]
     },
     "execution_count": 12,
     "metadata": {},
     "output_type": "execute_result"
    }
   ],
   "source": [
    "#changed factor 2 from column to single factor? \n",
    "#is p adjust ONLY FDR?\n",
    "#get rid of output here?\n",
    "\n",
    "robjects.r('''\n",
    "\n",
    "stats_metabolites = significant_met(metabolomics_data=refmet_class_print, met_col=metcol,analysis_type=c(titles), metadata=metadata, factor1=fac1, factor2=fac2, factor_col=faccol,sample_col=samcol, p_adjust='fdr',normalization=normtype)\n",
    "\n",
    "''')"
   ]
  },
  {
   "cell_type": "code",
   "execution_count": 13,
   "id": "physical-passing",
   "metadata": {
    "execution": {
     "iopub.execute_input": "2021-03-25T21:04:25.907327Z",
     "iopub.status.busy": "2021-03-25T21:04:25.903992Z",
     "iopub.status.idle": "2021-03-25T21:04:25.935092Z",
     "shell.execute_reply": "2021-03-25T21:04:25.936314Z"
    }
   },
   "outputs": [
    {
     "data": {
      "text/html": [
       "\n",
       "<emph>DataFrame</emph> with 85 rows and\n",
       "  14 columns:\n",
       "<table class=\"rpy2_table\">\n",
       "  <thead>\n",
       "    <tr class=\"rpy2_names\">\n",
       "      <th></th>\n",
       "      <th></th>\n",
       "      <th>Metabolite</th>\n",
       "      <th>Cirrhosis_mean</th>\n",
       "      <th>Normal_mean</th>\n",
       "      <th>Fold_change</th>\n",
       "      <th>...</th>\n",
       "      <th>sub_class</th>\n",
       "      <th>formula</th>\n",
       "    </tr>\n",
       "  </thead>\n",
       "  <tbody>\n",
       "    <tr>\n",
       "      <td class=\"rpy2_rowname\">0</td>\n",
       "        <td class=\"rpy2_names\">2</td>\n",
       "      <td>11,12-EET</td>\n",
       "      <td>0.0609060</td>\n",
       "      <td>0.1709519</td>\n",
       "      <td>2.8068154204840243</td>\n",
       "       <td>...</td>\n",
       "      <td>EpETrE</td>\n",
       "      <td>C20H32O3</td>\n",
       "    </tr>\n",
       "    <tr>\n",
       "      <td class=\"rpy2_rowname\">1</td>\n",
       "        <td class=\"rpy2_names\">8</td>\n",
       "      <td>12-HEPE</td>\n",
       "      <td>0.00945950</td>\n",
       "      <td>0.03728742</td>\n",
       "      <td>3.941796078016809</td>\n",
       "       <td>...</td>\n",
       "      <td>HEPE</td>\n",
       "      <td>C20H30O3</td>\n",
       "    </tr>\n",
       "    <tr>\n",
       "      <td class=\"rpy2_rowname\">2</td>\n",
       "        <td class=\"rpy2_names\">9</td>\n",
       "      <td>12-HETE</td>\n",
       "      <td>0.109529</td>\n",
       "      <td>0.255101</td>\n",
       "      <td>2.3290726656867133</td>\n",
       "       <td>...</td>\n",
       "      <td>HETE</td>\n",
       "      <td>C20H32O3</td>\n",
       "    </tr>\n",
       "    <tr>\n",
       "      <td class=\"rpy2_rowname\">3</td>\n",
       "        <td class=\"rpy2_names\">12</td>\n",
       "      <td>14 HDoHE</td>\n",
       "      <td>0.00825450</td>\n",
       "      <td>0.02744806</td>\n",
       "      <td>3.3252238173117696</td>\n",
       "       <td>...</td>\n",
       "      <td>Docosanoids</td>\n",
       "      <td>C22H32O3</td>\n",
       "    </tr>\n",
       "    <tr>\n",
       "      <td class=\"rpy2_rowname\">4</td>\n",
       "        <td class=\"rpy2_names\">13</td>\n",
       "      <td>14,15-EET</td>\n",
       "      <td>0.1171725</td>\n",
       "      <td>0.3177545</td>\n",
       "      <td>2.711852183746186</td>\n",
       "       <td>...</td>\n",
       "      <td>EpETrE</td>\n",
       "      <td>C20H32O3</td>\n",
       "    </tr>\n",
       "    <tr>\n",
       "      <td class=\"rpy2_rowname\">5</td>\n",
       "        <td class=\"rpy2_names\">17</td>\n",
       "      <td>15-HETrE</td>\n",
       "      <td>0.04673850</td>\n",
       "      <td>0.01022645</td>\n",
       "      <td>0.21880141639119782</td>\n",
       "       <td>...</td>\n",
       "      <td>ETrE</td>\n",
       "      <td>C20H34O3</td>\n",
       "    </tr>\n",
       "    <tr>\n",
       "      <td class=\"rpy2_rowname\">6</td>\n",
       "        <td class=\"rpy2_names\">20</td>\n",
       "      <td>16 HDoHE</td>\n",
       "      <td>0.003674500</td>\n",
       "      <td>0.006788387</td>\n",
       "      <td>1.8474314872771807</td>\n",
       "       <td>...</td>\n",
       "      <td>Docosanoids</td>\n",
       "      <td>C22H32O3</td>\n",
       "    </tr>\n",
       "    <tr>\n",
       "      <td class=\"rpy2_rowname\">7</td>\n",
       "        <td class=\"rpy2_names\">24</td>\n",
       "      <td>4 HDoHE</td>\n",
       "      <td>0.01531200</td>\n",
       "      <td>0.03777548</td>\n",
       "      <td>2.467050679205852</td>\n",
       "       <td>...</td>\n",
       "      <td>Docosanoids</td>\n",
       "      <td>C22H32O3</td>\n",
       "    </tr>\n",
       "    <tr>\n",
       "      <td class=\"rpy2_rowname\">...</td>\n",
       "        <td class=\"rpy2_names\">...</td>\n",
       "      <td>...</td>\n",
       "      <td>...</td>\n",
       "      <td>...</td>\n",
       "      <td>...</td>\n",
       "       <td>...</td>\n",
       "      <td>...</td>\n",
       "      <td>...</td>\n",
       "    </tr>\n",
       "    <tr>\n",
       "      <td class=\"rpy2_rowname\">83</td>\n",
       "        <td class=\"rpy2_names\">360</td>\n",
       "      <td>PS(36:3)</td>\n",
       "      <td>25.31971</td>\n",
       "      <td>17.74735</td>\n",
       "      <td>0.7009302239243657</td>\n",
       "       <td>...</td>\n",
       "      <td>PS</td>\n",
       "      <td>C42H76NO10P</td>\n",
       "    </tr>\n",
       "    <tr>\n",
       "      <td class=\"rpy2_rowname\">84</td>\n",
       "        <td class=\"rpy2_names\">368</td>\n",
       "      <td>PS(40:6)</td>\n",
       "      <td>214.6937</td>\n",
       "      <td>346.6461</td>\n",
       "      <td>1.6146076945900134</td>\n",
       "       <td>...</td>\n",
       "      <td>PS</td>\n",
       "      <td>C46H78NO10P</td>\n",
       "    </tr>\n",
       "  </tbody>\n",
       "</table>"
      ],
      "text/plain": [
       "<rpy2.robjects.vectors.DataFrame object at 0x7f8abe9d4d00> [RTYPES.VECSXP]\n",
       "R classes: ('data.frame',)\n",
       "[StrSexpVe..., StrSexpVe..., StrSexpVe..., FloatSexp..., ..., StrSexpVe..., StrSexpVe..., StrSexpVe..., StrSexpVe...]\n",
       "  Metabolite: <class 'rpy2.robjects.vectors.StrVector'>\n",
       "  <rpy2.robjects.vectors.StrVector object at 0x7f8abe9d4900> [RTYPES.STRSXP]\n",
       "R classes: ('character',)\n",
       "['11,12-EET', '12-HEPE', '12-HETE', '14 HDoHE', ..., 'PS(34:1)', 'PS(36:2)', 'PS(36:3)', 'PS(40:6)']\n",
       "  Cirrhosis_mean: <class 'rpy2.robjects.vectors.StrVector'>\n",
       "  <rpy2.robjects.vectors.StrVector object at 0x7f8abe9ba7c0> [RTYPES.STRSXP]\n",
       "R classes: ('character',)\n",
       "['0.0609060', '0.009459..., '0.109529', '0.008254..., ..., '41.84534', '147.4495', '25.31971', '214.6937']\n",
       "  Normal_mean: <class 'rpy2.robjects.vectors.StrVector'>\n",
       "  <rpy2.robjects.vectors.StrVector object at 0x7f8abe9ba580> [RTYPES.STRSXP]\n",
       "R classes: ('character',)\n",
       "['0.1709519', '0.037287..., '0.255101', '0.027448..., ..., '29.46803', ' 99.2970', '17.74735', '346.6461']\n",
       "  Fold_change: <class 'rpy2.robjects.vectors.FloatVector'>\n",
       "  <rpy2.robjects.vectors.FloatVector object at 0x7f8abe9ba800> [RTYPES.REALSXP]\n",
       "R classes: ('numeric',)\n",
       "[2.806815, 3.941796, 2.329073, 3.325224, ..., 0.704213, 0.673431, 0.700930, 1.614608]\n",
       "...\n",
       "  t_value: <class 'rpy2.robjects.vectors.StrVector'>\n",
       "  <rpy2.robjects.vectors.StrVector object at 0x7f8abe9ba680> [RTYPES.STRSXP]\n",
       "R classes: ('character',)\n",
       "['Fatty Ac..., 'Fatty Ac..., 'Fatty Ac..., 'Fatty Ac..., ..., 'Glycerop..., 'Glycerop..., 'Glycerop..., 'Glycerop...]\n",
       "  pval: <class 'rpy2.robjects.vectors.StrVector'>\n",
       "  <rpy2.robjects.vectors.StrVector object at 0x7f8abe9bae00> [RTYPES.STRSXP]\n",
       "R classes: ('character',)\n",
       "['Eicosano..., 'Eicosano..., 'Eicosano..., 'Docosano..., ..., 'Glycerop..., 'Glycerop..., 'Glycerop..., 'Glycerop...]\n",
       "  padj: <class 'rpy2.robjects.vectors.StrVector'>\n",
       "  <rpy2.robjects.vectors.StrVector object at 0x7f8abc133d40> [RTYPES.STRSXP]\n",
       "R classes: ('character',)\n",
       "['EpETrE', 'HEPE', 'HETE', 'Docosano..., ..., 'PS', 'PS', 'PS', 'PS']\n",
       "  metabolite_id: <class 'rpy2.robjects.vectors.StrVector'>\n",
       "  <rpy2.robjects.vectors.StrVector object at 0x7f8abe9bc180> [RTYPES.STRSXP]\n",
       "R classes: ('character',)\n",
       "['C20H32O3', 'C20H30O3', 'C20H32O3', 'C22H32O3', ..., 'C40H76NO..., 'C42H78NO..., 'C42H76NO..., 'C46H78NO...]"
      ]
     },
     "execution_count": 13,
     "metadata": {},
     "output_type": "execute_result"
    }
   ],
   "source": [
    "robjects.r('''\n",
    "sig_metabolites = stats_metabolites[which(stats_metabolites[,\"pval\"] <= ptreshnum&abs(stats_metabolites[,\"log2Fold_change\"])>thres_log2foldchangenum),]\n",
    "''')"
   ]
  },
  {
   "cell_type": "code",
   "execution_count": 14,
   "id": "shared-stocks",
   "metadata": {
    "execution": {
     "iopub.execute_input": "2021-03-25T21:04:25.947311Z",
     "iopub.status.busy": "2021-03-25T21:04:25.944095Z",
     "iopub.status.idle": "2021-03-25T21:04:27.661962Z",
     "shell.execute_reply": "2021-03-25T21:04:27.663265Z"
    }
   },
   "outputs": [
    {
     "data": {
      "image/png": "[encoded data removed]",
      "text/plain": [
       "<IPython.core.display.Image object>"
      ]
     },
     "execution_count": 14,
     "metadata": {},
     "output_type": "execute_result"
    }
   ],
   "source": [
    "image_png(robjects.r('''\n",
    "plot_volcano(stats_metabolites, thres_pval= ptreshnum, thres_log2foldchange = thres_log2foldchangenum, TRUE)\n",
    "'''))"
   ]
  },
  {
   "cell_type": "markdown",
   "id": "whole-arcade",
   "metadata": {},
   "source": [
    "### Map metabolite class of the significant metabolites utilzing refmet classification in Metabolomics Workbench\n",
    "This function not only maps metabolite to metabolite class but also to external databases such as pubchem, inchi key, smiles and kegg\n",
    "\n",
    "In this example, we will go forward with significant metabolite obtained by t-test/"
   ]
  },
  {
   "cell_type": "code",
   "execution_count": 15,
   "id": "ready-simple",
   "metadata": {
    "execution": {
     "iopub.execute_input": "2021-03-25T21:04:27.688873Z",
     "iopub.status.busy": "2021-03-25T21:04:27.677320Z",
     "iopub.status.idle": "2021-03-25T21:04:29.595822Z",
     "shell.execute_reply": "2021-03-25T21:04:29.595073Z"
    }
   },
   "outputs": [],
   "source": [
    "#killing the kernel\n",
    "\n",
    "with openrlib.rlock:\n",
    "    robjects.r('''\n",
    "    sig_metabolites_kegg_id= map_keggid(sig_metabolites)\n",
    "    ''')\n",
    "    pass"
   ]
  },
  {
   "cell_type": "markdown",
   "id": "following-community",
   "metadata": {},
   "source": [
    "#### Check all your significant metabolites have not been assigned metabolite class"
   ]
  },
  {
   "cell_type": "code",
   "execution_count": 16,
   "id": "placed-factor",
   "metadata": {
    "execution": {
     "iopub.execute_input": "2021-03-25T21:04:29.606078Z",
     "iopub.status.busy": "2021-03-25T21:04:29.602993Z",
     "iopub.status.idle": "2021-03-25T21:04:29.613470Z",
     "shell.execute_reply": "2021-03-25T21:04:29.612413Z"
    }
   },
   "outputs": [
    {
     "data": {
      "text/html": [
       "\n",
       "<emph>StrVector</emph> with 0 elements:\n",
       "<table class=\"rpy2_table\">\n",
       "<thead>\n",
       "</thead>\n",
       "<tbody>\n",
       "<tr>\n",
       "</tr>\n",
       "</tbody>\n",
       "</table>"
      ],
      "text/plain": [
       "<rpy2.robjects.vectors.StrVector object at 0x7f8abc22a6c0> [RTYPES.STRSXP]\n",
       "R classes: ('character',)\n",
       "[]"
      ]
     },
     "execution_count": 16,
     "metadata": {},
     "output_type": "execute_result"
    }
   ],
   "source": [
    "robjects.r('''\n",
    "setdiff(sig_metabolites$refmet_name, sig_metabolites_kegg_id$refmet_name)\n",
    "''')"
   ]
  },
  {
   "cell_type": "markdown",
   "id": "nearby-beach",
   "metadata": {},
   "source": [
    "### Count metabolites in each of the metabolite class and plotting\n",
    "You may choose from sub_class, main_class and super_class"
   ]
  },
  {
   "cell_type": "code",
   "execution_count": 17,
   "id": "colonial-style",
   "metadata": {
    "execution": {
     "iopub.execute_input": "2021-03-25T21:04:29.626633Z",
     "iopub.status.busy": "2021-03-25T21:04:29.623184Z",
     "iopub.status.idle": "2021-03-25T21:04:29.633987Z",
     "shell.execute_reply": "2021-03-25T21:04:29.631231Z"
    }
   },
   "outputs": [
    {
     "data": {
      "text/html": [
       "\n",
       "<emph>ListVector</emph> with 1 elements:\n",
       "<table class=\"rpy2_table\">\n",
       "<thead>\n",
       "</thead>\n",
       "<tbody>\n",
       "  <tr>\n",
       "    <td class=\"rpy2_rowname\">0</td>\n",
       "    <td>[1] \"sub_class\"\n",
       "</td>\n",
       "  </tr>\n",
       "</tr>\n",
       "</tbody>\n",
       "</table>"
      ],
      "text/plain": [
       "<rpy2.robjects.vectors.ListVector object at 0x7f8aba4f97c0> [RTYPES.VECSXP]\n",
       "R classes: ('list',)\n",
       "[StrSexpVector]\n",
       "  <no name>: <class 'rpy2.rinterface_lib.sexp.StrSexpVector'>\n",
       "  <rpy2.rinterface_lib.sexp.StrSexpVector object at 0x7f8abeb08c80> [RTYPES.STRSXP]"
      ]
     },
     "execution_count": 17,
     "metadata": {},
     "output_type": "execute_result"
    }
   ],
   "source": [
    "##sub_class\n",
    "robjects.r.assign('classtype', ['sub_class'])"
   ]
  },
  {
   "cell_type": "code",
   "execution_count": 18,
   "id": "novel-prescription",
   "metadata": {
    "execution": {
     "iopub.execute_input": "2021-03-25T21:04:29.646613Z",
     "iopub.status.busy": "2021-03-25T21:04:29.643746Z",
     "iopub.status.idle": "2021-03-25T21:04:30.436385Z",
     "shell.execute_reply": "2021-03-25T21:04:30.437348Z"
    }
   },
   "outputs": [
    {
     "data": {
      "text/html": [
       "\n",
       "<emph>ListVector</emph> with 2 elements:\n",
       "<table class=\"rpy2_table\">\n",
       "<thead>\n",
       "</thead>\n",
       "<tbody>\n",
       "  <tr>\n",
       "    <td class=\"rpy2_rowname\">0</td>\n",
       "    <td class=\"rpy2_names\">sig_met_count</td>\n",
       "    <td>        ...</td>\n",
       "  </tr>\n",
       "  <tr>\n",
       "    <td class=\"rpy2_rowname\">1</td>\n",
       "    <td class=\"rpy2_names\">plotimg</td>\n",
       "    <td></td>\n",
       "  </tr>\n",
       "</tr>\n",
       "</tbody>\n",
       "</table>"
      ],
      "text/plain": [
       "<rpy2.robjects.vectors.ListVector object at 0x7f8aba3e2500> [RTYPES.VECSXP]\n",
       "R classes: ('list',)\n",
       "[ListSexpVector, ListSexpVector]\n",
       "  sig_met_count: <class 'rpy2.rinterface.ListSexpVector'>\n",
       "  <rpy2.rinterface.ListSexpVector object at 0x7f8aba3eb040> [RTYPES.VECSXP]\n",
       "  plotimg: <class 'rpy2.rinterface.ListSexpVector'>\n",
       "  <rpy2.rinterface.ListSexpVector object at 0x7f8abeb050c0> [RTYPES.VECSXP]"
      ]
     },
     "execution_count": 18,
     "metadata": {},
     "output_type": "execute_result"
    }
   ],
   "source": [
    "robjects.r('''\n",
    "metclassvar <- as.character(classtype[1])\n",
    "count_changes = metcountplot(df_metclass=sig_metabolites_kegg_id, metclass=metclassvar, plotting=TRUE, thres_logfC = 0.5)\n",
    "''')"
   ]
  },
  {
   "cell_type": "code",
   "execution_count": 19,
   "id": "earlier-marriage",
   "metadata": {
    "execution": {
     "iopub.execute_input": "2021-03-25T21:04:30.446678Z",
     "iopub.status.busy": "2021-03-25T21:04:30.443906Z",
     "iopub.status.idle": "2021-03-25T21:04:30.717263Z",
     "shell.execute_reply": "2021-03-25T21:04:30.718422Z"
    }
   },
   "outputs": [
    {
     "data": {
      "image/png": "[encoded data removed]",
      "text/plain": [
       "<IPython.core.display.Image object>"
      ]
     },
     "execution_count": 19,
     "metadata": {},
     "output_type": "execute_result"
    }
   ],
   "source": [
    "image_png(robjects.r('''\n",
    "count_changes$plotimg\n",
    "'''))"
   ]
  },
  {
   "cell_type": "markdown",
   "id": "liked-convert",
   "metadata": {},
   "source": [
    "### Enrichment class score\n",
    "\n",
    "Calculate the enrichment score of each metabolite class. Enrichment score is calculated through hypergeometric method. One can specify the no. of significant metabolites in a class while calculating the enrichment score. We advice to use the number of mtabolites in each class as 3 or more. But if someone just wants to know the enrichment score and rest of the information of all the metabolites, then they can choose the number as 1."
   ]
  },
  {
   "cell_type": "code",
   "execution_count": 20,
   "id": "interested-marina",
   "metadata": {
    "execution": {
     "iopub.execute_input": "2021-03-25T21:04:30.734073Z",
     "iopub.status.busy": "2021-03-25T21:04:30.728963Z",
     "iopub.status.idle": "2021-03-25T21:04:30.743287Z",
     "shell.execute_reply": "2021-03-25T21:04:30.739917Z"
    }
   },
   "outputs": [
    {
     "data": {
      "text/html": [
       "\n",
       "<emph>IntVector</emph> with 1 elements:\n",
       "<table class=\"rpy2_table\">\n",
       "<thead>\n",
       "</thead>\n",
       "<tbody>\n",
       "<tr>\n",
       "      <td>3</td>\n",
       "</tr>\n",
       "</tbody>\n",
       "</table>"
      ],
      "text/plain": [
       "<rpy2.robjects.vectors.IntVector object at 0x7f8abe9d41c0> [RTYPES.INTSXP]\n",
       "R classes: ('integer',)\n",
       "[3]"
      ]
     },
     "execution_count": 20,
     "metadata": {},
     "output_type": "execute_result"
    }
   ],
   "source": [
    "robjects.r.assign('sigmets', 3)"
   ]
  },
  {
   "cell_type": "code",
   "execution_count": 21,
   "id": "yellow-siemens",
   "metadata": {
    "execution": {
     "iopub.execute_input": "2021-03-25T21:04:30.755891Z",
     "iopub.status.busy": "2021-03-25T21:04:30.752875Z",
     "iopub.status.idle": "2021-03-25T21:04:30.910359Z",
     "shell.execute_reply": "2021-03-25T21:04:30.911133Z"
    }
   },
   "outputs": [
    {
     "data": {
      "text/html": [
       "\n",
       "<emph>DataFrame</emph> with 62 rows and\n",
       "  17 columns:\n",
       "<table class=\"rpy2_table\">\n",
       "  <thead>\n",
       "    <tr class=\"rpy2_names\">\n",
       "      <th></th>\n",
       "      <th></th>\n",
       "      <th>refmet_name</th>\n",
       "      <th>Exact mass</th>\n",
       "      <th>KEGG ID</th>\n",
       "      <th>Metabolite</th>\n",
       "      <th>...</th>\n",
       "      <th>formula</th>\n",
       "      <th>HG p-value</th>\n",
       "    </tr>\n",
       "  </thead>\n",
       "  <tbody>\n",
       "    <tr>\n",
       "      <td class=\"rpy2_rowname\">0</td>\n",
       "        <td class=\"rpy2_names\">1</td>\n",
       "      <td>1,2-DG 32:0</td>\n",
       "      <td>568.5067</td>\n",
       "      <td>C00641</td>\n",
       "      <td>1,2-DG(32:0)</td>\n",
       "       <td>...</td>\n",
       "      <td>C35H68O5</td>\n",
       "      <td>3.963735570536247e-06</td>\n",
       "    </tr>\n",
       "    <tr>\n",
       "      <td class=\"rpy2_rowname\">1</td>\n",
       "        <td class=\"rpy2_names\">2</td>\n",
       "      <td>1,2-DG 32:1</td>\n",
       "      <td>566.4910</td>\n",
       "      <td>C00641</td>\n",
       "      <td>1,2-DG(32:1)</td>\n",
       "       <td>...</td>\n",
       "      <td>C35H66O5</td>\n",
       "      <td>7.765031897466127e-06</td>\n",
       "    </tr>\n",
       "    <tr>\n",
       "      <td class=\"rpy2_rowname\">2</td>\n",
       "        <td class=\"rpy2_names\">3</td>\n",
       "      <td>1,2-DG 34:0</td>\n",
       "      <td>596.5380</td>\n",
       "      <td>C00641</td>\n",
       "      <td>1,2-DG(34:0)</td>\n",
       "       <td>...</td>\n",
       "      <td>C37H72O5</td>\n",
       "      <td>7.765031897466127e-06</td>\n",
       "    </tr>\n",
       "    <tr>\n",
       "      <td class=\"rpy2_rowname\">3</td>\n",
       "        <td class=\"rpy2_names\">4</td>\n",
       "      <td>1,2-DG 34:1</td>\n",
       "      <td>594.5223</td>\n",
       "      <td>C00641</td>\n",
       "      <td>1,2-DG(34:1)</td>\n",
       "       <td>...</td>\n",
       "      <td>C37H70O5</td>\n",
       "      <td>7.765031897466127e-06</td>\n",
       "    </tr>\n",
       "    <tr>\n",
       "      <td class=\"rpy2_rowname\">4</td>\n",
       "        <td class=\"rpy2_names\">5</td>\n",
       "      <td>1,2-DG 34:2</td>\n",
       "      <td>592.5067</td>\n",
       "      <td>C00641</td>\n",
       "      <td>1,2-DG(34:2)</td>\n",
       "       <td>...</td>\n",
       "      <td>C37H68O5</td>\n",
       "      <td>7.765031897466127e-06</td>\n",
       "    </tr>\n",
       "    <tr>\n",
       "      <td class=\"rpy2_rowname\">5</td>\n",
       "        <td class=\"rpy2_names\">6</td>\n",
       "      <td>1,2-DG 36:1</td>\n",
       "      <td>622.5536</td>\n",
       "      <td>C00641</td>\n",
       "      <td>1,2-DG(36:1)</td>\n",
       "       <td>...</td>\n",
       "      <td>C39H74O5</td>\n",
       "      <td>7.765031897466127e-06</td>\n",
       "    </tr>\n",
       "    <tr>\n",
       "      <td class=\"rpy2_rowname\">6</td>\n",
       "        <td class=\"rpy2_names\">7</td>\n",
       "      <td>1,2-DG 36:2</td>\n",
       "      <td>620.5380</td>\n",
       "      <td>C00641</td>\n",
       "      <td>1,2-DG(36:2)</td>\n",
       "       <td>...</td>\n",
       "      <td>C39H72O5</td>\n",
       "      <td>7.765031897466127e-06</td>\n",
       "    </tr>\n",
       "    <tr>\n",
       "      <td class=\"rpy2_rowname\">7</td>\n",
       "        <td class=\"rpy2_names\">8</td>\n",
       "      <td>1,2-DG 36:3</td>\n",
       "      <td>618.5223</td>\n",
       "      <td>C00641</td>\n",
       "      <td>1,2-DG(36:3)</td>\n",
       "       <td>...</td>\n",
       "      <td>C39H70O5</td>\n",
       "      <td>7.765031897466127e-06</td>\n",
       "    </tr>\n",
       "    <tr>\n",
       "      <td class=\"rpy2_rowname\">...</td>\n",
       "        <td class=\"rpy2_names\">...</td>\n",
       "      <td>...</td>\n",
       "      <td>...</td>\n",
       "      <td>...</td>\n",
       "      <td>...</td>\n",
       "       <td>...</td>\n",
       "      <td>...</td>\n",
       "      <td>...</td>\n",
       "    </tr>\n",
       "    <tr>\n",
       "      <td class=\"rpy2_rowname\">60</td>\n",
       "        <td class=\"rpy2_names\">83</td>\n",
       "      <td>TG 52:1</td>\n",
       "      <td>860.7833</td>\n",
       "      <td>C00422</td>\n",
       "      <td>TG(52:1)</td>\n",
       "       <td>...</td>\n",
       "      <td>C55H104O6</td>\n",
       "      <td>0.8068413985056851</td>\n",
       "    </tr>\n",
       "    <tr>\n",
       "      <td class=\"rpy2_rowname\">61</td>\n",
       "        <td class=\"rpy2_names\">84</td>\n",
       "      <td>TG 52:3</td>\n",
       "      <td>856.7520</td>\n",
       "      <td>C00422</td>\n",
       "      <td>TG(52:3)</td>\n",
       "       <td>...</td>\n",
       "      <td>C55H100O6</td>\n",
       "      <td>0.8068413985056851</td>\n",
       "    </tr>\n",
       "  </tbody>\n",
       "</table>"
      ],
      "text/plain": [
       "<rpy2.robjects.vectors.DataFrame object at 0x7f8abeb05080> [RTYPES.VECSXP]\n",
       "R classes: ('data.frame',)\n",
       "[StrSexpVe..., StrSexpVe..., StrSexpVe..., StrSexpVe..., ..., StrSexpVe..., StrSexpVe..., StrSexpVe..., FloatSexp...]\n",
       "  refmet_name: <class 'rpy2.robjects.vectors.StrVector'>\n",
       "  <rpy2.robjects.vectors.StrVector object at 0x7f8aba3c3180> [RTYPES.STRSXP]\n",
       "R classes: ('character',)\n",
       "['1,2-DG 3..., '1,2-DG 3..., '1,2-DG 3..., '1,2-DG 3..., ..., 'SM 18:1;..., 'TG 51:1', 'TG 52:1', 'TG 52:3']\n",
       "  Exact mass: <class 'rpy2.robjects.vectors.StrVector'>\n",
       "  <rpy2.robjects.vectors.StrVector object at 0x7f8ab6749100> [RTYPES.STRSXP]\n",
       "R classes: ('character',)\n",
       "['568.5067', '566.4910', '596.5380', '594.5223', ..., '786.6615', '846.7676', '860.7833', '856.7520']\n",
       "  KEGG ID: <class 'rpy2.robjects.vectors.StrVector'>\n",
       "  <rpy2.robjects.vectors.StrVector object at 0x7f8ab67492c0> [RTYPES.STRSXP]\n",
       "R classes: ('character',)\n",
       "['C00641', 'C00641', 'C00641', 'C00641', ..., 'C00550', 'C00422', 'C00422', 'C00422']\n",
       "  Metabolite: <class 'rpy2.robjects.vectors.StrVector'>\n",
       "  <rpy2.robjects.vectors.StrVector object at 0x7f8aba3c1d40> [RTYPES.STRSXP]\n",
       "R classes: ('character',)\n",
       "['1,2-DG(3..., '1,2-DG(3..., '1,2-DG(3..., '1,2-DG(3..., ..., 'C22 Sphi..., 'TG(51:1)', 'TG(52:1)', 'TG(52:3)']\n",
       "...\n",
       "  Normal_mean: <class 'rpy2.robjects.vectors.StrVector'>\n",
       "  <rpy2.robjects.vectors.StrVector object at 0x7f8aba4f95c0> [RTYPES.STRSXP]\n",
       "R classes: ('character',)\n",
       "['Diradylg..., 'Diradylg..., 'Diradylg..., 'Diradylg..., ..., 'Sphingom..., 'Triradyl..., 'Triradyl..., 'Triradyl...]\n",
       "  Fold_change: <class 'rpy2.robjects.vectors.StrVector'>\n",
       "  <rpy2.robjects.vectors.StrVector object at 0x7f8aba3dae80> [RTYPES.STRSXP]\n",
       "R classes: ('character',)\n",
       "['DAG', 'DAG', 'DAG', 'DAG', ..., 'SM', 'TAG', 'TAG', 'TAG']\n",
       "  log2Fold_change: <class 'rpy2.robjects.vectors.StrVector'>\n",
       "  <rpy2.robjects.vectors.StrVector object at 0x7f8aba3fa040> [RTYPES.STRSXP]\n",
       "R classes: ('character',)\n",
       "['C35H68O5', 'C35H66O5', 'C37H72O5', 'C37H70O5', ..., 'C45H91N2..., 'C54H102O6', 'C55H104O6', 'C55H100O6']\n",
       "  t_value: <class 'rpy2.robjects.vectors.FloatVector'>\n",
       "  <rpy2.robjects.vectors.FloatVector object at 0x7f8abc66e6c0> [RTYPES.REALSXP]\n",
       "R classes: ('numeric',)\n",
       "[0.000004, 0.000008, 0.000008, 0.000008, ..., 0.005603, 0.806841, 0.806841, 0.806841]"
      ]
     },
     "execution_count": 21,
     "metadata": {},
     "output_type": "execute_result"
    }
   ],
   "source": [
    "robjects.r('''\n",
    "metenrichment = metclassenrichment(df_metclass=sig_metabolites_kegg_id,refmet_class, metclass=metclassvar,enrich_stats=\"HG\",no=sigmets)\n",
    "''')"
   ]
  },
  {
   "cell_type": "markdown",
   "id": "chicken-entry",
   "metadata": {},
   "source": [
    "#### Plot the enrichment score via function plot_met_enrichment"
   ]
  },
  {
   "cell_type": "code",
   "execution_count": 22,
   "id": "sublime-interaction",
   "metadata": {
    "execution": {
     "iopub.execute_input": "2021-03-25T21:04:30.921391Z",
     "iopub.status.busy": "2021-03-25T21:04:30.918349Z",
     "iopub.status.idle": "2021-03-25T21:04:31.101656Z",
     "shell.execute_reply": "2021-03-25T21:04:31.102776Z"
    }
   },
   "outputs": [
    {
     "data": {
      "image/png": "[encoded data removed]",
      "text/plain": [
       "<IPython.core.display.Image object>"
      ]
     },
     "execution_count": 22,
     "metadata": {},
     "output_type": "execute_result"
    }
   ],
   "source": [
    "image_png(robjects.r('''\n",
    "plot_met_enrichment(metenrichment, metclassvar,\"HG\", no=sigmets)\n",
    "'''))"
   ]
  },
  {
   "cell_type": "markdown",
   "id": "simplified-integral",
   "metadata": {},
   "source": [
    "### Check the pathways with reactions of all the significant metabolites"
   ]
  },
  {
   "cell_type": "code",
   "execution_count": 23,
   "id": "concerned-statement",
   "metadata": {
    "execution": {
     "iopub.execute_input": "2021-03-25T21:04:31.117363Z",
     "iopub.status.busy": "2021-03-25T21:04:31.112265Z",
     "iopub.status.idle": "2021-03-25T21:04:31.126196Z",
     "shell.execute_reply": "2021-03-25T21:04:31.123475Z"
    }
   },
   "outputs": [
    {
     "data": {
      "text/html": [
       "\n",
       "<emph>StrVector</emph> with 1 elements:\n",
       "<table class=\"rpy2_table\">\n",
       "<thead>\n",
       "</thead>\n",
       "<tbody>\n",
       "<tr>\n",
       "      <td>hsa</td>\n",
       "</tr>\n",
       "</tbody>\n",
       "</table>"
      ],
      "text/plain": [
       "<rpy2.robjects.vectors.StrVector object at 0x7f8ab67492c0> [RTYPES.STRSXP]\n",
       "R classes: ('character',)\n",
       "['hsa']"
      ]
     },
     "execution_count": 23,
     "metadata": {},
     "output_type": "execute_result"
    }
   ],
   "source": [
    "robjects.r.assign('studyOrg', 'hsa')"
   ]
  },
  {
   "cell_type": "code",
   "execution_count": 24,
   "id": "danish-albert",
   "metadata": {
    "execution": {
     "iopub.execute_input": "2021-03-25T21:04:31.140987Z",
     "iopub.status.busy": "2021-03-25T21:04:31.137753Z",
     "iopub.status.idle": "2021-03-25T21:04:38.941807Z",
     "shell.execute_reply": "2021-03-25T21:04:38.942711Z"
    }
   },
   "outputs": [
    {
     "data": {
      "text/html": [
       "\n",
       "<emph>DataFrame</emph> with 6 rows and\n",
       "  22 columns:\n",
       "<table class=\"rpy2_table\">\n",
       "  <thead>\n",
       "    <tr class=\"rpy2_names\">\n",
       "      <th></th>\n",
       "      <th></th>\n",
       "      <th>rxn</th>\n",
       "      <th>refmet_name</th>\n",
       "      <th>Exact mass</th>\n",
       "      <th>KEGG ID</th>\n",
       "      <th>...</th>\n",
       "      <th>pathway_id</th>\n",
       "      <th>sps_path_id</th>\n",
       "    </tr>\n",
       "  </thead>\n",
       "  <tbody>\n",
       "    <tr>\n",
       "      <td class=\"rpy2_rowname\">0</td>\n",
       "        <td class=\"rpy2_names\">1</td>\n",
       "      <td>R01003</td>\n",
       "      <td>Dolichol-20</td>\n",
       "      <td>1381.2782</td>\n",
       "      <td>C00381</td>\n",
       "       <td>...</td>\n",
       "      <td>rn00510</td>\n",
       "      <td>hsa00510</td>\n",
       "    </tr>\n",
       "    <tr>\n",
       "      <td class=\"rpy2_rowname\">1</td>\n",
       "        <td class=\"rpy2_names\">2</td>\n",
       "      <td>R01003</td>\n",
       "      <td>Dolichol-20</td>\n",
       "      <td>1381.2782</td>\n",
       "      <td>C00381</td>\n",
       "       <td>...</td>\n",
       "      <td>rn01100</td>\n",
       "      <td>hsa01100</td>\n",
       "    </tr>\n",
       "    <tr>\n",
       "      <td class=\"rpy2_rowname\">2</td>\n",
       "        <td class=\"rpy2_names\">3</td>\n",
       "      <td>R01018</td>\n",
       "      <td>Dolichol-20</td>\n",
       "      <td>1381.2782</td>\n",
       "      <td>C00381</td>\n",
       "       <td>...</td>\n",
       "      <td>rn00510</td>\n",
       "      <td>hsa00510</td>\n",
       "    </tr>\n",
       "    <tr>\n",
       "      <td class=\"rpy2_rowname\">3</td>\n",
       "        <td class=\"rpy2_names\">4</td>\n",
       "      <td>R01018</td>\n",
       "      <td>Dolichol-20</td>\n",
       "      <td>1381.2782</td>\n",
       "      <td>C00381</td>\n",
       "       <td>...</td>\n",
       "      <td>rn01100</td>\n",
       "      <td>hsa01100</td>\n",
       "    </tr>\n",
       "    <tr>\n",
       "      <td class=\"rpy2_rowname\">4</td>\n",
       "        <td class=\"rpy2_names\">5</td>\n",
       "      <td>R01312</td>\n",
       "      <td>1,2-DG 34:0</td>\n",
       "      <td>596.5380</td>\n",
       "      <td>C00641</td>\n",
       "       <td>...</td>\n",
       "      <td>rn00564</td>\n",
       "      <td>hsa00564</td>\n",
       "    </tr>\n",
       "    <tr>\n",
       "      <td class=\"rpy2_rowname\">5</td>\n",
       "        <td class=\"rpy2_names\">6</td>\n",
       "      <td>R01312</td>\n",
       "      <td>1,2-DG 36:4</td>\n",
       "      <td>616.5067</td>\n",
       "      <td>C00641</td>\n",
       "       <td>...</td>\n",
       "      <td>rn00564</td>\n",
       "      <td>hsa00564</td>\n",
       "    </tr>\n",
       "  </tbody>\n",
       "</table>"
      ],
      "text/plain": [
       "<rpy2.robjects.vectors.DataFrame object at 0x7f8abe9d4f00> [RTYPES.VECSXP]\n",
       "R classes: ('data.frame',)\n",
       "[StrSexpVe..., StrSexpVe..., StrSexpVe..., StrSexpVe..., ..., ListSexpV..., StrSexpVe..., StrSexpVe..., StrSexpVe...]\n",
       "  rxn: <class 'rpy2.robjects.vectors.StrVector'>\n",
       "  <rpy2.robjects.vectors.StrVector object at 0x7f8abe9baec0> [RTYPES.STRSXP]\n",
       "R classes: ('character',)\n",
       "['R010..., 'R010..., 'R010..., 'R010..., 'R013..., 'R013...]\n",
       "  refmet_name: <class 'rpy2.robjects.vectors.StrVector'>\n",
       "  <rpy2.robjects.vectors.StrVector object at 0x7f8abc233740> [RTYPES.STRSXP]\n",
       "R classes: ('character',)\n",
       "['Doli..., 'Doli..., 'Doli..., 'Doli..., '1,2-..., '1,2-...]\n",
       "  Exact mass: <class 'rpy2.robjects.vectors.StrVector'>\n",
       "  <rpy2.robjects.vectors.StrVector object at 0x7f8abc22ac00> [RTYPES.STRSXP]\n",
       "R classes: ('character',)\n",
       "['1381..., '1381..., '1381..., '1381..., '596...., '616....]\n",
       "  KEGG ID: <class 'rpy2.robjects.vectors.StrVector'>\n",
       "  <rpy2.robjects.vectors.StrVector object at 0x7f8abc666040> [RTYPES.STRSXP]\n",
       "R classes: ('character',)\n",
       "['C003..., 'C003..., 'C003..., 'C003..., 'C006..., 'C006...]\n",
       "...\n",
       "<rpy2.robjects.vectors.DataFrame object at 0x7f8abe9d4f00> [RTYPES.VECSXP]\n",
       "R classes: ('data.frame',)\n",
       "[StrSexpVe..., StrSexpVe..., StrSexpVe..., StrSexpVe..., ..., ListSexpV..., StrSexpVe..., StrSexpVe..., StrSexpVe...]\n",
       "  Normal_mean: <class 'rpy2.robjects.vectors.StrVector'>\n",
       "  <rpy2.robjects.vectors.StrVector object at 0x7f8abe98e800> [RTYPES.STRSXP]\n",
       "R classes: ('character',)\n",
       "['N-Gl..., 'Meta..., 'N-Gl..., 'Meta..., 'Glyc..., 'Glyc...]\n",
       "  Fold_change: <class 'rpy2.robjects.vectors.StrVector'>\n",
       "  <rpy2.robjects.vectors.StrVector object at 0x7f8abe98e3c0> [RTYPES.STRSXP]\n",
       "R classes: ('character',)\n",
       "['rn00..., 'rn01..., 'rn00..., 'rn01..., 'rn00..., 'rn00...]\n",
       "  log2Fold_change: <class 'rpy2.robjects.vectors.StrVector'>\n",
       "  <rpy2.robjects.vectors.StrVector object at 0x7f8abe98e340> [RTYPES.STRSXP]\n",
       "R classes: ('character',)\n",
       "['hsa0..., 'hsa0..., 'hsa0..., 'hsa0..., 'hsa0..., 'hsa0...]"
      ]
     },
     "execution_count": 24,
     "metadata": {},
     "output_type": "execute_result"
    }
   ],
   "source": [
    "robjects.r('''\n",
    "met_path = met_pathways(df_metenrichment = metenrichment, studyOrg)\n",
    "head(met_path)\n",
    "''')"
   ]
  },
  {
   "cell_type": "markdown",
   "id": "molecular-corpus",
   "metadata": {},
   "source": [
    "Find metabolites for which no pathways were registered in Kegg and/or no kegg id was found"
   ]
  },
  {
   "cell_type": "code",
   "execution_count": 25,
   "id": "adaptive-germany",
   "metadata": {
    "execution": {
     "iopub.execute_input": "2021-03-25T21:04:38.954686Z",
     "iopub.status.busy": "2021-03-25T21:04:38.951682Z",
     "iopub.status.idle": "2021-03-25T21:04:38.958148Z",
     "shell.execute_reply": "2021-03-25T21:04:38.956401Z"
    }
   },
   "outputs": [],
   "source": [
    "#setdiff(metenrichment$Metabolite,unique(met_path$Metabolite))\n",
    "\n",
    "#not necessary for final script?"
   ]
  },
  {
   "cell_type": "markdown",
   "id": "proud-manhattan",
   "metadata": {},
   "source": [
    "### Get pathway enrichment sore.\n",
    "\n",
    "Once we have the pathway information, we can calculate enrichment score of pathways. Again, here i have used hypergeometric score. For hypergeometric score, we need to know the total number of kegg compounds that are linked to kegg pathways. \n",
    "N = total no. of cmpds linked to kegg pathway (this is the step which might take long), so I advice to run the script comp_linkedto_pathways() just the first time or after 6 months or so if desired to run the pipeline again. save the result from comp_linkedto_pathways() and load it. Loading from saved file would save time for another analysis with another study. However the package takes care of loading. Save the data in the data folder.\n",
    "\n",
    "L = No. of cmpds in a pathway\n",
    "M= no. of altered cmpds in a pathway\n",
    "K =  total no. of altered cmpds\n",
    "phyper(M,L, N-L, K)\n",
    "\n",
    "\n",
    "This function also utilizes korg dataset from pathview package."
   ]
  },
  {
   "cell_type": "code",
   "execution_count": 26,
   "id": "encouraging-intermediate",
   "metadata": {
    "execution": {
     "iopub.execute_input": "2021-03-25T21:04:38.971589Z",
     "iopub.status.busy": "2021-03-25T21:04:38.968378Z",
     "iopub.status.idle": "2021-03-25T21:04:39.259687Z",
     "shell.execute_reply": "2021-03-25T21:04:39.260540Z"
    }
   },
   "outputs": [
    {
     "name": "stderr",
     "output_type": "stream",
     "text": [
      "R[write to console]: Error in readChar(con, 5L, useBytes = TRUE) : cannot open the connection\n",
      "\n"
     ]
    },
    {
     "name": "stderr",
     "output_type": "stream",
     "text": [
      "R[write to console]: In addition: \n"
     ]
    },
    {
     "name": "stderr",
     "output_type": "stream",
     "text": [
      "R[write to console]: Warning messages:\n",
      "\n"
     ]
    },
    {
     "name": "stderr",
     "output_type": "stream",
     "text": [
      "R[write to console]: 1: ggrepel: 45 unlabeled data points (too many overlaps). Consider increasing max.overlaps \n",
      "\n"
     ]
    },
    {
     "name": "stderr",
     "output_type": "stream",
     "text": [
      "R[write to console]: 2: Use of `count_changes[[metclass]]` is discouraged. Use `.data[[metclass]]` instead. \n",
      "\n"
     ]
    },
    {
     "name": "stderr",
     "output_type": "stream",
     "text": [
      "R[write to console]: 3: Use of `count_changes[[metclass]]` is discouraged. Use `.data[[metclass]]` instead. \n",
      "\n"
     ]
    },
    {
     "name": "stderr",
     "output_type": "stream",
     "text": [
      "R[write to console]: 4: Use of `metclass_stats[[metclass]]` is discouraged. Use `.data[[metclass]]` instead. \n",
      "\n"
     ]
    },
    {
     "name": "stderr",
     "output_type": "stream",
     "text": [
      "R[write to console]: 5: Use of `metclass_stats[[enrich_stats]]` is discouraged. Use `.data[[enrich_stats]]` instead. \n",
      "\n"
     ]
    },
    {
     "name": "stderr",
     "output_type": "stream",
     "text": [
      "R[write to console]: 6: Use of `metclass_stats[[enrich_stats]]` is discouraged. Use `.data[[enrich_stats]]` instead. \n",
      "\n"
     ]
    },
    {
     "name": "stderr",
     "output_type": "stream",
     "text": [
      "R[write to console]: 7: \n"
     ]
    },
    {
     "name": "stderr",
     "output_type": "stream",
     "text": [
      "R[write to console]: In readChar(con, 5L, useBytes = TRUE) :\n"
     ]
    },
    {
     "name": "stderr",
     "output_type": "stream",
     "text": [
      "R[write to console]: \n",
      " \n"
     ]
    },
    {
     "name": "stderr",
     "output_type": "stream",
     "text": [
      "R[write to console]:  cannot open compressed file '/data/ls_path.RData', probable reason 'No such file or directory'\n",
      "\n"
     ]
    },
    {
     "ename": "RRuntimeError",
     "evalue": "Error in readChar(con, 5L, useBytes = TRUE) : cannot open the connection\n",
     "output_type": "error",
     "traceback": [
      "\u001b[0;31m---------------------------------------------------------------------------\u001b[0m",
      "\u001b[0;31mRRuntimeError\u001b[0m                             Traceback (most recent call last)",
      "\u001b[0;32m<ipython-input-26-b83f6e006b99>\u001b[0m in \u001b[0;36m<module>\u001b[0;34m\u001b[0m\n\u001b[0;32m----> 1\u001b[0;31m robjects.r('''\n\u001b[0m\u001b[1;32m      2\u001b[0m \u001b[0mload\u001b[0m\u001b[0;34m(\u001b[0m\u001b[0;34m'/data/ls_path.RData'\u001b[0m\u001b[0;34m)\u001b[0m\u001b[0;34m\u001b[0m\u001b[0;34m\u001b[0m\u001b[0m\n\u001b[1;32m      3\u001b[0m \u001b[0mload\u001b[0m\u001b[0;34m(\u001b[0m\u001b[0;34m'/data/korg.RData'\u001b[0m\u001b[0;34m)\u001b[0m\u001b[0;34m\u001b[0m\u001b[0;34m\u001b[0m\u001b[0m\n\u001b[1;32m      4\u001b[0m \u001b[0mkegg_es\u001b[0m \u001b[0;34m=\u001b[0m \u001b[0mpath_enrichmentscore\u001b[0m\u001b[0;34m(\u001b[0m\u001b[0mmet_path\u001b[0m\u001b[0;34m,\u001b[0m\u001b[0msig_metabolite_kegg_id\u001b[0m\u001b[0;34m=\u001b[0m\u001b[0msig_metabolite_kegg_id\u001b[0m\u001b[0;34m,\u001b[0m\u001b[0mls_path\u001b[0m\u001b[0;34m=\u001b[0m\u001b[0mls_path\u001b[0m\u001b[0;34m,\u001b[0m\u001b[0mrefmet_class\u001b[0m\u001b[0;34m=\u001b[0m\u001b[0mrefmet_class\u001b[0m\u001b[0;34m,\u001b[0m\u001b[0msps\u001b[0m\u001b[0;34m=\u001b[0m\u001b[0;34m'hsa'\u001b[0m\u001b[0;34m,\u001b[0m\u001b[0mpadj\u001b[0m\u001b[0;34m=\u001b[0m\u001b[0;34m'fdr'\u001b[0m\u001b[0;34m,\u001b[0m \u001b[0mkegg_comp_path\u001b[0m\u001b[0;34m=\u001b[0m\u001b[0mFALSE\u001b[0m\u001b[0;34m)\u001b[0m\u001b[0;34m\u001b[0m\u001b[0;34m\u001b[0m\u001b[0m\n\u001b[1;32m      5\u001b[0m \u001b[0mhead\u001b[0m\u001b[0;34m(\u001b[0m\u001b[0mkegg_es\u001b[0m\u001b[0;34m)\u001b[0m\u001b[0;34m\u001b[0m\u001b[0;34m\u001b[0m\u001b[0m\n",
      "\u001b[0;32m~/Documents/199/MetENP/venv/lib/python3.8/site-packages/rpy2/robjects/__init__.py\u001b[0m in \u001b[0;36m__call__\u001b[0;34m(self, string)\u001b[0m\n\u001b[1;32m    436\u001b[0m     \u001b[0;32mdef\u001b[0m \u001b[0m__call__\u001b[0m\u001b[0;34m(\u001b[0m\u001b[0mself\u001b[0m\u001b[0;34m,\u001b[0m \u001b[0mstring\u001b[0m\u001b[0;34m)\u001b[0m\u001b[0;34m:\u001b[0m\u001b[0;34m\u001b[0m\u001b[0;34m\u001b[0m\u001b[0m\n\u001b[1;32m    437\u001b[0m         \u001b[0mp\u001b[0m \u001b[0;34m=\u001b[0m \u001b[0mrinterface\u001b[0m\u001b[0;34m.\u001b[0m\u001b[0mparse\u001b[0m\u001b[0;34m(\u001b[0m\u001b[0mstring\u001b[0m\u001b[0;34m)\u001b[0m\u001b[0;34m\u001b[0m\u001b[0;34m\u001b[0m\u001b[0m\n\u001b[0;32m--> 438\u001b[0;31m         \u001b[0mres\u001b[0m \u001b[0;34m=\u001b[0m \u001b[0mself\u001b[0m\u001b[0;34m.\u001b[0m\u001b[0meval\u001b[0m\u001b[0;34m(\u001b[0m\u001b[0mp\u001b[0m\u001b[0;34m)\u001b[0m\u001b[0;34m\u001b[0m\u001b[0;34m\u001b[0m\u001b[0m\n\u001b[0m\u001b[1;32m    439\u001b[0m         \u001b[0;32mreturn\u001b[0m \u001b[0mconversion\u001b[0m\u001b[0;34m.\u001b[0m\u001b[0mrpy2py\u001b[0m\u001b[0;34m(\u001b[0m\u001b[0mres\u001b[0m\u001b[0;34m)\u001b[0m\u001b[0;34m\u001b[0m\u001b[0;34m\u001b[0m\u001b[0m\n\u001b[1;32m    440\u001b[0m \u001b[0;34m\u001b[0m\u001b[0m\n",
      "\u001b[0;32m~/Documents/199/MetENP/venv/lib/python3.8/site-packages/rpy2/robjects/functions.py\u001b[0m in \u001b[0;36m__call__\u001b[0;34m(self, *args, **kwargs)\u001b[0m\n\u001b[1;32m    196\u001b[0m                 \u001b[0mv\u001b[0m \u001b[0;34m=\u001b[0m \u001b[0mkwargs\u001b[0m\u001b[0;34m.\u001b[0m\u001b[0mpop\u001b[0m\u001b[0;34m(\u001b[0m\u001b[0mk\u001b[0m\u001b[0;34m)\u001b[0m\u001b[0;34m\u001b[0m\u001b[0;34m\u001b[0m\u001b[0m\n\u001b[1;32m    197\u001b[0m                 \u001b[0mkwargs\u001b[0m\u001b[0;34m[\u001b[0m\u001b[0mr_k\u001b[0m\u001b[0;34m]\u001b[0m \u001b[0;34m=\u001b[0m \u001b[0mv\u001b[0m\u001b[0;34m\u001b[0m\u001b[0;34m\u001b[0m\u001b[0m\n\u001b[0;32m--> 198\u001b[0;31m         return (super(SignatureTranslatedFunction, self)\n\u001b[0m\u001b[1;32m    199\u001b[0m                 .__call__(*args, **kwargs))\n\u001b[1;32m    200\u001b[0m \u001b[0;34m\u001b[0m\u001b[0m\n",
      "\u001b[0;32m~/Documents/199/MetENP/venv/lib/python3.8/site-packages/rpy2/robjects/functions.py\u001b[0m in \u001b[0;36m__call__\u001b[0;34m(self, *args, **kwargs)\u001b[0m\n\u001b[1;32m    123\u001b[0m             \u001b[0;32melse\u001b[0m\u001b[0;34m:\u001b[0m\u001b[0;34m\u001b[0m\u001b[0;34m\u001b[0m\u001b[0m\n\u001b[1;32m    124\u001b[0m                 \u001b[0mnew_kwargs\u001b[0m\u001b[0;34m[\u001b[0m\u001b[0mk\u001b[0m\u001b[0;34m]\u001b[0m \u001b[0;34m=\u001b[0m \u001b[0mconversion\u001b[0m\u001b[0;34m.\u001b[0m\u001b[0mpy2rpy\u001b[0m\u001b[0;34m(\u001b[0m\u001b[0mv\u001b[0m\u001b[0;34m)\u001b[0m\u001b[0;34m\u001b[0m\u001b[0;34m\u001b[0m\u001b[0m\n\u001b[0;32m--> 125\u001b[0;31m         \u001b[0mres\u001b[0m \u001b[0;34m=\u001b[0m \u001b[0msuper\u001b[0m\u001b[0;34m(\u001b[0m\u001b[0mFunction\u001b[0m\u001b[0;34m,\u001b[0m \u001b[0mself\u001b[0m\u001b[0;34m)\u001b[0m\u001b[0;34m.\u001b[0m\u001b[0m__call__\u001b[0m\u001b[0;34m(\u001b[0m\u001b[0;34m*\u001b[0m\u001b[0mnew_args\u001b[0m\u001b[0;34m,\u001b[0m \u001b[0;34m**\u001b[0m\u001b[0mnew_kwargs\u001b[0m\u001b[0;34m)\u001b[0m\u001b[0;34m\u001b[0m\u001b[0;34m\u001b[0m\u001b[0m\n\u001b[0m\u001b[1;32m    126\u001b[0m         \u001b[0mres\u001b[0m \u001b[0;34m=\u001b[0m \u001b[0mconversion\u001b[0m\u001b[0;34m.\u001b[0m\u001b[0mrpy2py\u001b[0m\u001b[0;34m(\u001b[0m\u001b[0mres\u001b[0m\u001b[0;34m)\u001b[0m\u001b[0;34m\u001b[0m\u001b[0;34m\u001b[0m\u001b[0m\n\u001b[1;32m    127\u001b[0m         \u001b[0;32mreturn\u001b[0m \u001b[0mres\u001b[0m\u001b[0;34m\u001b[0m\u001b[0;34m\u001b[0m\u001b[0m\n",
      "\u001b[0;32m~/Documents/199/MetENP/venv/lib/python3.8/site-packages/rpy2/rinterface_lib/conversion.py\u001b[0m in \u001b[0;36m_\u001b[0;34m(*args, **kwargs)\u001b[0m\n\u001b[1;32m     43\u001b[0m \u001b[0;32mdef\u001b[0m \u001b[0m_cdata_res_to_rinterface\u001b[0m\u001b[0;34m(\u001b[0m\u001b[0mfunction\u001b[0m\u001b[0;34m)\u001b[0m\u001b[0;34m:\u001b[0m\u001b[0;34m\u001b[0m\u001b[0;34m\u001b[0m\u001b[0m\n\u001b[1;32m     44\u001b[0m     \u001b[0;32mdef\u001b[0m \u001b[0m_\u001b[0m\u001b[0;34m(\u001b[0m\u001b[0;34m*\u001b[0m\u001b[0margs\u001b[0m\u001b[0;34m,\u001b[0m \u001b[0;34m**\u001b[0m\u001b[0mkwargs\u001b[0m\u001b[0;34m)\u001b[0m\u001b[0;34m:\u001b[0m\u001b[0;34m\u001b[0m\u001b[0;34m\u001b[0m\u001b[0m\n\u001b[0;32m---> 45\u001b[0;31m         \u001b[0mcdata\u001b[0m \u001b[0;34m=\u001b[0m \u001b[0mfunction\u001b[0m\u001b[0;34m(\u001b[0m\u001b[0;34m*\u001b[0m\u001b[0margs\u001b[0m\u001b[0;34m,\u001b[0m \u001b[0;34m**\u001b[0m\u001b[0mkwargs\u001b[0m\u001b[0;34m)\u001b[0m\u001b[0;34m\u001b[0m\u001b[0;34m\u001b[0m\u001b[0m\n\u001b[0m\u001b[1;32m     46\u001b[0m         \u001b[0;31m# TODO: test cdata is of the expected CType\u001b[0m\u001b[0;34m\u001b[0m\u001b[0;34m\u001b[0m\u001b[0;34m\u001b[0m\u001b[0m\n\u001b[1;32m     47\u001b[0m         \u001b[0;32mreturn\u001b[0m \u001b[0m_cdata_to_rinterface\u001b[0m\u001b[0;34m(\u001b[0m\u001b[0mcdata\u001b[0m\u001b[0;34m)\u001b[0m\u001b[0;34m\u001b[0m\u001b[0;34m\u001b[0m\u001b[0m\n",
      "\u001b[0;32m~/Documents/199/MetENP/venv/lib/python3.8/site-packages/rpy2/rinterface.py\u001b[0m in \u001b[0;36m__call__\u001b[0;34m(self, *args, **kwargs)\u001b[0m\n\u001b[1;32m    675\u001b[0m             )\n\u001b[1;32m    676\u001b[0m             \u001b[0;32mif\u001b[0m \u001b[0merror_occured\u001b[0m\u001b[0;34m[\u001b[0m\u001b[0;36m0\u001b[0m\u001b[0;34m]\u001b[0m\u001b[0;34m:\u001b[0m\u001b[0;34m\u001b[0m\u001b[0;34m\u001b[0m\u001b[0m\n\u001b[0;32m--> 677\u001b[0;31m                 \u001b[0;32mraise\u001b[0m \u001b[0membedded\u001b[0m\u001b[0;34m.\u001b[0m\u001b[0mRRuntimeError\u001b[0m\u001b[0;34m(\u001b[0m\u001b[0m_rinterface\u001b[0m\u001b[0;34m.\u001b[0m\u001b[0m_geterrmessage\u001b[0m\u001b[0;34m(\u001b[0m\u001b[0;34m)\u001b[0m\u001b[0;34m)\u001b[0m\u001b[0;34m\u001b[0m\u001b[0;34m\u001b[0m\u001b[0m\n\u001b[0m\u001b[1;32m    678\u001b[0m         \u001b[0;32mreturn\u001b[0m \u001b[0mres\u001b[0m\u001b[0;34m\u001b[0m\u001b[0;34m\u001b[0m\u001b[0m\n\u001b[1;32m    679\u001b[0m \u001b[0;34m\u001b[0m\u001b[0m\n",
      "\u001b[0;31mRRuntimeError\u001b[0m: Error in readChar(con, 5L, useBytes = TRUE) : cannot open the connection\n"
     ]
    }
   ],
   "source": [
    "robjects.r('''\n",
    "load('/data/ls_path.RData')\n",
    "load('/data/korg.RData')\n",
    "kegg_es = path_enrichmentscore(met_path,sig_metabolite_kegg_id=sig_metabolite_kegg_id,ls_path=ls_path,refmet_class=refmet_class,sps='hsa',padj='fdr', kegg_comp_path=FALSE)\n",
    "head(kegg_es)\n",
    "''')"
   ]
  },
  {
   "cell_type": "markdown",
   "id": "charged-evolution",
   "metadata": {},
   "source": [
    "### Plot pathway network\n",
    "Only plotting significant pathways (pathway with p-value significance).\n",
    "\n",
    "The pathway network is such that it shows metabolites that are connected to different pathways and same metabolite in different pathway. Color of nodes of metabolites are according to the fold change of metabolites (low expression in green and high in red) and size of pathway nodes (square nodes) are according to the number of branches (meaning no of metabolites). All metabolite are written in blue"
   ]
  },
  {
   "cell_type": "code",
   "execution_count": null,
   "id": "detailed-numbers",
   "metadata": {},
   "outputs": [],
   "source": [
    "image_png(robjects.r('''\n",
    "plot_pathway_networks (met_path,kegg_es, TRUE)\n",
    "'''))"
   ]
  },
  {
   "cell_type": "markdown",
   "id": "worse-realtor",
   "metadata": {},
   "source": [
    "### Heatmap"
   ]
  },
  {
   "cell_type": "code",
   "execution_count": null,
   "id": "simplified-repeat",
   "metadata": {},
   "outputs": [],
   "source": [
    "robjects.r.assign('x_size_heat', 8)\n",
    "robjects.r.assign('y_size_heat', 6)"
   ]
  },
  {
   "cell_type": "code",
   "execution_count": null,
   "id": "available-airline",
   "metadata": {},
   "outputs": [],
   "source": [
    "image_png(robjects.r('''\n",
    "plot_heatmap(met_path, shorten_name=TRUE,refmet_name=FALSE, xaxis=x_size_heat, yaxis=y_size_heat)\n",
    "'''))"
   ]
  },
  {
   "cell_type": "markdown",
   "id": "focused-appeal",
   "metadata": {},
   "source": [
    "### Dotplot"
   ]
  },
  {
   "cell_type": "code",
   "execution_count": null,
   "id": "periodic-marathon",
   "metadata": {},
   "outputs": [],
   "source": [
    "robjects.r.assign('x_size_dot', 8)\n",
    "robjects.r.assign('y_size_dot', 6)"
   ]
  },
  {
   "cell_type": "code",
   "execution_count": null,
   "id": "permanent-series",
   "metadata": {},
   "outputs": [],
   "source": [
    "image_png(robjects.r('''\n",
    "dotplot_met_class_path (met_path, kegg_es, metclassvar,xaxis=x_size_dot,yaxis=y_size_dot)\n",
    "'''))"
   ]
  },
  {
   "cell_type": "markdown",
   "id": "prompt-selling",
   "metadata": {},
   "source": [
    "### Get the gene and enzyme info\n",
    "\n",
    "Here we get the information of genes involved in enriched pathways for specified organism"
   ]
  },
  {
   "cell_type": "code",
   "execution_count": null,
   "id": "domestic-attitude",
   "metadata": {},
   "outputs": [],
   "source": [
    "robjects.r('''\n",
    "met_gene_info = enzyme_gene_info (metenrichment, studyOrg, metclassvar)\n",
    "head(met_gene_info)\n",
    "''')"
   ]
  },
  {
   "cell_type": "markdown",
   "id": "manufactured-secretariat",
   "metadata": {},
   "source": [
    "#### Get the information if metabolite is a reactant or substrate"
   ]
  },
  {
   "cell_type": "code",
   "execution_count": null,
   "id": "rental-oxide",
   "metadata": {},
   "outputs": [],
   "source": [
    "robjects.r('''\n",
    "rclass_info = react_substrate(met_gene_info)\n",
    "head(rclass_info)\n",
    "''')"
   ]
  },
  {
   "cell_type": "markdown",
   "id": "medium-sterling",
   "metadata": {},
   "source": [
    "#### Get gene info in short form"
   ]
  },
  {
   "cell_type": "code",
   "execution_count": null,
   "id": "difficult-month",
   "metadata": {},
   "outputs": [],
   "source": [
    "robjects.r('''\n",
    "met_gene_info2=data.table::data.table(rclass_info)[,lapply(.SD, function(x) toString(unique(x))), by = 'Metabolite']\n",
    "''')"
   ]
  }
 ],
 "metadata": {
  "appyter": {
   "nbconstruct": {
    "filename": "MetENP_Appyter_2.ipynb",
    "files": {},
    "version": "0.12.0"
   },
   "nbexecute": {
    "completed": "2021-03-25T14:04:40.497983+00:00",
    "files": {},
    "started": "2021-03-25T14:03:47.349271+00:00",
    "version": "0.12.0"
   }
  },
  "kernelspec": {
   "display_name": "my-first-appyter",
   "language": "python",
   "name": "my-first-appyter"
  },
  "language_info": {
   "codemirror_mode": {
    "name": "ipython",
    "version": 3
   },
   "file_extension": ".py",
   "mimetype": "text/x-python",
   "name": "python",
   "nbconvert_exporter": "python",
   "pygments_lexer": "ipython3",
   "version": "3.8.5"
  }
 },
 "nbformat": 4,
 "nbformat_minor": 5
}

{
 "cells": [
  {
   "cell_type": "code",
   "execution_count": 1,
   "id": "liquid-timber",
   "metadata": {
    "execution": {
     "iopub.execute_input": "2021-03-25T23:16:58.580640Z",
     "iopub.status.busy": "2021-03-25T23:16:58.579131Z",
     "iopub.status.idle": "2021-03-25T23:17:09.811701Z",
     "shell.execute_reply": "2021-03-25T23:17:09.812524Z"
    }
   },
   "outputs": [
    {
     "data": {
      "text/plain": [
       "''"
      ]
     },
     "execution_count": 1,
     "metadata": {},
     "output_type": "execute_result"
    }
   ],
   "source": [
    "import rpy2\n",
    "import rpy2.robjects as robjects\n",
    "import rpy2.robjects.packages as rpackages\n",
    "\n",
    "from rpy2.robjects import numpy2ri, pandas2ri\n",
    "\n",
    "import rpy2.ipython.html\n",
    "rpy2.ipython.html.init_printing()\n",
    "\n",
    "import rpy2.robjects.lib.ggplot2 as gp\n",
    "from rpy2.ipython.ggplot import image_png\n",
    "\n",
    "from rpy2.rinterface_lib import openrlib\n",
    "\n",
    "robjects.r('''\n",
    "\n",
    "library(MetENP)\n",
    "\n",
    "''')\n",
    ";"
   ]
  },
  {
   "cell_type": "code",
   "execution_count": 2,
   "id": "necessary-collect",
   "metadata": {
    "execution": {
     "iopub.execute_input": "2021-03-25T23:17:09.833958Z",
     "iopub.status.busy": "2021-03-25T23:17:09.831482Z",
     "iopub.status.idle": "2021-03-25T23:17:26.225912Z",
     "shell.execute_reply": "2021-03-25T23:17:26.226719Z"
    }
   },
   "outputs": [],
   "source": [
    "data_1 = robjects.r['getmwstudies']('ST000915', \n",
    "    'data'\n",
    ")"
   ]
  },
  {
   "cell_type": "code",
   "execution_count": 3,
   "id": "overall-symphony",
   "metadata": {
    "execution": {
     "iopub.execute_input": "2021-03-25T23:17:26.247369Z",
     "iopub.status.busy": "2021-03-25T23:17:26.243530Z",
     "iopub.status.idle": "2021-03-25T23:17:26.545223Z",
     "shell.execute_reply": "2021-03-25T23:17:26.546162Z"
    }
   },
   "outputs": [],
   "source": [
    "with openrlib.rlock:\n",
    "    \n",
    "    robjects.r.assign('data_1', data_1)\n",
    "    \n",
    "    robjects.r('''\n",
    "\n",
    "    data_1_print = data.frame(apply(data_1, c(1,2), function(x){unlist(x, TRUE, TRUE)}))\n",
    "    head(data_1_print)\n",
    "\n",
    "    ''')\n",
    "    \n",
    "    pass"
   ]
  },
  {
   "cell_type": "code",
   "execution_count": 4,
   "id": "stuck-honey",
   "metadata": {
    "execution": {
     "iopub.execute_input": "2021-03-25T23:17:26.673196Z",
     "iopub.status.busy": "2021-03-25T23:17:26.669828Z",
     "iopub.status.idle": "2021-03-25T23:17:26.686150Z",
     "shell.execute_reply": "2021-03-25T23:17:26.687532Z"
    }
   },
   "outputs": [],
   "source": [
    "metadata = robjects.r['getmwstudies']('ST000915', \n",
    "    'factors'\n",
    ")"
   ]
  },
  {
   "cell_type": "code",
   "execution_count": 5,
   "id": "satisfied-preliminary",
   "metadata": {
    "execution": {
     "iopub.execute_input": "2021-03-25T23:17:26.706797Z",
     "iopub.status.busy": "2021-03-25T23:17:26.704608Z",
     "iopub.status.idle": "2021-03-25T23:17:26.740467Z",
     "shell.execute_reply": "2021-03-25T23:17:26.741379Z"
    }
   },
   "outputs": [
    {
     "data": {
      "text/html": [
       "\n",
       "<emph>DataFrame</emph> with 6 rows and\n",
       "  5 columns:\n",
       "<table class=\"rpy2_table\">\n",
       "  <thead>\n",
       "    <tr class=\"rpy2_names\">\n",
       "      <th></th>\n",
       "      <th></th>\n",
       "      <th>study_id</th>\n",
       "      <th>local_sample_id</th>\n",
       "      <th>subject_type</th>\n",
       "      <th>factors</th>\n",
       "      <th>Diagnosis</th>\n",
       "    </tr>\n",
       "  </thead>\n",
       "  <tbody>\n",
       "    <tr>\n",
       "      <td class=\"rpy2_rowname\">0</td>\n",
       "        <td class=\"rpy2_names\">1</td>\n",
       "      <td>ST000915</td>\n",
       "      <td>NASH005</td>\n",
       "      <td>Human clinical study</td>\n",
       "      <td>Diagnosis:Cirrhosis</td>\n",
       "      <td>Cirrhosis</td>\n",
       "    </tr>\n",
       "    <tr>\n",
       "      <td class=\"rpy2_rowname\">1</td>\n",
       "        <td class=\"rpy2_names\">2</td>\n",
       "      <td>ST000915</td>\n",
       "      <td>NASH007</td>\n",
       "      <td>Human clinical study</td>\n",
       "      <td>Diagnosis:Cirrhosis</td>\n",
       "      <td>Cirrhosis</td>\n",
       "    </tr>\n",
       "    <tr>\n",
       "      <td class=\"rpy2_rowname\">2</td>\n",
       "        <td class=\"rpy2_names\">3</td>\n",
       "      <td>ST000915</td>\n",
       "      <td>NASH009</td>\n",
       "      <td>Human clinical study</td>\n",
       "      <td>Diagnosis:Cirrhosis</td>\n",
       "      <td>Cirrhosis</td>\n",
       "    </tr>\n",
       "    <tr>\n",
       "      <td class=\"rpy2_rowname\">3</td>\n",
       "        <td class=\"rpy2_names\">4</td>\n",
       "      <td>ST000915</td>\n",
       "      <td>NASH013</td>\n",
       "      <td>Human clinical study</td>\n",
       "      <td>Diagnosis:Cirrhosis</td>\n",
       "      <td>Cirrhosis</td>\n",
       "    </tr>\n",
       "    <tr>\n",
       "      <td class=\"rpy2_rowname\">4</td>\n",
       "        <td class=\"rpy2_names\">5</td>\n",
       "      <td>ST000915</td>\n",
       "      <td>NASH016</td>\n",
       "      <td>Human clinical study</td>\n",
       "      <td>Diagnosis:Cirrhosis</td>\n",
       "      <td>Cirrhosis</td>\n",
       "    </tr>\n",
       "    <tr>\n",
       "      <td class=\"rpy2_rowname\">5</td>\n",
       "        <td class=\"rpy2_names\">6</td>\n",
       "      <td>ST000915</td>\n",
       "      <td>NASH022</td>\n",
       "      <td>Human clinical study</td>\n",
       "      <td>Diagnosis:Cirrhosis</td>\n",
       "      <td>Cirrhosis</td>\n",
       "    </tr>\n",
       "  </tbody>\n",
       "</table>"
      ],
      "text/plain": [
       "<rpy2.robjects.vectors.DataFrame object at 0x7fa2091cfc80> [RTYPES.VECSXP]\n",
       "R classes: ('data.frame',)\n",
       "[StrSexp..., StrSexp..., StrSexp..., StrSexp..., StrSexp...]\n",
       "  study_id: <class 'rpy2.rinterface_lib.sexp.StrSexpVector'>\n",
       "  <rpy2.rinterface_lib.sexp.StrSexpVector object at 0x7fa2091c6040> [RTYPES.STRSXP]\n",
       "  local_sample_id: <class 'rpy2.rinterface_lib.sexp.StrSexpVector'>\n",
       "  <rpy2.rinterface_lib.sexp.StrSexpVector object at 0x7fa209401c80> [RTYPES.STRSXP]\n",
       "  subject_type: <class 'rpy2.rinterface_lib.sexp.StrSexpVector'>\n",
       "  <rpy2.rinterface_lib.sexp.StrSexpVector object at 0x7fa209401980> [RTYPES.STRSXP]\n",
       "  factors: <class 'rpy2.rinterface_lib.sexp.StrSexpVector'>\n",
       "  <rpy2.rinterface_lib.sexp.StrSexpVector object at 0x7fa209401040> [RTYPES.STRSXP]\n",
       "  Diagnosis: <class 'rpy2.rinterface_lib.sexp.StrSexpVector'>\n",
       "  <rpy2.rinterface_lib.sexp.StrSexpVector object at 0x7fa2091ad540> [RTYPES.STRSXP]"
      ]
     },
     "execution_count": 5,
     "metadata": {},
     "output_type": "execute_result"
    }
   ],
   "source": [
    "robjects.r.assign('metadata', metadata)\n",
    "\n",
    "robjects.r('''\n",
    "metadata_print = data.frame(apply(metadata, c(1,2), function(x){unlist(x, TRUE, TRUE)}))\n",
    "head(metadata_print)\n",
    "''')"
   ]
  },
  {
   "cell_type": "markdown",
   "id": "alone-consultancy",
   "metadata": {},
   "source": [
    "Find the factors you would want to compare\n",
    "Multiple factors (independent variables) are formatted in multiple columns but you can get information on all the factors by \"factors\" column, such as 'TreatmentGroup:Prednisolone', this indicates column name 'TreatmentGroup' with factor Prednisolone. For t-test use the factors in the same column. For comparing multipe independent variables use anova by anova_ana function."
   ]
  },
  {
   "cell_type": "markdown",
   "id": "tired-sydney",
   "metadata": {},
   "source": [
    "### Associate metabolomics data to the refmet class"
   ]
  },
  {
   "cell_type": "code",
   "execution_count": 6,
   "id": "global-vocabulary",
   "metadata": {
    "execution": {
     "iopub.execute_input": "2021-03-25T23:17:26.756111Z",
     "iopub.status.busy": "2021-03-25T23:17:26.751998Z",
     "iopub.status.idle": "2021-03-25T23:17:36.560975Z",
     "shell.execute_reply": "2021-03-25T23:17:36.561844Z"
    }
   },
   "outputs": [
    {
     "data": {
      "text/html": [
       "\n",
       "<emph>DataFrame</emph> with 6 rows and\n",
       "  97 columns:\n",
       "<table class=\"rpy2_table\">\n",
       "  <thead>\n",
       "    <tr class=\"rpy2_names\">\n",
       "      <th></th>\n",
       "      <th></th>\n",
       "      <th>metabolite_name</th>\n",
       "      <th>analysis_id</th>\n",
       "      <th>analysis_summary</th>\n",
       "      <th>metabolite_id</th>\n",
       "      <th>...</th>\n",
       "      <th>main_class</th>\n",
       "      <th>sub_class</th>\n",
       "    </tr>\n",
       "  </thead>\n",
       "  <tbody>\n",
       "    <tr>\n",
       "      <td class=\"rpy2_rowname\">0</td>\n",
       "        <td class=\"rpy2_names\">1</td>\n",
       "      <td>1,2-DG(30:0)</td>\n",
       "      <td>AN001488</td>\n",
       "      <td>Core E Neutral Lipids</td>\n",
       "      <td>ME231190</td>\n",
       "       <td>...</td>\n",
       "      <td>Diradylglycerols</td>\n",
       "      <td>DAG</td>\n",
       "    </tr>\n",
       "    <tr>\n",
       "      <td class=\"rpy2_rowname\">1</td>\n",
       "        <td class=\"rpy2_names\">2</td>\n",
       "      <td>1,2-DG(30:1)</td>\n",
       "      <td>AN001488</td>\n",
       "      <td>Core E Neutral Lipids</td>\n",
       "      <td>ME231189</td>\n",
       "       <td>...</td>\n",
       "      <td>Diradylglycerols</td>\n",
       "      <td>DAG</td>\n",
       "    </tr>\n",
       "    <tr>\n",
       "      <td class=\"rpy2_rowname\">2</td>\n",
       "        <td class=\"rpy2_names\">3</td>\n",
       "      <td>1,2-DG(32:0)</td>\n",
       "      <td>AN001488</td>\n",
       "      <td>Core E Neutral Lipids</td>\n",
       "      <td>ME231196</td>\n",
       "       <td>...</td>\n",
       "      <td>Diradylglycerols</td>\n",
       "      <td>DAG</td>\n",
       "    </tr>\n",
       "    <tr>\n",
       "      <td class=\"rpy2_rowname\">3</td>\n",
       "        <td class=\"rpy2_names\">4</td>\n",
       "      <td>1,2-DG(32:1)</td>\n",
       "      <td>AN001488</td>\n",
       "      <td>Core E Neutral Lipids</td>\n",
       "      <td>ME231195</td>\n",
       "       <td>...</td>\n",
       "      <td>Diradylglycerols</td>\n",
       "      <td>DAG</td>\n",
       "    </tr>\n",
       "    <tr>\n",
       "      <td class=\"rpy2_rowname\">4</td>\n",
       "        <td class=\"rpy2_names\">5</td>\n",
       "      <td>1,2-DG(32:2)</td>\n",
       "      <td>AN001488</td>\n",
       "      <td>Core E Neutral Lipids</td>\n",
       "      <td>ME231194</td>\n",
       "       <td>...</td>\n",
       "      <td>Diradylglycerols</td>\n",
       "      <td>DAG</td>\n",
       "    </tr>\n",
       "    <tr>\n",
       "      <td class=\"rpy2_rowname\">5</td>\n",
       "        <td class=\"rpy2_names\">6</td>\n",
       "      <td>1,2-DG(32:3)</td>\n",
       "      <td>AN001488</td>\n",
       "      <td>Core E Neutral Lipids</td>\n",
       "      <td>ME231193</td>\n",
       "       <td>...</td>\n",
       "      <td>Diradylglycerols</td>\n",
       "      <td>DAG</td>\n",
       "    </tr>\n",
       "  </tbody>\n",
       "</table>"
      ],
      "text/plain": [
       "<rpy2.robjects.vectors.DataFrame object at 0x7fa2091a15c0> [RTYPES.VECSXP]\n",
       "R classes: ('data.frame',)\n",
       "[StrSexpVe..., StrSexpVe..., StrSexpVe..., StrSexpVe..., ..., StrSexpVe..., StrSexpVe..., StrSexpVe..., StrSexpVe...]\n",
       "  metabolite_name: <class 'rpy2.robjects.vectors.StrVector'>\n",
       "  <rpy2.robjects.vectors.StrVector object at 0x7fa20997ba40> [RTYPES.STRSXP]\n",
       "R classes: ('character',)\n",
       "['1,2-..., '1,2-..., '1,2-..., '1,2-..., '1,2-..., '1,2-...]\n",
       "  analysis_id: <class 'rpy2.robjects.vectors.StrVector'>\n",
       "  <rpy2.robjects.vectors.StrVector object at 0x7fa2091d58c0> [RTYPES.STRSXP]\n",
       "R classes: ('character',)\n",
       "['AN00..., 'AN00..., 'AN00..., 'AN00..., 'AN00..., 'AN00...]\n",
       "  analysis_summary: <class 'rpy2.robjects.vectors.StrVector'>\n",
       "  <rpy2.robjects.vectors.StrVector object at 0x7fa2091d5980> [RTYPES.STRSXP]\n",
       "R classes: ('character',)\n",
       "['Core..., 'Core..., 'Core..., 'Core..., 'Core..., 'Core...]\n",
       "  metabolite_id: <class 'rpy2.robjects.vectors.StrVector'>\n",
       "  <rpy2.robjects.vectors.StrVector object at 0x7fa2091d8bc0> [RTYPES.STRSXP]\n",
       "R classes: ('character',)\n",
       "['ME23..., 'ME23..., 'ME23..., 'ME23..., 'ME23..., 'ME23...]\n",
       "...\n",
       "  NASH001: <class 'rpy2.robjects.vectors.StrVector'>\n",
       "  <rpy2.robjects.vectors.StrVector object at 0x7fa2091d81c0> [RTYPES.STRSXP]\n",
       "R classes: ('character',)\n",
       "['C33H..., 'C33H..., 'C35H..., 'C35H..., 'C35H..., 'C35H...]\n",
       "  NASH002: <class 'rpy2.robjects.vectors.StrVector'>\n",
       "  <rpy2.robjects.vectors.StrVector object at 0x7fa2091d85c0> [RTYPES.STRSXP]\n",
       "R classes: ('character',)\n",
       "['Glyc..., 'Glyc..., 'Glyc..., 'Glyc..., 'Glyc..., 'Glyc...]\n",
       "  NASH003: <class 'rpy2.robjects.vectors.StrVector'>\n",
       "  <rpy2.robjects.vectors.StrVector object at 0x7fa2091d8340> [RTYPES.STRSXP]\n",
       "R classes: ('character',)\n",
       "['Dira..., 'Dira..., 'Dira..., 'Dira..., 'Dira..., 'Dira...]\n",
       "  NASH004: <class 'rpy2.robjects.vectors.StrVector'>\n",
       "  <rpy2.robjects.vectors.StrVector object at 0x7fa209401a80> [RTYPES.STRSXP]\n",
       "R classes: ('character',)\n",
       "['DAG', 'DAG', 'DAG', 'DAG', 'DAG', 'DAG']"
      ]
     },
     "execution_count": 6,
     "metadata": {},
     "output_type": "execute_result"
    }
   ],
   "source": [
    "refmet_class = robjects.r['convert_refmet'](data_1)\n",
    "\n",
    "robjects.r.assign('refmet_class', refmet_class)\n",
    "\n",
    "robjects.r('''\n",
    "\n",
    "refmet_class_print = data.frame(apply(refmet_class, c(1,2), function(x){unlist(x, TRUE, TRUE)}))\n",
    "head(refmet_class_print)\n",
    "\n",
    "''')"
   ]
  },
  {
   "cell_type": "code",
   "execution_count": 7,
   "id": "owned-parcel",
   "metadata": {
    "execution": {
     "iopub.execute_input": "2021-03-25T23:17:36.576554Z",
     "iopub.status.busy": "2021-03-25T23:17:36.570235Z",
     "iopub.status.idle": "2021-03-25T23:17:36.604761Z",
     "shell.execute_reply": "2021-03-25T23:17:36.599713Z"
    }
   },
   "outputs": [
    {
     "data": {
      "text/html": [
       "\n",
       "<emph>DataFrame</emph> with 4 rows and\n",
       "  1 columns:\n",
       "<table class=\"rpy2_table\">\n",
       "  <thead>\n",
       "    <tr class=\"rpy2_names\">\n",
       "      <th></th>\n",
       "      <th></th>\n",
       "      <th>unique.metadata_print.factors.</th>\n",
       "    </tr>\n",
       "  </thead>\n",
       "  <tbody>\n",
       "    <tr>\n",
       "      <td class=\"rpy2_rowname\">0</td>\n",
       "        <td class=\"rpy2_names\">1</td>\n",
       "      <td>Diagnosis:Cirrhosis</td>\n",
       "    </tr>\n",
       "    <tr>\n",
       "      <td class=\"rpy2_rowname\">1</td>\n",
       "        <td class=\"rpy2_names\">2</td>\n",
       "      <td>Diagnosis:NASH</td>\n",
       "    </tr>\n",
       "    <tr>\n",
       "      <td class=\"rpy2_rowname\">2</td>\n",
       "        <td class=\"rpy2_names\">3</td>\n",
       "      <td>Diagnosis:Normal</td>\n",
       "    </tr>\n",
       "    <tr>\n",
       "      <td class=\"rpy2_rowname\">3</td>\n",
       "        <td class=\"rpy2_names\">4</td>\n",
       "      <td>Diagnosis:Steatosis</td>\n",
       "    </tr>\n",
       "  </tbody>\n",
       "</table>"
      ],
      "text/plain": [
       "<rpy2.robjects.vectors.DataFrame object at 0x7fa204e45f40> [RTYPES.VECSXP]\n",
       "R classes: ('data.frame',)\n",
       "[StrSexpVector]\n",
       "  unique.metadata_print.factors.: <class 'rpy2.rinterface_lib.sexp.StrSexpVector'>\n",
       "  <rpy2.rinterface_lib.sexp.StrSexpVector object at 0x7fa20d214480> [RTYPES.STRSXP]"
      ]
     },
     "execution_count": 7,
     "metadata": {},
     "output_type": "execute_result"
    }
   ],
   "source": [
    "robjects.r('''\n",
    "data.frame(unique(metadata_print$factors))\n",
    "''')"
   ]
  },
  {
   "cell_type": "code",
   "execution_count": 8,
   "id": "exterior-minimum",
   "metadata": {
    "execution": {
     "iopub.execute_input": "2021-03-25T23:17:36.627287Z",
     "iopub.status.busy": "2021-03-25T23:17:36.623329Z",
     "iopub.status.idle": "2021-03-25T23:17:36.643012Z",
     "shell.execute_reply": "2021-03-25T23:17:36.641823Z"
    }
   },
   "outputs": [
    {
     "data": {
      "text/html": [
       "\n",
       "<emph>DataFrame</emph> with 6 rows and\n",
       "  1 columns:\n",
       "<table class=\"rpy2_table\">\n",
       "  <thead>\n",
       "    <tr class=\"rpy2_names\">\n",
       "      <th></th>\n",
       "      <th></th>\n",
       "      <th>unique.data_1_print.analysis_summary.</th>\n",
       "    </tr>\n",
       "  </thead>\n",
       "  <tbody>\n",
       "    <tr>\n",
       "      <td class=\"rpy2_rowname\">0</td>\n",
       "        <td class=\"rpy2_names\">1</td>\n",
       "      <td>Core G Fatty acids/Eicosanoids</td>\n",
       "    </tr>\n",
       "    <tr>\n",
       "      <td class=\"rpy2_rowname\">1</td>\n",
       "        <td class=\"rpy2_names\">2</td>\n",
       "      <td>Core J Sterols</td>\n",
       "    </tr>\n",
       "    <tr>\n",
       "      <td class=\"rpy2_rowname\">2</td>\n",
       "        <td class=\"rpy2_names\">3</td>\n",
       "      <td>Core K Prenols/Cardiolipins</td>\n",
       "    </tr>\n",
       "    <tr>\n",
       "      <td class=\"rpy2_rowname\">3</td>\n",
       "        <td class=\"rpy2_names\">4</td>\n",
       "      <td>Core E Neutral Lipids</td>\n",
       "    </tr>\n",
       "    <tr>\n",
       "      <td class=\"rpy2_rowname\">4</td>\n",
       "        <td class=\"rpy2_names\">5</td>\n",
       "      <td>Core I Sphingolipids</td>\n",
       "    </tr>\n",
       "    <tr>\n",
       "      <td class=\"rpy2_rowname\">5</td>\n",
       "        <td class=\"rpy2_names\">6</td>\n",
       "      <td>Core H Phospholipids</td>\n",
       "    </tr>\n",
       "  </tbody>\n",
       "</table>"
      ],
      "text/plain": [
       "<rpy2.robjects.vectors.DataFrame object at 0x7fa20d2141c0> [RTYPES.VECSXP]\n",
       "R classes: ('data.frame',)\n",
       "[StrSexpVector]\n",
       "  unique.data_1_print.analysis_summary.: <class 'rpy2.rinterface_lib.sexp.StrSexpVector'>\n",
       "  <rpy2.rinterface_lib.sexp.StrSexpVector object at 0x7fa209971f80> [RTYPES.STRSXP]"
      ]
     },
     "execution_count": 8,
     "metadata": {},
     "output_type": "execute_result"
    }
   ],
   "source": [
    "robjects.r('''\n",
    "data.frame(unique(data_1_print$analysis_summary))\n",
    "''')"
   ]
  },
  {
   "cell_type": "markdown",
   "id": "worthy-consequence",
   "metadata": {},
   "source": [
    "### Find significant metabolites, run significance of all the analysis summary together. The analysis summary/modes you got in the previous section"
   ]
  },
  {
   "cell_type": "markdown",
   "id": "better-journalism",
   "metadata": {},
   "source": [
    "There is a normalization step which takes into account missing values, and this can be achieved via three methods:\n",
    "\n",
    "1) half_of_min: where the NAs are replaced by half of min values in the data\n",
    "\n",
    "2) remove_NAs: where Cols with NAs values are removed\n",
    "\n",
    "3) 50percent: where cols with more than 50% NAs values are removed\n",
    "\n",
    "half_of_min is ideal when you wish to see which metabolites were present in either group. Very high fold change would mean it was present in either group."
   ]
  },
  {
   "cell_type": "code",
   "execution_count": 9,
   "id": "peaceful-section",
   "metadata": {
    "execution": {
     "iopub.execute_input": "2021-03-25T23:17:36.688067Z",
     "iopub.status.busy": "2021-03-25T23:17:36.679283Z",
     "iopub.status.idle": "2021-03-25T23:17:36.706268Z",
     "shell.execute_reply": "2021-03-25T23:17:36.707731Z"
    }
   },
   "outputs": [
    {
     "data": {
      "text/html": [
       "\n",
       "<emph>StrVector</emph> with 1 elements:\n",
       "<table class=\"rpy2_table\">\n",
       "<thead>\n",
       "</thead>\n",
       "<tbody>\n",
       "<tr>\n",
       "      <td>0.5</td>\n",
       "</tr>\n",
       "</tbody>\n",
       "</table>"
      ],
      "text/plain": [
       "<rpy2.robjects.vectors.StrVector object at 0x7fa209411e80> [RTYPES.STRSXP]\n",
       "R classes: ('character',)\n",
       "['0.5']"
      ]
     },
     "execution_count": 9,
     "metadata": {},
     "output_type": "execute_result"
    }
   ],
   "source": [
    "robjects.r.assign('refmet_class', refmet_class)\n",
    "robjects.r.assign('metcol', 'metabolite_name')\n",
    "robjects.r.assign('fac1', 'Cirrhosis')\n",
    "robjects.r.assign('fac2', 'Normal')\n",
    "robjects.r.assign('faccol', 'Diagnosis')\n",
    "robjects.r.assign('samcol', 'local_sample_id')\n",
    "robjects.r.assign('normtype', ['50percent'])\n",
    "robjects.r.assign('pthres', '0.05')\n",
    "robjects.r.assign('thres_log2foldchangevar', '0.5')"
   ]
  },
  {
   "cell_type": "code",
   "execution_count": 10,
   "id": "broadband-cabin",
   "metadata": {
    "execution": {
     "iopub.execute_input": "2021-03-25T23:17:36.724305Z",
     "iopub.status.busy": "2021-03-25T23:17:36.720377Z",
     "iopub.status.idle": "2021-03-25T23:17:36.735259Z",
     "shell.execute_reply": "2021-03-25T23:17:36.731068Z"
    }
   },
   "outputs": [
    {
     "data": {
      "text/plain": [
       "''"
      ]
     },
     "execution_count": 10,
     "metadata": {},
     "output_type": "execute_result"
    }
   ],
   "source": [
    "robjects.r('''\n",
    "ptreshnum<-as.numeric(pthres)\n",
    "thres_log2foldchangenum<-as.numeric(thres_log2foldchangevar)\n",
    "''')\n",
    ";"
   ]
  },
  {
   "cell_type": "code",
   "execution_count": 11,
   "id": "verbal-display",
   "metadata": {
    "execution": {
     "iopub.execute_input": "2021-03-25T23:17:36.757258Z",
     "iopub.status.busy": "2021-03-25T23:17:36.752597Z",
     "iopub.status.idle": "2021-03-25T23:17:36.768468Z",
     "shell.execute_reply": "2021-03-25T23:17:36.769999Z"
    }
   },
   "outputs": [
    {
     "data": {
      "text/plain": [
       "<rpy2.rinterface_lib.sexp.NULLType object at 0x7fa2050069c0> [RTYPES.NILSXP]"
      ]
     },
     "execution_count": 11,
     "metadata": {},
     "output_type": "execute_result"
    }
   ],
   "source": [
    "robjects.r.assign('mettit', 'Core G Fatty acids/Eicosanoids, Core K Prenols/Cardiolipins, Core E Neutral Lipids')\n",
    "robjects.r('''\n",
    "list_mettit <- strsplit(mettit, ',')\n",
    "list_mettit = unlist(list_mettit, TRUE, TRUE)\n",
    "titles <- list()\n",
    "for(elm in list_mettit) {\n",
    "    elm = trimws(elm)\n",
    "    titles <- c(titles, elm)\n",
    "}\n",
    "''')"
   ]
  },
  {
   "cell_type": "code",
   "execution_count": 12,
   "id": "legendary-check",
   "metadata": {
    "execution": {
     "iopub.execute_input": "2021-03-25T23:17:36.795682Z",
     "iopub.status.busy": "2021-03-25T23:17:36.784668Z",
     "iopub.status.idle": "2021-03-25T23:17:37.585398Z",
     "shell.execute_reply": "2021-03-25T23:17:37.586139Z"
    }
   },
   "outputs": [
    {
     "data": {
      "text/plain": [
       "''"
      ]
     },
     "execution_count": 12,
     "metadata": {},
     "output_type": "execute_result"
    }
   ],
   "source": [
    "#changed factor 2 from column to single factor? \n",
    "#is p adjust ONLY FDR?\n",
    "#get rid of output here?\n",
    "\n",
    "robjects.r('''\n",
    "stats_metabolites = significant_met(metabolomics_data=refmet_class_print, met_col=metcol,analysis_type=c(titles), metadata=metadata, factor1=fac1, factor2=fac2, factor_col=faccol,sample_col=samcol, p_adjust='fdr',normalization=normtype)\n",
    "''')\n",
    ";"
   ]
  },
  {
   "cell_type": "code",
   "execution_count": 13,
   "id": "physical-passing",
   "metadata": {
    "execution": {
     "iopub.execute_input": "2021-03-25T23:17:37.598806Z",
     "iopub.status.busy": "2021-03-25T23:17:37.594809Z",
     "iopub.status.idle": "2021-03-25T23:17:37.607402Z",
     "shell.execute_reply": "2021-03-25T23:17:37.609095Z"
    }
   },
   "outputs": [
    {
     "data": {
      "text/plain": [
       "''"
      ]
     },
     "execution_count": 13,
     "metadata": {},
     "output_type": "execute_result"
    }
   ],
   "source": [
    "robjects.r('''\n",
    "sig_metabolites = stats_metabolites[which(stats_metabolites[,\"pval\"] <= ptreshnum&abs(stats_metabolites[,\"log2Fold_change\"])>thres_log2foldchangenum),]\n",
    "''')\n",
    ";"
   ]
  },
  {
   "cell_type": "code",
   "execution_count": 14,
   "id": "shared-stocks",
   "metadata": {
    "execution": {
     "iopub.execute_input": "2021-03-25T23:17:37.629483Z",
     "iopub.status.busy": "2021-03-25T23:17:37.624323Z",
     "iopub.status.idle": "2021-03-25T23:17:39.801120Z",
     "shell.execute_reply": "2021-03-25T23:17:39.802235Z"
    }
   },
   "outputs": [
    {
     "data": {
      "image/png": "[encoded data removed]",
      "text/plain": [
       "<IPython.core.display.Image object>"
      ]
     },
     "execution_count": 14,
     "metadata": {},
     "output_type": "execute_result"
    }
   ],
   "source": [
    "image_png(robjects.r('''\n",
    "plot_volcano(stats_metabolites, thres_pval= ptreshnum, thres_log2foldchange = thres_log2foldchangenum, TRUE)\n",
    "'''))"
   ]
  },
  {
   "cell_type": "markdown",
   "id": "whole-arcade",
   "metadata": {},
   "source": [
    "### Map metabolite class of the significant metabolites utilzing refmet classification in Metabolomics Workbench\n",
    "This function not only maps metabolite to metabolite class but also to external databases such as pubchem, inchi key, smiles and kegg\n",
    "\n",
    "In this example, we will go forward with significant metabolite obtained by t-test/"
   ]
  },
  {
   "cell_type": "code",
   "execution_count": 15,
   "id": "ready-simple",
   "metadata": {
    "execution": {
     "iopub.execute_input": "2021-03-25T23:17:39.825455Z",
     "iopub.status.busy": "2021-03-25T23:17:39.815078Z",
     "iopub.status.idle": "2021-03-25T23:17:40.671867Z",
     "shell.execute_reply": "2021-03-25T23:17:40.673209Z"
    }
   },
   "outputs": [],
   "source": [
    "with openrlib.rlock:\n",
    "    robjects.r('''\n",
    "    sig_metabolites_kegg_id= map_keggid(sig_metabolites)\n",
    "    ''')\n",
    "    pass"
   ]
  },
  {
   "cell_type": "markdown",
   "id": "fabulous-filling",
   "metadata": {},
   "source": [
    "#### Check all your significant metabolites have not been assigned metabolite class\n",
    "Outcome should be 0 elements (?)"
   ]
  },
  {
   "cell_type": "code",
   "execution_count": 16,
   "id": "painful-heater",
   "metadata": {
    "execution": {
     "iopub.execute_input": "2021-03-25T23:17:40.684703Z",
     "iopub.status.busy": "2021-03-25T23:17:40.680548Z",
     "iopub.status.idle": "2021-03-25T23:17:40.697114Z",
     "shell.execute_reply": "2021-03-25T23:17:40.695393Z"
    }
   },
   "outputs": [
    {
     "data": {
      "text/html": [
       "\n",
       "<emph>StrVector</emph> with 0 elements:\n",
       "<table class=\"rpy2_table\">\n",
       "<thead>\n",
       "</thead>\n",
       "<tbody>\n",
       "<tr>\n",
       "</tr>\n",
       "</tbody>\n",
       "</table>"
      ],
      "text/plain": [
       "<rpy2.robjects.vectors.StrVector object at 0x7fa2091cb600> [RTYPES.STRSXP]\n",
       "R classes: ('character',)\n",
       "[]"
      ]
     },
     "execution_count": 16,
     "metadata": {},
     "output_type": "execute_result"
    }
   ],
   "source": [
    "robjects.r('''\n",
    "setdiff(sig_metabolites$refmet_name, sig_metabolites_kegg_id$refmet_name)\n",
    "''')"
   ]
  },
  {
   "cell_type": "markdown",
   "id": "least-shape",
   "metadata": {},
   "source": [
    "### Count metabolites in each of the metabolite class and plotting\n",
    "You may choose from sub_class, main_class and super_class"
   ]
  },
  {
   "cell_type": "code",
   "execution_count": 17,
   "id": "particular-channel",
   "metadata": {
    "execution": {
     "iopub.execute_input": "2021-03-25T23:17:40.715332Z",
     "iopub.status.busy": "2021-03-25T23:17:40.711370Z",
     "iopub.status.idle": "2021-03-25T23:17:41.013422Z",
     "shell.execute_reply": "2021-03-25T23:17:41.015346Z"
    }
   },
   "outputs": [
    {
     "data": {
      "text/plain": [
       "''"
      ]
     },
     "execution_count": 17,
     "metadata": {},
     "output_type": "execute_result"
    }
   ],
   "source": [
    "robjects.r.assign('classtype', ['super_class'])\n",
    "robjects.r('''\n",
    "metclassvar <- as.character(classtype[1])\n",
    "count_changes = metcountplot(df_metclass=sig_metabolites_kegg_id, metclass=metclassvar, plotting=TRUE, thres_logfC = 0.5)\n",
    "''')\n",
    ";"
   ]
  },
  {
   "cell_type": "code",
   "execution_count": 18,
   "id": "desperate-message",
   "metadata": {
    "execution": {
     "iopub.execute_input": "2021-03-25T23:17:41.025866Z",
     "iopub.status.busy": "2021-03-25T23:17:41.022261Z",
     "iopub.status.idle": "2021-03-25T23:17:41.241723Z",
     "shell.execute_reply": "2021-03-25T23:17:41.242749Z"
    }
   },
   "outputs": [
    {
     "data": {
      "image/png": "[encoded data removed]",
      "text/plain": [
       "<IPython.core.display.Image object>"
      ]
     },
     "execution_count": 18,
     "metadata": {},
     "output_type": "execute_result"
    }
   ],
   "source": [
    "image_png(robjects.r('''\n",
    "count_changes$plotimg\n",
    "'''))"
   ]
  },
  {
   "cell_type": "markdown",
   "id": "double-string",
   "metadata": {},
   "source": [
    "### Enrichment class score\n",
    "\n",
    "Calculate the enrichment score of each metabolite class. Enrichment score is calculated through hypergeometric method. One can specify the no. of significant metabolites in a class while calculating the enrichment score. We advice to use the number of mtabolites in each class as 3 or more. But if someone just wants to know the enrichment score and rest of the information of all the metabolites, then they can choose the number as 1."
   ]
  },
  {
   "cell_type": "code",
   "execution_count": 19,
   "id": "guided-woman",
   "metadata": {
    "execution": {
     "iopub.execute_input": "2021-03-25T23:17:41.263295Z",
     "iopub.status.busy": "2021-03-25T23:17:41.257396Z",
     "iopub.status.idle": "2021-03-25T23:17:41.272816Z",
     "shell.execute_reply": "2021-03-25T23:17:41.264220Z"
    }
   },
   "outputs": [
    {
     "data": {
      "text/html": [
       "\n",
       "<emph>IntVector</emph> with 1 elements:\n",
       "<table class=\"rpy2_table\">\n",
       "<thead>\n",
       "</thead>\n",
       "<tbody>\n",
       "<tr>\n",
       "      <td>3</td>\n",
       "</tr>\n",
       "</tbody>\n",
       "</table>"
      ],
      "text/plain": [
       "<rpy2.robjects.vectors.IntVector object at 0x7fa209a79540> [RTYPES.INTSXP]\n",
       "R classes: ('integer',)\n",
       "[3]"
      ]
     },
     "execution_count": 19,
     "metadata": {},
     "output_type": "execute_result"
    }
   ],
   "source": [
    "robjects.r.assign('sigmets', 3)"
   ]
  },
  {
   "cell_type": "code",
   "execution_count": 20,
   "id": "involved-milton",
   "metadata": {
    "execution": {
     "iopub.execute_input": "2021-03-25T23:17:41.293527Z",
     "iopub.status.busy": "2021-03-25T23:17:41.288545Z",
     "iopub.status.idle": "2021-03-25T23:17:41.387247Z",
     "shell.execute_reply": "2021-03-25T23:17:41.387889Z"
    }
   },
   "outputs": [
    {
     "data": {
      "text/plain": [
       "''"
      ]
     },
     "execution_count": 20,
     "metadata": {},
     "output_type": "execute_result"
    }
   ],
   "source": [
    "robjects.r('''\n",
    "metenrichment = metclassenrichment(df_metclass=sig_metabolites_kegg_id,refmet_class, metclass=metclassvar,enrich_stats=\"HG\",no=sigmets)\n",
    "''')\n",
    ";"
   ]
  },
  {
   "cell_type": "markdown",
   "id": "twenty-football",
   "metadata": {},
   "source": [
    "#### Plot the enrichment score via function plot_met_enrichment"
   ]
  },
  {
   "cell_type": "code",
   "execution_count": 21,
   "id": "stuck-hindu",
   "metadata": {
    "execution": {
     "iopub.execute_input": "2021-03-25T23:17:41.398625Z",
     "iopub.status.busy": "2021-03-25T23:17:41.395376Z",
     "iopub.status.idle": "2021-03-25T23:17:41.506759Z",
     "shell.execute_reply": "2021-03-25T23:17:41.507778Z"
    }
   },
   "outputs": [
    {
     "data": {
      "image/png": "[encoded data removed]",
      "text/plain": [
       "<IPython.core.display.Image object>"
      ]
     },
     "execution_count": 21,
     "metadata": {},
     "output_type": "execute_result"
    }
   ],
   "source": [
    "image_png(robjects.r('''\n",
    "plot_met_enrichment(metenrichment, metclassvar,\"HG\", no=sigmets)\n",
    "'''))"
   ]
  },
  {
   "cell_type": "markdown",
   "id": "informational-flood",
   "metadata": {},
   "source": [
    "### Check the pathways with reactions of all the significant metabolites"
   ]
  },
  {
   "cell_type": "code",
   "execution_count": 22,
   "id": "turkish-culture",
   "metadata": {
    "execution": {
     "iopub.execute_input": "2021-03-25T23:17:41.524951Z",
     "iopub.status.busy": "2021-03-25T23:17:41.519676Z",
     "iopub.status.idle": "2021-03-25T23:17:46.683264Z",
     "shell.execute_reply": "2021-03-25T23:17:46.684056Z"
    }
   },
   "outputs": [
    {
     "data": {
      "text/html": [
       "\n",
       "<emph>DataFrame</emph> with 6 rows and\n",
       "  22 columns:\n",
       "<table class=\"rpy2_table\">\n",
       "  <thead>\n",
       "    <tr class=\"rpy2_names\">\n",
       "      <th></th>\n",
       "      <th></th>\n",
       "      <th>rxn</th>\n",
       "      <th>refmet_name</th>\n",
       "      <th>Exact mass</th>\n",
       "      <th>KEGG ID</th>\n",
       "      <th>...</th>\n",
       "      <th>pathway_id</th>\n",
       "      <th>sps_path_id</th>\n",
       "    </tr>\n",
       "  </thead>\n",
       "  <tbody>\n",
       "    <tr>\n",
       "      <td class=\"rpy2_rowname\">0</td>\n",
       "        <td class=\"rpy2_names\">1</td>\n",
       "      <td>R01003</td>\n",
       "      <td>Dolichol-20</td>\n",
       "      <td>1381.2782</td>\n",
       "      <td>C00381</td>\n",
       "       <td>...</td>\n",
       "      <td>rn00510</td>\n",
       "      <td>hsa00510</td>\n",
       "    </tr>\n",
       "    <tr>\n",
       "      <td class=\"rpy2_rowname\">1</td>\n",
       "        <td class=\"rpy2_names\">2</td>\n",
       "      <td>R01003</td>\n",
       "      <td>Dolichol-20</td>\n",
       "      <td>1381.2782</td>\n",
       "      <td>C00381</td>\n",
       "       <td>...</td>\n",
       "      <td>rn01100</td>\n",
       "      <td>hsa01100</td>\n",
       "    </tr>\n",
       "    <tr>\n",
       "      <td class=\"rpy2_rowname\">2</td>\n",
       "        <td class=\"rpy2_names\">3</td>\n",
       "      <td>R01018</td>\n",
       "      <td>Dolichol-20</td>\n",
       "      <td>1381.2782</td>\n",
       "      <td>C00381</td>\n",
       "       <td>...</td>\n",
       "      <td>rn00510</td>\n",
       "      <td>hsa00510</td>\n",
       "    </tr>\n",
       "    <tr>\n",
       "      <td class=\"rpy2_rowname\">3</td>\n",
       "        <td class=\"rpy2_names\">4</td>\n",
       "      <td>R01018</td>\n",
       "      <td>Dolichol-20</td>\n",
       "      <td>1381.2782</td>\n",
       "      <td>C00381</td>\n",
       "       <td>...</td>\n",
       "      <td>rn01100</td>\n",
       "      <td>hsa01100</td>\n",
       "    </tr>\n",
       "    <tr>\n",
       "      <td class=\"rpy2_rowname\">4</td>\n",
       "        <td class=\"rpy2_names\">5</td>\n",
       "      <td>R01312</td>\n",
       "      <td>1,2-DG 32:1</td>\n",
       "      <td>566.4910</td>\n",
       "      <td>C00641</td>\n",
       "       <td>...</td>\n",
       "      <td>rn00564</td>\n",
       "      <td>hsa00564</td>\n",
       "    </tr>\n",
       "    <tr>\n",
       "      <td class=\"rpy2_rowname\">5</td>\n",
       "        <td class=\"rpy2_names\">6</td>\n",
       "      <td>R01312</td>\n",
       "      <td>1,2-DG 36:3</td>\n",
       "      <td>618.5223</td>\n",
       "      <td>C00641</td>\n",
       "       <td>...</td>\n",
       "      <td>rn00564</td>\n",
       "      <td>hsa00564</td>\n",
       "    </tr>\n",
       "  </tbody>\n",
       "</table>"
      ],
      "text/plain": [
       "<rpy2.robjects.vectors.DataFrame object at 0x7fa20943da00> [RTYPES.VECSXP]\n",
       "R classes: ('data.frame',)\n",
       "[StrSexpVe..., StrSexpVe..., StrSexpVe..., StrSexpVe..., ..., ListSexpV..., StrSexpVe..., StrSexpVe..., StrSexpVe...]\n",
       "  rxn: <class 'rpy2.robjects.vectors.StrVector'>\n",
       "  <rpy2.robjects.vectors.StrVector object at 0x7fa209962800> [RTYPES.STRSXP]\n",
       "R classes: ('character',)\n",
       "['R010..., 'R010..., 'R010..., 'R010..., 'R013..., 'R013...]\n",
       "  refmet_name: <class 'rpy2.robjects.vectors.StrVector'>\n",
       "  <rpy2.robjects.vectors.StrVector object at 0x7fa20d213ac0> [RTYPES.STRSXP]\n",
       "R classes: ('character',)\n",
       "['Doli..., 'Doli..., 'Doli..., 'Doli..., '1,2-..., '1,2-...]\n",
       "  Exact mass: <class 'rpy2.robjects.vectors.StrVector'>\n",
       "  <rpy2.robjects.vectors.StrVector object at 0x7fa20d213c00> [RTYPES.STRSXP]\n",
       "R classes: ('character',)\n",
       "['1381..., '1381..., '1381..., '1381..., '566...., '618....]\n",
       "  KEGG ID: <class 'rpy2.robjects.vectors.StrVector'>\n",
       "  <rpy2.robjects.vectors.StrVector object at 0x7fa20d2138c0> [RTYPES.STRSXP]\n",
       "R classes: ('character',)\n",
       "['C003..., 'C003..., 'C003..., 'C003..., 'C006..., 'C006...]\n",
       "...\n",
       "<rpy2.robjects.vectors.DataFrame object at 0x7fa20943da00> [RTYPES.VECSXP]\n",
       "R classes: ('data.frame',)\n",
       "[StrSexpVe..., StrSexpVe..., StrSexpVe..., StrSexpVe..., ..., ListSexpV..., StrSexpVe..., StrSexpVe..., StrSexpVe...]\n",
       "  Normal_mean: <class 'rpy2.robjects.vectors.StrVector'>\n",
       "  <rpy2.robjects.vectors.StrVector object at 0x7fa209962b40> [RTYPES.STRSXP]\n",
       "R classes: ('character',)\n",
       "['N-Gl..., 'Meta..., 'N-Gl..., 'Meta..., 'Glyc..., 'Glyc...]\n",
       "  Fold_change: <class 'rpy2.robjects.vectors.StrVector'>\n",
       "  <rpy2.robjects.vectors.StrVector object at 0x7fa209962f80> [RTYPES.STRSXP]\n",
       "R classes: ('character',)\n",
       "['rn00..., 'rn01..., 'rn00..., 'rn01..., 'rn00..., 'rn00...]\n",
       "  log2Fold_change: <class 'rpy2.robjects.vectors.StrVector'>\n",
       "  <rpy2.robjects.vectors.StrVector object at 0x7fa209962740> [RTYPES.STRSXP]\n",
       "R classes: ('character',)\n",
       "['hsa0..., 'hsa0..., 'hsa0..., 'hsa0..., 'hsa0..., 'hsa0...]"
      ]
     },
     "execution_count": 22,
     "metadata": {},
     "output_type": "execute_result"
    }
   ],
   "source": [
    "robjects.r.assign('studyOrg', 'hsa')\n",
    "robjects.r('''\n",
    "met_path = met_pathways(df_metenrichment = metenrichment, studyOrg)\n",
    "head(met_path)\n",
    "''')"
   ]
  },
  {
   "cell_type": "markdown",
   "id": "precise-formation",
   "metadata": {},
   "source": [
    "Find metabolites for which no pathways were registered in Kegg and/or no kegg id was found"
   ]
  },
  {
   "cell_type": "code",
   "execution_count": 23,
   "id": "southeast-garage",
   "metadata": {
    "execution": {
     "iopub.execute_input": "2021-03-25T23:17:46.698607Z",
     "iopub.status.busy": "2021-03-25T23:17:46.694690Z",
     "iopub.status.idle": "2021-03-25T23:17:46.704035Z",
     "shell.execute_reply": "2021-03-25T23:17:46.700035Z"
    }
   },
   "outputs": [],
   "source": [
    "#setdiff(metenrichment$Metabolite,unique(met_path$Metabolite))\n",
    "\n",
    "#not necessary for final script?"
   ]
  },
  {
   "cell_type": "markdown",
   "id": "about-complex",
   "metadata": {},
   "source": [
    "### Get pathway enrichment sore.\n",
    "\n",
    "Once we have the pathway information, we can calculate enrichment score of pathways. Again, here i have used hypergeometric score. For hypergeometric score, we need to know the total number of kegg compounds that are linked to kegg pathways. \n",
    "N = total no. of cmpds linked to kegg pathway (this is the step which might take long), so I advice to run the script comp_linkedto_pathways() just the first time or after 6 months or so if desired to run the pipeline again. save the result from comp_linkedto_pathways() and load it. Loading from saved file would save time for another analysis with another study. However the package takes care of loading. Save the data in the data folder.\n",
    "\n",
    "L = No. of cmpds in a pathway\n",
    "M= no. of altered cmpds in a pathway\n",
    "K =  total no. of altered cmpds\n",
    "phyper(M,L, N-L, K)\n",
    "\n",
    "\n",
    "This function also utilizes korg dataset from pathview package."
   ]
  },
  {
   "cell_type": "code",
   "execution_count": 24,
   "id": "tropical-alaska",
   "metadata": {
    "execution": {
     "iopub.execute_input": "2021-03-25T23:17:46.721182Z",
     "iopub.status.busy": "2021-03-25T23:17:46.716340Z",
     "iopub.status.idle": "2021-03-25T23:17:48.584062Z",
     "shell.execute_reply": "2021-03-25T23:17:48.583401Z"
    }
   },
   "outputs": [
    {
     "data": {
      "text/html": [
       "\n",
       "<emph>DataFrame</emph> with 6 rows and\n",
       "  5 columns:\n",
       "<table class=\"rpy2_table\">\n",
       "  <thead>\n",
       "    <tr class=\"rpy2_names\">\n",
       "      <th></th>\n",
       "      <th></th>\n",
       "      <th>Pathway name</th>\n",
       "      <th>No.of mets in study</th>\n",
       "      <th>Total_no._of_comps_in_pathway</th>\n",
       "      <th>pathway_HG p-value</th>\n",
       "      <th>Padjust</th>\n",
       "    </tr>\n",
       "  </thead>\n",
       "  <tbody>\n",
       "    <tr>\n",
       "      <td class=\"rpy2_rowname\">0</td>\n",
       "        <td class=\"rpy2_names\">1</td>\n",
       "      <td>Arachidonic acid metabolism</td>\n",
       "      <td>6</td>\n",
       "      <td>75</td>\n",
       "      <td>0.40619966797159324</td>\n",
       "      <td>0.5077495849644915</td>\n",
       "    </tr>\n",
       "    <tr>\n",
       "      <td class=\"rpy2_rowname\">1</td>\n",
       "        <td class=\"rpy2_names\">2</td>\n",
       "      <td>Biosynthesis of unsaturated fatty acids</td>\n",
       "      <td>1</td>\n",
       "      <td>74</td>\n",
       "      <td>0.9964320641576098</td>\n",
       "      <td>0.9964320641576098</td>\n",
       "    </tr>\n",
       "    <tr>\n",
       "      <td class=\"rpy2_rowname\">2</td>\n",
       "        <td class=\"rpy2_names\">3</td>\n",
       "      <td>Glycerolipid metabolism</td>\n",
       "      <td>12</td>\n",
       "      <td>38</td>\n",
       "      <td>1.2991569202422419e-06</td>\n",
       "      <td>6.4957846012112094e-06</td>\n",
       "    </tr>\n",
       "    <tr>\n",
       "      <td class=\"rpy2_rowname\">3</td>\n",
       "        <td class=\"rpy2_names\">4</td>\n",
       "      <td>Glycerophospholipid metabolism</td>\n",
       "      <td>9</td>\n",
       "      <td>52</td>\n",
       "      <td>0.005207124292532139</td>\n",
       "      <td>0.008678540487553565</td>\n",
       "    </tr>\n",
       "    <tr>\n",
       "      <td class=\"rpy2_rowname\">4</td>\n",
       "        <td class=\"rpy2_names\">5</td>\n",
       "      <td>Glycosylphosphatidylinositol (GPI)-anchor biosynthesis</td>\n",
       "      <td>9</td>\n",
       "      <td>16</td>\n",
       "      <td>9.732957362576995e-08</td>\n",
       "      <td>9.732957362576995e-07</td>\n",
       "    </tr>\n",
       "    <tr>\n",
       "      <td class=\"rpy2_rowname\">5</td>\n",
       "        <td class=\"rpy2_names\">6</td>\n",
       "      <td>Inositol phosphate metabolism</td>\n",
       "      <td>9</td>\n",
       "      <td>47</td>\n",
       "      <td>0.0024843325234241882</td>\n",
       "      <td>0.006210831308560471</td>\n",
       "    </tr>\n",
       "  </tbody>\n",
       "</table>"
      ],
      "text/plain": [
       "<rpy2.robjects.vectors.DataFrame object at 0x7fa2091c6340> [RTYPES.VECSXP]\n",
       "R classes: ('data.frame',)\n",
       "[IntSexp..., IntSexp..., IntSexp..., FloatSe..., FloatSe...]\n",
       "  Pathway name: <class 'rpy2.rinterface.IntSexpVector'>\n",
       "  <rpy2.rinterface.IntSexpVector object at 0x7fa20943e040> [RTYPES.INTSXP]\n",
       "  No.of mets in study: <class 'rpy2.rinterface.IntSexpVector'>\n",
       "  <rpy2.rinterface.IntSexpVector object at 0x7fa20d210940> [RTYPES.INTSXP]\n",
       "  Total_no._of_comps_in_pathway: <class 'rpy2.rinterface.IntSexpVector'>\n",
       "  <rpy2.rinterface.IntSexpVector object at 0x7fa20d213540> [RTYPES.INTSXP]\n",
       "  pathway_HG p-value: <class 'rpy2.rinterface.FloatSexpVector'>\n",
       "  <rpy2.rinterface.FloatSexpVector object at 0x7fa20d210440> [RTYPES.REALSXP]\n",
       "  Padjust: <class 'rpy2.rinterface.FloatSexpVector'>\n",
       "  <rpy2.rinterface.FloatSexpVector object at 0x7fa20d210340> [RTYPES.REALSXP]"
      ]
     },
     "execution_count": 24,
     "metadata": {},
     "output_type": "execute_result"
    }
   ],
   "source": [
    "robjects.r('''\n",
    "kegg_es = path_enrichmentscore(met_path,sig_metabolite_kegg_id=sig_metabolite_kegg_id,ls_path=ls_path,refmet_class=refmet_class,sps='hsa',padj='fdr', kegg_comp_path=FALSE)\n",
    "head(kegg_es)\n",
    "''')"
   ]
  },
  {
   "cell_type": "markdown",
   "id": "analyzed-vertical",
   "metadata": {},
   "source": [
    "### Plot pathway network\n",
    "Only plotting significant pathways (pathway with p-value significance).\n",
    "\n",
    "The pathway network is such that it shows metabolites that are connected to different pathways and same metabolite in different pathway. Color of nodes of metabolites are according to the fold change of metabolites (low expression in green and high in red) and size of pathway nodes (square nodes) are according to the number of branches (meaning no of metabolites). All metabolite are written in blue"
   ]
  },
  {
   "cell_type": "code",
   "execution_count": 25,
   "id": "random-aside",
   "metadata": {
    "execution": {
     "iopub.execute_input": "2021-03-25T23:17:48.596882Z",
     "iopub.status.busy": "2021-03-25T23:17:48.593386Z",
     "iopub.status.idle": "2021-03-25T23:17:49.396711Z",
     "shell.execute_reply": "2021-03-25T23:17:49.398040Z"
    }
   },
   "outputs": [
    {
     "data": {
      "image/png": "[encoded data removed]",
      "text/plain": [
       "<IPython.core.display.Image object>"
      ]
     },
     "execution_count": 25,
     "metadata": {},
     "output_type": "execute_result"
    }
   ],
   "source": [
    "image_png(robjects.r('''\n",
    "plot_pathway_networks (met_path,kegg_es, TRUE)\n",
    "'''))"
   ]
  },
  {
   "cell_type": "markdown",
   "id": "revolutionary-rogers",
   "metadata": {},
   "source": [
    "### Heatmap"
   ]
  },
  {
   "cell_type": "code",
   "execution_count": 26,
   "id": "cardiac-patch",
   "metadata": {
    "execution": {
     "iopub.execute_input": "2021-03-25T23:17:49.417446Z",
     "iopub.status.busy": "2021-03-25T23:17:49.408397Z",
     "iopub.status.idle": "2021-03-25T23:17:49.454034Z",
     "shell.execute_reply": "2021-03-25T23:17:49.425525Z"
    }
   },
   "outputs": [
    {
     "data": {
      "text/html": [
       "\n",
       "<emph>IntVector</emph> with 1 elements:\n",
       "<table class=\"rpy2_table\">\n",
       "<thead>\n",
       "</thead>\n",
       "<tbody>\n",
       "<tr>\n",
       "      <td>6</td>\n",
       "</tr>\n",
       "</tbody>\n",
       "</table>"
      ],
      "text/plain": [
       "<rpy2.robjects.vectors.IntVector object at 0x7fa20d210380> [RTYPES.INTSXP]\n",
       "R classes: ('integer',)\n",
       "[6]"
      ]
     },
     "execution_count": 26,
     "metadata": {},
     "output_type": "execute_result"
    }
   ],
   "source": [
    "robjects.r.assign('x_size_heat', 8)\n",
    "robjects.r.assign('y_size_heat', 6)"
   ]
  },
  {
   "cell_type": "code",
   "execution_count": 27,
   "id": "integral-israeli",
   "metadata": {
    "execution": {
     "iopub.execute_input": "2021-03-25T23:17:49.469051Z",
     "iopub.status.busy": "2021-03-25T23:17:49.465050Z",
     "iopub.status.idle": "2021-03-25T23:17:49.658536Z",
     "shell.execute_reply": "2021-03-25T23:17:49.659368Z"
    }
   },
   "outputs": [
    {
     "data": {
      "image/png": "[encoded data removed]",
      "text/plain": [
       "<IPython.core.display.Image object>"
      ]
     },
     "execution_count": 27,
     "metadata": {},
     "output_type": "execute_result"
    }
   ],
   "source": [
    "image_png(robjects.r('''\n",
    "plot_heatmap(met_path, shorten_name=TRUE,refmet_name=FALSE, xaxis=x_size_heat, yaxis=y_size_heat)\n",
    "'''))"
   ]
  },
  {
   "cell_type": "markdown",
   "id": "capital-cincinnati",
   "metadata": {},
   "source": [
    "### Dotplot"
   ]
  },
  {
   "cell_type": "code",
   "execution_count": 28,
   "id": "defined-runner",
   "metadata": {
    "execution": {
     "iopub.execute_input": "2021-03-25T23:17:49.671479Z",
     "iopub.status.busy": "2021-03-25T23:17:49.667849Z",
     "iopub.status.idle": "2021-03-25T23:17:49.683758Z",
     "shell.execute_reply": "2021-03-25T23:17:49.681088Z"
    }
   },
   "outputs": [
    {
     "data": {
      "text/html": [
       "\n",
       "<emph>IntVector</emph> with 1 elements:\n",
       "<table class=\"rpy2_table\">\n",
       "<thead>\n",
       "</thead>\n",
       "<tbody>\n",
       "<tr>\n",
       "      <td>10</td>\n",
       "</tr>\n",
       "</tbody>\n",
       "</table>"
      ],
      "text/plain": [
       "<rpy2.robjects.vectors.IntVector object at 0x7fa20d2142c0> [RTYPES.INTSXP]\n",
       "R classes: ('integer',)\n",
       "[10]"
      ]
     },
     "execution_count": 28,
     "metadata": {},
     "output_type": "execute_result"
    }
   ],
   "source": [
    "robjects.r.assign('x_size_dot', 10)\n",
    "robjects.r.assign('y_size_dot', 10)"
   ]
  },
  {
   "cell_type": "code",
   "execution_count": 29,
   "id": "amateur-completion",
   "metadata": {
    "execution": {
     "iopub.execute_input": "2021-03-25T23:17:49.700185Z",
     "iopub.status.busy": "2021-03-25T23:17:49.694518Z",
     "iopub.status.idle": "2021-03-25T23:17:49.959899Z",
     "shell.execute_reply": "2021-03-25T23:17:49.961080Z"
    }
   },
   "outputs": [
    {
     "data": {
      "image/png": "[encoded data removed]",
      "text/plain": [
       "<IPython.core.display.Image object>"
      ]
     },
     "execution_count": 29,
     "metadata": {},
     "output_type": "execute_result"
    }
   ],
   "source": [
    "image_png(robjects.r('''\n",
    "dotplot_met_class_path (met_path, kegg_es, metclassvar,xaxis=x_size_dot,yaxis=y_size_dot)\n",
    "'''))"
   ]
  },
  {
   "cell_type": "markdown",
   "id": "outdoor-irrigation",
   "metadata": {},
   "source": [
    "### Get the gene and enzyme info\n",
    "\n",
    "Here we get the information of genes involved in enriched pathways for specified organism"
   ]
  },
  {
   "cell_type": "code",
   "execution_count": 30,
   "id": "cultural-empire",
   "metadata": {
    "execution": {
     "iopub.execute_input": "2021-03-25T23:17:49.997230Z",
     "iopub.status.busy": "2021-03-25T23:17:49.993002Z",
     "iopub.status.idle": "2021-03-25T23:18:20.272489Z",
     "shell.execute_reply": "2021-03-25T23:18:20.273704Z"
    }
   },
   "outputs": [
    {
     "data": {
      "text/html": [
       "\n",
       "<emph>DataFrame</emph> with 6 rows and\n",
       "  18 columns:\n",
       "<table class=\"rpy2_table\">\n",
       "  <thead>\n",
       "    <tr class=\"rpy2_names\">\n",
       "      <th></th>\n",
       "      <th></th>\n",
       "      <th>orthology_id</th>\n",
       "      <th>ORTHOLOGY</th>\n",
       "      <th>gene_id</th>\n",
       "      <th>gene_name</th>\n",
       "      <th>...</th>\n",
       "      <th>EQUATION_more</th>\n",
       "      <th>ENZYME</th>\n",
       "    </tr>\n",
       "  </thead>\n",
       "  <tbody>\n",
       "    <tr>\n",
       "      <td class=\"rpy2_rowname\">0</td>\n",
       "        <td class=\"rpy2_names\">1</td>\n",
       "      <td>K00079</td>\n",
       "      <td>carbonyl reductase 1 [EC:1.1.1.184 1.1.1.189 1.1.1.197]</td>\n",
       "      <td>  CDS \n",
       "\"873\" \n",
       "</td>\n",
       "      <td>[1] \"CBR1, CBR, PG-9-KR, SDR21C1, hCBR1\"\n",
       "</td>\n",
       "       <td>...</td>\n",
       "      <td>[1] \"Prostaglandin F2alpha + NADP+ <=> Prostaglandin E2 + NADPH + H+\"\n",
       "</td>\n",
       "      <td>[1] \"1.1.1.184\" \"1.1.1.189\"\n",
       "</td>\n",
       "    </tr>\n",
       "    <tr>\n",
       "      <td class=\"rpy2_rowname\">1</td>\n",
       "        <td class=\"rpy2_names\">2</td>\n",
       "      <td>K00084</td>\n",
       "      <td>carbonyl reductase 3 [EC:1.1.1.184]</td>\n",
       "      <td>  CDS \n",
       "\"874\" \n",
       "</td>\n",
       "      <td>[1] \"CBR3, HEL-S-25, SDR21C2, hCBR3\"\n",
       "</td>\n",
       "       <td>...</td>\n",
       "      <td>[1] \"Prostaglandin F2alpha + NADP+ <=> Prostaglandin E2 + NADPH + H+\"\n",
       "</td>\n",
       "      <td>[1] \"1.1.1.184\" \"1.1.1.189\"\n",
       "</td>\n",
       "    </tr>\n",
       "    <tr>\n",
       "      <td class=\"rpy2_rowname\">2</td>\n",
       "        <td class=\"rpy2_names\">3</td>\n",
       "      <td>K00637</td>\n",
       "      <td>sterol O-acyltransferase [EC:2.3.1.26]</td>\n",
       "      <td>   CDS \n",
       "\"6646\" \n",
       "</td>\n",
       "      <td>[1] \"SOAT1, ACACT, ACAT, ACAT-1, ACAT1, SOAT, STAT\"\n",
       "</td>\n",
       "       <td>...</td>\n",
       "      <td>[1] \"Acyl-CoA + Cholesterol <=> CoA + Cholesterol ester\"\n",
       "</td>\n",
       "      <td>[1] \"2.3.1.26\"\n",
       "</td>\n",
       "    </tr>\n",
       "    <tr>\n",
       "      <td class=\"rpy2_rowname\">3</td>\n",
       "        <td class=\"rpy2_names\">4</td>\n",
       "      <td>K00637</td>\n",
       "      <td>sterol O-acyltransferase [EC:2.3.1.26]</td>\n",
       "      <td>   CDS \n",
       "\"8435\" \n",
       "</td>\n",
       "      <td>[1] \"SOAT2, ACACT2, ACAT2, ARGP2\"\n",
       "</td>\n",
       "       <td>...</td>\n",
       "      <td>[1] \"Acyl-CoA + Cholesterol <=> CoA + Cholesterol ester\"\n",
       "</td>\n",
       "      <td>[1] \"2.3.1.26\"\n",
       "</td>\n",
       "    </tr>\n",
       "    <tr>\n",
       "      <td class=\"rpy2_rowname\">4</td>\n",
       "        <td class=\"rpy2_names\">5</td>\n",
       "      <td>K00901</td>\n",
       "      <td>diacylglycerol kinase (ATP) [EC:2.7.1.107]</td>\n",
       "      <td>     CDS \n",
       "\"139189\" \n",
       "</td>\n",
       "      <td>[1] \"DGKK\"\n",
       "</td>\n",
       "       <td>...</td>\n",
       "      <td>[1] \"ATP + 1,2-Diacyl-sn-glycerol <=> ADP + Phosphatidate\"\n",
       "</td>\n",
       "      <td>[1] \"2.7.1.107\"\n",
       "</td>\n",
       "    </tr>\n",
       "    <tr>\n",
       "      <td class=\"rpy2_rowname\">5</td>\n",
       "        <td class=\"rpy2_names\">6</td>\n",
       "      <td>K00901</td>\n",
       "      <td>diacylglycerol kinase (ATP) [EC:2.7.1.107]</td>\n",
       "      <td>     CDS \n",
       "\"139189\" \n",
       "</td>\n",
       "      <td>[1] \"DGKK\"\n",
       "</td>\n",
       "       <td>...</td>\n",
       "      <td>[1] \"ATP + 1,2-Diacyl-sn-glycerol <=> ADP + Phosphatidate\"\n",
       "</td>\n",
       "      <td>[1] \"2.7.1.107\"\n",
       "</td>\n",
       "    </tr>\n",
       "  </tbody>\n",
       "</table>"
      ],
      "text/plain": [
       "<rpy2.robjects.vectors.DataFrame object at 0x7fa20d20bb80> [RTYPES.VECSXP]\n",
       "R classes: ('data.frame',)\n",
       "[StrSexpVe..., StrSexpVe..., ListSexpV..., ListSexpV..., ..., ListSexpV..., ListSexpV..., ListSexpV..., ListSexpV...]\n",
       "  orthology_id: <class 'rpy2.robjects.vectors.StrVector'>\n",
       "  <rpy2.robjects.vectors.StrVector object at 0x7fa20d20bf80> [RTYPES.STRSXP]\n",
       "R classes: ('character',)\n",
       "['K000..., 'K000..., 'K006..., 'K006..., 'K009..., 'K009...]\n",
       "  ORTHOLOGY: <class 'rpy2.robjects.vectors.StrVector'>\n",
       "  <rpy2.robjects.vectors.StrVector object at 0x7fa20d20b700> [RTYPES.STRSXP]\n",
       "R classes: ('character',)\n",
       "['carb..., 'carb..., 'ster..., 'ster..., 'diac..., 'diac...]\n",
       "<rpy2.robjects.vectors.DataFrame object at 0x7fa20d20bb80> [RTYPES.VECSXP]\n",
       "R classes: ('data.frame',)\n",
       "[StrSexpVe..., StrSexpVe..., ListSexpV..., ListSexpV..., ..., ListSexpV..., ListSexpV..., ListSexpV..., ListSexpV...]\n",
       "<rpy2.robjects.vectors.DataFrame object at 0x7fa20d20bb80> [RTYPES.VECSXP]\n",
       "R classes: ('data.frame',)\n",
       "[StrSexpVe..., StrSexpVe..., ListSexpV..., ListSexpV..., ..., ListSexpV..., ListSexpV..., ListSexpV..., ListSexpV...]\n",
       "...\n",
       "<rpy2.robjects.vectors.DataFrame object at 0x7fa20d20bb80> [RTYPES.VECSXP]\n",
       "R classes: ('data.frame',)\n",
       "[StrSexpVe..., StrSexpVe..., ListSexpV..., ListSexpV..., ..., ListSexpV..., ListSexpV..., ListSexpV..., ListSexpV...]\n",
       "<rpy2.robjects.vectors.DataFrame object at 0x7fa20d20bb80> [RTYPES.VECSXP]\n",
       "R classes: ('data.frame',)\n",
       "[StrSexpVe..., StrSexpVe..., ListSexpV..., ListSexpV..., ..., ListSexpV..., ListSexpV..., ListSexpV..., ListSexpV...]\n",
       "<rpy2.robjects.vectors.DataFrame object at 0x7fa20d20bb80> [RTYPES.VECSXP]\n",
       "R classes: ('data.frame',)\n",
       "[StrSexpVe..., StrSexpVe..., ListSexpV..., ListSexpV..., ..., ListSexpV..., ListSexpV..., ListSexpV..., ListSexpV...]\n",
       "<rpy2.robjects.vectors.DataFrame object at 0x7fa20d20bb80> [RTYPES.VECSXP]\n",
       "R classes: ('data.frame',)\n",
       "[StrSexpVe..., StrSexpVe..., ListSexpV..., ListSexpV..., ..., ListSexpV..., ListSexpV..., ListSexpV..., ListSexpV...]"
      ]
     },
     "execution_count": 30,
     "metadata": {},
     "output_type": "execute_result"
    }
   ],
   "source": [
    "robjects.r('''\n",
    "met_gene_info = enzyme_gene_info (metenrichment, studyOrg, metclassvar)\n",
    "head(met_gene_info)\n",
    "''')"
   ]
  },
  {
   "cell_type": "markdown",
   "id": "baking-madison",
   "metadata": {},
   "source": [
    "#### Get the information if metabolite is a reactant or substrate"
   ]
  },
  {
   "cell_type": "code",
   "execution_count": 31,
   "id": "uniform-substitute",
   "metadata": {
    "execution": {
     "iopub.execute_input": "2021-03-25T23:18:20.292284Z",
     "iopub.status.busy": "2021-03-25T23:18:20.285645Z",
     "iopub.status.idle": "2021-03-25T23:18:20.460208Z",
     "shell.execute_reply": "2021-03-25T23:18:20.461001Z"
    }
   },
   "outputs": [
    {
     "data": {
      "text/html": [
       "\n",
       "<emph>DataFrame</emph> with 6 rows and\n",
       "  19 columns:\n",
       "<table class=\"rpy2_table\">\n",
       "  <thead>\n",
       "    <tr class=\"rpy2_names\">\n",
       "      <th></th>\n",
       "      <th></th>\n",
       "      <th>orthology_id</th>\n",
       "      <th>ORTHOLOGY</th>\n",
       "      <th>gene_id</th>\n",
       "      <th>gene_name</th>\n",
       "      <th>...</th>\n",
       "      <th>ENZYME</th>\n",
       "      <th>reactant_product</th>\n",
       "    </tr>\n",
       "  </thead>\n",
       "  <tbody>\n",
       "    <tr>\n",
       "      <td class=\"rpy2_rowname\">0</td>\n",
       "        <td class=\"rpy2_names\">1</td>\n",
       "      <td>K00079</td>\n",
       "      <td>carbonyl reductase 1 [EC:1.1.1.184 1.1.1.189 1.1.1.197]</td>\n",
       "      <td>  CDS \n",
       "\"873\" \n",
       "</td>\n",
       "      <td>[1] \"CBR1, CBR, PG-9-KR, SDR21C1, hCBR1\"\n",
       "</td>\n",
       "       <td>...</td>\n",
       "      <td>[1] \"1.1.1.184\" \"1.1.1.189\"\n",
       "</td>\n",
       "      <td>Product</td>\n",
       "    </tr>\n",
       "    <tr>\n",
       "      <td class=\"rpy2_rowname\">1</td>\n",
       "        <td class=\"rpy2_names\">2</td>\n",
       "      <td>K00084</td>\n",
       "      <td>carbonyl reductase 3 [EC:1.1.1.184]</td>\n",
       "      <td>  CDS \n",
       "\"874\" \n",
       "</td>\n",
       "      <td>[1] \"CBR3, HEL-S-25, SDR21C2, hCBR3\"\n",
       "</td>\n",
       "       <td>...</td>\n",
       "      <td>[1] \"1.1.1.184\" \"1.1.1.189\"\n",
       "</td>\n",
       "      <td>Product</td>\n",
       "    </tr>\n",
       "    <tr>\n",
       "      <td class=\"rpy2_rowname\">2</td>\n",
       "        <td class=\"rpy2_names\">3</td>\n",
       "      <td>K00637</td>\n",
       "      <td>sterol O-acyltransferase [EC:2.3.1.26]</td>\n",
       "      <td>   CDS \n",
       "\"6646\" \n",
       "</td>\n",
       "      <td>[1] \"SOAT1, ACACT, ACAT, ACAT-1, ACAT1, SOAT, STAT\"\n",
       "</td>\n",
       "       <td>...</td>\n",
       "      <td>[1] \"2.3.1.26\"\n",
       "</td>\n",
       "      <td>Product</td>\n",
       "    </tr>\n",
       "    <tr>\n",
       "      <td class=\"rpy2_rowname\">3</td>\n",
       "        <td class=\"rpy2_names\">4</td>\n",
       "      <td>K00637</td>\n",
       "      <td>sterol O-acyltransferase [EC:2.3.1.26]</td>\n",
       "      <td>   CDS \n",
       "\"8435\" \n",
       "</td>\n",
       "      <td>[1] \"SOAT2, ACACT2, ACAT2, ARGP2\"\n",
       "</td>\n",
       "       <td>...</td>\n",
       "      <td>[1] \"2.3.1.26\"\n",
       "</td>\n",
       "      <td>Product</td>\n",
       "    </tr>\n",
       "    <tr>\n",
       "      <td class=\"rpy2_rowname\">4</td>\n",
       "        <td class=\"rpy2_names\">5</td>\n",
       "      <td>K00901</td>\n",
       "      <td>diacylglycerol kinase (ATP) [EC:2.7.1.107]</td>\n",
       "      <td>     CDS \n",
       "\"139189\" \n",
       "</td>\n",
       "      <td>[1] \"DGKK\"\n",
       "</td>\n",
       "       <td>...</td>\n",
       "      <td>[1] \"2.7.1.107\"\n",
       "</td>\n",
       "      <td>Substrate</td>\n",
       "    </tr>\n",
       "    <tr>\n",
       "      <td class=\"rpy2_rowname\">5</td>\n",
       "        <td class=\"rpy2_names\">6</td>\n",
       "      <td>K00901</td>\n",
       "      <td>diacylglycerol kinase (ATP) [EC:2.7.1.107]</td>\n",
       "      <td>     CDS \n",
       "\"139189\" \n",
       "</td>\n",
       "      <td>[1] \"DGKK\"\n",
       "</td>\n",
       "       <td>...</td>\n",
       "      <td>[1] \"2.7.1.107\"\n",
       "</td>\n",
       "      <td>Substrate</td>\n",
       "    </tr>\n",
       "  </tbody>\n",
       "</table>"
      ],
      "text/plain": [
       "<rpy2.robjects.vectors.DataFrame object at 0x7fa2091babc0> [RTYPES.VECSXP]\n",
       "R classes: ('data.frame',)\n",
       "[StrSexpVe..., StrSexpVe..., ListSexpV..., ListSexpV..., ..., ListSexpV..., ListSexpV..., ListSexpV..., StrSexpVe...]\n",
       "  orthology_id: <class 'rpy2.robjects.vectors.StrVector'>\n",
       "  <rpy2.robjects.vectors.StrVector object at 0x7fa209952040> [RTYPES.STRSXP]\n",
       "R classes: ('character',)\n",
       "['K000..., 'K000..., 'K006..., 'K006..., 'K009..., 'K009...]\n",
       "  ORTHOLOGY: <class 'rpy2.robjects.vectors.StrVector'>\n",
       "  <rpy2.robjects.vectors.StrVector object at 0x7fa204e4bf00> [RTYPES.STRSXP]\n",
       "R classes: ('character',)\n",
       "['carb..., 'carb..., 'ster..., 'ster..., 'diac..., 'diac...]\n",
       "<rpy2.robjects.vectors.DataFrame object at 0x7fa2091babc0> [RTYPES.VECSXP]\n",
       "R classes: ('data.frame',)\n",
       "[StrSexpVe..., StrSexpVe..., ListSexpV..., ListSexpV..., ..., ListSexpV..., ListSexpV..., ListSexpV..., StrSexpVe...]\n",
       "<rpy2.robjects.vectors.DataFrame object at 0x7fa2091babc0> [RTYPES.VECSXP]\n",
       "R classes: ('data.frame',)\n",
       "[StrSexpVe..., StrSexpVe..., ListSexpV..., ListSexpV..., ..., ListSexpV..., ListSexpV..., ListSexpV..., StrSexpVe...]\n",
       "...\n",
       "<rpy2.robjects.vectors.DataFrame object at 0x7fa2091babc0> [RTYPES.VECSXP]\n",
       "R classes: ('data.frame',)\n",
       "[StrSexpVe..., StrSexpVe..., ListSexpV..., ListSexpV..., ..., ListSexpV..., ListSexpV..., ListSexpV..., StrSexpVe...]\n",
       "<rpy2.robjects.vectors.DataFrame object at 0x7fa2091babc0> [RTYPES.VECSXP]\n",
       "R classes: ('data.frame',)\n",
       "[StrSexpVe..., StrSexpVe..., ListSexpV..., ListSexpV..., ..., ListSexpV..., ListSexpV..., ListSexpV..., StrSexpVe...]\n",
       "<rpy2.robjects.vectors.DataFrame object at 0x7fa2091babc0> [RTYPES.VECSXP]\n",
       "R classes: ('data.frame',)\n",
       "[StrSexpVe..., StrSexpVe..., ListSexpV..., ListSexpV..., ..., ListSexpV..., ListSexpV..., ListSexpV..., StrSexpVe...]\n",
       "  MOTIF: <class 'rpy2.robjects.vectors.StrVector'>\n",
       "  <rpy2.robjects.vectors.StrVector object at 0x7fa2091c7f80> [RTYPES.STRSXP]\n",
       "R classes: ('character',)\n",
       "['Prod..., 'Prod..., 'Prod..., 'Prod..., 'Subs..., 'Subs...]"
      ]
     },
     "execution_count": 31,
     "metadata": {},
     "output_type": "execute_result"
    }
   ],
   "source": [
    "robjects.r('''\n",
    "rclass_info = react_substrate(met_gene_info)\n",
    "head(rclass_info)\n",
    "''')"
   ]
  },
  {
   "cell_type": "markdown",
   "id": "nominated-cruise",
   "metadata": {},
   "source": [
    "#### Get gene info in short form"
   ]
  },
  {
   "cell_type": "code",
   "execution_count": 32,
   "id": "north-calcium",
   "metadata": {
    "execution": {
     "iopub.execute_input": "2021-03-25T23:18:20.473876Z",
     "iopub.status.busy": "2021-03-25T23:18:20.470009Z",
     "iopub.status.idle": "2021-03-25T23:18:20.879858Z",
     "shell.execute_reply": "2021-03-25T23:18:20.881337Z"
    }
   },
   "outputs": [
    {
     "data": {
      "text/html": [
       "\n",
       "<emph>DataFrame</emph> with 19 rows and\n",
       "  19 columns:\n",
       "<table class=\"rpy2_table\">\n",
       "  <thead>\n",
       "    <tr class=\"rpy2_names\">\n",
       "      <th></th>\n",
       "      <th></th>\n",
       "      <th>Metabolite</th>\n",
       "      <th>orthology_id</th>\n",
       "      <th>ORTHOLOGY</th>\n",
       "      <th>gene_id</th>\n",
       "      <th>...</th>\n",
       "      <th>ENZYME</th>\n",
       "      <th>reactant_product</th>\n",
       "    </tr>\n",
       "  </thead>\n",
       "  <tbody>\n",
       "    <tr>\n",
       "      <td class=\"rpy2_rowname\">0</td>\n",
       "        <td class=\"rpy2_names\">1</td>\n",
       "      <td>PGE2</td>\n",
       "      <td>K00079, K00084, K05309, K15729, K15730</td>\n",
       "      <td>carbonyl reductase 1 [EC:1.1.1.184 1.1.1.189 1.1.1.197], carbonyl reductase 3 [EC:1.1.1.184], microsomal prostaglandin-E synthase 2 [EC:5.3.99.3], microsomal prostaglandin-E synthase 1 [EC:5.3.99.3], cytosolic prostaglandin-E synthase [EC:5.3.99.3]</td>\n",
       "      <td>873, 874, 80142, 9536, 10728</td>\n",
       "       <td>...</td>\n",
       "      <td>c(\"1.1.1.184\", \"1.1.1.189\"), 5.3.99.3</td>\n",
       "      <td>Product</td>\n",
       "    </tr>\n",
       "    <tr>\n",
       "      <td class=\"rpy2_rowname\">1</td>\n",
       "        <td class=\"rpy2_names\">2</td>\n",
       "      <td>CE(22:6)</td>\n",
       "      <td>K00637, K01052, K12298</td>\n",
       "      <td>sterol O-acyltransferase [EC:2.3.1.26], lysosomal acid lipase/cholesteryl ester hydrolase [EC:3.1.1.13], bile salt-stimulated lipase [EC:3.1.1.3 3.1.1.13]</td>\n",
       "      <td>6646, 8435, 3988, 1056</td>\n",
       "       <td>...</td>\n",
       "      <td>2.3.1.26, 3.1.1.13</td>\n",
       "      <td>Product, Substrate</td>\n",
       "    </tr>\n",
       "    <tr>\n",
       "      <td class=\"rpy2_rowname\">2</td>\n",
       "        <td class=\"rpy2_names\">3</td>\n",
       "      <td>1,2-DG(36:1)</td>\n",
       "      <td>K00901, K00993, K00994, K01080, K01116, K04714, K05285, K05287, K05288, K05310, K05857, K05858, K05859, K05860, K05861, K11155, K11160, K12298, K13534, K13644, K14073, K14074, K14075, K14076, K14452, K14456, K14457, K14458, K15728, K16816, K18693, K19006, K22283, K22284</td>\n",
       "      <td>diacylglycerol kinase (ATP) [EC:2.7.1.107], ethanolaminephosphotransferase [EC:2.7.8.1], diacylglycerol cholinephosphotransferase [EC:2.7.8.2], phosphatidate phosphatase [EC:3.1.3.4], phosphatidylinositol phospholipase C, gamma-1 [EC:3.1.4.11], shingomyelin synthase [EC:2.7.8.27], GPI ethanolamine phosphate transferase 1 [EC:2.7.-.-], GPI ethanolamine phosphate transferase 2/3 subunit F, GPI ethanolamine phosphate transferase 3 subunit O [EC:2.7.-.-], ethanolamine phosphate transferase 2 subunit G [EC:2.7.-.-], phosphatidylinositol phospholipase C, delta [EC:3.1.4.11], phosphatidylinositol phospholipase C, beta [EC:3.1.4.11], phosphatidylinositol phospholipase C, gamma-2 [EC:3.1.4.11], phosphatidylinositol phospholipase C, epsilon [EC:3.1.4.11], phosphatidylinositol phospholipase C, zeta [EC:3.1.4.11], diacylglycerol O-acyltransferase 1 [EC:2.3.1.20 2.3.1.75 2.3.1.76], diacylglycerol O-acyltransferase 2 [EC:2.3.1.20 2.3.1.75], bile salt-stimulated lipase [EC:3.1.1.3 3.1.1.13], patatin-like phospholipase domain-containing protein 3 [EC:3.1.1.3 2.3.1.-], choline/ethanolamine phosphotransferase [EC:2.7.8.1 2.7.8.2], pancreatic triacylglycerol lipase [EC:3.1.1.3], pancreatic lipase-related protein 1 [EC:3.1.1.3], pancreatic lipase-related protein 2 [EC:3.1.1.3], pancreatic lipase-related protein 3 [EC:3.1.1.3], gastric triacylglycerol lipase [EC:3.1.1.3], 2-acylglycerol O-acyltransferase 3 [EC:2.3.1.20 2.3.1.22], 2-acylglycerol O-acyltransferase 2 [EC:2.3.1.22], 2-acylglycerol O-acyltransferase 1 [EC:2.3.1.22], phosphatidate phosphatase LPIN [EC:3.1.3.4], patatin-like phospholipase domain-containing protein 2 [EC:3.1.1.3], diacylglycerol diphosphate phosphatase / phosphatidate phosphatase [EC:3.1.3.81 3.1.3.4], phosphatidylinositol phospholipase C, eta [EC:3.1.4.11], hepatic triacylglycerol lipase [EC:3.1.1.3], endothelial lipase [EC:3.1.1.3]</td>\n",
       "      <td>139189, 1606, 1607, 1608, 160851, 1609, 8525, 8526, 8527, 9162, 85465, 56994, 8611, 8612, 8613, 5335, 166929, 259230, 23556, 5281, 84720, 54872, 113026, 5333, 84812, 23236, 5330, 5331, 5332, 5336, 51196, 89869, 8694, 84649, 1056, 80339, 10390, 5406, 5407, 5408, 119548, 8513, 346606, 80168, 116255, 23175, 64900, 9663, 57104, 196051, 84513, 23007, 9651, 3990, 9388</td>\n",
       "       <td>...</td>\n",
       "      <td>2.7.1.107, 2.7.8.1, 2.7.8.2, c(\"3.1.3.4\", \"3.1.3.81\"), 3.1.4.11, c(\"3.1.4.3\", \"3.1.4.11\", \"4.6.1.13\"), 2.7.8.27, 2.7.-.-, NULL, 2.3.1.20, 3.1.1.3, 2.3.1.22</td>\n",
       "      <td>Substrate, Product</td>\n",
       "    </tr>\n",
       "    <tr>\n",
       "      <td class=\"rpy2_rowname\">3</td>\n",
       "        <td class=\"rpy2_names\">4</td>\n",
       "      <td>1,2-DG(34:0)</td>\n",
       "      <td>K00901, K00993, K00994, K01080, K01116, K04714, K05285, K05287, K05288, K05310, K05857, K05858, K05859, K05860, K05861, K11155, K11160, K12298, K13534, K13644, K14073, K14074, K14075, K14076, K14452, K14456, K14457, K14458, K15728, K16816, K18693, K19006, K22283, K22284</td>\n",
       "      <td>diacylglycerol kinase (ATP) [EC:2.7.1.107], ethanolaminephosphotransferase [EC:2.7.8.1], diacylglycerol cholinephosphotransferase [EC:2.7.8.2], phosphatidate phosphatase [EC:3.1.3.4], phosphatidylinositol phospholipase C, gamma-1 [EC:3.1.4.11], shingomyelin synthase [EC:2.7.8.27], GPI ethanolamine phosphate transferase 1 [EC:2.7.-.-], GPI ethanolamine phosphate transferase 2/3 subunit F, GPI ethanolamine phosphate transferase 3 subunit O [EC:2.7.-.-], ethanolamine phosphate transferase 2 subunit G [EC:2.7.-.-], phosphatidylinositol phospholipase C, delta [EC:3.1.4.11], phosphatidylinositol phospholipase C, beta [EC:3.1.4.11], phosphatidylinositol phospholipase C, gamma-2 [EC:3.1.4.11], phosphatidylinositol phospholipase C, epsilon [EC:3.1.4.11], phosphatidylinositol phospholipase C, zeta [EC:3.1.4.11], diacylglycerol O-acyltransferase 1 [EC:2.3.1.20 2.3.1.75 2.3.1.76], diacylglycerol O-acyltransferase 2 [EC:2.3.1.20 2.3.1.75], bile salt-stimulated lipase [EC:3.1.1.3 3.1.1.13], patatin-like phospholipase domain-containing protein 3 [EC:3.1.1.3 2.3.1.-], choline/ethanolamine phosphotransferase [EC:2.7.8.1 2.7.8.2], pancreatic triacylglycerol lipase [EC:3.1.1.3], pancreatic lipase-related protein 1 [EC:3.1.1.3], pancreatic lipase-related protein 2 [EC:3.1.1.3], pancreatic lipase-related protein 3 [EC:3.1.1.3], gastric triacylglycerol lipase [EC:3.1.1.3], 2-acylglycerol O-acyltransferase 3 [EC:2.3.1.20 2.3.1.22], 2-acylglycerol O-acyltransferase 2 [EC:2.3.1.22], 2-acylglycerol O-acyltransferase 1 [EC:2.3.1.22], phosphatidate phosphatase LPIN [EC:3.1.3.4], patatin-like phospholipase domain-containing protein 2 [EC:3.1.1.3], diacylglycerol diphosphate phosphatase / phosphatidate phosphatase [EC:3.1.3.81 3.1.3.4], phosphatidylinositol phospholipase C, eta [EC:3.1.4.11], hepatic triacylglycerol lipase [EC:3.1.1.3], endothelial lipase [EC:3.1.1.3]</td>\n",
       "      <td>139189, 1606, 1607, 1608, 160851, 1609, 8525, 8526, 8527, 9162, 85465, 56994, 8611, 8612, 8613, 5335, 166929, 259230, 23556, 5281, 84720, 54872, 113026, 5333, 84812, 23236, 5330, 5331, 5332, 5336, 51196, 89869, 8694, 84649, 1056, 80339, 10390, 5406, 5407, 5408, 119548, 8513, 346606, 80168, 116255, 23175, 64900, 9663, 57104, 196051, 84513, 23007, 9651, 3990, 9388</td>\n",
       "       <td>...</td>\n",
       "      <td>2.7.1.107, 2.7.8.1, 2.7.8.2, c(\"3.1.3.4\", \"3.1.3.81\"), c(\"3.1.4.3\", \"3.1.4.11\", \"4.6.1.13\"), 3.1.4.11, 2.7.8.27, 2.7.-.-, NULL, 2.3.1.20, 3.1.1.3, 2.3.1.22</td>\n",
       "      <td>Substrate, Product</td>\n",
       "    </tr>\n",
       "    <tr>\n",
       "      <td class=\"rpy2_rowname\">4</td>\n",
       "        <td class=\"rpy2_names\">5</td>\n",
       "      <td>1,2-DG(32:1)</td>\n",
       "      <td>K00901, K00993, K00994, K01080, K01116, K04714, K05285, K05287, K05288, K05310, K05857, K05858, K05859, K05860, K05861, K11155, K11160, K12298, K13534, K13644, K14073, K14074, K14075, K14076, K14452, K14456, K14457, K14458, K15728, K16816, K18693, K19006, K22283, K22284</td>\n",
       "      <td>diacylglycerol kinase (ATP) [EC:2.7.1.107], ethanolaminephosphotransferase [EC:2.7.8.1], diacylglycerol cholinephosphotransferase [EC:2.7.8.2], phosphatidate phosphatase [EC:3.1.3.4], phosphatidylinositol phospholipase C, gamma-1 [EC:3.1.4.11], shingomyelin synthase [EC:2.7.8.27], GPI ethanolamine phosphate transferase 1 [EC:2.7.-.-], GPI ethanolamine phosphate transferase 2/3 subunit F, GPI ethanolamine phosphate transferase 3 subunit O [EC:2.7.-.-], ethanolamine phosphate transferase 2 subunit G [EC:2.7.-.-], phosphatidylinositol phospholipase C, delta [EC:3.1.4.11], phosphatidylinositol phospholipase C, beta [EC:3.1.4.11], phosphatidylinositol phospholipase C, gamma-2 [EC:3.1.4.11], phosphatidylinositol phospholipase C, epsilon [EC:3.1.4.11], phosphatidylinositol phospholipase C, zeta [EC:3.1.4.11], diacylglycerol O-acyltransferase 1 [EC:2.3.1.20 2.3.1.75 2.3.1.76], diacylglycerol O-acyltransferase 2 [EC:2.3.1.20 2.3.1.75], bile salt-stimulated lipase [EC:3.1.1.3 3.1.1.13], patatin-like phospholipase domain-containing protein 3 [EC:3.1.1.3 2.3.1.-], choline/ethanolamine phosphotransferase [EC:2.7.8.1 2.7.8.2], pancreatic triacylglycerol lipase [EC:3.1.1.3], pancreatic lipase-related protein 1 [EC:3.1.1.3], pancreatic lipase-related protein 2 [EC:3.1.1.3], pancreatic lipase-related protein 3 [EC:3.1.1.3], gastric triacylglycerol lipase [EC:3.1.1.3], 2-acylglycerol O-acyltransferase 3 [EC:2.3.1.20 2.3.1.22], 2-acylglycerol O-acyltransferase 2 [EC:2.3.1.22], 2-acylglycerol O-acyltransferase 1 [EC:2.3.1.22], phosphatidate phosphatase LPIN [EC:3.1.3.4], patatin-like phospholipase domain-containing protein 2 [EC:3.1.1.3], diacylglycerol diphosphate phosphatase / phosphatidate phosphatase [EC:3.1.3.81 3.1.3.4], phosphatidylinositol phospholipase C, eta [EC:3.1.4.11], hepatic triacylglycerol lipase [EC:3.1.1.3], endothelial lipase [EC:3.1.1.3]</td>\n",
       "      <td>139189, 1606, 1607, 1608, 160851, 1609, 8525, 8526, 8527, 9162, 85465, 56994, 8611, 8612, 8613, 5335, 166929, 259230, 23556, 5281, 84720, 54872, 113026, 5333, 84812, 23236, 5330, 5331, 5332, 5336, 51196, 89869, 8694, 84649, 1056, 80339, 10390, 5406, 5407, 5408, 119548, 8513, 346606, 80168, 116255, 23175, 64900, 9663, 57104, 196051, 84513, 23007, 9651, 3990, 9388</td>\n",
       "       <td>...</td>\n",
       "      <td>2.7.1.107, 2.7.8.1, 2.7.8.2, c(\"3.1.3.4\", \"3.1.3.81\"), 3.1.4.11, c(\"3.1.4.3\", \"3.1.4.11\", \"4.6.1.13\"), 2.7.8.27, 2.7.-.-, NULL, 2.3.1.20, 3.1.1.3, 2.3.1.22</td>\n",
       "      <td>Substrate, Product</td>\n",
       "    </tr>\n",
       "    <tr>\n",
       "      <td class=\"rpy2_rowname\">5</td>\n",
       "        <td class=\"rpy2_names\">6</td>\n",
       "      <td>1,2-DG(32:0)</td>\n",
       "      <td>K00901, K00993, K00994, K01080, K01116, K04714, K05285, K05287, K05288, K05310, K05857, K05858, K05859, K05860, K05861, K11155, K11160, K12298, K13534, K13644, K14073, K14074, K14075, K14076, K14452, K14456, K14457, K14458, K15728, K16816, K18693, K19006, K22283, K22284</td>\n",
       "      <td>diacylglycerol kinase (ATP) [EC:2.7.1.107], ethanolaminephosphotransferase [EC:2.7.8.1], diacylglycerol cholinephosphotransferase [EC:2.7.8.2], phosphatidate phosphatase [EC:3.1.3.4], phosphatidylinositol phospholipase C, gamma-1 [EC:3.1.4.11], shingomyelin synthase [EC:2.7.8.27], GPI ethanolamine phosphate transferase 1 [EC:2.7.-.-], GPI ethanolamine phosphate transferase 2/3 subunit F, GPI ethanolamine phosphate transferase 3 subunit O [EC:2.7.-.-], ethanolamine phosphate transferase 2 subunit G [EC:2.7.-.-], phosphatidylinositol phospholipase C, delta [EC:3.1.4.11], phosphatidylinositol phospholipase C, beta [EC:3.1.4.11], phosphatidylinositol phospholipase C, gamma-2 [EC:3.1.4.11], phosphatidylinositol phospholipase C, epsilon [EC:3.1.4.11], phosphatidylinositol phospholipase C, zeta [EC:3.1.4.11], diacylglycerol O-acyltransferase 1 [EC:2.3.1.20 2.3.1.75 2.3.1.76], diacylglycerol O-acyltransferase 2 [EC:2.3.1.20 2.3.1.75], bile salt-stimulated lipase [EC:3.1.1.3 3.1.1.13], patatin-like phospholipase domain-containing protein 3 [EC:3.1.1.3 2.3.1.-], choline/ethanolamine phosphotransferase [EC:2.7.8.1 2.7.8.2], pancreatic triacylglycerol lipase [EC:3.1.1.3], pancreatic lipase-related protein 1 [EC:3.1.1.3], pancreatic lipase-related protein 2 [EC:3.1.1.3], pancreatic lipase-related protein 3 [EC:3.1.1.3], gastric triacylglycerol lipase [EC:3.1.1.3], 2-acylglycerol O-acyltransferase 3 [EC:2.3.1.20 2.3.1.22], 2-acylglycerol O-acyltransferase 2 [EC:2.3.1.22], 2-acylglycerol O-acyltransferase 1 [EC:2.3.1.22], phosphatidate phosphatase LPIN [EC:3.1.3.4], patatin-like phospholipase domain-containing protein 2 [EC:3.1.1.3], diacylglycerol diphosphate phosphatase / phosphatidate phosphatase [EC:3.1.3.81 3.1.3.4], phosphatidylinositol phospholipase C, eta [EC:3.1.4.11], hepatic triacylglycerol lipase [EC:3.1.1.3], endothelial lipase [EC:3.1.1.3]</td>\n",
       "      <td>139189, 1606, 1607, 1608, 160851, 1609, 8525, 8526, 8527, 9162, 85465, 56994, 8611, 8612, 8613, 5335, 166929, 259230, 23556, 5281, 84720, 54872, 113026, 5333, 84812, 23236, 5330, 5331, 5332, 5336, 51196, 89869, 8694, 84649, 1056, 80339, 10390, 5406, 5407, 5408, 119548, 8513, 346606, 80168, 116255, 23175, 64900, 9663, 57104, 196051, 84513, 23007, 9651, 3990, 9388</td>\n",
       "       <td>...</td>\n",
       "      <td>2.7.1.107, 2.7.8.1, 2.7.8.2, c(\"3.1.3.4\", \"3.1.3.81\"), c(\"3.1.4.3\", \"3.1.4.11\", \"4.6.1.13\"), 3.1.4.11, 2.7.8.27, 2.7.-.-, NULL, 2.3.1.20, 3.1.1.3, 2.3.1.22</td>\n",
       "      <td>Substrate, Product</td>\n",
       "    </tr>\n",
       "    <tr>\n",
       "      <td class=\"rpy2_rowname\">6</td>\n",
       "        <td class=\"rpy2_names\">7</td>\n",
       "      <td>1,2-DG(34:1)</td>\n",
       "      <td>K00901, K00993, K00994, K01080, K01116, K04714, K05285, K05287, K05288, K05310, K05857, K05858, K05859, K05860, K05861, K11155, K11160, K12298, K13534, K13644, K14073, K14074, K14075, K14076, K14452, K14456, K14457, K14458, K15728, K16816, K18693, K19006, K22283, K22284</td>\n",
       "      <td>diacylglycerol kinase (ATP) [EC:2.7.1.107], ethanolaminephosphotransferase [EC:2.7.8.1], diacylglycerol cholinephosphotransferase [EC:2.7.8.2], phosphatidate phosphatase [EC:3.1.3.4], phosphatidylinositol phospholipase C, gamma-1 [EC:3.1.4.11], shingomyelin synthase [EC:2.7.8.27], GPI ethanolamine phosphate transferase 1 [EC:2.7.-.-], GPI ethanolamine phosphate transferase 2/3 subunit F, GPI ethanolamine phosphate transferase 3 subunit O [EC:2.7.-.-], ethanolamine phosphate transferase 2 subunit G [EC:2.7.-.-], phosphatidylinositol phospholipase C, delta [EC:3.1.4.11], phosphatidylinositol phospholipase C, beta [EC:3.1.4.11], phosphatidylinositol phospholipase C, gamma-2 [EC:3.1.4.11], phosphatidylinositol phospholipase C, epsilon [EC:3.1.4.11], phosphatidylinositol phospholipase C, zeta [EC:3.1.4.11], diacylglycerol O-acyltransferase 1 [EC:2.3.1.20 2.3.1.75 2.3.1.76], diacylglycerol O-acyltransferase 2 [EC:2.3.1.20 2.3.1.75], bile salt-stimulated lipase [EC:3.1.1.3 3.1.1.13], patatin-like phospholipase domain-containing protein 3 [EC:3.1.1.3 2.3.1.-], choline/ethanolamine phosphotransferase [EC:2.7.8.1 2.7.8.2], pancreatic triacylglycerol lipase [EC:3.1.1.3], pancreatic lipase-related protein 1 [EC:3.1.1.3], pancreatic lipase-related protein 2 [EC:3.1.1.3], pancreatic lipase-related protein 3 [EC:3.1.1.3], gastric triacylglycerol lipase [EC:3.1.1.3], 2-acylglycerol O-acyltransferase 3 [EC:2.3.1.20 2.3.1.22], 2-acylglycerol O-acyltransferase 2 [EC:2.3.1.22], 2-acylglycerol O-acyltransferase 1 [EC:2.3.1.22], phosphatidate phosphatase LPIN [EC:3.1.3.4], patatin-like phospholipase domain-containing protein 2 [EC:3.1.1.3], diacylglycerol diphosphate phosphatase / phosphatidate phosphatase [EC:3.1.3.81 3.1.3.4], phosphatidylinositol phospholipase C, eta [EC:3.1.4.11], hepatic triacylglycerol lipase [EC:3.1.1.3], endothelial lipase [EC:3.1.1.3]</td>\n",
       "      <td>139189, 1606, 1607, 1608, 160851, 1609, 8525, 8526, 8527, 9162, 85465, 56994, 8611, 8612, 8613, 5335, 166929, 259230, 23556, 5281, 84720, 54872, 113026, 5333, 84812, 23236, 5330, 5331, 5332, 5336, 51196, 89869, 8694, 84649, 1056, 80339, 10390, 5406, 5407, 5408, 119548, 8513, 346606, 80168, 116255, 23175, 64900, 9663, 57104, 196051, 84513, 23007, 9651, 3990, 9388</td>\n",
       "       <td>...</td>\n",
       "      <td>2.7.1.107, 2.7.8.1, 2.7.8.2, c(\"3.1.3.4\", \"3.1.3.81\"), c(\"3.1.4.3\", \"3.1.4.11\", \"4.6.1.13\"), 3.1.4.11, 2.7.8.27, 2.7.-.-, NULL, 2.3.1.20, 3.1.1.3, 2.3.1.22</td>\n",
       "      <td>Substrate, Product</td>\n",
       "    </tr>\n",
       "    <tr>\n",
       "      <td class=\"rpy2_rowname\">7</td>\n",
       "        <td class=\"rpy2_names\">8</td>\n",
       "      <td>1,2-DG(36:2)</td>\n",
       "      <td>K00901, K00993, K00994, K01080, K01116, K04714, K05285, K05287, K05288, K05310, K05857, K05858, K05859, K05860, K05861, K11155, K11160, K12298, K13534, K13644, K14073, K14074, K14075, K14076, K14452, K14456, K14457, K14458, K15728, K16816, K18693, K19006, K22283, K22284</td>\n",
       "      <td>diacylglycerol kinase (ATP) [EC:2.7.1.107], ethanolaminephosphotransferase [EC:2.7.8.1], diacylglycerol cholinephosphotransferase [EC:2.7.8.2], phosphatidate phosphatase [EC:3.1.3.4], phosphatidylinositol phospholipase C, gamma-1 [EC:3.1.4.11], shingomyelin synthase [EC:2.7.8.27], GPI ethanolamine phosphate transferase 1 [EC:2.7.-.-], GPI ethanolamine phosphate transferase 2/3 subunit F, GPI ethanolamine phosphate transferase 3 subunit O [EC:2.7.-.-], ethanolamine phosphate transferase 2 subunit G [EC:2.7.-.-], phosphatidylinositol phospholipase C, delta [EC:3.1.4.11], phosphatidylinositol phospholipase C, beta [EC:3.1.4.11], phosphatidylinositol phospholipase C, gamma-2 [EC:3.1.4.11], phosphatidylinositol phospholipase C, epsilon [EC:3.1.4.11], phosphatidylinositol phospholipase C, zeta [EC:3.1.4.11], diacylglycerol O-acyltransferase 1 [EC:2.3.1.20 2.3.1.75 2.3.1.76], diacylglycerol O-acyltransferase 2 [EC:2.3.1.20 2.3.1.75], bile salt-stimulated lipase [EC:3.1.1.3 3.1.1.13], patatin-like phospholipase domain-containing protein 3 [EC:3.1.1.3 2.3.1.-], choline/ethanolamine phosphotransferase [EC:2.7.8.1 2.7.8.2], pancreatic triacylglycerol lipase [EC:3.1.1.3], pancreatic lipase-related protein 1 [EC:3.1.1.3], pancreatic lipase-related protein 2 [EC:3.1.1.3], pancreatic lipase-related protein 3 [EC:3.1.1.3], gastric triacylglycerol lipase [EC:3.1.1.3], 2-acylglycerol O-acyltransferase 3 [EC:2.3.1.20 2.3.1.22], 2-acylglycerol O-acyltransferase 2 [EC:2.3.1.22], 2-acylglycerol O-acyltransferase 1 [EC:2.3.1.22], phosphatidate phosphatase LPIN [EC:3.1.3.4], patatin-like phospholipase domain-containing protein 2 [EC:3.1.1.3], diacylglycerol diphosphate phosphatase / phosphatidate phosphatase [EC:3.1.3.81 3.1.3.4], phosphatidylinositol phospholipase C, eta [EC:3.1.4.11], hepatic triacylglycerol lipase [EC:3.1.1.3], endothelial lipase [EC:3.1.1.3]</td>\n",
       "      <td>139189, 1606, 1607, 1608, 160851, 1609, 8525, 8526, 8527, 9162, 85465, 56994, 8611, 8612, 8613, 5335, 166929, 259230, 23556, 5281, 84720, 54872, 113026, 5333, 84812, 23236, 5330, 5331, 5332, 5336, 51196, 89869, 8694, 84649, 1056, 80339, 10390, 5406, 5407, 5408, 119548, 8513, 346606, 80168, 116255, 23175, 64900, 9663, 57104, 196051, 84513, 23007, 9651, 3990, 9388</td>\n",
       "       <td>...</td>\n",
       "      <td>2.7.1.107, 2.7.8.1, 2.7.8.2, c(\"3.1.3.4\", \"3.1.3.81\"), c(\"3.1.4.3\", \"3.1.4.11\", \"4.6.1.13\"), 3.1.4.11, 2.7.8.27, 2.7.-.-, NULL, 2.3.1.20, 3.1.1.3, 2.3.1.22</td>\n",
       "      <td>Substrate, Product</td>\n",
       "    </tr>\n",
       "    <tr>\n",
       "      <td class=\"rpy2_rowname\">...</td>\n",
       "        <td class=\"rpy2_names\">...</td>\n",
       "      <td>...</td>\n",
       "      <td>...</td>\n",
       "      <td>...</td>\n",
       "      <td>...</td>\n",
       "       <td>...</td>\n",
       "      <td>...</td>\n",
       "      <td>...</td>\n",
       "    </tr>\n",
       "    <tr>\n",
       "      <td class=\"rpy2_rowname\">17</td>\n",
       "        <td class=\"rpy2_names\">18</td>\n",
       "      <td>5,6-EET</td>\n",
       "      <td>K07418, K08726, K17709</td>\n",
       "      <td>cytochrome P450 family 2 subfamily J [EC:1.14.14.1 1.14.14.73 1.14.14.74 1.14.14.75], soluble epoxide hydrolase / lipid-phosphate phosphatase [EC:3.3.2.10 3.1.3.76], cytochrome P450 family 2 subfamily B6 [EC:1.14.14.-]</td>\n",
       "      <td>1573, 2053, 1555</td>\n",
       "       <td>...</td>\n",
       "      <td>c(\"1.14.14.1\", \"1.14.14.-\"), 3.3.2.10</td>\n",
       "      <td>Product, Substrate</td>\n",
       "    </tr>\n",
       "    <tr>\n",
       "      <td class=\"rpy2_rowname\">18</td>\n",
       "        <td class=\"rpy2_names\">19</td>\n",
       "      <td>8,9-EET</td>\n",
       "      <td>K07418, K08726, K17709, K17719</td>\n",
       "      <td>cytochrome P450 family 2 subfamily J [EC:1.14.14.1 1.14.14.73 1.14.14.74 1.14.14.75], soluble epoxide hydrolase / lipid-phosphate phosphatase [EC:3.3.2.10 3.1.3.76], cytochrome P450 family 2 subfamily B6 [EC:1.14.14.-], cytochrome P450 family 2 subfamily C9 [EC:1.14.14.51 1.14.14.52 1.14.14.53 1.14.14.-]</td>\n",
       "      <td>1573, 2053, 1555, 1559</td>\n",
       "       <td>...</td>\n",
       "      <td>c(\"1.14.14.1\", \"1.14.14.-\"), 3.3.2.10</td>\n",
       "      <td>Product, Substrate</td>\n",
       "    </tr>\n",
       "  </tbody>\n",
       "</table>"
      ],
      "text/plain": [
       "<rpy2.robjects.vectors.DataFrame object at 0x7fa20d20ae00> [RTYPES.VECSXP]\n",
       "R classes: ('data.table', 'data.frame')\n",
       "[StrSexpVe..., StrSexpVe..., StrSexpVe..., StrSexpVe..., ..., StrSexpVe..., StrSexpVe..., StrSexpVe..., StrSexpVe...]\n",
       "  Metabolite: <class 'rpy2.robjects.vectors.StrVector'>\n",
       "  <rpy2.robjects.vectors.StrVector object at 0x7fa20d20aec0> [RTYPES.STRSXP]\n",
       "R classes: ('character',)\n",
       "['PGE2', 'CE(22:6)', '1,2-DG(3..., '1,2-DG(3..., ..., '14,15-EET', '11,12-EET', '5,6-EET', '8,9-EET']\n",
       "  orthology_id: <class 'rpy2.robjects.vectors.StrVector'>\n",
       "  <rpy2.robjects.vectors.StrVector object at 0x7fa20d20a8c0> [RTYPES.STRSXP]\n",
       "R classes: ('character',)\n",
       "['K00079, ..., 'K00637, ..., 'K00901, ..., 'K00901, ..., ..., 'K07418, ..., 'K07418, ..., 'K07418, ..., 'K07418, ...]\n",
       "  ORTHOLOGY: <class 'rpy2.robjects.vectors.StrVector'>\n",
       "  <rpy2.robjects.vectors.StrVector object at 0x7fa20d20a700> [RTYPES.STRSXP]\n",
       "R classes: ('character',)\n",
       "['carbonyl..., 'sterol O..., 'diacylgl..., 'diacylgl..., ..., 'cytochro..., 'cytochro..., 'cytochro..., 'cytochro...]\n",
       "  gene_id: <class 'rpy2.robjects.vectors.StrVector'>\n",
       "  <rpy2.robjects.vectors.StrVector object at 0x7fa20d20a440> [RTYPES.STRSXP]\n",
       "R classes: ('character',)\n",
       "['873, 874..., '6646, 84..., '139189, ..., '139189, ..., ..., '1573, 20..., '1573, 20..., '1573, 20..., '1573, 20...]\n",
       "...\n",
       "  DEFINITION: <class 'rpy2.robjects.vectors.StrVector'>\n",
       "  <rpy2.robjects.vectors.StrVector object at 0x7fa20d20a580> [RTYPES.STRSXP]\n",
       "R classes: ('character',)\n",
       "['C00639 +..., 'C00040 +..., 'C00002 +..., 'C00002 +..., ..., 'C00219 +..., 'C00219 +..., 'C00219 +..., 'C00219 +...]\n",
       "  ORGANISM: <class 'rpy2.robjects.vectors.StrVector'>\n",
       "  <rpy2.robjects.vectors.StrVector object at 0x7fa20d20a0c0> [RTYPES.STRSXP]\n",
       "R classes: ('character',)\n",
       "['Prostagl..., 'Acyl-CoA..., 'ATP + 1,..., 'ATP + 1,..., ..., 'Arachido..., 'Arachido..., 'Arachido..., 'Arachido...]\n",
       "  PATHWAY: <class 'rpy2.robjects.vectors.StrVector'>\n",
       "  <rpy2.robjects.vectors.StrVector object at 0x7fa209a799c0> [RTYPES.STRSXP]\n",
       "R classes: ('character',)\n",
       "['c(\"1.1.1..., '2.3.1.26..., '2.7.1.10..., '2.7.1.10..., ..., 'c(\"1.14...., 'c(\"1.14...., 'c(\"1.14...., 'c(\"1.14....]\n",
       "  DBLINKS: <class 'rpy2.robjects.vectors.StrVector'>\n",
       "  <rpy2.robjects.vectors.StrVector object at 0x7fa2091d5540> [RTYPES.STRSXP]\n",
       "R classes: ('character',)\n",
       "['Product', 'Product,..., 'Substrat..., 'Substrat..., ..., 'Product,..., 'Product,..., 'Product,..., 'Product,...]"
      ]
     },
     "execution_count": 32,
     "metadata": {},
     "output_type": "execute_result"
    }
   ],
   "source": [
    "robjects.r('''\n",
    "met_gene_info2=data.table::data.table(rclass_info)[,lapply(.SD, function(x) toString(unique(x))), by = 'Metabolite']\n",
    "''')"
   ]
  },
  {
   "cell_type": "code",
   "execution_count": null,
   "id": "adverse-beatles",
   "metadata": {},
   "outputs": [],
   "source": []
  }
 ],
 "metadata": {
  "appyter": {
   "nbconstruct": {
    "filename": "MetENP_Appyter_2.ipynb",
    "files": {},
    "version": "0.12.0"
   },
   "nbexecute": {
    "completed": "2021-03-25T16:18:22.433594+00:00",
    "files": {},
    "started": "2021-03-25T16:16:57.056348+00:00",
    "version": "0.12.0"
   }
  },
  "kernelspec": {
   "display_name": "my-first-appyter",
   "language": "python",
   "name": "my-first-appyter"
  },
  "language_info": {
   "codemirror_mode": {
    "name": "ipython",
    "version": 3
   },
   "file_extension": ".py",
   "mimetype": "text/x-python",
   "name": "python",
   "nbconvert_exporter": "python",
   "pygments_lexer": "ipython3",
   "version": "3.8.5"
  }
 },
 "nbformat": 4,
 "nbformat_minor": 5
}
